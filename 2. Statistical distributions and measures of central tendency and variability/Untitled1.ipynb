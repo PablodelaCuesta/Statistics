{
 "cells": [
  {
   "cell_type": "markdown",
   "metadata": {},
   "source": [
    "# Distribución normal"
   ]
  },
  {
   "cell_type": "code",
   "execution_count": 17,
   "metadata": {},
   "outputs": [],
   "source": [
    "# Librerías necesarias\n",
    "import numpy as np\n",
    "import matplotlib.pyplot as plt\n",
    "import scipy.stats as stats"
   ]
  },
  {
   "cell_type": "markdown",
   "metadata": {},
   "source": [
    "## Generadores de números aleatorios\n",
    "Vamos a inspeccionar todas las posibilidades que hay en la librería Numpy para generar números aleatorios. Por cada serie de números aleatorios haremos un gráfico con el cual nos haremos una idea de si sigue alguna distribución estadística o si por el contrario no."
   ]
  },
  {
   "cell_type": "code",
   "execution_count": 25,
   "metadata": {},
   "outputs": [
    {
     "data": {
      "image/png": "[encoded data removed]",
      "text/plain": [
       "<matplotlib.figure.Figure at 0x7fd453d5aeb8>"
      ]
     },
     "metadata": {},
     "output_type": "display_data"
    }
   ],
   "source": [
    "# numpy.random.randn => random values from standard normal distribution\n",
    "x1 = np.random.randn(100000)\n",
    "\n",
    "# numpy.random.randn\n",
    "plt.hist(x1, bins=30)\n",
    "plt.title(\"Distribución np.random.randn\")\n",
    "plt.show()"
   ]
  },
  {
   "cell_type": "markdown",
   "metadata": {},
   "source": [
    "El generador anterior ya especificaba que se trataba de una distribución normal. Aún así hemos decidido comprobarlo, y vemos como efectivamente se trata de dicha distribución.\n",
    "Si hacemos algunas comprobaciones acerca de la distribución normal podemos ver el grado de acercamiento a la teoría."
   ]
  },
  {
   "cell_type": "markdown",
   "metadata": {},
   "source": [
    "## Verificación de las propiedades de una distribución normal\n",
    "La teoría nos dice que una distribución normal tiene una media, mediana y moda iguales."
   ]
  },
  {
   "cell_type": "code",
   "execution_count": 26,
   "metadata": {},
   "outputs": [
    {
     "name": "stdout",
     "output_type": "stream",
     "text": [
      "Media de la distribución x1: -0.006363324166714174\n",
      "Mediana de la distribución x1: -0.00646902398359008\n",
      "Moda de la distribución x1: ModeResult(mode=array([-4.07793146]), count=array([1]))\n"
     ]
    }
   ],
   "source": [
    "# Media de nuestra distribución\n",
    "media1 = np.mean(x1)\n",
    "\n",
    "# Mediana de nuestra distribución\n",
    "mediana1 = np.median(x1)\n",
    "\n",
    "# Moda o valor que más se repite\n",
    "moda1 = stats.mode(x1)\n",
    "\n",
    "# Visualizamos\n",
    "print(\"Media de la distribución x1: \" + str(media1))\n",
    "print(\"Mediana de la distribución x1: \" + str(mediana1))\n",
    "print(\"Moda de la distribución x1: \" + str(moda1))"
   ]
  },
  {
   "cell_type": "markdown",
   "metadata": {},
   "source": [
    "## numpy.random.rand"
   ]
  },
  {
   "cell_type": "code",
   "execution_count": 28,
   "metadata": {},
   "outputs": [
    {
     "data": {
      "image/png": "[encoded data removed]",
      "text/plain": [
       "<matplotlib.figure.Figure at 0x7fd453eb50b8>"
      ]
     },
     "metadata": {},
     "output_type": "display_data"
    }
   ],
   "source": [
    "# numpy.random.rand => random values in a given shape\n",
    "x0 = np.random.rand(1000)\n",
    "\n",
    "# numpy.random.rand\n",
    "plt.hist(x0, bins=30)\n",
    "plt.title(\"Distribución np.random.rand\")\n",
    "plt.show()"
   ]
  }
 ],
 "metadata": {
  "kernelspec": {
   "display_name": "Python 3",
   "language": "python",
   "name": "python3"
  },
  "language_info": {
   "codemirror_mode": {
    "name": "ipython",
    "version": 3
   },
   "file_extension": ".py",
   "mimetype": "text/x-python",
   "name": "python",
   "nbconvert_exporter": "python",
   "pygments_lexer": "ipython3",
   "version": "3.6.4"
  }
 },
 "nbformat": 4,
 "nbformat_minor": 2
}
