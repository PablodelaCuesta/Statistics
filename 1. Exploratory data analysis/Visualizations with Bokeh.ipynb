{
 "cells": [
  {
   "cell_type": "markdown",
   "metadata": {},
   "source": [
    "# Plotting with Glyphs\n",
    "\n",
    "Glyphs are the basic visual marks that Bokeh can display. At the lowest level, there are glyph objects, such as Line. If you are using the low-level `bokeh.models` interface, it is your responsibility to create and coordinate all the various Bokeh objects, including glyph objects and their data sources. To make life easier, the bokeh.plotting interface exposes higher-level glyph methods such as the `line()` method used in the first example. The second example also adds in calls to `circle()` to display circle and line glyphs together on the same plot. Besides lines and circles, Bokeh makes many additional glyphs and markers available."
   ]
  },
  {
   "cell_type": "code",
   "execution_count": 17,
   "metadata": {},
   "outputs": [
    {
     "data": {
      "text/html": [
       "\n",
       "    <div class=\"bk-root\">\n",
       "        <a href=\"https://bokeh.pydata.org\" target=\"_blank\" class=\"bk-logo bk-logo-small bk-logo-notebook\"></a>\n",
       "        <span id=\"65b452d3-9327-4a38-a4a6-cbeb942e709b\">Loading BokehJS ...</span>\n",
       "    </div>"
      ]
     },
     "metadata": {},
     "output_type": "display_data"
    },
    {
     "data": {
      "application/javascript": [
       "\n",
       "(function(root) {\n",
       "  function now() {\n",
       "    return new Date();\n",
       "  }\n",
       "\n",
       "  var force = true;\n",
       "\n",
       "  if (typeof (root._bokeh_onload_callbacks) === \"undefined\" || force === true) {\n",
       "    root._bokeh_onload_callbacks = [];\n",
       "    root._bokeh_is_loading = undefined;\n",
       "  }\n",
       "\n",
       "  var JS_MIME_TYPE = 'application/javascript';\n",
       "  var HTML_MIME_TYPE = 'text/html';\n",
       "  var EXEC_MIME_TYPE = 'application/vnd.bokehjs_exec.v0+json';\n",
       "  var CLASS_NAME = 'output_bokeh rendered_html';\n",
       "\n",
       "  /**\n",
       "   * Render data to the DOM node\n",
       "   */\n",
       "  function render(props, node) {\n",
       "    var script = document.createElement(\"script\");\n",
       "    node.appendChild(script);\n",
       "  }\n",
       "\n",
       "  /**\n",
       "   * Handle when an output is cleared or removed\n",
       "   */\n",
       "  function handleClearOutput(event, handle) {\n",
       "    var cell = handle.cell;\n",
       "\n",
       "    var id = cell.output_area._bokeh_element_id;\n",
       "    var server_id = cell.output_area._bokeh_server_id;\n",
       "    // Clean up Bokeh references\n",
       "    if (id != null && id in Bokeh.index) {\n",
       "      Bokeh.index[id].model.document.clear();\n",
       "      delete Bokeh.index[id];\n",
       "    }\n",
       "\n",
       "    if (server_id !== undefined) {\n",
       "      // Clean up Bokeh references\n",
       "      var cmd = \"from bokeh.io.state import curstate; print(curstate().uuid_to_server['\" + server_id + \"'].get_sessions()[0].document.roots[0]._id)\";\n",
       "      cell.notebook.kernel.execute(cmd, {\n",
       "        iopub: {\n",
       "          output: function(msg) {\n",
       "            var id = msg.content.text.trim();\n",
       "            if (id in Bokeh.index) {\n",
       "              Bokeh.index[id].model.document.clear();\n",
       "              delete Bokeh.index[id];\n",
       "            }\n",
       "          }\n",
       "        }\n",
       "      });\n",
       "      // Destroy server and session\n",
       "      var cmd = \"import bokeh.io.notebook as ion; ion.destroy_server('\" + server_id + \"')\";\n",
       "      cell.notebook.kernel.execute(cmd);\n",
       "    }\n",
       "  }\n",
       "\n",
       "  /**\n",
       "   * Handle when a new output is added\n",
       "   */\n",
       "  function handleAddOutput(event, handle) {\n",
       "    var output_area = handle.output_area;\n",
       "    var output = handle.output;\n",
       "\n",
       "    // limit handleAddOutput to display_data with EXEC_MIME_TYPE content only\n",
       "    if ((output.output_type != \"display_data\") || (!output.data.hasOwnProperty(EXEC_MIME_TYPE))) {\n",
       "      return\n",
       "    }\n",
       "\n",
       "    var toinsert = output_area.element.find(\".\" + CLASS_NAME.split(' ')[0]);\n",
       "\n",
       "    if (output.metadata[EXEC_MIME_TYPE][\"id\"] !== undefined) {\n",
       "      toinsert[toinsert.length - 1].firstChild.textContent = output.data[JS_MIME_TYPE];\n",
       "      // store reference to embed id on output_area\n",
       "      output_area._bokeh_element_id = output.metadata[EXEC_MIME_TYPE][\"id\"];\n",
       "    }\n",
       "    if (output.metadata[EXEC_MIME_TYPE][\"server_id\"] !== undefined) {\n",
       "      var bk_div = document.createElement(\"div\");\n",
       "      bk_div.innerHTML = output.data[HTML_MIME_TYPE];\n",
       "      var script_attrs = bk_div.children[0].attributes;\n",
       "      for (var i = 0; i < script_attrs.length; i++) {\n",
       "        toinsert[toinsert.length - 1].firstChild.setAttribute(script_attrs[i].name, script_attrs[i].value);\n",
       "      }\n",
       "      // store reference to server id on output_area\n",
       "      output_area._bokeh_server_id = output.metadata[EXEC_MIME_TYPE][\"server_id\"];\n",
       "    }\n",
       "  }\n",
       "\n",
       "  function register_renderer(events, OutputArea) {\n",
       "\n",
       "    function append_mime(data, metadata, element) {\n",
       "      // create a DOM node to render to\n",
       "      var toinsert = this.create_output_subarea(\n",
       "        metadata,\n",
       "        CLASS_NAME,\n",
       "        EXEC_MIME_TYPE\n",
       "      );\n",
       "      this.keyboard_manager.register_events(toinsert);\n",
       "      // Render to node\n",
       "      var props = {data: data, metadata: metadata[EXEC_MIME_TYPE]};\n",
       "      render(props, toinsert[toinsert.length - 1]);\n",
       "      element.append(toinsert);\n",
       "      return toinsert\n",
       "    }\n",
       "\n",
       "    /* Handle when an output is cleared or removed */\n",
       "    events.on('clear_output.CodeCell', handleClearOutput);\n",
       "    events.on('delete.Cell', handleClearOutput);\n",
       "\n",
       "    /* Handle when a new output is added */\n",
       "    events.on('output_added.OutputArea', handleAddOutput);\n",
       "\n",
       "    /**\n",
       "     * Register the mime type and append_mime function with output_area\n",
       "     */\n",
       "    OutputArea.prototype.register_mime_type(EXEC_MIME_TYPE, append_mime, {\n",
       "      /* Is output safe? */\n",
       "      safe: true,\n",
       "      /* Index of renderer in `output_area.display_order` */\n",
       "      index: 0\n",
       "    });\n",
       "  }\n",
       "\n",
       "  // register the mime type if in Jupyter Notebook environment and previously unregistered\n",
       "  if (root.Jupyter !== undefined) {\n",
       "    var events = require('base/js/events');\n",
       "    var OutputArea = require('notebook/js/outputarea').OutputArea;\n",
       "\n",
       "    if (OutputArea.prototype.mime_types().indexOf(EXEC_MIME_TYPE) == -1) {\n",
       "      register_renderer(events, OutputArea);\n",
       "    }\n",
       "  }\n",
       "\n",
       "  \n",
       "  if (typeof (root._bokeh_timeout) === \"undefined\" || force === true) {\n",
       "    root._bokeh_timeout = Date.now() + 5000;\n",
       "    root._bokeh_failed_load = false;\n",
       "  }\n",
       "\n",
       "  var NB_LOAD_WARNING = {'data': {'text/html':\n",
       "     \"<div style='background-color: #fdd'>\\n\"+\n",
       "     \"<p>\\n\"+\n",
       "     \"BokehJS does not appear to have successfully loaded. If loading BokehJS from CDN, this \\n\"+\n",
       "     \"may be due to a slow or bad network connection. Possible fixes:\\n\"+\n",
       "     \"</p>\\n\"+\n",
       "     \"<ul>\\n\"+\n",
       "     \"<li>re-rerun `output_notebook()` to attempt to load from CDN again, or</li>\\n\"+\n",
       "     \"<li>use INLINE resources instead, as so:</li>\\n\"+\n",
       "     \"</ul>\\n\"+\n",
       "     \"<code>\\n\"+\n",
       "     \"from bokeh.resources import INLINE\\n\"+\n",
       "     \"output_notebook(resources=INLINE)\\n\"+\n",
       "     \"</code>\\n\"+\n",
       "     \"</div>\"}};\n",
       "\n",
       "  function display_loaded() {\n",
       "    var el = document.getElementById(\"65b452d3-9327-4a38-a4a6-cbeb942e709b\");\n",
       "    if (el != null) {\n",
       "      el.textContent = \"BokehJS is loading...\";\n",
       "    }\n",
       "    if (root.Bokeh !== undefined) {\n",
       "      if (el != null) {\n",
       "        el.textContent = \"BokehJS \" + root.Bokeh.version + \" successfully loaded.\";\n",
       "      }\n",
       "    } else if (Date.now() < root._bokeh_timeout) {\n",
       "      setTimeout(display_loaded, 100)\n",
       "    }\n",
       "  }\n",
       "\n",
       "\n",
       "  function run_callbacks() {\n",
       "    try {\n",
       "      root._bokeh_onload_callbacks.forEach(function(callback) { callback() });\n",
       "    }\n",
       "    finally {\n",
       "      delete root._bokeh_onload_callbacks\n",
       "    }\n",
       "    console.info(\"Bokeh: all callbacks have finished\");\n",
       "  }\n",
       "\n",
       "  function load_libs(js_urls, callback) {\n",
       "    root._bokeh_onload_callbacks.push(callback);\n",
       "    if (root._bokeh_is_loading > 0) {\n",
       "      console.log(\"Bokeh: BokehJS is being loaded, scheduling callback at\", now());\n",
       "      return null;\n",
       "    }\n",
       "    if (js_urls == null || js_urls.length === 0) {\n",
       "      run_callbacks();\n",
       "      return null;\n",
       "    }\n",
       "    console.log(\"Bokeh: BokehJS not loaded, scheduling load and callback at\", now());\n",
       "    root._bokeh_is_loading = js_urls.length;\n",
       "    for (var i = 0; i < js_urls.length; i++) {\n",
       "      var url = js_urls[i];\n",
       "      var s = document.createElement('script');\n",
       "      s.src = url;\n",
       "      s.async = false;\n",
       "      s.onreadystatechange = s.onload = function() {\n",
       "        root._bokeh_is_loading--;\n",
       "        if (root._bokeh_is_loading === 0) {\n",
       "          console.log(\"Bokeh: all BokehJS libraries loaded\");\n",
       "          run_callbacks()\n",
       "        }\n",
       "      };\n",
       "      s.onerror = function() {\n",
       "        console.warn(\"failed to load library \" + url);\n",
       "      };\n",
       "      console.log(\"Bokeh: injecting script tag for BokehJS library: \", url);\n",
       "      document.getElementsByTagName(\"head\")[0].appendChild(s);\n",
       "    }\n",
       "  };var element = document.getElementById(\"65b452d3-9327-4a38-a4a6-cbeb942e709b\");\n",
       "  if (element == null) {\n",
       "    console.log(\"Bokeh: ERROR: autoload.js configured with elementid '65b452d3-9327-4a38-a4a6-cbeb942e709b' but no matching script tag was found. \")\n",
       "    return false;\n",
       "  }\n",
       "\n",
       "  var js_urls = [\"https://cdn.pydata.org/bokeh/release/bokeh-0.13.0.min.js\", \"https://cdn.pydata.org/bokeh/release/bokeh-widgets-0.13.0.min.js\", \"https://cdn.pydata.org/bokeh/release/bokeh-tables-0.13.0.min.js\", \"https://cdn.pydata.org/bokeh/release/bokeh-gl-0.13.0.min.js\"];\n",
       "\n",
       "  var inline_js = [\n",
       "    function(Bokeh) {\n",
       "      Bokeh.set_log_level(\"info\");\n",
       "    },\n",
       "    \n",
       "    function(Bokeh) {\n",
       "      \n",
       "    },\n",
       "    function(Bokeh) {\n",
       "      console.log(\"Bokeh: injecting CSS: https://cdn.pydata.org/bokeh/release/bokeh-0.13.0.min.css\");\n",
       "      Bokeh.embed.inject_css(\"https://cdn.pydata.org/bokeh/release/bokeh-0.13.0.min.css\");\n",
       "      console.log(\"Bokeh: injecting CSS: https://cdn.pydata.org/bokeh/release/bokeh-widgets-0.13.0.min.css\");\n",
       "      Bokeh.embed.inject_css(\"https://cdn.pydata.org/bokeh/release/bokeh-widgets-0.13.0.min.css\");\n",
       "      console.log(\"Bokeh: injecting CSS: https://cdn.pydata.org/bokeh/release/bokeh-tables-0.13.0.min.css\");\n",
       "      Bokeh.embed.inject_css(\"https://cdn.pydata.org/bokeh/release/bokeh-tables-0.13.0.min.css\");\n",
       "    }\n",
       "  ];\n",
       "\n",
       "  function run_inline_js() {\n",
       "    \n",
       "    if ((root.Bokeh !== undefined) || (force === true)) {\n",
       "      for (var i = 0; i < inline_js.length; i++) {\n",
       "        inline_js[i].call(root, root.Bokeh);\n",
       "      }if (force === true) {\n",
       "        display_loaded();\n",
       "      }} else if (Date.now() < root._bokeh_timeout) {\n",
       "      setTimeout(run_inline_js, 100);\n",
       "    } else if (!root._bokeh_failed_load) {\n",
       "      console.log(\"Bokeh: BokehJS failed to load within specified timeout.\");\n",
       "      root._bokeh_failed_load = true;\n",
       "    } else if (force !== true) {\n",
       "      var cell = $(document.getElementById(\"65b452d3-9327-4a38-a4a6-cbeb942e709b\")).parents('.cell').data().cell;\n",
       "      cell.output_area.append_execute_result(NB_LOAD_WARNING)\n",
       "    }\n",
       "\n",
       "  }\n",
       "\n",
       "  if (root._bokeh_is_loading === 0) {\n",
       "    console.log(\"Bokeh: BokehJS loaded, going straight to plotting\");\n",
       "    run_inline_js();\n",
       "  } else {\n",
       "    load_libs(js_urls, function() {\n",
       "      console.log(\"Bokeh: BokehJS plotting callback run at\", now());\n",
       "      run_inline_js();\n",
       "    });\n",
       "  }\n",
       "}(window));"
      ],
      "application/vnd.bokehjs_load.v0+json": "\n(function(root) {\n  function now() {\n    return new Date();\n  }\n\n  var force = true;\n\n  if (typeof (root._bokeh_onload_callbacks) === \"undefined\" || force === true) {\n    root._bokeh_onload_callbacks = [];\n    root._bokeh_is_loading = undefined;\n  }\n\n  \n\n  \n  if (typeof (root._bokeh_timeout) === \"undefined\" || force === true) {\n    root._bokeh_timeout = Date.now() + 5000;\n    root._bokeh_failed_load = false;\n  }\n\n  var NB_LOAD_WARNING = {'data': {'text/html':\n     \"<div style='background-color: #fdd'>\\n\"+\n     \"<p>\\n\"+\n     \"BokehJS does not appear to have successfully loaded. If loading BokehJS from CDN, this \\n\"+\n     \"may be due to a slow or bad network connection. Possible fixes:\\n\"+\n     \"</p>\\n\"+\n     \"<ul>\\n\"+\n     \"<li>re-rerun `output_notebook()` to attempt to load from CDN again, or</li>\\n\"+\n     \"<li>use INLINE resources instead, as so:</li>\\n\"+\n     \"</ul>\\n\"+\n     \"<code>\\n\"+\n     \"from bokeh.resources import INLINE\\n\"+\n     \"output_notebook(resources=INLINE)\\n\"+\n     \"</code>\\n\"+\n     \"</div>\"}};\n\n  function display_loaded() {\n    var el = document.getElementById(\"65b452d3-9327-4a38-a4a6-cbeb942e709b\");\n    if (el != null) {\n      el.textContent = \"BokehJS is loading...\";\n    }\n    if (root.Bokeh !== undefined) {\n      if (el != null) {\n        el.textContent = \"BokehJS \" + root.Bokeh.version + \" successfully loaded.\";\n      }\n    } else if (Date.now() < root._bokeh_timeout) {\n      setTimeout(display_loaded, 100)\n    }\n  }\n\n\n  function run_callbacks() {\n    try {\n      root._bokeh_onload_callbacks.forEach(function(callback) { callback() });\n    }\n    finally {\n      delete root._bokeh_onload_callbacks\n    }\n    console.info(\"Bokeh: all callbacks have finished\");\n  }\n\n  function load_libs(js_urls, callback) {\n    root._bokeh_onload_callbacks.push(callback);\n    if (root._bokeh_is_loading > 0) {\n      console.log(\"Bokeh: BokehJS is being loaded, scheduling callback at\", now());\n      return null;\n    }\n    if (js_urls == null || js_urls.length === 0) {\n      run_callbacks();\n      return null;\n    }\n    console.log(\"Bokeh: BokehJS not loaded, scheduling load and callback at\", now());\n    root._bokeh_is_loading = js_urls.length;\n    for (var i = 0; i < js_urls.length; i++) {\n      var url = js_urls[i];\n      var s = document.createElement('script');\n      s.src = url;\n      s.async = false;\n      s.onreadystatechange = s.onload = function() {\n        root._bokeh_is_loading--;\n        if (root._bokeh_is_loading === 0) {\n          console.log(\"Bokeh: all BokehJS libraries loaded\");\n          run_callbacks()\n        }\n      };\n      s.onerror = function() {\n        console.warn(\"failed to load library \" + url);\n      };\n      console.log(\"Bokeh: injecting script tag for BokehJS library: \", url);\n      document.getElementsByTagName(\"head\")[0].appendChild(s);\n    }\n  };var element = document.getElementById(\"65b452d3-9327-4a38-a4a6-cbeb942e709b\");\n  if (element == null) {\n    console.log(\"Bokeh: ERROR: autoload.js configured with elementid '65b452d3-9327-4a38-a4a6-cbeb942e709b' but no matching script tag was found. \")\n    return false;\n  }\n\n  var js_urls = [\"https://cdn.pydata.org/bokeh/release/bokeh-0.13.0.min.js\", \"https://cdn.pydata.org/bokeh/release/bokeh-widgets-0.13.0.min.js\", \"https://cdn.pydata.org/bokeh/release/bokeh-tables-0.13.0.min.js\", \"https://cdn.pydata.org/bokeh/release/bokeh-gl-0.13.0.min.js\"];\n\n  var inline_js = [\n    function(Bokeh) {\n      Bokeh.set_log_level(\"info\");\n    },\n    \n    function(Bokeh) {\n      \n    },\n    function(Bokeh) {\n      console.log(\"Bokeh: injecting CSS: https://cdn.pydata.org/bokeh/release/bokeh-0.13.0.min.css\");\n      Bokeh.embed.inject_css(\"https://cdn.pydata.org/bokeh/release/bokeh-0.13.0.min.css\");\n      console.log(\"Bokeh: injecting CSS: https://cdn.pydata.org/bokeh/release/bokeh-widgets-0.13.0.min.css\");\n      Bokeh.embed.inject_css(\"https://cdn.pydata.org/bokeh/release/bokeh-widgets-0.13.0.min.css\");\n      console.log(\"Bokeh: injecting CSS: https://cdn.pydata.org/bokeh/release/bokeh-tables-0.13.0.min.css\");\n      Bokeh.embed.inject_css(\"https://cdn.pydata.org/bokeh/release/bokeh-tables-0.13.0.min.css\");\n    }\n  ];\n\n  function run_inline_js() {\n    \n    if ((root.Bokeh !== undefined) || (force === true)) {\n      for (var i = 0; i < inline_js.length; i++) {\n        inline_js[i].call(root, root.Bokeh);\n      }if (force === true) {\n        display_loaded();\n      }} else if (Date.now() < root._bokeh_timeout) {\n      setTimeout(run_inline_js, 100);\n    } else if (!root._bokeh_failed_load) {\n      console.log(\"Bokeh: BokehJS failed to load within specified timeout.\");\n      root._bokeh_failed_load = true;\n    } else if (force !== true) {\n      var cell = $(document.getElementById(\"65b452d3-9327-4a38-a4a6-cbeb942e709b\")).parents('.cell').data().cell;\n      cell.output_area.append_execute_result(NB_LOAD_WARNING)\n    }\n\n  }\n\n  if (root._bokeh_is_loading === 0) {\n    console.log(\"Bokeh: BokehJS loaded, going straight to plotting\");\n    run_inline_js();\n  } else {\n    load_libs(js_urls, function() {\n      console.log(\"Bokeh: BokehJS plotting callback run at\", now());\n      run_inline_js();\n    });\n  }\n}(window));"
     },
     "metadata": {},
     "output_type": "display_data"
    }
   ],
   "source": [
    "from bokeh.io import output_notebook, show, output_file\n",
    "from bokeh.io import curdoc\n",
    "\n",
    "# Notebooks output\n",
    "output_notebook()\n",
    "\n",
    "from bokeh.plotting import figure\n",
    "from bokeh.layouts import widgetbox\n",
    "from bokeh.layouts import column, row\n",
    "\n",
    "from bokeh.models import Slider\n",
    "from bokeh.models import HoverTool\n",
    "from bokeh.models import CategoricalColorMapper\n",
    "from bokeh.models import ColumnDataSource\n",
    "\n",
    "import pandas as pd\n",
    "import numpy as np"
   ]
  },
  {
   "cell_type": "code",
   "execution_count": null,
   "metadata": {},
   "outputs": [],
   "source": []
  },
  {
   "cell_type": "code",
   "execution_count": 2,
   "metadata": {},
   "outputs": [
    {
     "data": {
      "text/html": [
       "\n",
       "    <div class=\"bk-root\">\n",
       "        <a href=\"https://bokeh.pydata.org\" target=\"_blank\" class=\"bk-logo bk-logo-small bk-logo-notebook\"></a>\n",
       "        <span id=\"55b3beea-9175-456a-9c3c-b7eb58c67056\">Loading BokehJS ...</span>\n",
       "    </div>"
      ]
     },
     "metadata": {},
     "output_type": "display_data"
    },
    {
     "data": {
      "application/javascript": [
       "\n",
       "(function(root) {\n",
       "  function now() {\n",
       "    return new Date();\n",
       "  }\n",
       "\n",
       "  var force = true;\n",
       "\n",
       "  if (typeof (root._bokeh_onload_callbacks) === \"undefined\" || force === true) {\n",
       "    root._bokeh_onload_callbacks = [];\n",
       "    root._bokeh_is_loading = undefined;\n",
       "  }\n",
       "\n",
       "  var JS_MIME_TYPE = 'application/javascript';\n",
       "  var HTML_MIME_TYPE = 'text/html';\n",
       "  var EXEC_MIME_TYPE = 'application/vnd.bokehjs_exec.v0+json';\n",
       "  var CLASS_NAME = 'output_bokeh rendered_html';\n",
       "\n",
       "  /**\n",
       "   * Render data to the DOM node\n",
       "   */\n",
       "  function render(props, node) {\n",
       "    var script = document.createElement(\"script\");\n",
       "    node.appendChild(script);\n",
       "  }\n",
       "\n",
       "  /**\n",
       "   * Handle when an output is cleared or removed\n",
       "   */\n",
       "  function handleClearOutput(event, handle) {\n",
       "    var cell = handle.cell;\n",
       "\n",
       "    var id = cell.output_area._bokeh_element_id;\n",
       "    var server_id = cell.output_area._bokeh_server_id;\n",
       "    // Clean up Bokeh references\n",
       "    if (id != null && id in Bokeh.index) {\n",
       "      Bokeh.index[id].model.document.clear();\n",
       "      delete Bokeh.index[id];\n",
       "    }\n",
       "\n",
       "    if (server_id !== undefined) {\n",
       "      // Clean up Bokeh references\n",
       "      var cmd = \"from bokeh.io.state import curstate; print(curstate().uuid_to_server['\" + server_id + \"'].get_sessions()[0].document.roots[0]._id)\";\n",
       "      cell.notebook.kernel.execute(cmd, {\n",
       "        iopub: {\n",
       "          output: function(msg) {\n",
       "            var id = msg.content.text.trim();\n",
       "            if (id in Bokeh.index) {\n",
       "              Bokeh.index[id].model.document.clear();\n",
       "              delete Bokeh.index[id];\n",
       "            }\n",
       "          }\n",
       "        }\n",
       "      });\n",
       "      // Destroy server and session\n",
       "      var cmd = \"import bokeh.io.notebook as ion; ion.destroy_server('\" + server_id + \"')\";\n",
       "      cell.notebook.kernel.execute(cmd);\n",
       "    }\n",
       "  }\n",
       "\n",
       "  /**\n",
       "   * Handle when a new output is added\n",
       "   */\n",
       "  function handleAddOutput(event, handle) {\n",
       "    var output_area = handle.output_area;\n",
       "    var output = handle.output;\n",
       "\n",
       "    // limit handleAddOutput to display_data with EXEC_MIME_TYPE content only\n",
       "    if ((output.output_type != \"display_data\") || (!output.data.hasOwnProperty(EXEC_MIME_TYPE))) {\n",
       "      return\n",
       "    }\n",
       "\n",
       "    var toinsert = output_area.element.find(\".\" + CLASS_NAME.split(' ')[0]);\n",
       "\n",
       "    if (output.metadata[EXEC_MIME_TYPE][\"id\"] !== undefined) {\n",
       "      toinsert[toinsert.length - 1].firstChild.textContent = output.data[JS_MIME_TYPE];\n",
       "      // store reference to embed id on output_area\n",
       "      output_area._bokeh_element_id = output.metadata[EXEC_MIME_TYPE][\"id\"];\n",
       "    }\n",
       "    if (output.metadata[EXEC_MIME_TYPE][\"server_id\"] !== undefined) {\n",
       "      var bk_div = document.createElement(\"div\");\n",
       "      bk_div.innerHTML = output.data[HTML_MIME_TYPE];\n",
       "      var script_attrs = bk_div.children[0].attributes;\n",
       "      for (var i = 0; i < script_attrs.length; i++) {\n",
       "        toinsert[toinsert.length - 1].firstChild.setAttribute(script_attrs[i].name, script_attrs[i].value);\n",
       "      }\n",
       "      // store reference to server id on output_area\n",
       "      output_area._bokeh_server_id = output.metadata[EXEC_MIME_TYPE][\"server_id\"];\n",
       "    }\n",
       "  }\n",
       "\n",
       "  function register_renderer(events, OutputArea) {\n",
       "\n",
       "    function append_mime(data, metadata, element) {\n",
       "      // create a DOM node to render to\n",
       "      var toinsert = this.create_output_subarea(\n",
       "        metadata,\n",
       "        CLASS_NAME,\n",
       "        EXEC_MIME_TYPE\n",
       "      );\n",
       "      this.keyboard_manager.register_events(toinsert);\n",
       "      // Render to node\n",
       "      var props = {data: data, metadata: metadata[EXEC_MIME_TYPE]};\n",
       "      render(props, toinsert[toinsert.length - 1]);\n",
       "      element.append(toinsert);\n",
       "      return toinsert\n",
       "    }\n",
       "\n",
       "    /* Handle when an output is cleared or removed */\n",
       "    events.on('clear_output.CodeCell', handleClearOutput);\n",
       "    events.on('delete.Cell', handleClearOutput);\n",
       "\n",
       "    /* Handle when a new output is added */\n",
       "    events.on('output_added.OutputArea', handleAddOutput);\n",
       "\n",
       "    /**\n",
       "     * Register the mime type and append_mime function with output_area\n",
       "     */\n",
       "    OutputArea.prototype.register_mime_type(EXEC_MIME_TYPE, append_mime, {\n",
       "      /* Is output safe? */\n",
       "      safe: true,\n",
       "      /* Index of renderer in `output_area.display_order` */\n",
       "      index: 0\n",
       "    });\n",
       "  }\n",
       "\n",
       "  // register the mime type if in Jupyter Notebook environment and previously unregistered\n",
       "  if (root.Jupyter !== undefined) {\n",
       "    var events = require('base/js/events');\n",
       "    var OutputArea = require('notebook/js/outputarea').OutputArea;\n",
       "\n",
       "    if (OutputArea.prototype.mime_types().indexOf(EXEC_MIME_TYPE) == -1) {\n",
       "      register_renderer(events, OutputArea);\n",
       "    }\n",
       "  }\n",
       "\n",
       "  \n",
       "  if (typeof (root._bokeh_timeout) === \"undefined\" || force === true) {\n",
       "    root._bokeh_timeout = Date.now() + 5000;\n",
       "    root._bokeh_failed_load = false;\n",
       "  }\n",
       "\n",
       "  var NB_LOAD_WARNING = {'data': {'text/html':\n",
       "     \"<div style='background-color: #fdd'>\\n\"+\n",
       "     \"<p>\\n\"+\n",
       "     \"BokehJS does not appear to have successfully loaded. If loading BokehJS from CDN, this \\n\"+\n",
       "     \"may be due to a slow or bad network connection. Possible fixes:\\n\"+\n",
       "     \"</p>\\n\"+\n",
       "     \"<ul>\\n\"+\n",
       "     \"<li>re-rerun `output_notebook()` to attempt to load from CDN again, or</li>\\n\"+\n",
       "     \"<li>use INLINE resources instead, as so:</li>\\n\"+\n",
       "     \"</ul>\\n\"+\n",
       "     \"<code>\\n\"+\n",
       "     \"from bokeh.resources import INLINE\\n\"+\n",
       "     \"output_notebook(resources=INLINE)\\n\"+\n",
       "     \"</code>\\n\"+\n",
       "     \"</div>\"}};\n",
       "\n",
       "  function display_loaded() {\n",
       "    var el = document.getElementById(\"55b3beea-9175-456a-9c3c-b7eb58c67056\");\n",
       "    if (el != null) {\n",
       "      el.textContent = \"BokehJS is loading...\";\n",
       "    }\n",
       "    if (root.Bokeh !== undefined) {\n",
       "      if (el != null) {\n",
       "        el.textContent = \"BokehJS \" + root.Bokeh.version + \" successfully loaded.\";\n",
       "      }\n",
       "    } else if (Date.now() < root._bokeh_timeout) {\n",
       "      setTimeout(display_loaded, 100)\n",
       "    }\n",
       "  }\n",
       "\n",
       "\n",
       "  function run_callbacks() {\n",
       "    try {\n",
       "      root._bokeh_onload_callbacks.forEach(function(callback) { callback() });\n",
       "    }\n",
       "    finally {\n",
       "      delete root._bokeh_onload_callbacks\n",
       "    }\n",
       "    console.info(\"Bokeh: all callbacks have finished\");\n",
       "  }\n",
       "\n",
       "  function load_libs(js_urls, callback) {\n",
       "    root._bokeh_onload_callbacks.push(callback);\n",
       "    if (root._bokeh_is_loading > 0) {\n",
       "      console.log(\"Bokeh: BokehJS is being loaded, scheduling callback at\", now());\n",
       "      return null;\n",
       "    }\n",
       "    if (js_urls == null || js_urls.length === 0) {\n",
       "      run_callbacks();\n",
       "      return null;\n",
       "    }\n",
       "    console.log(\"Bokeh: BokehJS not loaded, scheduling load and callback at\", now());\n",
       "    root._bokeh_is_loading = js_urls.length;\n",
       "    for (var i = 0; i < js_urls.length; i++) {\n",
       "      var url = js_urls[i];\n",
       "      var s = document.createElement('script');\n",
       "      s.src = url;\n",
       "      s.async = false;\n",
       "      s.onreadystatechange = s.onload = function() {\n",
       "        root._bokeh_is_loading--;\n",
       "        if (root._bokeh_is_loading === 0) {\n",
       "          console.log(\"Bokeh: all BokehJS libraries loaded\");\n",
       "          run_callbacks()\n",
       "        }\n",
       "      };\n",
       "      s.onerror = function() {\n",
       "        console.warn(\"failed to load library \" + url);\n",
       "      };\n",
       "      console.log(\"Bokeh: injecting script tag for BokehJS library: \", url);\n",
       "      document.getElementsByTagName(\"head\")[0].appendChild(s);\n",
       "    }\n",
       "  };var element = document.getElementById(\"55b3beea-9175-456a-9c3c-b7eb58c67056\");\n",
       "  if (element == null) {\n",
       "    console.log(\"Bokeh: ERROR: autoload.js configured with elementid '55b3beea-9175-456a-9c3c-b7eb58c67056' but no matching script tag was found. \")\n",
       "    return false;\n",
       "  }\n",
       "\n",
       "  var js_urls = [\"https://cdn.pydata.org/bokeh/release/bokeh-0.13.0.min.js\", \"https://cdn.pydata.org/bokeh/release/bokeh-widgets-0.13.0.min.js\", \"https://cdn.pydata.org/bokeh/release/bokeh-tables-0.13.0.min.js\", \"https://cdn.pydata.org/bokeh/release/bokeh-gl-0.13.0.min.js\"];\n",
       "\n",
       "  var inline_js = [\n",
       "    function(Bokeh) {\n",
       "      Bokeh.set_log_level(\"info\");\n",
       "    },\n",
       "    \n",
       "    function(Bokeh) {\n",
       "      \n",
       "    },\n",
       "    function(Bokeh) {\n",
       "      console.log(\"Bokeh: injecting CSS: https://cdn.pydata.org/bokeh/release/bokeh-0.13.0.min.css\");\n",
       "      Bokeh.embed.inject_css(\"https://cdn.pydata.org/bokeh/release/bokeh-0.13.0.min.css\");\n",
       "      console.log(\"Bokeh: injecting CSS: https://cdn.pydata.org/bokeh/release/bokeh-widgets-0.13.0.min.css\");\n",
       "      Bokeh.embed.inject_css(\"https://cdn.pydata.org/bokeh/release/bokeh-widgets-0.13.0.min.css\");\n",
       "      console.log(\"Bokeh: injecting CSS: https://cdn.pydata.org/bokeh/release/bokeh-tables-0.13.0.min.css\");\n",
       "      Bokeh.embed.inject_css(\"https://cdn.pydata.org/bokeh/release/bokeh-tables-0.13.0.min.css\");\n",
       "    }\n",
       "  ];\n",
       "\n",
       "  function run_inline_js() {\n",
       "    \n",
       "    if ((root.Bokeh !== undefined) || (force === true)) {\n",
       "      for (var i = 0; i < inline_js.length; i++) {\n",
       "        inline_js[i].call(root, root.Bokeh);\n",
       "      }if (force === true) {\n",
       "        display_loaded();\n",
       "      }} else if (Date.now() < root._bokeh_timeout) {\n",
       "      setTimeout(run_inline_js, 100);\n",
       "    } else if (!root._bokeh_failed_load) {\n",
       "      console.log(\"Bokeh: BokehJS failed to load within specified timeout.\");\n",
       "      root._bokeh_failed_load = true;\n",
       "    } else if (force !== true) {\n",
       "      var cell = $(document.getElementById(\"55b3beea-9175-456a-9c3c-b7eb58c67056\")).parents('.cell').data().cell;\n",
       "      cell.output_area.append_execute_result(NB_LOAD_WARNING)\n",
       "    }\n",
       "\n",
       "  }\n",
       "\n",
       "  if (root._bokeh_is_loading === 0) {\n",
       "    console.log(\"Bokeh: BokehJS loaded, going straight to plotting\");\n",
       "    run_inline_js();\n",
       "  } else {\n",
       "    load_libs(js_urls, function() {\n",
       "      console.log(\"Bokeh: BokehJS plotting callback run at\", now());\n",
       "      run_inline_js();\n",
       "    });\n",
       "  }\n",
       "}(window));"
      ],
      "application/vnd.bokehjs_load.v0+json": "\n(function(root) {\n  function now() {\n    return new Date();\n  }\n\n  var force = true;\n\n  if (typeof (root._bokeh_onload_callbacks) === \"undefined\" || force === true) {\n    root._bokeh_onload_callbacks = [];\n    root._bokeh_is_loading = undefined;\n  }\n\n  \n\n  \n  if (typeof (root._bokeh_timeout) === \"undefined\" || force === true) {\n    root._bokeh_timeout = Date.now() + 5000;\n    root._bokeh_failed_load = false;\n  }\n\n  var NB_LOAD_WARNING = {'data': {'text/html':\n     \"<div style='background-color: #fdd'>\\n\"+\n     \"<p>\\n\"+\n     \"BokehJS does not appear to have successfully loaded. If loading BokehJS from CDN, this \\n\"+\n     \"may be due to a slow or bad network connection. Possible fixes:\\n\"+\n     \"</p>\\n\"+\n     \"<ul>\\n\"+\n     \"<li>re-rerun `output_notebook()` to attempt to load from CDN again, or</li>\\n\"+\n     \"<li>use INLINE resources instead, as so:</li>\\n\"+\n     \"</ul>\\n\"+\n     \"<code>\\n\"+\n     \"from bokeh.resources import INLINE\\n\"+\n     \"output_notebook(resources=INLINE)\\n\"+\n     \"</code>\\n\"+\n     \"</div>\"}};\n\n  function display_loaded() {\n    var el = document.getElementById(\"55b3beea-9175-456a-9c3c-b7eb58c67056\");\n    if (el != null) {\n      el.textContent = \"BokehJS is loading...\";\n    }\n    if (root.Bokeh !== undefined) {\n      if (el != null) {\n        el.textContent = \"BokehJS \" + root.Bokeh.version + \" successfully loaded.\";\n      }\n    } else if (Date.now() < root._bokeh_timeout) {\n      setTimeout(display_loaded, 100)\n    }\n  }\n\n\n  function run_callbacks() {\n    try {\n      root._bokeh_onload_callbacks.forEach(function(callback) { callback() });\n    }\n    finally {\n      delete root._bokeh_onload_callbacks\n    }\n    console.info(\"Bokeh: all callbacks have finished\");\n  }\n\n  function load_libs(js_urls, callback) {\n    root._bokeh_onload_callbacks.push(callback);\n    if (root._bokeh_is_loading > 0) {\n      console.log(\"Bokeh: BokehJS is being loaded, scheduling callback at\", now());\n      return null;\n    }\n    if (js_urls == null || js_urls.length === 0) {\n      run_callbacks();\n      return null;\n    }\n    console.log(\"Bokeh: BokehJS not loaded, scheduling load and callback at\", now());\n    root._bokeh_is_loading = js_urls.length;\n    for (var i = 0; i < js_urls.length; i++) {\n      var url = js_urls[i];\n      var s = document.createElement('script');\n      s.src = url;\n      s.async = false;\n      s.onreadystatechange = s.onload = function() {\n        root._bokeh_is_loading--;\n        if (root._bokeh_is_loading === 0) {\n          console.log(\"Bokeh: all BokehJS libraries loaded\");\n          run_callbacks()\n        }\n      };\n      s.onerror = function() {\n        console.warn(\"failed to load library \" + url);\n      };\n      console.log(\"Bokeh: injecting script tag for BokehJS library: \", url);\n      document.getElementsByTagName(\"head\")[0].appendChild(s);\n    }\n  };var element = document.getElementById(\"55b3beea-9175-456a-9c3c-b7eb58c67056\");\n  if (element == null) {\n    console.log(\"Bokeh: ERROR: autoload.js configured with elementid '55b3beea-9175-456a-9c3c-b7eb58c67056' but no matching script tag was found. \")\n    return false;\n  }\n\n  var js_urls = [\"https://cdn.pydata.org/bokeh/release/bokeh-0.13.0.min.js\", \"https://cdn.pydata.org/bokeh/release/bokeh-widgets-0.13.0.min.js\", \"https://cdn.pydata.org/bokeh/release/bokeh-tables-0.13.0.min.js\", \"https://cdn.pydata.org/bokeh/release/bokeh-gl-0.13.0.min.js\"];\n\n  var inline_js = [\n    function(Bokeh) {\n      Bokeh.set_log_level(\"info\");\n    },\n    \n    function(Bokeh) {\n      \n    },\n    function(Bokeh) {\n      console.log(\"Bokeh: injecting CSS: https://cdn.pydata.org/bokeh/release/bokeh-0.13.0.min.css\");\n      Bokeh.embed.inject_css(\"https://cdn.pydata.org/bokeh/release/bokeh-0.13.0.min.css\");\n      console.log(\"Bokeh: injecting CSS: https://cdn.pydata.org/bokeh/release/bokeh-widgets-0.13.0.min.css\");\n      Bokeh.embed.inject_css(\"https://cdn.pydata.org/bokeh/release/bokeh-widgets-0.13.0.min.css\");\n      console.log(\"Bokeh: injecting CSS: https://cdn.pydata.org/bokeh/release/bokeh-tables-0.13.0.min.css\");\n      Bokeh.embed.inject_css(\"https://cdn.pydata.org/bokeh/release/bokeh-tables-0.13.0.min.css\");\n    }\n  ];\n\n  function run_inline_js() {\n    \n    if ((root.Bokeh !== undefined) || (force === true)) {\n      for (var i = 0; i < inline_js.length; i++) {\n        inline_js[i].call(root, root.Bokeh);\n      }if (force === true) {\n        display_loaded();\n      }} else if (Date.now() < root._bokeh_timeout) {\n      setTimeout(run_inline_js, 100);\n    } else if (!root._bokeh_failed_load) {\n      console.log(\"Bokeh: BokehJS failed to load within specified timeout.\");\n      root._bokeh_failed_load = true;\n    } else if (force !== true) {\n      var cell = $(document.getElementById(\"55b3beea-9175-456a-9c3c-b7eb58c67056\")).parents('.cell').data().cell;\n      cell.output_area.append_execute_result(NB_LOAD_WARNING)\n    }\n\n  }\n\n  if (root._bokeh_is_loading === 0) {\n    console.log(\"Bokeh: BokehJS loaded, going straight to plotting\");\n    run_inline_js();\n  } else {\n    load_libs(js_urls, function() {\n      console.log(\"Bokeh: BokehJS plotting callback run at\", now());\n      run_inline_js();\n    });\n  }\n}(window));"
     },
     "metadata": {},
     "output_type": "display_data"
    },
    {
     "data": {
      "text/html": [
       "\n",
       "\n",
       "\n",
       "\n",
       "\n",
       "\n",
       "  <div class=\"bk-root\" id=\"909dcbba-8d7f-4c42-96b4-1a9a0e79fdab\"></div>\n"
      ]
     },
     "metadata": {},
     "output_type": "display_data"
    },
    {
     "data": {
      "application/javascript": [
       "(function(root) {\n",
       "  function embed_document(root) {\n",
       "    \n",
       "  var docs_json = {\"60cfcdb6-cdd1-41fa-8e70-d2b8fcab1406\":{\"roots\":{\"references\":[{\"attributes\":{\"bottom_units\":\"screen\",\"fill_alpha\":{\"value\":0.5},\"fill_color\":{\"value\":\"lightgrey\"},\"left_units\":\"screen\",\"level\":\"overlay\",\"line_alpha\":{\"value\":1.0},\"line_color\":{\"value\":\"black\"},\"line_dash\":[4,4],\"line_width\":{\"value\":2},\"plot\":null,\"render_mode\":\"css\",\"right_units\":\"screen\",\"top_units\":\"screen\"},\"id\":\"d462bfd2-b200-4192-a0cd-97cdaabe9bf2\",\"type\":\"BoxAnnotation\"},{\"attributes\":{\"plot\":null,\"text\":\"\"},\"id\":\"92d8abe5-d104-40e2-bab3-9c82d54bc6e5\",\"type\":\"Title\"},{\"attributes\":{\"data_source\":{\"id\":\"b169f37f-5cfa-4483-bdb2-4085fd539b01\",\"type\":\"ColumnDataSource\"},\"glyph\":{\"id\":\"0a9fc6ff-7258-4c1e-bef6-755d919e711d\",\"type\":\"Circle\"},\"hover_glyph\":null,\"muted_glyph\":null,\"nonselection_glyph\":{\"id\":\"f7ceef62-325d-49d1-a8ba-3ba955c93fc8\",\"type\":\"Circle\"},\"selection_glyph\":null,\"view\":{\"id\":\"994d4f6a-e2a0-48e6-ac45-07ee2e83d3b7\",\"type\":\"CDSView\"}},\"id\":\"f8d60ea7-e4e5-4bc4-9b96-f4b78da02075\",\"type\":\"GlyphRenderer\"},{\"attributes\":{},\"id\":\"f98fbdd5-c25f-4b1c-add8-c42ae1d739da\",\"type\":\"BasicTicker\"},{\"attributes\":{},\"id\":\"0684c064-bcd4-483e-bacf-42985a6b0e77\",\"type\":\"UnionRenderers\"},{\"attributes\":{\"callback\":null},\"id\":\"7a5831ca-ecbf-4c8f-8537-6d6bf1fa6147\",\"type\":\"DataRange1d\"},{\"attributes\":{\"fill_alpha\":{\"value\":0.1},\"fill_color\":{\"value\":\"#1f77b4\"},\"line_alpha\":{\"value\":0.1},\"line_color\":{\"value\":\"#1f77b4\"},\"x\":{\"field\":\"x\"},\"y\":{\"field\":\"y\"}},\"id\":\"f7ceef62-325d-49d1-a8ba-3ba955c93fc8\",\"type\":\"Circle\"},{\"attributes\":{},\"id\":\"1fc4e369-4d20-4506-bea4-03d1de116b46\",\"type\":\"BasicTickFormatter\"},{\"attributes\":{\"dimension\":1,\"plot\":{\"id\":\"d1d79779-4fae-47c5-8978-e125dc911b22\",\"subtype\":\"Figure\",\"type\":\"Plot\"},\"ticker\":{\"id\":\"f98fbdd5-c25f-4b1c-add8-c42ae1d739da\",\"type\":\"BasicTicker\"}},\"id\":\"45b35b27-60d8-44e5-ba5d-fa9e83aa99a4\",\"type\":\"Grid\"},{\"attributes\":{\"source\":{\"id\":\"b169f37f-5cfa-4483-bdb2-4085fd539b01\",\"type\":\"ColumnDataSource\"}},\"id\":\"994d4f6a-e2a0-48e6-ac45-07ee2e83d3b7\",\"type\":\"CDSView\"},{\"attributes\":{\"fill_color\":{\"value\":\"#1f77b4\"},\"line_color\":{\"value\":\"#1f77b4\"},\"x\":{\"field\":\"x\"},\"y\":{\"field\":\"y\"}},\"id\":\"0a9fc6ff-7258-4c1e-bef6-755d919e711d\",\"type\":\"Circle\"},{\"attributes\":{\"formatter\":{\"id\":\"435100a8-b592-45ce-b03f-54fd895aaa0b\",\"type\":\"BasicTickFormatter\"},\"plot\":{\"id\":\"d1d79779-4fae-47c5-8978-e125dc911b22\",\"subtype\":\"Figure\",\"type\":\"Plot\"},\"ticker\":{\"id\":\"93140f37-5efb-4d35-be28-45b3f33dcb01\",\"type\":\"BasicTicker\"}},\"id\":\"3f219d45-c7c8-4410-a2dd-92bb771c2a34\",\"type\":\"LinearAxis\"},{\"attributes\":{},\"id\":\"435100a8-b592-45ce-b03f-54fd895aaa0b\",\"type\":\"BasicTickFormatter\"},{\"attributes\":{},\"id\":\"72d014db-e207-4ebe-b71c-68ea3aeadb57\",\"type\":\"Selection\"},{\"attributes\":{},\"id\":\"93140f37-5efb-4d35-be28-45b3f33dcb01\",\"type\":\"BasicTicker\"},{\"attributes\":{\"plot\":{\"id\":\"d1d79779-4fae-47c5-8978-e125dc911b22\",\"subtype\":\"Figure\",\"type\":\"Plot\"},\"ticker\":{\"id\":\"93140f37-5efb-4d35-be28-45b3f33dcb01\",\"type\":\"BasicTicker\"}},\"id\":\"1bc106dc-b79c-404f-940e-c2556579002c\",\"type\":\"Grid\"},{\"attributes\":{\"formatter\":{\"id\":\"1fc4e369-4d20-4506-bea4-03d1de116b46\",\"type\":\"BasicTickFormatter\"},\"plot\":{\"id\":\"d1d79779-4fae-47c5-8978-e125dc911b22\",\"subtype\":\"Figure\",\"type\":\"Plot\"},\"ticker\":{\"id\":\"f98fbdd5-c25f-4b1c-add8-c42ae1d739da\",\"type\":\"BasicTicker\"}},\"id\":\"44e3c8a6-08d5-4642-afa4-bb95a7eccb8b\",\"type\":\"LinearAxis\"},{\"attributes\":{\"overlay\":{\"id\":\"d462bfd2-b200-4192-a0cd-97cdaabe9bf2\",\"type\":\"BoxAnnotation\"}},\"id\":\"77c79f70-a1d9-42e5-a2f8-3797066e2ded\",\"type\":\"BoxZoomTool\"},{\"attributes\":{},\"id\":\"9604b70b-ed94-462b-ab22-f8737cd5803a\",\"type\":\"PanTool\"},{\"attributes\":{},\"id\":\"55959817-1680-4cf1-8f75-8ed0dfdf1bf2\",\"type\":\"LinearScale\"},{\"attributes\":{\"below\":[{\"id\":\"3f219d45-c7c8-4410-a2dd-92bb771c2a34\",\"type\":\"LinearAxis\"}],\"left\":[{\"id\":\"44e3c8a6-08d5-4642-afa4-bb95a7eccb8b\",\"type\":\"LinearAxis\"}],\"plot_width\":400,\"renderers\":[{\"id\":\"3f219d45-c7c8-4410-a2dd-92bb771c2a34\",\"type\":\"LinearAxis\"},{\"id\":\"1bc106dc-b79c-404f-940e-c2556579002c\",\"type\":\"Grid\"},{\"id\":\"44e3c8a6-08d5-4642-afa4-bb95a7eccb8b\",\"type\":\"LinearAxis\"},{\"id\":\"45b35b27-60d8-44e5-ba5d-fa9e83aa99a4\",\"type\":\"Grid\"},{\"id\":\"d462bfd2-b200-4192-a0cd-97cdaabe9bf2\",\"type\":\"BoxAnnotation\"},{\"id\":\"f8d60ea7-e4e5-4bc4-9b96-f4b78da02075\",\"type\":\"GlyphRenderer\"}],\"title\":{\"id\":\"92d8abe5-d104-40e2-bab3-9c82d54bc6e5\",\"type\":\"Title\"},\"toolbar\":{\"id\":\"b92457bf-8a17-465f-91d9-7a51e5599211\",\"type\":\"Toolbar\"},\"x_range\":{\"id\":\"d6039ff1-d8d8-40b1-9a35-faf4d2625597\",\"type\":\"DataRange1d\"},\"x_scale\":{\"id\":\"7a7e53d5-2507-4bf6-b9ce-e69ede26f786\",\"type\":\"LinearScale\"},\"y_range\":{\"id\":\"7a5831ca-ecbf-4c8f-8537-6d6bf1fa6147\",\"type\":\"DataRange1d\"},\"y_scale\":{\"id\":\"55959817-1680-4cf1-8f75-8ed0dfdf1bf2\",\"type\":\"LinearScale\"}},\"id\":\"d1d79779-4fae-47c5-8978-e125dc911b22\",\"subtype\":\"Figure\",\"type\":\"Plot\"},{\"attributes\":{},\"id\":\"7a7e53d5-2507-4bf6-b9ce-e69ede26f786\",\"type\":\"LinearScale\"},{\"attributes\":{\"callback\":null,\"data\":{\"x\":[1,2,3,4,5],\"y\":[8,6,5,2,3]},\"selected\":{\"id\":\"72d014db-e207-4ebe-b71c-68ea3aeadb57\",\"type\":\"Selection\"},\"selection_policy\":{\"id\":\"0684c064-bcd4-483e-bacf-42985a6b0e77\",\"type\":\"UnionRenderers\"}},\"id\":\"b169f37f-5cfa-4483-bdb2-4085fd539b01\",\"type\":\"ColumnDataSource\"},{\"attributes\":{\"active_drag\":\"auto\",\"active_inspect\":\"auto\",\"active_multi\":null,\"active_scroll\":\"auto\",\"active_tap\":\"auto\",\"tools\":[{\"id\":\"9604b70b-ed94-462b-ab22-f8737cd5803a\",\"type\":\"PanTool\"},{\"id\":\"77c79f70-a1d9-42e5-a2f8-3797066e2ded\",\"type\":\"BoxZoomTool\"}]},\"id\":\"b92457bf-8a17-465f-91d9-7a51e5599211\",\"type\":\"Toolbar\"},{\"attributes\":{\"callback\":null},\"id\":\"d6039ff1-d8d8-40b1-9a35-faf4d2625597\",\"type\":\"DataRange1d\"}],\"root_ids\":[\"d1d79779-4fae-47c5-8978-e125dc911b22\"]},\"title\":\"Bokeh Application\",\"version\":\"0.13.0\"}};\n",
       "  var render_items = [{\"docid\":\"60cfcdb6-cdd1-41fa-8e70-d2b8fcab1406\",\"roots\":{\"d1d79779-4fae-47c5-8978-e125dc911b22\":\"909dcbba-8d7f-4c42-96b4-1a9a0e79fdab\"}}];\n",
       "  root.Bokeh.embed.embed_items_notebook(docs_json, render_items);\n",
       "\n",
       "  }\n",
       "  if (root.Bokeh !== undefined) {\n",
       "    embed_document(root);\n",
       "  } else {\n",
       "    var attempts = 0;\n",
       "    var timer = setInterval(function(root) {\n",
       "      if (root.Bokeh !== undefined) {\n",
       "        embed_document(root);\n",
       "        clearInterval(timer);\n",
       "      }\n",
       "      attempts++;\n",
       "      if (attempts > 100) {\n",
       "        console.log(\"Bokeh: ERROR: Unable to run BokehJS code because BokehJS library is missing\")\n",
       "        clearInterval(timer);\n",
       "      }\n",
       "    }, 10, root)\n",
       "  }\n",
       "})(window);"
      ],
      "application/vnd.bokehjs_exec.v0+json": ""
     },
     "metadata": {
      "application/vnd.bokehjs_exec.v0+json": {
       "id": "d1d79779-4fae-47c5-8978-e125dc911b22"
      }
     },
     "output_type": "display_data"
    }
   ],
   "source": [
    "plot = figure(plot_width=400, tools='pan,box_zoom')\n",
    "plot.circle([1,2,3,4,5],[8,6,5,2,3])\n",
    "output_notebook()\n",
    "show(plot)"
   ]
  },
  {
   "cell_type": "code",
   "execution_count": 3,
   "metadata": {},
   "outputs": [
    {
     "data": {
      "text/html": [
       "\n",
       "\n",
       "\n",
       "\n",
       "\n",
       "\n",
       "  <div class=\"bk-root\" id=\"4f4ab7ab-c47f-4e94-a72d-61705e81b968\"></div>\n"
      ]
     },
     "metadata": {},
     "output_type": "display_data"
    },
    {
     "data": {
      "application/javascript": [
       "(function(root) {\n",
       "  function embed_document(root) {\n",
       "    \n",
       "  var docs_json = {\"145882e1-1845-490f-a4d8-e978f0a63a11\":{\"roots\":{\"references\":[{\"attributes\":{\"data_source\":{\"id\":\"ad44fdc3-32e2-44d0-8b17-3940619f6ae2\",\"type\":\"ColumnDataSource\"},\"glyph\":{\"id\":\"8adb225e-a516-4cf8-9ad8-8dea56a63c0f\",\"type\":\"Circle\"},\"hover_glyph\":null,\"muted_glyph\":null,\"nonselection_glyph\":{\"id\":\"5cf0e461-268b-46f9-8e16-790f11152359\",\"type\":\"Circle\"},\"selection_glyph\":null,\"view\":{\"id\":\"291cc186-dcf5-4d33-a37e-16900383d7e6\",\"type\":\"CDSView\"}},\"id\":\"faca4fd7-69c5-41c5-8553-ae3ff709f140\",\"type\":\"GlyphRenderer\"},{\"attributes\":{\"formatter\":{\"id\":\"d2be50b3-e2ca-4ed8-a078-b7734b9f64c3\",\"type\":\"BasicTickFormatter\"},\"plot\":{\"id\":\"60d0ab54-a75b-4300-816f-748fab4c710b\",\"subtype\":\"Figure\",\"type\":\"Plot\"},\"ticker\":{\"id\":\"018d9e66-e9c4-4f70-afef-cf2531a29542\",\"type\":\"BasicTicker\"}},\"id\":\"726349f8-03de-4226-be9f-bb170a7b07d4\",\"type\":\"LinearAxis\"},{\"attributes\":{\"bottom_units\":\"screen\",\"fill_alpha\":{\"value\":0.5},\"fill_color\":{\"value\":\"lightgrey\"},\"left_units\":\"screen\",\"level\":\"overlay\",\"line_alpha\":{\"value\":1.0},\"line_color\":{\"value\":\"black\"},\"line_dash\":[4,4],\"line_width\":{\"value\":2},\"plot\":null,\"render_mode\":\"css\",\"right_units\":\"screen\",\"top_units\":\"screen\"},\"id\":\"4dd4ddab-1f49-4e4e-bdca-688047fd2e1d\",\"type\":\"BoxAnnotation\"},{\"attributes\":{\"callback\":null},\"id\":\"f9139d7b-76e2-43dc-a2dc-177b867201e9\",\"type\":\"DataRange1d\"},{\"attributes\":{\"plot\":null,\"text\":\"\"},\"id\":\"1f48eca2-8f87-4255-af80-dcf076231029\",\"type\":\"Title\"},{\"attributes\":{\"dimension\":1,\"plot\":{\"id\":\"60d0ab54-a75b-4300-816f-748fab4c710b\",\"subtype\":\"Figure\",\"type\":\"Plot\"},\"ticker\":{\"id\":\"018d9e66-e9c4-4f70-afef-cf2531a29542\",\"type\":\"BasicTicker\"}},\"id\":\"3cd69fa8-6e28-4596-831a-a1b8e03eda5c\",\"type\":\"Grid\"},{\"attributes\":{\"source\":{\"id\":\"ad44fdc3-32e2-44d0-8b17-3940619f6ae2\",\"type\":\"ColumnDataSource\"}},\"id\":\"291cc186-dcf5-4d33-a37e-16900383d7e6\",\"type\":\"CDSView\"},{\"attributes\":{},\"id\":\"bb6c080c-04b0-4ba5-a239-0b1099a1bdf4\",\"type\":\"BasicTicker\"},{\"attributes\":{},\"id\":\"36d3b31b-c212-4d94-8363-2e9b7408f780\",\"type\":\"LinearScale\"},{\"attributes\":{\"fill_color\":{\"value\":\"#1f77b4\"},\"line_color\":{\"value\":\"#1f77b4\"},\"size\":{\"field\":\"size\",\"units\":\"screen\"},\"x\":{\"value\":10},\"y\":{\"field\":\"y\"}},\"id\":\"8adb225e-a516-4cf8-9ad8-8dea56a63c0f\",\"type\":\"Circle\"},{\"attributes\":{},\"id\":\"cdf3f2f4-014b-418c-b573-0d8ddcd72c0b\",\"type\":\"UnionRenderers\"},{\"attributes\":{\"plot\":{\"id\":\"60d0ab54-a75b-4300-816f-748fab4c710b\",\"subtype\":\"Figure\",\"type\":\"Plot\"},\"ticker\":{\"id\":\"bb6c080c-04b0-4ba5-a239-0b1099a1bdf4\",\"type\":\"BasicTicker\"}},\"id\":\"b54b29de-e42f-46a5-9c5f-421b668342b6\",\"type\":\"Grid\"},{\"attributes\":{},\"id\":\"8a1b59fa-cc18-447b-9da2-d91d42705df9\",\"type\":\"Selection\"},{\"attributes\":{},\"id\":\"d2be50b3-e2ca-4ed8-a078-b7734b9f64c3\",\"type\":\"BasicTickFormatter\"},{\"attributes\":{\"callback\":null},\"id\":\"b11866f7-4a8d-4ab6-ba36-acb3a8b70ecb\",\"type\":\"DataRange1d\"},{\"attributes\":{\"callback\":null,\"data\":{\"size\":[1,10,20],\"y\":[8,6,5]},\"selected\":{\"id\":\"8a1b59fa-cc18-447b-9da2-d91d42705df9\",\"type\":\"Selection\"},\"selection_policy\":{\"id\":\"cdf3f2f4-014b-418c-b573-0d8ddcd72c0b\",\"type\":\"UnionRenderers\"}},\"id\":\"ad44fdc3-32e2-44d0-8b17-3940619f6ae2\",\"type\":\"ColumnDataSource\"},{\"attributes\":{\"below\":[{\"id\":\"ebe4305a-2de1-465e-8377-ab107752203c\",\"type\":\"LinearAxis\"}],\"left\":[{\"id\":\"726349f8-03de-4226-be9f-bb170a7b07d4\",\"type\":\"LinearAxis\"}],\"plot_width\":400,\"renderers\":[{\"id\":\"ebe4305a-2de1-465e-8377-ab107752203c\",\"type\":\"LinearAxis\"},{\"id\":\"b54b29de-e42f-46a5-9c5f-421b668342b6\",\"type\":\"Grid\"},{\"id\":\"726349f8-03de-4226-be9f-bb170a7b07d4\",\"type\":\"LinearAxis\"},{\"id\":\"3cd69fa8-6e28-4596-831a-a1b8e03eda5c\",\"type\":\"Grid\"},{\"id\":\"4dd4ddab-1f49-4e4e-bdca-688047fd2e1d\",\"type\":\"BoxAnnotation\"},{\"id\":\"faca4fd7-69c5-41c5-8553-ae3ff709f140\",\"type\":\"GlyphRenderer\"}],\"title\":{\"id\":\"1f48eca2-8f87-4255-af80-dcf076231029\",\"type\":\"Title\"},\"toolbar\":{\"id\":\"b04de431-e671-4e1d-aa5b-6ec003739f93\",\"type\":\"Toolbar\"},\"x_range\":{\"id\":\"b11866f7-4a8d-4ab6-ba36-acb3a8b70ecb\",\"type\":\"DataRange1d\"},\"x_scale\":{\"id\":\"36d3b31b-c212-4d94-8363-2e9b7408f780\",\"type\":\"LinearScale\"},\"y_range\":{\"id\":\"f9139d7b-76e2-43dc-a2dc-177b867201e9\",\"type\":\"DataRange1d\"},\"y_scale\":{\"id\":\"f6c41f25-da58-459b-a36d-e44cf6a075a6\",\"type\":\"LinearScale\"}},\"id\":\"60d0ab54-a75b-4300-816f-748fab4c710b\",\"subtype\":\"Figure\",\"type\":\"Plot\"},{\"attributes\":{\"active_drag\":\"auto\",\"active_inspect\":\"auto\",\"active_multi\":null,\"active_scroll\":\"auto\",\"active_tap\":\"auto\",\"tools\":[{\"id\":\"08af920a-e269-47ea-b21c-8fffb5749ed5\",\"type\":\"PanTool\"},{\"id\":\"a7728f72-b214-4c40-9e3e-d07cf8a5bb4c\",\"type\":\"BoxZoomTool\"}]},\"id\":\"b04de431-e671-4e1d-aa5b-6ec003739f93\",\"type\":\"Toolbar\"},{\"attributes\":{\"overlay\":{\"id\":\"4dd4ddab-1f49-4e4e-bdca-688047fd2e1d\",\"type\":\"BoxAnnotation\"}},\"id\":\"a7728f72-b214-4c40-9e3e-d07cf8a5bb4c\",\"type\":\"BoxZoomTool\"},{\"attributes\":{},\"id\":\"f6c41f25-da58-459b-a36d-e44cf6a075a6\",\"type\":\"LinearScale\"},{\"attributes\":{},\"id\":\"c045805b-6d2c-48aa-88b7-1cc782be9433\",\"type\":\"BasicTickFormatter\"},{\"attributes\":{},\"id\":\"018d9e66-e9c4-4f70-afef-cf2531a29542\",\"type\":\"BasicTicker\"},{\"attributes\":{\"fill_alpha\":{\"value\":0.1},\"fill_color\":{\"value\":\"#1f77b4\"},\"line_alpha\":{\"value\":0.1},\"line_color\":{\"value\":\"#1f77b4\"},\"size\":{\"field\":\"size\",\"units\":\"screen\"},\"x\":{\"value\":10},\"y\":{\"field\":\"y\"}},\"id\":\"5cf0e461-268b-46f9-8e16-790f11152359\",\"type\":\"Circle\"},{\"attributes\":{},\"id\":\"08af920a-e269-47ea-b21c-8fffb5749ed5\",\"type\":\"PanTool\"},{\"attributes\":{\"formatter\":{\"id\":\"c045805b-6d2c-48aa-88b7-1cc782be9433\",\"type\":\"BasicTickFormatter\"},\"plot\":{\"id\":\"60d0ab54-a75b-4300-816f-748fab4c710b\",\"subtype\":\"Figure\",\"type\":\"Plot\"},\"ticker\":{\"id\":\"bb6c080c-04b0-4ba5-a239-0b1099a1bdf4\",\"type\":\"BasicTicker\"}},\"id\":\"ebe4305a-2de1-465e-8377-ab107752203c\",\"type\":\"LinearAxis\"}],\"root_ids\":[\"60d0ab54-a75b-4300-816f-748fab4c710b\"]},\"title\":\"Bokeh Application\",\"version\":\"0.13.0\"}};\n",
       "  var render_items = [{\"docid\":\"145882e1-1845-490f-a4d8-e978f0a63a11\",\"roots\":{\"60d0ab54-a75b-4300-816f-748fab4c710b\":\"4f4ab7ab-c47f-4e94-a72d-61705e81b968\"}}];\n",
       "  root.Bokeh.embed.embed_items_notebook(docs_json, render_items);\n",
       "\n",
       "  }\n",
       "  if (root.Bokeh !== undefined) {\n",
       "    embed_document(root);\n",
       "  } else {\n",
       "    var attempts = 0;\n",
       "    var timer = setInterval(function(root) {\n",
       "      if (root.Bokeh !== undefined) {\n",
       "        embed_document(root);\n",
       "        clearInterval(timer);\n",
       "      }\n",
       "      attempts++;\n",
       "      if (attempts > 100) {\n",
       "        console.log(\"Bokeh: ERROR: Unable to run BokehJS code because BokehJS library is missing\")\n",
       "        clearInterval(timer);\n",
       "      }\n",
       "    }, 10, root)\n",
       "  }\n",
       "})(window);"
      ],
      "application/vnd.bokehjs_exec.v0+json": ""
     },
     "metadata": {
      "application/vnd.bokehjs_exec.v0+json": {
       "id": "60d0ab54-a75b-4300-816f-748fab4c710b"
      }
     },
     "output_type": "display_data"
    }
   ],
   "source": [
    "plot = figure(plot_width=400, tools='pan,box_zoom')\n",
    "plot.circle(x=10, y=[8,6,5], size = [1,10,20])\n",
    "show(plot)"
   ]
  },
  {
   "cell_type": "markdown",
   "metadata": {},
   "source": [
    "## A simple scatter plot\n",
    "\n",
    "In this example, you're going to make a scatter plot of female literacy vs fertility using data from the European Environmental Agency. This dataset highlights that countries with low female literacy have high birthrates. The x-axis data has been loaded for you as `fertility` and the y-axis data has been loaded as `female_literacy`.\n",
    "\n",
    "Your job is to create a figure, assign x-axis and y-axis labels, and plot `female_literacy` vs `fertility` using the **circle glyph**.\n",
    "\n",
    "After you have created the figure, in this exercise and the ones to follow, play around with it! Explore the different options available to you on the tab to the right, such as *\"Pan\", \"Box Zoom\", and \"Wheel Zoom\"*. You can click on the question mark sign for more details on any of these tools.\n",
    "\n",
    "Note: You may have to scroll down to view the lower portion of the figure."
   ]
  },
  {
   "cell_type": "code",
   "execution_count": 4,
   "metadata": {},
   "outputs": [
    {
     "data": {
      "text/plain": [
       "array(['ASI', 'NAM', 'LAT', 'AF', 'EUR', 'OCE'], dtype=object)"
      ]
     },
     "execution_count": 4,
     "metadata": {},
     "output_type": "execute_result"
    }
   ],
   "source": [
    "df = pd.read_csv(\"../Datasets/female_literacy_fertility.csv\")\n",
    "df.Continent.unique()"
   ]
  },
  {
   "cell_type": "code",
   "execution_count": 5,
   "metadata": {},
   "outputs": [],
   "source": [
    "fertility = df['fertility'].values\n",
    "female_literacy = df['female literacy']"
   ]
  },
  {
   "cell_type": "code",
   "execution_count": 6,
   "metadata": {},
   "outputs": [
    {
     "data": {
      "text/html": [
       "\n",
       "\n",
       "\n",
       "\n",
       "\n",
       "\n",
       "  <div class=\"bk-root\" id=\"392cb49e-70a4-4fad-9b75-c7ba3bb85005\"></div>\n"
      ]
     },
     "metadata": {},
     "output_type": "display_data"
    },
    {
     "data": {
      "application/javascript": [
       "(function(root) {\n",
       "  function embed_document(root) {\n",
       "    \n",
       "  var docs_json = {\"a80b384e-83ee-4f41-86b1-ead955bdbbed\":{\"roots\":{\"references\":[{\"attributes\":{\"dimension\":1,\"plot\":{\"id\":\"4d0f1259-e884-4866-8dec-e4c1981531ad\",\"subtype\":\"Figure\",\"type\":\"Plot\"},\"ticker\":{\"id\":\"650b4006-66f7-4a87-8461-f9f96ecb99c3\",\"type\":\"BasicTicker\"}},\"id\":\"76b21249-2a18-4043-95ee-f2235561db85\",\"type\":\"Grid\"},{\"attributes\":{\"fill_alpha\":{\"value\":0.1},\"fill_color\":{\"value\":\"#1f77b4\"},\"line_alpha\":{\"value\":0.1},\"line_color\":{\"value\":\"#1f77b4\"},\"x\":{\"field\":\"x\"},\"y\":{\"field\":\"y\"}},\"id\":\"5d66468b-fafd-401b-a6ff-35377b144efd\",\"type\":\"Circle\"},{\"attributes\":{},\"id\":\"a3da345d-d7e8-4c31-b49d-7d34fa1f59b8\",\"type\":\"UnionRenderers\"},{\"attributes\":{\"below\":[{\"id\":\"c7c4869b-5d3d-4e10-b381-656403647b96\",\"type\":\"LinearAxis\"}],\"left\":[{\"id\":\"68830417-9cd7-44b6-86bc-999ee0d3a1e4\",\"type\":\"LinearAxis\"}],\"renderers\":[{\"id\":\"c7c4869b-5d3d-4e10-b381-656403647b96\",\"type\":\"LinearAxis\"},{\"id\":\"78d3c982-e7c5-4e89-bed2-aa14a12a8b33\",\"type\":\"Grid\"},{\"id\":\"68830417-9cd7-44b6-86bc-999ee0d3a1e4\",\"type\":\"LinearAxis\"},{\"id\":\"76b21249-2a18-4043-95ee-f2235561db85\",\"type\":\"Grid\"},{\"id\":\"a37eaf82-6ce3-4f49-9bc4-196605556b9a\",\"type\":\"BoxAnnotation\"},{\"id\":\"14b50d81-3f26-4895-871c-cec106e72028\",\"type\":\"GlyphRenderer\"}],\"title\":{\"id\":\"25ae75d6-b261-4f2d-a313-0fa2f26bc3a9\",\"type\":\"Title\"},\"toolbar\":{\"id\":\"995b934e-a556-4a3e-952f-b7ab15603282\",\"type\":\"Toolbar\"},\"x_range\":{\"id\":\"f2eb3592-3715-42d1-8e20-62721f451b7f\",\"type\":\"DataRange1d\"},\"x_scale\":{\"id\":\"07d38e8a-208c-4554-9675-c281c99e9ee1\",\"type\":\"LinearScale\"},\"y_range\":{\"id\":\"ea1da0f0-d623-4bc1-9e61-fa7dd031806d\",\"type\":\"DataRange1d\"},\"y_scale\":{\"id\":\"7a4421f5-abd7-485b-b6a0-f949f103a186\",\"type\":\"LinearScale\"}},\"id\":\"4d0f1259-e884-4866-8dec-e4c1981531ad\",\"subtype\":\"Figure\",\"type\":\"Plot\"},{\"attributes\":{\"plot\":null,\"text\":\"\"},\"id\":\"25ae75d6-b261-4f2d-a313-0fa2f26bc3a9\",\"type\":\"Title\"},{\"attributes\":{\"bottom_units\":\"screen\",\"fill_alpha\":{\"value\":0.5},\"fill_color\":{\"value\":\"lightgrey\"},\"left_units\":\"screen\",\"level\":\"overlay\",\"line_alpha\":{\"value\":1.0},\"line_color\":{\"value\":\"black\"},\"line_dash\":[4,4],\"line_width\":{\"value\":2},\"plot\":null,\"render_mode\":\"css\",\"right_units\":\"screen\",\"top_units\":\"screen\"},\"id\":\"a37eaf82-6ce3-4f49-9bc4-196605556b9a\",\"type\":\"BoxAnnotation\"},{\"attributes\":{\"callback\":null,\"data\":{\"x\":{\"__ndarray__\":\"6Pup8dJN/D/b+X5qvHQFQARWDi2ynQBAdJMYBFYOAUAIrBxaZDv9P2Dl0CLb+Q5A6Pup8dJNAkD91HjpJrEUQH0/NV66SfY//tR46SYx9D9zaJHtfD8BQGmR7Xw/NQhA3SQGgZVDAEDJdr6fGi/1P7tJDAIrhwZA8tJNYhDYFEDNzMzMzMwAQOXQItv5fvw/8/3UeOkm/T9uEoPAyqEXQH9qvHSTGP4/bhKDwMqh/T89CtejcD32P3Noke18PwJACtejcD0KBEAv3SQGgZXzPy2yne+nxvU/sXJoke189z8IrBxaZDsDQBSuR+F6FBZACKwcWmQ7EEBjEFg5tMgBQFYOLbKdbxNAE4PAyqFF9D8j2/l+arwCQN0kBoGVQ/k/arx0kxgEGUB56SYxCKwCQOSlm8QgsA9AhetRuB4FGkA9CtejcD0EQC/dJAaBlQZAlkOLbOf7A0CWQ4ts5/sBQKrx0k1iEARAUrgehetRCEBEi2zn+6n9P+F6FK5H4RBAZmZmZmZmFECR7Xw/Nd4TQDMzMzMzM/U/dJMYBFYOEkD8qfHSTWIJQBFYObTIdgJAexSuR+F6EkBEi2zn+ykSQEA1XrpJjBZAN4lBYOXQ/j/AyqFFtvP7PycxCKwcWgJAd76fGi9dF0BSuB6F69EVQC2yne+nRhxArBxaZDvfBkDfT42XbhIQQLTIdr6fGgRAH4XrUbieFUCmm8QgsPIWQIGVQ4ts5wpAj8L1KFyPE0ApXI/C9Sj2PxSuR+F6FPg/bef7qfFSGEAlBoGVQ4v8P0A1XrpJDPY/MzMzMzMz9z/b+X5qvHT9P+xRuB6F6/U/TDeJQWDlBEA3iUFg5VAVQFK4HoXrURVALIcW2c73CkDl0CLb+X70P1YOLbKd7/0/001iEFg5AUBPjZduEoMVQM3MzMzMzBFAXI/C9Shc9z9g5dAi2/n2P5duEoPAyvk/hetRuB6FCUBqvHSTGAQGQM3MzMzMzApACtejcD0KEEBEi2zn+6kQQIlBYOXQIgVAN4lBYOXQB0BSuB6F61ELQFyPwvUoXAJA8/3UeOkmCEARWDm0yHYFQClcj8L1qBRAL90kBoGV/T/GSzeJQWD9P7+fGi/dJARAcT0K16NwA0DqJjEIrBwSQGiR7Xw/NfQ/KVyPwvUo/j9KDAIrhxb/P/yp8dJNYv4/30+Nl24S9z9zaJHtfD//P30/NV66yRJAHFpkO99P+T8zMzMzMzMAQNv5fmq8dP0/JQaBlUMLFEAxCKwcWmTzP9R46SYxCPg/VOOlm8QgBECsHFpkO9/1P4PAyqFFtgBAWmQ730+NEUBEi2zn+6n9PyyHFtnO9/s/bef7qfHSB0Cd76fGSzcBQEw3iUFg5QJAAyuHFtnO/z83iUFg5dD2P1K4HoXrUQpA6SYxCKwcCkBg5dAi2/n2P30/NV66SfY/+n5qvHSTBkDGSzeJQeATQIlBYOXQohZA7FG4HoXrCUBKDAIrhxb7PyYxCKwcWvo/4XoUrkfhAkB46SYxCKz8P5qZmZmZmQtAqMZLN4lB+D93vp8aL90BQBsv3SQGgQRAbhKDwMohFUAUrkfhehQPQLbz/dR46e4/lkOLbOf7AkDo+6nx0k0FQGq8dJMYBPQ/0SLb+X5qAEAshxbZzvcKQFg5tMh2vgBAAAAAAAAAAECq8dJNYhAPQDeJQWDl0A5AWDm0yHa+DUCDwMqhRbb7PwaBlUOLbA9A\",\"dtype\":\"float64\",\"shape\":[162]},\"y\":{\"__ndarray__\":\"AAAAAACgVkBmZmZmZmZJQAAAAAAAwFhAMzMzMzMzVkDNzMzMzIxWQAAAAAAAAERAZmZmZmbmSEBmZmZmZmZIQJqZmZmZ2VhAAAAAAADAWEAAAAAAAOBWQJqZmZmZeVdAzczMzMyMVkAAAAAAAMBYQGZmZmZm5kxAzczMzMzMNkAzMzMzM1NUQM3MzMzMTFNAAAAAAADgVkDNzMzMzAxMQAAAAAAAwFhAAAAAAADAWEAAAAAAAKBYQM3MzMzMTFZAZmZmZmYGVkBmZmZmZiZYQGZmZmZm5lhAmpmZmZk5WECamZmZmVlXQDMzMzMzk1BAzczMzMzMTUDNzMzMzGxYQDMzMzMzs1RAMzMzMzPTWEAzMzMzM/NPQAAAAAAAwFhAMzMzMzOzUEDNzMzMzAxGQM3MzMzMTFFAMzMzMzMzKUBmZmZmZiZVQDMzMzMzs0ZAmpmZmZm5V0CamZmZmblYQDMzMzMzc1ZAzczMzMwMVEAAAAAAAABZQGZmZmZmpk1AZmZmZmZmRUDNzMzMzAxEQJqZmZmZOVhAZmZmZmYmRkDNzMzMzExTQGZmZmZmRlZAMzMzMzNTUEAzMzMzM/NQQAAAAAAAgExAzczMzMysWEAAAAAAAMBYQAAAAAAA4FhAmpmZmZmZNUAzMzMzM3NQQDMzMzMzMy5AmpmZmZm5UUDNzMzMzCxRQM3MzMzMbFRAMzMzMzMzMkAAAAAAAIBOQDMzMzMzM1ZAAAAAAACAQECamZmZmflXQDMzMzMz81hAZmZmZmbmNUAAAAAAAMBYQJqZmZmZOVdAAAAAAADAWEAAAAAAAMBRQJqZmZmZuVhAMzMzMzMTVkBmZmZmZmY6QGZmZmZmhlBAAAAAAACAVUDNzMzMzOxYQAAAAAAAwFhAzczMzMzMWECamZmZmRk8QDMzMzMz801AAAAAAADAWECamZmZmXlYQM3MzMzMDFhAAAAAAADgVECamZmZmflXQAAAAAAA4FhAzczMzMzMS0CamZmZmdlKQDMzMzMzU1RAAAAAAABgV0CamZmZmZlPQJqZmZmZWVRAmpmZmZk5VkCamZmZmXlTQGZmZmZm5jxAAAAAAADAWEAAAAAAAABZQGZmZmZmxlhAMzMzMzPTWEAAAAAAAEBLQGZmZmZm5lZAAAAAAAAAWUDNzMzMzAxYQAAAAAAA4FZAAAAAAACAWEAAAAAAAMBYQM3MzMzMjERAzczMzMzsWEAAAAAAAMBYQAAAAAAAgFVAAAAAAACASkCamZmZmflXQDMzMzMzc1hAMzMzMzMzV0DNzMzMzOxYQAAAAAAAoFhAAAAAAADASEDNzMzMzKxYQJqZmZmZ2VhAmpmZmZk5VEBmZmZmZkZXQDMzMzMzs1ZAMzMzMzNzWEAzMzMzM/NYQM3MzMzM7FVAZmZmZmbGV0CamZmZmdlXQM3MzMzM7FhAAAAAAADgVEBmZmZmZiZBQAAAAAAAQEJAzczMzMzMVEAzMzMzM/NYQM3MzMzMjFhAmpmZmZmZVkAzMzMzMzNVQGZmZmZmZlVAzczMzMwsWECamZmZmVlWQJqZmZmZWUNAZmZmZmZGVkAzMzMzM/NQQM3MzMzMrFZAmpmZmZkZVkAzMzMzM9NTQAAAAAAAYFdAMzMzMzNTV0AAAAAAACBYQAAAAAAAwFhAmpmZmZmZWEAAAAAAAOBTQAAAAAAAoFhAMzMzMzPTVEAAAAAAAIBYQGZmZmZmxlhA\",\"dtype\":\"float64\",\"shape\":[162]}},\"selected\":{\"id\":\"c21615a0-7a07-4d39-a5fc-6901c134f3e2\",\"type\":\"Selection\"},\"selection_policy\":{\"id\":\"a3da345d-d7e8-4c31-b49d-7d34fa1f59b8\",\"type\":\"UnionRenderers\"}},\"id\":\"2ab5811f-ebf1-4c01-9b81-d4134e1946bd\",\"type\":\"ColumnDataSource\"},{\"attributes\":{},\"id\":\"5d188e4e-3939-41fe-ab14-02a649bb1fe0\",\"type\":\"PanTool\"},{\"attributes\":{\"active_drag\":\"auto\",\"active_inspect\":\"auto\",\"active_multi\":null,\"active_scroll\":\"auto\",\"active_tap\":\"auto\",\"tools\":[{\"id\":\"5d188e4e-3939-41fe-ab14-02a649bb1fe0\",\"type\":\"PanTool\"},{\"id\":\"435a738b-211d-47b1-9b13-3fb3a2330f77\",\"type\":\"WheelZoomTool\"},{\"id\":\"eb7f69e8-b7bd-430e-b092-d1a6f363abc9\",\"type\":\"BoxZoomTool\"},{\"id\":\"0c4fa97d-c0fb-4319-b852-e8f2d40cf692\",\"type\":\"SaveTool\"},{\"id\":\"05551d15-1592-4e76-bbca-22d3fa075046\",\"type\":\"ResetTool\"},{\"id\":\"45f8f3f7-50be-4252-a734-dfbf51b1740e\",\"type\":\"HelpTool\"}]},\"id\":\"995b934e-a556-4a3e-952f-b7ab15603282\",\"type\":\"Toolbar\"},{\"attributes\":{\"data_source\":{\"id\":\"2ab5811f-ebf1-4c01-9b81-d4134e1946bd\",\"type\":\"ColumnDataSource\"},\"glyph\":{\"id\":\"e52ac160-94ee-423b-aa3e-010827c8a2b2\",\"type\":\"Circle\"},\"hover_glyph\":null,\"muted_glyph\":null,\"nonselection_glyph\":{\"id\":\"5d66468b-fafd-401b-a6ff-35377b144efd\",\"type\":\"Circle\"},\"selection_glyph\":null,\"view\":{\"id\":\"23a37320-1b02-4580-bccb-907b61d295c0\",\"type\":\"CDSView\"}},\"id\":\"14b50d81-3f26-4895-871c-cec106e72028\",\"type\":\"GlyphRenderer\"},{\"attributes\":{},\"id\":\"45f8f3f7-50be-4252-a734-dfbf51b1740e\",\"type\":\"HelpTool\"},{\"attributes\":{},\"id\":\"435a738b-211d-47b1-9b13-3fb3a2330f77\",\"type\":\"WheelZoomTool\"},{\"attributes\":{\"overlay\":{\"id\":\"a37eaf82-6ce3-4f49-9bc4-196605556b9a\",\"type\":\"BoxAnnotation\"}},\"id\":\"eb7f69e8-b7bd-430e-b092-d1a6f363abc9\",\"type\":\"BoxZoomTool\"},{\"attributes\":{\"fill_color\":{\"value\":\"#1f77b4\"},\"line_color\":{\"value\":\"#1f77b4\"},\"x\":{\"field\":\"x\"},\"y\":{\"field\":\"y\"}},\"id\":\"e52ac160-94ee-423b-aa3e-010827c8a2b2\",\"type\":\"Circle\"},{\"attributes\":{},\"id\":\"0c4fa97d-c0fb-4319-b852-e8f2d40cf692\",\"type\":\"SaveTool\"},{\"attributes\":{\"callback\":null},\"id\":\"f2eb3592-3715-42d1-8e20-62721f451b7f\",\"type\":\"DataRange1d\"},{\"attributes\":{},\"id\":\"05551d15-1592-4e76-bbca-22d3fa075046\",\"type\":\"ResetTool\"},{\"attributes\":{\"callback\":null},\"id\":\"ea1da0f0-d623-4bc1-9e61-fa7dd031806d\",\"type\":\"DataRange1d\"},{\"attributes\":{},\"id\":\"07d38e8a-208c-4554-9675-c281c99e9ee1\",\"type\":\"LinearScale\"},{\"attributes\":{\"source\":{\"id\":\"2ab5811f-ebf1-4c01-9b81-d4134e1946bd\",\"type\":\"ColumnDataSource\"}},\"id\":\"23a37320-1b02-4580-bccb-907b61d295c0\",\"type\":\"CDSView\"},{\"attributes\":{},\"id\":\"7a4421f5-abd7-485b-b6a0-f949f103a186\",\"type\":\"LinearScale\"},{\"attributes\":{\"plot\":{\"id\":\"4d0f1259-e884-4866-8dec-e4c1981531ad\",\"subtype\":\"Figure\",\"type\":\"Plot\"},\"ticker\":{\"id\":\"31bc0c61-0df6-44dd-aa24-df229b58f8d8\",\"type\":\"BasicTicker\"}},\"id\":\"78d3c982-e7c5-4e89-bed2-aa14a12a8b33\",\"type\":\"Grid\"},{\"attributes\":{},\"id\":\"abe65873-3922-48dc-bab5-a16bcdb89ac2\",\"type\":\"BasicTickFormatter\"},{\"attributes\":{\"axis_label\":\"fertility (children per woman)\",\"formatter\":{\"id\":\"c038e1f2-b99e-4c72-9184-55c83e990f05\",\"type\":\"BasicTickFormatter\"},\"plot\":{\"id\":\"4d0f1259-e884-4866-8dec-e4c1981531ad\",\"subtype\":\"Figure\",\"type\":\"Plot\"},\"ticker\":{\"id\":\"31bc0c61-0df6-44dd-aa24-df229b58f8d8\",\"type\":\"BasicTicker\"}},\"id\":\"c7c4869b-5d3d-4e10-b381-656403647b96\",\"type\":\"LinearAxis\"},{\"attributes\":{},\"id\":\"c038e1f2-b99e-4c72-9184-55c83e990f05\",\"type\":\"BasicTickFormatter\"},{\"attributes\":{},\"id\":\"31bc0c61-0df6-44dd-aa24-df229b58f8d8\",\"type\":\"BasicTicker\"},{\"attributes\":{\"axis_label\":\"female_literacy (% population)\",\"formatter\":{\"id\":\"abe65873-3922-48dc-bab5-a16bcdb89ac2\",\"type\":\"BasicTickFormatter\"},\"plot\":{\"id\":\"4d0f1259-e884-4866-8dec-e4c1981531ad\",\"subtype\":\"Figure\",\"type\":\"Plot\"},\"ticker\":{\"id\":\"650b4006-66f7-4a87-8461-f9f96ecb99c3\",\"type\":\"BasicTicker\"}},\"id\":\"68830417-9cd7-44b6-86bc-999ee0d3a1e4\",\"type\":\"LinearAxis\"},{\"attributes\":{},\"id\":\"c21615a0-7a07-4d39-a5fc-6901c134f3e2\",\"type\":\"Selection\"},{\"attributes\":{},\"id\":\"650b4006-66f7-4a87-8461-f9f96ecb99c3\",\"type\":\"BasicTicker\"}],\"root_ids\":[\"4d0f1259-e884-4866-8dec-e4c1981531ad\"]},\"title\":\"Bokeh Application\",\"version\":\"0.13.0\"}};\n",
       "  var render_items = [{\"docid\":\"a80b384e-83ee-4f41-86b1-ead955bdbbed\",\"roots\":{\"4d0f1259-e884-4866-8dec-e4c1981531ad\":\"392cb49e-70a4-4fad-9b75-c7ba3bb85005\"}}];\n",
       "  root.Bokeh.embed.embed_items_notebook(docs_json, render_items);\n",
       "\n",
       "  }\n",
       "  if (root.Bokeh !== undefined) {\n",
       "    embed_document(root);\n",
       "  } else {\n",
       "    var attempts = 0;\n",
       "    var timer = setInterval(function(root) {\n",
       "      if (root.Bokeh !== undefined) {\n",
       "        embed_document(root);\n",
       "        clearInterval(timer);\n",
       "      }\n",
       "      attempts++;\n",
       "      if (attempts > 100) {\n",
       "        console.log(\"Bokeh: ERROR: Unable to run BokehJS code because BokehJS library is missing\")\n",
       "        clearInterval(timer);\n",
       "      }\n",
       "    }, 10, root)\n",
       "  }\n",
       "})(window);"
      ],
      "application/vnd.bokehjs_exec.v0+json": ""
     },
     "metadata": {
      "application/vnd.bokehjs_exec.v0+json": {
       "id": "4d0f1259-e884-4866-8dec-e4c1981531ad"
      }
     },
     "output_type": "display_data"
    }
   ],
   "source": [
    "# Create the figure: p\n",
    "p = figure(x_axis_label='fertility (children per woman)', y_axis_label='female_literacy (% population)')\n",
    "\n",
    "# Add a circle glyph to the figure p\n",
    "p.circle(fertility, female_literacy)\n",
    "\n",
    "# Display the plot\n",
    "show(p)"
   ]
  },
  {
   "cell_type": "markdown",
   "metadata": {},
   "source": [
    "## Aditional Glyphs\n",
    "\n",
    "### Lines and Markers together"
   ]
  },
  {
   "cell_type": "code",
   "execution_count": 7,
   "metadata": {},
   "outputs": [],
   "source": [
    "x = [1,2,3,4,5]\n",
    "y = [8,6,5,2,3]"
   ]
  },
  {
   "cell_type": "code",
   "execution_count": 8,
   "metadata": {},
   "outputs": [
    {
     "data": {
      "text/html": [
       "\n",
       "\n",
       "\n",
       "\n",
       "\n",
       "\n",
       "  <div class=\"bk-root\" id=\"1ce3285a-91cf-4f6b-b156-05a73ad040e1\"></div>\n"
      ]
     },
     "metadata": {},
     "output_type": "display_data"
    },
    {
     "data": {
      "application/javascript": [
       "(function(root) {\n",
       "  function embed_document(root) {\n",
       "    \n",
       "  var docs_json = {\"f17538e0-bad7-4d17-9336-d416af194d9a\":{\"roots\":{\"references\":[{\"attributes\":{},\"id\":\"690e34c7-e3c7-4d1c-b5f0-8d1452b4a3e3\",\"type\":\"BasicTicker\"},{\"attributes\":{\"line_alpha\":0.1,\"line_color\":\"#1f77b4\",\"line_width\":2,\"x\":{\"field\":\"x\"},\"y\":{\"field\":\"y\"}},\"id\":\"83dffcaf-b64e-4b7f-b27d-a0bb68f5f105\",\"type\":\"Line\"},{\"attributes\":{\"dimension\":1,\"plot\":{\"id\":\"892f2abf-dd82-49c2-a48f-a803c93b5a5d\",\"subtype\":\"Figure\",\"type\":\"Plot\"},\"ticker\":{\"id\":\"690e34c7-e3c7-4d1c-b5f0-8d1452b4a3e3\",\"type\":\"BasicTicker\"}},\"id\":\"3c7d2425-243a-41ca-9230-b057f614b986\",\"type\":\"Grid\"},{\"attributes\":{},\"id\":\"5da3f82f-abd8-459a-820c-310e1ed0a9c5\",\"type\":\"SaveTool\"},{\"attributes\":{\"callback\":null,\"data\":{\"x\":[1,2,3,4,5],\"y\":[8,6,5,2,3]},\"selected\":{\"id\":\"1b1997b7-9934-4ab3-a2a0-aacad4a062f6\",\"type\":\"Selection\"},\"selection_policy\":{\"id\":\"4ca7c323-4f64-47ea-8ec4-2c90b5c55871\",\"type\":\"UnionRenderers\"}},\"id\":\"829fc863-e900-42a5-83b2-47d172a19100\",\"type\":\"ColumnDataSource\"},{\"attributes\":{\"formatter\":{\"id\":\"300439b6-fa0f-4c1c-ab32-5a9d1cfe9c99\",\"type\":\"BasicTickFormatter\"},\"plot\":{\"id\":\"892f2abf-dd82-49c2-a48f-a803c93b5a5d\",\"subtype\":\"Figure\",\"type\":\"Plot\"},\"ticker\":{\"id\":\"690e34c7-e3c7-4d1c-b5f0-8d1452b4a3e3\",\"type\":\"BasicTicker\"}},\"id\":\"69f84530-7d4c-4768-a70e-86d9cd070101\",\"type\":\"LinearAxis\"},{\"attributes\":{},\"id\":\"25046671-c6b4-48b4-995c-97290e8f44be\",\"type\":\"BasicTicker\"},{\"attributes\":{\"formatter\":{\"id\":\"b0776f17-6ef8-48f0-b92c-a2c80ee67845\",\"type\":\"BasicTickFormatter\"},\"plot\":{\"id\":\"892f2abf-dd82-49c2-a48f-a803c93b5a5d\",\"subtype\":\"Figure\",\"type\":\"Plot\"},\"ticker\":{\"id\":\"25046671-c6b4-48b4-995c-97290e8f44be\",\"type\":\"BasicTicker\"}},\"id\":\"34ef0e00-2c28-4a83-8146-7f6fed9e6150\",\"type\":\"LinearAxis\"},{\"attributes\":{\"plot\":{\"id\":\"892f2abf-dd82-49c2-a48f-a803c93b5a5d\",\"subtype\":\"Figure\",\"type\":\"Plot\"},\"ticker\":{\"id\":\"25046671-c6b4-48b4-995c-97290e8f44be\",\"type\":\"BasicTicker\"}},\"id\":\"31a67fa7-3c07-4844-92a4-2e518223b4a2\",\"type\":\"Grid\"},{\"attributes\":{},\"id\":\"b49d56f0-57c1-4368-8ee0-d87b1283e713\",\"type\":\"WheelZoomTool\"},{\"attributes\":{},\"id\":\"9c98c3a5-547a-47c3-8dab-60614cf71df4\",\"type\":\"PanTool\"},{\"attributes\":{\"source\":{\"id\":\"8b2a5689-7ed4-4500-9c31-e4079fcd2027\",\"type\":\"ColumnDataSource\"}},\"id\":\"f8af9de9-4fa6-4fcc-97a9-a9911e00211b\",\"type\":\"CDSView\"},{\"attributes\":{\"bottom_units\":\"screen\",\"fill_alpha\":{\"value\":0.5},\"fill_color\":{\"value\":\"lightgrey\"},\"left_units\":\"screen\",\"level\":\"overlay\",\"line_alpha\":{\"value\":1.0},\"line_color\":{\"value\":\"black\"},\"line_dash\":[4,4],\"line_width\":{\"value\":2},\"plot\":null,\"render_mode\":\"css\",\"right_units\":\"screen\",\"top_units\":\"screen\"},\"id\":\"699366d1-5088-40a0-b50e-f0c5732ee38b\",\"type\":\"BoxAnnotation\"},{\"attributes\":{\"overlay\":{\"id\":\"699366d1-5088-40a0-b50e-f0c5732ee38b\",\"type\":\"BoxAnnotation\"}},\"id\":\"c46793e8-2528-4370-99e2-0f09c1a165d2\",\"type\":\"BoxZoomTool\"},{\"attributes\":{\"data_source\":{\"id\":\"829fc863-e900-42a5-83b2-47d172a19100\",\"type\":\"ColumnDataSource\"},\"glyph\":{\"id\":\"b1397fc5-35d4-415c-8167-97f6dcb27433\",\"type\":\"Circle\"},\"hover_glyph\":null,\"muted_glyph\":null,\"nonselection_glyph\":{\"id\":\"fc50baea-c748-4880-bb70-5b6d5d8a86fa\",\"type\":\"Circle\"},\"selection_glyph\":null,\"view\":{\"id\":\"b88a8f6e-9a44-4bf0-b61b-0f66ceef806f\",\"type\":\"CDSView\"}},\"id\":\"f7878780-59da-41c0-bd86-9fb412e58c88\",\"type\":\"GlyphRenderer\"},{\"attributes\":{\"fill_alpha\":{\"value\":0.1},\"fill_color\":{\"value\":\"#1f77b4\"},\"line_alpha\":{\"value\":0.1},\"line_color\":{\"value\":\"#1f77b4\"},\"size\":{\"units\":\"screen\",\"value\":10},\"x\":{\"field\":\"x\"},\"y\":{\"field\":\"y\"}},\"id\":\"fc50baea-c748-4880-bb70-5b6d5d8a86fa\",\"type\":\"Circle\"},{\"attributes\":{},\"id\":\"27c3d4f5-d983-4c0b-b3e2-6bc37ed57d52\",\"type\":\"HelpTool\"},{\"attributes\":{},\"id\":\"ae64ce39-c39b-4ec7-84e7-9bc588a99965\",\"type\":\"ResetTool\"},{\"attributes\":{\"below\":[{\"id\":\"34ef0e00-2c28-4a83-8146-7f6fed9e6150\",\"type\":\"LinearAxis\"}],\"left\":[{\"id\":\"69f84530-7d4c-4768-a70e-86d9cd070101\",\"type\":\"LinearAxis\"}],\"renderers\":[{\"id\":\"34ef0e00-2c28-4a83-8146-7f6fed9e6150\",\"type\":\"LinearAxis\"},{\"id\":\"31a67fa7-3c07-4844-92a4-2e518223b4a2\",\"type\":\"Grid\"},{\"id\":\"69f84530-7d4c-4768-a70e-86d9cd070101\",\"type\":\"LinearAxis\"},{\"id\":\"3c7d2425-243a-41ca-9230-b057f614b986\",\"type\":\"Grid\"},{\"id\":\"699366d1-5088-40a0-b50e-f0c5732ee38b\",\"type\":\"BoxAnnotation\"},{\"id\":\"24bdb839-a83a-4b91-8085-f1e71e9b3c46\",\"type\":\"GlyphRenderer\"},{\"id\":\"f7878780-59da-41c0-bd86-9fb412e58c88\",\"type\":\"GlyphRenderer\"}],\"title\":{\"id\":\"9f9b0150-44a8-4fbe-86b1-4c12490405cd\",\"type\":\"Title\"},\"toolbar\":{\"id\":\"045a6a47-88c4-44f6-807c-5174cd29138a\",\"type\":\"Toolbar\"},\"x_range\":{\"id\":\"94eea528-1c8e-436d-9054-a7c4e8e5ee1c\",\"type\":\"DataRange1d\"},\"x_scale\":{\"id\":\"39528d9c-d4ef-4226-9b73-12165736fe01\",\"type\":\"LinearScale\"},\"y_range\":{\"id\":\"0a07126c-41e4-45d1-81d1-a75999829b00\",\"type\":\"DataRange1d\"},\"y_scale\":{\"id\":\"ed65980c-f4a7-49ee-a2fe-e239e04207d3\",\"type\":\"LinearScale\"}},\"id\":\"892f2abf-dd82-49c2-a48f-a803c93b5a5d\",\"subtype\":\"Figure\",\"type\":\"Plot\"},{\"attributes\":{\"callback\":null},\"id\":\"0a07126c-41e4-45d1-81d1-a75999829b00\",\"type\":\"DataRange1d\"},{\"attributes\":{},\"id\":\"300439b6-fa0f-4c1c-ab32-5a9d1cfe9c99\",\"type\":\"BasicTickFormatter\"},{\"attributes\":{\"line_color\":\"#1f77b4\",\"line_width\":2,\"x\":{\"field\":\"x\"},\"y\":{\"field\":\"y\"}},\"id\":\"447ef8e1-a7cb-443e-b531-d6213b476eb8\",\"type\":\"Line\"},{\"attributes\":{},\"id\":\"2e9d4f1a-c003-483c-b98c-31fe8c36bde8\",\"type\":\"UnionRenderers\"},{\"attributes\":{\"active_drag\":\"auto\",\"active_inspect\":\"auto\",\"active_multi\":null,\"active_scroll\":\"auto\",\"active_tap\":\"auto\",\"tools\":[{\"id\":\"9c98c3a5-547a-47c3-8dab-60614cf71df4\",\"type\":\"PanTool\"},{\"id\":\"b49d56f0-57c1-4368-8ee0-d87b1283e713\",\"type\":\"WheelZoomTool\"},{\"id\":\"c46793e8-2528-4370-99e2-0f09c1a165d2\",\"type\":\"BoxZoomTool\"},{\"id\":\"5da3f82f-abd8-459a-820c-310e1ed0a9c5\",\"type\":\"SaveTool\"},{\"id\":\"ae64ce39-c39b-4ec7-84e7-9bc588a99965\",\"type\":\"ResetTool\"},{\"id\":\"27c3d4f5-d983-4c0b-b3e2-6bc37ed57d52\",\"type\":\"HelpTool\"}]},\"id\":\"045a6a47-88c4-44f6-807c-5174cd29138a\",\"type\":\"Toolbar\"},{\"attributes\":{\"plot\":null,\"text\":\"\"},\"id\":\"9f9b0150-44a8-4fbe-86b1-4c12490405cd\",\"type\":\"Title\"},{\"attributes\":{\"callback\":null},\"id\":\"94eea528-1c8e-436d-9054-a7c4e8e5ee1c\",\"type\":\"DataRange1d\"},{\"attributes\":{\"source\":{\"id\":\"829fc863-e900-42a5-83b2-47d172a19100\",\"type\":\"ColumnDataSource\"}},\"id\":\"b88a8f6e-9a44-4bf0-b61b-0f66ceef806f\",\"type\":\"CDSView\"},{\"attributes\":{\"data_source\":{\"id\":\"8b2a5689-7ed4-4500-9c31-e4079fcd2027\",\"type\":\"ColumnDataSource\"},\"glyph\":{\"id\":\"447ef8e1-a7cb-443e-b531-d6213b476eb8\",\"type\":\"Line\"},\"hover_glyph\":null,\"muted_glyph\":null,\"nonselection_glyph\":{\"id\":\"83dffcaf-b64e-4b7f-b27d-a0bb68f5f105\",\"type\":\"Line\"},\"selection_glyph\":null,\"view\":{\"id\":\"f8af9de9-4fa6-4fcc-97a9-a9911e00211b\",\"type\":\"CDSView\"}},\"id\":\"24bdb839-a83a-4b91-8085-f1e71e9b3c46\",\"type\":\"GlyphRenderer\"},{\"attributes\":{},\"id\":\"b0776f17-6ef8-48f0-b92c-a2c80ee67845\",\"type\":\"BasicTickFormatter\"},{\"attributes\":{},\"id\":\"4ca7c323-4f64-47ea-8ec4-2c90b5c55871\",\"type\":\"UnionRenderers\"},{\"attributes\":{\"callback\":null,\"data\":{\"x\":[1,2,3,4,5],\"y\":[8,6,5,2,3]},\"selected\":{\"id\":\"18670208-bc14-40d0-8a36-5cd5062f371a\",\"type\":\"Selection\"},\"selection_policy\":{\"id\":\"2e9d4f1a-c003-483c-b98c-31fe8c36bde8\",\"type\":\"UnionRenderers\"}},\"id\":\"8b2a5689-7ed4-4500-9c31-e4079fcd2027\",\"type\":\"ColumnDataSource\"},{\"attributes\":{},\"id\":\"18670208-bc14-40d0-8a36-5cd5062f371a\",\"type\":\"Selection\"},{\"attributes\":{},\"id\":\"1b1997b7-9934-4ab3-a2a0-aacad4a062f6\",\"type\":\"Selection\"},{\"attributes\":{},\"id\":\"ed65980c-f4a7-49ee-a2fe-e239e04207d3\",\"type\":\"LinearScale\"},{\"attributes\":{},\"id\":\"39528d9c-d4ef-4226-9b73-12165736fe01\",\"type\":\"LinearScale\"},{\"attributes\":{\"fill_color\":{\"value\":\"white\"},\"line_color\":{\"value\":\"#1f77b4\"},\"size\":{\"units\":\"screen\",\"value\":10},\"x\":{\"field\":\"x\"},\"y\":{\"field\":\"y\"}},\"id\":\"b1397fc5-35d4-415c-8167-97f6dcb27433\",\"type\":\"Circle\"}],\"root_ids\":[\"892f2abf-dd82-49c2-a48f-a803c93b5a5d\"]},\"title\":\"Bokeh Application\",\"version\":\"0.13.0\"}};\n",
       "  var render_items = [{\"docid\":\"f17538e0-bad7-4d17-9336-d416af194d9a\",\"roots\":{\"892f2abf-dd82-49c2-a48f-a803c93b5a5d\":\"1ce3285a-91cf-4f6b-b156-05a73ad040e1\"}}];\n",
       "  root.Bokeh.embed.embed_items_notebook(docs_json, render_items);\n",
       "\n",
       "  }\n",
       "  if (root.Bokeh !== undefined) {\n",
       "    embed_document(root);\n",
       "  } else {\n",
       "    var attempts = 0;\n",
       "    var timer = setInterval(function(root) {\n",
       "      if (root.Bokeh !== undefined) {\n",
       "        embed_document(root);\n",
       "        clearInterval(timer);\n",
       "      }\n",
       "      attempts++;\n",
       "      if (attempts > 100) {\n",
       "        console.log(\"Bokeh: ERROR: Unable to run BokehJS code because BokehJS library is missing\")\n",
       "        clearInterval(timer);\n",
       "      }\n",
       "    }, 10, root)\n",
       "  }\n",
       "})(window);"
      ],
      "application/vnd.bokehjs_exec.v0+json": ""
     },
     "metadata": {
      "application/vnd.bokehjs_exec.v0+json": {
       "id": "892f2abf-dd82-49c2-a48f-a803c93b5a5d"
      }
     },
     "output_type": "display_data"
    }
   ],
   "source": [
    "plot = figure()\n",
    "\n",
    "plot.line(x,y, line_width=2)\n",
    "plot.circle(x,y, fill_color='white', size=10)\n",
    "output_file('line.html')\n",
    "show(plot)"
   ]
  },
  {
   "cell_type": "markdown",
   "metadata": {},
   "source": [
    "## Hover glyphs"
   ]
  },
  {
   "cell_type": "code",
   "execution_count": 9,
   "metadata": {},
   "outputs": [
    {
     "data": {
      "text/html": [
       "\n",
       "\n",
       "\n",
       "\n",
       "\n",
       "\n",
       "  <div class=\"bk-root\" id=\"389ef2a2-b48d-4821-84d7-83ec2a6507a0\"></div>\n"
      ]
     },
     "metadata": {},
     "output_type": "display_data"
    },
    {
     "data": {
      "application/javascript": [
       "(function(root) {\n",
       "  function embed_document(root) {\n",
       "    \n",
       "  var docs_json = {\"12135b2b-905a-4980-8596-7cc160373af9\":{\"roots\":{\"references\":[{\"attributes\":{},\"id\":\"e64414b1-8636-4485-b458-cd194a3cc4fd\",\"type\":\"WheelZoomTool\"},{\"attributes\":{\"callback\":null},\"id\":\"d4555ab4-6200-4971-846e-32b7c0885240\",\"type\":\"DataRange1d\"},{\"attributes\":{\"dimension\":1,\"plot\":{\"id\":\"87fd2e7b-308e-4180-b6c5-04a951d4b3f2\",\"subtype\":\"Figure\",\"type\":\"Plot\"},\"ticker\":{\"id\":\"93381d15-80b1-40c2-a562-5c53439fc47d\",\"type\":\"BasicTicker\"}},\"id\":\"2062ad48-1b41-4b8b-ae44-427a46a5404e\",\"type\":\"Grid\"},{\"attributes\":{},\"id\":\"8b5d2ddb-d7cb-4ea0-838e-9d4673596631\",\"type\":\"LinearScale\"},{\"attributes\":{},\"id\":\"246ec1ba-bd5c-4ff8-8f4e-22020bdc91f0\",\"type\":\"BasicTicker\"},{\"attributes\":{\"axis_label\":\"Random data\",\"formatter\":{\"id\":\"d34c9b6a-d506-40ab-85d2-716ce423d008\",\"type\":\"BasicTickFormatter\"},\"plot\":{\"id\":\"87fd2e7b-308e-4180-b6c5-04a951d4b3f2\",\"subtype\":\"Figure\",\"type\":\"Plot\"},\"ticker\":{\"id\":\"246ec1ba-bd5c-4ff8-8f4e-22020bdc91f0\",\"type\":\"BasicTicker\"}},\"id\":\"d97ac49a-7fac-4508-8a45-1378366f0b12\",\"type\":\"LinearAxis\"},{\"attributes\":{\"plot\":{\"id\":\"87fd2e7b-308e-4180-b6c5-04a951d4b3f2\",\"subtype\":\"Figure\",\"type\":\"Plot\"},\"ticker\":{\"id\":\"246ec1ba-bd5c-4ff8-8f4e-22020bdc91f0\",\"type\":\"BasicTicker\"}},\"id\":\"fd275388-d087-4682-97b3-e612ec36c896\",\"type\":\"Grid\"},{\"attributes\":{\"callback\":null,\"mode\":\"vline\",\"renderers\":\"auto\",\"tooltips\":null},\"id\":\"6c645403-222d-47f2-9429-148bd242d5ef\",\"type\":\"HoverTool\"},{\"attributes\":{\"axis_label\":\"sinus random data\",\"formatter\":{\"id\":\"2181030c-cc49-4e44-8d10-d1f94f212b0c\",\"type\":\"BasicTickFormatter\"},\"plot\":{\"id\":\"87fd2e7b-308e-4180-b6c5-04a951d4b3f2\",\"subtype\":\"Figure\",\"type\":\"Plot\"},\"ticker\":{\"id\":\"93381d15-80b1-40c2-a562-5c53439fc47d\",\"type\":\"BasicTicker\"}},\"id\":\"7cdb7966-63d2-4098-bcef-8568a57ea7c5\",\"type\":\"LinearAxis\"},{\"attributes\":{},\"id\":\"ea48a3f6-800a-4e8c-ac82-f2c006866895\",\"type\":\"PanTool\"},{\"attributes\":{},\"id\":\"d34c9b6a-d506-40ab-85d2-716ce423d008\",\"type\":\"BasicTickFormatter\"},{\"attributes\":{\"plot\":null,\"text\":\"\"},\"id\":\"bc0909f7-711e-41f1-b655-f16daaf67a5d\",\"type\":\"Title\"},{\"attributes\":{\"callback\":null,\"data\":{\"x\":{\"__ndarray__\":\"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\",\"dtype\":\"float64\",\"shape\":[200]},\"y\":{\"__ndarray__\":\"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\",\"dtype\":\"float64\",\"shape\":[200]}},\"selected\":{\"id\":\"43be3408-75dd-4ce0-b544-9d4e916284dc\",\"type\":\"Selection\"},\"selection_policy\":{\"id\":\"60a91fed-2e82-46c5-a18b-8d8a5da0f18a\",\"type\":\"UnionRenderers\"}},\"id\":\"88ffcf43-380a-4898-9569-0c3a0b17588d\",\"type\":\"ColumnDataSource\"},{\"attributes\":{\"bottom_units\":\"screen\",\"fill_alpha\":{\"value\":0.5},\"fill_color\":{\"value\":\"lightgrey\"},\"left_units\":\"screen\",\"level\":\"overlay\",\"line_alpha\":{\"value\":1.0},\"line_color\":{\"value\":\"black\"},\"line_dash\":[4,4],\"line_width\":{\"value\":2},\"plot\":null,\"render_mode\":\"css\",\"right_units\":\"screen\",\"top_units\":\"screen\"},\"id\":\"b0d094fb-3729-48ae-9d70-dcfb1851b2a7\",\"type\":\"BoxAnnotation\"},{\"attributes\":{\"below\":[{\"id\":\"d97ac49a-7fac-4508-8a45-1378366f0b12\",\"type\":\"LinearAxis\"}],\"left\":[{\"id\":\"7cdb7966-63d2-4098-bcef-8568a57ea7c5\",\"type\":\"LinearAxis\"}],\"renderers\":[{\"id\":\"d97ac49a-7fac-4508-8a45-1378366f0b12\",\"type\":\"LinearAxis\"},{\"id\":\"fd275388-d087-4682-97b3-e612ec36c896\",\"type\":\"Grid\"},{\"id\":\"7cdb7966-63d2-4098-bcef-8568a57ea7c5\",\"type\":\"LinearAxis\"},{\"id\":\"2062ad48-1b41-4b8b-ae44-427a46a5404e\",\"type\":\"Grid\"},{\"id\":\"b0d094fb-3729-48ae-9d70-dcfb1851b2a7\",\"type\":\"BoxAnnotation\"},{\"id\":\"321028f9-f68f-4196-a8ea-8ea689909002\",\"type\":\"GlyphRenderer\"}],\"title\":{\"id\":\"bc0909f7-711e-41f1-b655-f16daaf67a5d\",\"type\":\"Title\"},\"toolbar\":{\"id\":\"fed1835a-8428-4cc7-bd7f-a7863ea49259\",\"type\":\"Toolbar\"},\"x_range\":{\"id\":\"4373866c-3dc7-4aec-bb53-70645417e34f\",\"type\":\"DataRange1d\"},\"x_scale\":{\"id\":\"6f3abe72-7d54-45b5-a005-8e331dde9917\",\"type\":\"LinearScale\"},\"y_range\":{\"id\":\"d4555ab4-6200-4971-846e-32b7c0885240\",\"type\":\"DataRange1d\"},\"y_scale\":{\"id\":\"8b5d2ddb-d7cb-4ea0-838e-9d4673596631\",\"type\":\"LinearScale\"}},\"id\":\"87fd2e7b-308e-4180-b6c5-04a951d4b3f2\",\"subtype\":\"Figure\",\"type\":\"Plot\"},{\"attributes\":{\"fill_alpha\":{\"value\":0.1},\"fill_color\":{\"value\":\"grey\"},\"line_alpha\":{\"value\":0.1},\"line_color\":{\"value\":null},\"size\":{\"units\":\"screen\",\"value\":10},\"x\":{\"field\":\"x\"},\"y\":{\"field\":\"y\"}},\"id\":\"a5ebcc2d-fa50-402d-ba64-7ebfe0fc52c9\",\"type\":\"Circle\"},{\"attributes\":{},\"id\":\"93381d15-80b1-40c2-a562-5c53439fc47d\",\"type\":\"BasicTicker\"},{\"attributes\":{\"fill_alpha\":{\"value\":0.1},\"fill_color\":{\"value\":\"#1f77b4\"},\"line_alpha\":{\"value\":0.1},\"line_color\":{\"value\":\"#1f77b4\"},\"size\":{\"units\":\"screen\",\"value\":10},\"x\":{\"field\":\"x\"},\"y\":{\"field\":\"y\"}},\"id\":\"6e63f4f6-871a-4259-8df8-905ce7d44a9b\",\"type\":\"Circle\"},{\"attributes\":{\"data_source\":{\"id\":\"88ffcf43-380a-4898-9569-0c3a0b17588d\",\"type\":\"ColumnDataSource\"},\"glyph\":{\"id\":\"a5ebcc2d-fa50-402d-ba64-7ebfe0fc52c9\",\"type\":\"Circle\"},\"hover_glyph\":{\"id\":\"d75f0171-ca10-4e0d-ac66-5225b75de9ce\",\"type\":\"Circle\"},\"muted_glyph\":null,\"nonselection_glyph\":{\"id\":\"6e63f4f6-871a-4259-8df8-905ce7d44a9b\",\"type\":\"Circle\"},\"selection_glyph\":null,\"view\":{\"id\":\"beb3ef15-e2c4-4fa7-8ae4-f675b48e4a66\",\"type\":\"CDSView\"}},\"id\":\"321028f9-f68f-4196-a8ea-8ea689909002\",\"type\":\"GlyphRenderer\"},{\"attributes\":{\"fill_alpha\":{\"value\":0.5},\"fill_color\":{\"value\":\"firebrick\"},\"line_alpha\":{\"value\":0.5},\"line_color\":{\"value\":\"white\"},\"size\":{\"units\":\"screen\",\"value\":10},\"x\":{\"field\":\"x\"},\"y\":{\"field\":\"y\"}},\"id\":\"d75f0171-ca10-4e0d-ac66-5225b75de9ce\",\"type\":\"Circle\"},{\"attributes\":{},\"id\":\"43be3408-75dd-4ce0-b544-9d4e916284dc\",\"type\":\"Selection\"},{\"attributes\":{},\"id\":\"2181030c-cc49-4e44-8d10-d1f94f212b0c\",\"type\":\"BasicTickFormatter\"},{\"attributes\":{\"source\":{\"id\":\"88ffcf43-380a-4898-9569-0c3a0b17588d\",\"type\":\"ColumnDataSource\"}},\"id\":\"beb3ef15-e2c4-4fa7-8ae4-f675b48e4a66\",\"type\":\"CDSView\"},{\"attributes\":{},\"id\":\"a0147953-e102-468b-8fba-ed148a7bc7b8\",\"type\":\"HelpTool\"},{\"attributes\":{},\"id\":\"fefc2ae7-2232-459e-be5a-6f4a82393fed\",\"type\":\"ResetTool\"},{\"attributes\":{\"active_drag\":\"auto\",\"active_inspect\":\"auto\",\"active_multi\":null,\"active_scroll\":\"auto\",\"active_tap\":\"auto\",\"tools\":[{\"id\":\"ea48a3f6-800a-4e8c-ac82-f2c006866895\",\"type\":\"PanTool\"},{\"id\":\"e64414b1-8636-4485-b458-cd194a3cc4fd\",\"type\":\"WheelZoomTool\"},{\"id\":\"672124c8-b38e-4d40-8359-a87d877e6edf\",\"type\":\"BoxZoomTool\"},{\"id\":\"431d9811-7fd3-4ab0-acca-b4278fe1930b\",\"type\":\"SaveTool\"},{\"id\":\"fefc2ae7-2232-459e-be5a-6f4a82393fed\",\"type\":\"ResetTool\"},{\"id\":\"a0147953-e102-468b-8fba-ed148a7bc7b8\",\"type\":\"HelpTool\"},{\"id\":\"6c645403-222d-47f2-9429-148bd242d5ef\",\"type\":\"HoverTool\"}]},\"id\":\"fed1835a-8428-4cc7-bd7f-a7863ea49259\",\"type\":\"Toolbar\"},{\"attributes\":{},\"id\":\"60a91fed-2e82-46c5-a18b-8d8a5da0f18a\",\"type\":\"UnionRenderers\"},{\"attributes\":{},\"id\":\"431d9811-7fd3-4ab0-acca-b4278fe1930b\",\"type\":\"SaveTool\"},{\"attributes\":{\"callback\":null},\"id\":\"4373866c-3dc7-4aec-bb53-70645417e34f\",\"type\":\"DataRange1d\"},{\"attributes\":{\"overlay\":{\"id\":\"b0d094fb-3729-48ae-9d70-dcfb1851b2a7\",\"type\":\"BoxAnnotation\"}},\"id\":\"672124c8-b38e-4d40-8359-a87d877e6edf\",\"type\":\"BoxZoomTool\"},{\"attributes\":{},\"id\":\"6f3abe72-7d54-45b5-a005-8e331dde9917\",\"type\":\"LinearScale\"}],\"root_ids\":[\"87fd2e7b-308e-4180-b6c5-04a951d4b3f2\"]},\"title\":\"Bokeh Application\",\"version\":\"0.13.0\"}};\n",
       "  var render_items = [{\"docid\":\"12135b2b-905a-4980-8596-7cc160373af9\",\"roots\":{\"87fd2e7b-308e-4180-b6c5-04a951d4b3f2\":\"389ef2a2-b48d-4821-84d7-83ec2a6507a0\"}}];\n",
       "  root.Bokeh.embed.embed_items_notebook(docs_json, render_items);\n",
       "\n",
       "  }\n",
       "  if (root.Bokeh !== undefined) {\n",
       "    embed_document(root);\n",
       "  } else {\n",
       "    var attempts = 0;\n",
       "    var timer = setInterval(function(root) {\n",
       "      if (root.Bokeh !== undefined) {\n",
       "        embed_document(root);\n",
       "        clearInterval(timer);\n",
       "      }\n",
       "      attempts++;\n",
       "      if (attempts > 100) {\n",
       "        console.log(\"Bokeh: ERROR: Unable to run BokehJS code because BokehJS library is missing\")\n",
       "        clearInterval(timer);\n",
       "      }\n",
       "    }, 10, root)\n",
       "  }\n",
       "})(window);"
      ],
      "application/vnd.bokehjs_exec.v0+json": ""
     },
     "metadata": {
      "application/vnd.bokehjs_exec.v0+json": {
       "id": "87fd2e7b-308e-4180-b6c5-04a951d4b3f2"
      }
     },
     "output_type": "display_data"
    }
   ],
   "source": [
    "x = np.random.randn(200)\n",
    "y = np.cos(x) + np.sin(-x)\n",
    "\n",
    "# define p figure\n",
    "p = figure(x_axis_label='Random data', y_axis_label='sinus random data')\n",
    "\n",
    "# Add circle glyphs to figure p\n",
    "p.circle(x, y, size=10,\n",
    "         fill_color='grey', alpha=0.1, line_color=None,\n",
    "         hover_fill_color='firebrick', hover_alpha=0.5,\n",
    "         hover_line_color='white')\n",
    "\n",
    "# Create a HoverTool: hover\n",
    "hover = HoverTool(tooltips=None, mode='vline')\n",
    "\n",
    "# Add the hover tool to the figure p\n",
    "p.add_tools(hover)\n",
    "\n",
    "# Specify the name of the output file and show the result\n",
    "output_file('hover_glyph.html')\n",
    "show(p)"
   ]
  },
  {
   "cell_type": "markdown",
   "metadata": {},
   "source": [
    "## Categorical color mapper"
   ]
  },
  {
   "cell_type": "code",
   "execution_count": 10,
   "metadata": {},
   "outputs": [
    {
     "data": {
      "text/html": [
       "\n",
       "\n",
       "\n",
       "\n",
       "\n",
       "\n",
       "  <div class=\"bk-root\" id=\"7d7fc720-879d-4529-8aa7-3c9f6efe4a57\"></div>\n"
      ]
     },
     "metadata": {},
     "output_type": "display_data"
    },
    {
     "data": {
      "application/javascript": [
       "(function(root) {\n",
       "  function embed_document(root) {\n",
       "    \n",
       "  var docs_json = {\"ee828372-a673-4b8b-b679-94ef9fd1f6de\":{\"roots\":{\"references\":[{\"attributes\":{\"axis_label\":\"fertility (children per woman)\",\"formatter\":{\"id\":\"fd92015e-37cc-4af3-a6dc-afdd71cbb068\",\"type\":\"BasicTickFormatter\"},\"plot\":{\"id\":\"2a661395-e357-4ba2-bb23-cac48927ca14\",\"subtype\":\"Figure\",\"type\":\"Plot\"},\"ticker\":{\"id\":\"60f791e0-8117-41ac-aca7-dc80c62ccd6f\",\"type\":\"BasicTicker\"}},\"id\":\"f25748a7-4218-44e7-95ee-9fc3016a9abe\",\"type\":\"LinearAxis\"},{\"attributes\":{},\"id\":\"60f791e0-8117-41ac-aca7-dc80c62ccd6f\",\"type\":\"BasicTicker\"},{\"attributes\":{\"items\":[{\"id\":\"b4b2a7e8-5933-47e2-bb21-091425d4bccd\",\"type\":\"LegendItem\"}],\"plot\":{\"id\":\"2a661395-e357-4ba2-bb23-cac48927ca14\",\"subtype\":\"Figure\",\"type\":\"Plot\"}},\"id\":\"73111bda-6e6a-45b7-8eb2-7b97bd14c7a8\",\"type\":\"Legend\"},{\"attributes\":{\"fill_alpha\":{\"value\":0.1},\"fill_color\":{\"value\":\"#1f77b4\"},\"line_alpha\":{\"value\":0.1},\"line_color\":{\"value\":\"#1f77b4\"},\"x\":{\"field\":\"fertility\"},\"y\":{\"field\":\"female literacy\"}},\"id\":\"1b7a3ef8-588e-433c-bedd-18ea71b62c1b\",\"type\":\"Circle\"},{\"attributes\":{\"callback\":null},\"id\":\"7b663997-44b0-49ab-b9b2-69922f82507a\",\"type\":\"DataRange1d\"},{\"attributes\":{},\"id\":\"fdf1e9bd-69ae-498e-b708-19c767fcb8da\",\"type\":\"LinearScale\"},{\"attributes\":{\"plot\":null,\"text\":\"\"},\"id\":\"60c33122-abbc-49ee-9c68-b13a6e93a1ad\",\"type\":\"Title\"},{\"attributes\":{\"dimension\":1,\"plot\":{\"id\":\"2a661395-e357-4ba2-bb23-cac48927ca14\",\"subtype\":\"Figure\",\"type\":\"Plot\"},\"ticker\":{\"id\":\"26c1a291-0187-4b9a-9f6f-1b3d03046472\",\"type\":\"BasicTicker\"}},\"id\":\"80f0a33c-d70c-4a1b-8beb-afb3f02ba32a\",\"type\":\"Grid\"},{\"attributes\":{},\"id\":\"299d7527-5f50-4c90-8fba-094004a6f283\",\"type\":\"LinearScale\"},{\"attributes\":{\"source\":{\"id\":\"0428eb99-e806-43c6-aa86-f979c9c0912b\",\"type\":\"ColumnDataSource\"}},\"id\":\"3b11ce3a-6c46-4367-a869-212641e336b5\",\"type\":\"CDSView\"},{\"attributes\":{\"callback\":null},\"id\":\"c589e657-9c82-4dbf-b6ff-053eb010952e\",\"type\":\"DataRange1d\"},{\"attributes\":{},\"id\":\"b76d8895-623a-48a2-84d8-4e50c968259f\",\"type\":\"BasicTickFormatter\"},{\"attributes\":{\"bottom_units\":\"screen\",\"fill_alpha\":{\"value\":0.5},\"fill_color\":{\"value\":\"lightgrey\"},\"left_units\":\"screen\",\"level\":\"overlay\",\"line_alpha\":{\"value\":1.0},\"line_color\":{\"value\":\"black\"},\"line_dash\":[4,4],\"line_width\":{\"value\":2},\"plot\":null,\"render_mode\":\"css\",\"right_units\":\"screen\",\"top_units\":\"screen\"},\"id\":\"7ee762d2-8a01-432b-abb0-8270cebe9022\",\"type\":\"BoxAnnotation\"},{\"attributes\":{},\"id\":\"26c1a291-0187-4b9a-9f6f-1b3d03046472\",\"type\":\"BasicTicker\"},{\"attributes\":{\"data_source\":{\"id\":\"0428eb99-e806-43c6-aa86-f979c9c0912b\",\"type\":\"ColumnDataSource\"},\"glyph\":{\"id\":\"520a2b3e-4f32-44fc-a6bf-df26c9872f71\",\"type\":\"Circle\"},\"hover_glyph\":null,\"muted_glyph\":null,\"nonselection_glyph\":{\"id\":\"1b7a3ef8-588e-433c-bedd-18ea71b62c1b\",\"type\":\"Circle\"},\"selection_glyph\":null,\"view\":{\"id\":\"3b11ce3a-6c46-4367-a869-212641e336b5\",\"type\":\"CDSView\"}},\"id\":\"77c5a4eb-a9b4-4c9a-8410-a9b8ebce4d5b\",\"type\":\"GlyphRenderer\"},{\"attributes\":{},\"id\":\"4aa7a467-4fd1-4837-99bd-9a63db6f931e\",\"type\":\"PanTool\"},{\"attributes\":{\"overlay\":{\"id\":\"7ee762d2-8a01-432b-abb0-8270cebe9022\",\"type\":\"BoxAnnotation\"}},\"id\":\"c55efdee-964c-402c-aba8-73a0d6020778\",\"type\":\"BoxZoomTool\"},{\"attributes\":{},\"id\":\"19c23b9c-b853-4fbd-9471-471c8e42d340\",\"type\":\"HelpTool\"},{\"attributes\":{},\"id\":\"4a896b9e-8ae7-4eaa-ba04-a1d8a0119292\",\"type\":\"WheelZoomTool\"},{\"attributes\":{},\"id\":\"fd92015e-37cc-4af3-a6dc-afdd71cbb068\",\"type\":\"BasicTickFormatter\"},{\"attributes\":{},\"id\":\"12008567-07a4-4f29-8096-0f1063019e34\",\"type\":\"ResetTool\"},{\"attributes\":{},\"id\":\"12cd345f-2d35-47ca-a0d8-160d7f3006dd\",\"type\":\"SaveTool\"},{\"attributes\":{\"label\":{\"value\":\"Country\"},\"renderers\":[{\"id\":\"77c5a4eb-a9b4-4c9a-8410-a9b8ebce4d5b\",\"type\":\"GlyphRenderer\"}]},\"id\":\"b4b2a7e8-5933-47e2-bb21-091425d4bccd\",\"type\":\"LegendItem\"},{\"attributes\":{\"callback\":null,\"data\":{\"Continent\":[\"ASI\",\"ASI\",\"NAM\",\"ASI\",\"LAT\",\"ASI\",\"ASI\",\"AF\",\"EUR\",\"ASI\",\"LAT\",\"ASI\",\"ASI\",\"EUR\",\"AF\",\"AF\",\"ASI\",\"ASI\",\"ASI\",\"AF\",\"EUR\",\"EUR\",\"EUR\",\"ASI\",\"AF\",\"ASI\",\"EUR\",\"EUR\",\"LAT\",\"AF\",\"AF\",\"LAT\",\"AF\",\"EUR\",\"AF\",\"NAM\",\"AF\",\"AF\",\"ASI\",\"ASI\",\"LAT\",\"ASI\",\"LAT\",\"ASI\",\"ASI\",\"ASI\",\"ASI\",\"AF\",\"ASI\",\"AF\",\"EUR\",\"AF\",\"ASI\",\"ASI\",\"AF\",\"AF\",\"AF\",\"LAT\",\"EUR\",\"ASI\",\"AF\",\"AF\",\"AF\",\"ASI\",\"LAT\",\"LAT\",\"AF\",\"AF\",\"AF\",\"AF\",\"EUR\",\"LAT\",\"AF\",\"EUR\",\"EUR\",\"EUR\",\"AF\",\"EUR\",\"LAT\",\"AF\",\"AF\",\"LAT\",\"EUR\",\"EUR\",\"ASI\",\"AF\",\"AF\",\"EUR\",\"EUR\",\"EUR\",\"LAT\",\"ASI\",\"ASI\",\"OCE\",\"AF\",\"AF\",\"LAT\",\"ASI\",\"LAT\",\"ASI\",\"LAT\",\"AF\",\"EUR\",\"EUR\",\"ASI\",\"ASI\",\"AF\",\"ASI\",\"EUR\",\"LAT\",\"ASI\",\"EUR\",\"EUR\",\"AF\",\"ASI\",\"OCE\",\"ASI\",\"AF\",\"EUR\",\"EUR\",\"LAT\",\"EUR\",\"LAT\",\"AF\",\"EUR\",\"ASI\",\"ASI\",\"ASI\",\"LAT\",\"ASI\",\"EUR\",\"AF\",\"AF\",\"EUR\",\"EUR\",\"AF\",\"AF\",\"AF\",\"AF\",\"EUR\",\"LAT\",\"ASI\",\"AF\",\"AF\",\"EUR\",\"ASI\",\"ASI\",\"AF\",\"AF\",\"ASI\",\"LAT\",\"AF\",\"EUR\",\"ASI\",\"LAT\",\"EUR\",\"ASI\",\"OCE\",\"OCE\",\"AF\",\"LAT\",\"ASI\"],\"Country \":[\"Chine\",\"Inde\",\"USA\",\"Indon\\u00e9sie\",\"Br\\u00e9sil\",\"Pakistan\",\"Bangladesh\",\"Nig\\u00e9ria\",\"F\\u00e9d\\u00e9ration de Russie\",\"Japan\",\"Mexique\",\"Philippines\",\"Viet Nam\",\"Germany\",\"Egypte\",\"Ethiopie\",\"Turquie\",\"Iran, R\\u00e9publique islamique d'\",\"Tha\\u00eflande\",\"R\\u00e9p. D\\u00e9mocratique du Congo\",\"France\",\"UK\",\"Italie\",\"Myanmar\",\"Afrique du Sud\",\"South Korea\",\"Ukraine\",\"Espagne\",\"Colombie\",\"R\\u00e9publique-Unie de Tanzanie\",\"Soudan\",\"Argentine\",\"Kenya\",\"Pologne\",\"Alg\\u00e9rie\",\"Canada\",\"Ouganda\",\"Maroc\",\"Iraq\",\"Afghanistan\",\"P\\u00e9rou\",\"N\\u00e9pal\",\"Venezuela\",\"Ouzb\\u00e9kistan\",\"Malaisie\",\"Arabie saoudite\",\"R\\u00e9p. populaire d\\u00e9mocratique de Cor\\u00e9e\",\"Ghana\",\"Y\\u00e9men\",\"Mozambique\",\"Roumanie\",\"C\\u00f4te d'Ivoire\",\"R\\u00e9publique arabe syrienne\",\"Sri Lanka\",\"Madagascar\",\"Cameroun\",\"Angola\",\"Chili\",\"Netherlands\",\"Kazakhstan\",\"Burkina Faso\",\"Malawi\",\"Niger\",\"Cambodge\",\"Guatemala\",\"Equateur\",\"Mali\",\"Zambie\",\"Zimbabwe\",\"S\\u00e9n\\u00e9gal\",\"Gr\\u00e8ce\",\"Cuba\",\"Tchad\",\"Belgium\",\"Portugal\",\"Czech rep\",\"Tunisie\",\"Hongrie\",\"R\\u00e9publique dominicaine\",\"Guin\\u00e9e\",\"Rwanda\",\"Bolivie\",\"B\\u00e9larus\",\"Sweden\",\"Azerba\\u00efdjan\",\"B\\u00e9nin\",\"Burundi\",\"Switzerland\",\"Bulgarie\",\"Serbie\",\"Honduras\",\"Israel\",\"Tadjikistan\",\"Papouasie-Nouvelle-Guin\\u00e9e\",\"Togo\",\"Jamahiriya arabe libyenne\",\"Paraguay\",\"R\\u00e9p. d\\u00e9mocratique populaire lao\",\"El Salvador\",\"Jordanie\",\"Nicaragua\",\"Sierra Leone\",\"Denmark\",\"Finland\",\"Kirghizistan\",\"Turkm\\u00e9nistan\",\"Erythr\\u00e9e\",\"Singapour\",\"Norway\",\"Costa Rica\",\"Emirats arabes unis\",\"Croatie\",\"Ireland\",\"R\\u00e9publique centrafricaine\",\"G\\u00e9orgie\",\"New Zealand\",\"Liban\",\"Lib\\u00e9ria\",\"Bosnie-Herz\\u00e9govine\",\"R\\u00e9publique de Moldova\",\"Panama\",\"Lituanie\",\"Uruguay\",\"Mauritanie\",\"Albanie\",\"Arm\\u00e9nie\",\"Oman\",\"Kowe\\u00eft\",\"Jama\\u00efque\",\"Mongolie\",\"Lettonie\",\"Namibie\",\"Lesotho\",\"L'ex-R\\u00e9p. yougoslave de Mac\\u00e9doine\",\"Slov\\u00e9nie\",\"Botswana\",\"Gambie\",\"Guin\\u00e9e-Bissau\",\"Gabon\",\"Estonie\",\"Trinit\\u00e9-et-Tobago\",\"Qatar\",\"Maurice\",\"Swaziland\",\"Chypre\",\"Bahre\\u00efn\",\"Bhoutan\",\"Guin\\u00e9e \\u00e9quatoriale\",\"Comores\",\"Macao, Chine\",\"Suriname\",\"Cap-Vert\",\"Malte\",\"Brun\\u00e9i Darussalam\",\"Bahamas\",\"Iceland\",\"Maldives\",\"Vanuatu\",\"Samoa\",\"Sao Tom\\u00e9-et-Principe\",\"Aruba\",\"Tonga\"],\"female literacy\":{\"__ndarray__\":\"AAAAAACgVkBmZmZmZmZJQAAAAAAAwFhAMzMzMzMzVkDNzMzMzIxWQAAAAAAAAERAZmZmZmbmSEBmZmZmZmZIQJqZmZmZ2VhAAAAAAADAWEAAAAAAAOBWQJqZmZmZeVdAzczMzMyMVkAAAAAAAMBYQGZmZmZm5kxAzczMzMzMNkAzMzMzM1NUQM3MzMzMTFNAAAAAAADgVkDNzMzMzAxMQAAAAAAAwFhAAAAAAADAWEAAAAAAAKBYQM3MzMzMTFZAZmZmZmYGVkBmZmZmZiZYQGZmZmZm5lhAmpmZmZk5WECamZmZmVlXQDMzMzMzk1BAzczMzMzMTUDNzMzMzGxYQDMzMzMzs1RAMzMzMzPTWEAzMzMzM/NPQAAAAAAAwFhAMzMzMzOzUEDNzMzMzAxGQM3MzMzMTFFAMzMzMzMzKUBmZmZmZiZVQDMzMzMzs0ZAmpmZmZm5V0CamZmZmblYQDMzMzMzc1ZAzczMzMwMVEAAAAAAAABZQGZmZmZmpk1AZmZmZmZmRUDNzMzMzAxEQJqZmZmZOVhAZmZmZmYmRkDNzMzMzExTQGZmZmZmRlZAMzMzMzNTUEAzMzMzM/NQQAAAAAAAgExAzczMzMysWEAAAAAAAMBYQAAAAAAA4FhAmpmZmZmZNUAzMzMzM3NQQDMzMzMzMy5AmpmZmZm5UUDNzMzMzCxRQM3MzMzMbFRAMzMzMzMzMkAAAAAAAIBOQDMzMzMzM1ZAAAAAAACAQECamZmZmflXQDMzMzMz81hAZmZmZmbmNUAAAAAAAMBYQJqZmZmZOVdAAAAAAADAWEAAAAAAAMBRQJqZmZmZuVhAMzMzMzMTVkBmZmZmZmY6QGZmZmZmhlBAAAAAAACAVUDNzMzMzOxYQAAAAAAAwFhAzczMzMzMWECamZmZmRk8QDMzMzMz801AAAAAAADAWECamZmZmXlYQM3MzMzMDFhAAAAAAADgVECamZmZmflXQAAAAAAA4FhAzczMzMzMS0CamZmZmdlKQDMzMzMzU1RAAAAAAABgV0CamZmZmZlPQJqZmZmZWVRAmpmZmZk5VkCamZmZmXlTQGZmZmZm5jxAAAAAAADAWEAAAAAAAABZQGZmZmZmxlhAMzMzMzPTWEAAAAAAAEBLQGZmZmZm5lZAAAAAAAAAWUDNzMzMzAxYQAAAAAAA4FZAAAAAAACAWEAAAAAAAMBYQM3MzMzMjERAzczMzMzsWEAAAAAAAMBYQAAAAAAAgFVAAAAAAACASkCamZmZmflXQDMzMzMzc1hAMzMzMzMzV0DNzMzMzOxYQAAAAAAAoFhAAAAAAADASEDNzMzMzKxYQJqZmZmZ2VhAmpmZmZk5VEBmZmZmZkZXQDMzMzMzs1ZAMzMzMzNzWEAzMzMzM/NYQM3MzMzM7FVAZmZmZmbGV0CamZmZmdlXQM3MzMzM7FhAAAAAAADgVEBmZmZmZiZBQAAAAAAAQEJAzczMzMzMVEAzMzMzM/NYQM3MzMzMjFhAmpmZmZmZVkAzMzMzMzNVQGZmZmZmZlVAzczMzMwsWECamZmZmVlWQJqZmZmZWUNAZmZmZmZGVkAzMzMzM/NQQM3MzMzMrFZAmpmZmZkZVkAzMzMzM9NTQAAAAAAAYFdAMzMzMzNTV0AAAAAAACBYQAAAAAAAwFhAmpmZmZmZWEAAAAAAAOBTQAAAAAAAoFhAMzMzMzPTVEAAAAAAAIBYQGZmZmZmxlhA\",\"dtype\":\"float64\",\"shape\":[162]},\"fertility\":{\"__ndarray__\":\"6Pup8dJN/D/b+X5qvHQFQARWDi2ynQBAdJMYBFYOAUAIrBxaZDv9P2Dl0CLb+Q5A6Pup8dJNAkD91HjpJrEUQH0/NV66SfY//tR46SYx9D9zaJHtfD8BQGmR7Xw/NQhA3SQGgZVDAEDJdr6fGi/1P7tJDAIrhwZA8tJNYhDYFEDNzMzMzMwAQOXQItv5fvw/8/3UeOkm/T9uEoPAyqEXQH9qvHSTGP4/bhKDwMqh/T89CtejcD32P3Noke18PwJACtejcD0KBEAv3SQGgZXzPy2yne+nxvU/sXJoke189z8IrBxaZDsDQBSuR+F6FBZACKwcWmQ7EEBjEFg5tMgBQFYOLbKdbxNAE4PAyqFF9D8j2/l+arwCQN0kBoGVQ/k/arx0kxgEGUB56SYxCKwCQOSlm8QgsA9AhetRuB4FGkA9CtejcD0EQC/dJAaBlQZAlkOLbOf7A0CWQ4ts5/sBQKrx0k1iEARAUrgehetRCEBEi2zn+6n9P+F6FK5H4RBAZmZmZmZmFECR7Xw/Nd4TQDMzMzMzM/U/dJMYBFYOEkD8qfHSTWIJQBFYObTIdgJAexSuR+F6EkBEi2zn+ykSQEA1XrpJjBZAN4lBYOXQ/j/AyqFFtvP7PycxCKwcWgJAd76fGi9dF0BSuB6F69EVQC2yne+nRhxArBxaZDvfBkDfT42XbhIQQLTIdr6fGgRAH4XrUbieFUCmm8QgsPIWQIGVQ4ts5wpAj8L1KFyPE0ApXI/C9Sj2PxSuR+F6FPg/bef7qfFSGEAlBoGVQ4v8P0A1XrpJDPY/MzMzMzMz9z/b+X5qvHT9P+xRuB6F6/U/TDeJQWDlBEA3iUFg5VAVQFK4HoXrURVALIcW2c73CkDl0CLb+X70P1YOLbKd7/0/001iEFg5AUBPjZduEoMVQM3MzMzMzBFAXI/C9Shc9z9g5dAi2/n2P5duEoPAyvk/hetRuB6FCUBqvHSTGAQGQM3MzMzMzApACtejcD0KEEBEi2zn+6kQQIlBYOXQIgVAN4lBYOXQB0BSuB6F61ELQFyPwvUoXAJA8/3UeOkmCEARWDm0yHYFQClcj8L1qBRAL90kBoGV/T/GSzeJQWD9P7+fGi/dJARAcT0K16NwA0DqJjEIrBwSQGiR7Xw/NfQ/KVyPwvUo/j9KDAIrhxb/P/yp8dJNYv4/30+Nl24S9z9zaJHtfD//P30/NV66yRJAHFpkO99P+T8zMzMzMzMAQNv5fmq8dP0/JQaBlUMLFEAxCKwcWmTzP9R46SYxCPg/VOOlm8QgBECsHFpkO9/1P4PAyqFFtgBAWmQ730+NEUBEi2zn+6n9PyyHFtnO9/s/bef7qfHSB0Cd76fGSzcBQEw3iUFg5QJAAyuHFtnO/z83iUFg5dD2P1K4HoXrUQpA6SYxCKwcCkBg5dAi2/n2P30/NV66SfY/+n5qvHSTBkDGSzeJQeATQIlBYOXQohZA7FG4HoXrCUBKDAIrhxb7PyYxCKwcWvo/4XoUrkfhAkB46SYxCKz8P5qZmZmZmQtAqMZLN4lB+D93vp8aL90BQBsv3SQGgQRAbhKDwMohFUAUrkfhehQPQLbz/dR46e4/lkOLbOf7AkDo+6nx0k0FQGq8dJMYBPQ/0SLb+X5qAEAshxbZzvcKQFg5tMh2vgBAAAAAAAAAAECq8dJNYhAPQDeJQWDl0A5AWDm0yHa+DUCDwMqhRbb7PwaBlUOLbA9A\",\"dtype\":\"float64\",\"shape\":[162]},\"index\":[0,1,2,3,4,5,6,7,8,9,10,11,12,13,14,15,16,17,18,19,20,21,22,23,24,25,26,27,28,29,30,31,32,33,34,35,36,37,38,39,40,41,42,43,44,45,46,47,48,49,50,51,52,53,54,55,56,57,58,59,60,61,62,63,64,65,66,67,68,69,70,71,72,73,74,75,76,77,78,79,80,81,82,83,84,85,86,87,88,89,90,91,92,93,94,95,96,97,98,99,100,101,102,103,104,105,106,107,108,109,110,111,112,113,114,115,116,117,118,119,120,121,122,123,124,125,126,127,128,129,130,131,132,133,134,135,136,137,138,139,140,141,142,143,144,145,146,147,148,149,150,151,152,153,154,155,156,157,158,159,160,161],\"population\":[\"1,324,655,000\",\"1,139,964,932\",\"304,060,000\",\"227,345,082\",\"191,971,506\",\"166,111,487\",\"160,000,128\",\"151,212,254\",\"141,950,000\",\"127,704,000\",\"106,350,434\",\"90,348,437\",\"86,210,781\",\"82,110,097\",\"81,527,172\",\"80,713,434\",\"73,914,260\",\"71,956,322\",\"67,386,383\",\"64,256,635\",\"62,277,432\",\"61,414,062\",\"59,832,179\",\"49,563,019\",\"48,687,000\",\"48,607,000\",\"46,258,200\",\"45,555,716\",\"45,012,096\",\"42,483,923\",\"41,347,723\",\"39,882,980\",\"38,765,312\",\"38,125,759\",\"34,373,426\",\"33,311,400\",\"31,656,865\",\"31,605,616\",\"30,711,152\",\"29,021,099\",\"28,836,700\",\"28,809,526\",\"27,935,000\",\"27,313,700\",\"27,014,337\",\"24,645,686\",\"23,818,753\",\"23,350,927\",\"22,917,485\",\"22,382,533\",\"21,513,622\",\"20,591,302\",\"20,581,290\",\"20,156,204\",\"19,110,941\",\"19,088,385\",\"18,020,668\",\"16,803,952\",\"16,445,593\",\"15,674,833\",\"15,233,884\",\"14,846,182\",\"14,704,318\",\"14,562,008\",\"13,686,128\",\"13,481,424\",\"12,705,736\",\"12,620,219\",\"12,462,879\",\"12,211,181\",\"11,237,094\",\"11,204,735\",\"10,913,667\",\"10,708,433\",\"10,622,413\",\"10,424,336\",\"10,327,800\",\"10,038,188\",\"9,952,711\",\"9,833,055\",\"9,720,694\",\"9,694,113\",\"9,680,850\",\"9,219,637\",\"8,680,100\",\"8,662,086\",\"8,074,254\",\"7,647,675\",\"7,623,395\",\"7,350,221\",\"7,318,789\",\"7,308,800\",\"6,836,083\",\"6,576,822\",\"6,458,605\",\"6,294,181\",\"6,237,855\",\"6,205,341\",\"6,133,910\",\"5,906,043\",\"5,667,325\",\"5,559,853\",\"5,493,621\",\"5,313,399\",\"5,277,900\",\"5,043,618\",\"4,926,877\",\"4,839,400\",\"4,768,212\",\"4,519,126\",\"4,484,935\",\"4,434,000\",\"4,425,675\",\"4,339,263\",\"4,307,011\",\"4,268,900\",\"4,193,758\",\"3,793,400\",\"3,773,100\",\"3,633,369\",\"3,398,823\",\"3,358,115\",\"3,334,052\",\"3,215,043\",\"3,143,291\",\"3,077,087\",\"2,785,361\",\"2,728,041\",\"2,687,200\",\"2,641,216\",\"2,266,094\",\"2,129,854\",\"2,049,429\",\"2,041,342\",\"2,021,316\",\"1,921,122\",\"1,660,200\",\"1,575,446\",\"1,448,159\",\"1,340,675\",\"1,333,388\",\"1,280,862\",\"1,268,854\",\"1,167,834\",\"862,434\",\"775,585\",\"686,789\",\"659,197\",\"643,571\",\"526,178\",\"515,124\",\"498,672\",\"411,950\",\"392,280\",\"337,668\",\"317,414\",\"305,027\",\"233,866\",\"178,869\",\"160,174\",\"105,455\",\"103,566\"]},\"selected\":{\"id\":\"4d6c4bd1-c59c-45d0-9c74-d78fd254c2ac\",\"type\":\"Selection\"},\"selection_policy\":{\"id\":\"a782ff8f-371b-489a-9fa2-3b6a61df90eb\",\"type\":\"UnionRenderers\"}},\"id\":\"0428eb99-e806-43c6-aa86-f979c9c0912b\",\"type\":\"ColumnDataSource\"},{\"attributes\":{\"factors\":[\"ASI\",\"NAM\",\"LAT\",\"AF\",\"EUR\",\"OCE\"],\"palette\":[\"red\",\"green\",\"blue\",\"gray\",\"cyan\",\"black\"]},\"id\":\"acee8f92-d631-4381-b036-164d84b96e54\",\"type\":\"CategoricalColorMapper\"},{\"attributes\":{},\"id\":\"a782ff8f-371b-489a-9fa2-3b6a61df90eb\",\"type\":\"UnionRenderers\"},{\"attributes\":{\"plot\":{\"id\":\"2a661395-e357-4ba2-bb23-cac48927ca14\",\"subtype\":\"Figure\",\"type\":\"Plot\"},\"ticker\":{\"id\":\"60f791e0-8117-41ac-aca7-dc80c62ccd6f\",\"type\":\"BasicTicker\"}},\"id\":\"7a991972-eeb5-4cf5-8a6f-35685c097483\",\"type\":\"Grid\"},{\"attributes\":{},\"id\":\"4d6c4bd1-c59c-45d0-9c74-d78fd254c2ac\",\"type\":\"Selection\"},{\"attributes\":{\"fill_color\":{\"field\":\"Continent\",\"transform\":{\"id\":\"acee8f92-d631-4381-b036-164d84b96e54\",\"type\":\"CategoricalColorMapper\"}},\"line_color\":{\"field\":\"Continent\",\"transform\":{\"id\":\"acee8f92-d631-4381-b036-164d84b96e54\",\"type\":\"CategoricalColorMapper\"}},\"x\":{\"field\":\"fertility\"},\"y\":{\"field\":\"female literacy\"}},\"id\":\"520a2b3e-4f32-44fc-a6bf-df26c9872f71\",\"type\":\"Circle\"},{\"attributes\":{\"active_drag\":\"auto\",\"active_inspect\":\"auto\",\"active_multi\":null,\"active_scroll\":\"auto\",\"active_tap\":\"auto\",\"tools\":[{\"id\":\"4aa7a467-4fd1-4837-99bd-9a63db6f931e\",\"type\":\"PanTool\"},{\"id\":\"4a896b9e-8ae7-4eaa-ba04-a1d8a0119292\",\"type\":\"WheelZoomTool\"},{\"id\":\"c55efdee-964c-402c-aba8-73a0d6020778\",\"type\":\"BoxZoomTool\"},{\"id\":\"12cd345f-2d35-47ca-a0d8-160d7f3006dd\",\"type\":\"SaveTool\"},{\"id\":\"12008567-07a4-4f29-8096-0f1063019e34\",\"type\":\"ResetTool\"},{\"id\":\"19c23b9c-b853-4fbd-9471-471c8e42d340\",\"type\":\"HelpTool\"}]},\"id\":\"dbb1634b-85d9-4d3e-99cb-808395e01352\",\"type\":\"Toolbar\"},{\"attributes\":{\"below\":[{\"id\":\"f25748a7-4218-44e7-95ee-9fc3016a9abe\",\"type\":\"LinearAxis\"}],\"left\":[{\"id\":\"a2729650-8a76-4e34-8a32-5828da0893b9\",\"type\":\"LinearAxis\"}],\"renderers\":[{\"id\":\"f25748a7-4218-44e7-95ee-9fc3016a9abe\",\"type\":\"LinearAxis\"},{\"id\":\"7a991972-eeb5-4cf5-8a6f-35685c097483\",\"type\":\"Grid\"},{\"id\":\"a2729650-8a76-4e34-8a32-5828da0893b9\",\"type\":\"LinearAxis\"},{\"id\":\"80f0a33c-d70c-4a1b-8beb-afb3f02ba32a\",\"type\":\"Grid\"},{\"id\":\"7ee762d2-8a01-432b-abb0-8270cebe9022\",\"type\":\"BoxAnnotation\"},{\"id\":\"73111bda-6e6a-45b7-8eb2-7b97bd14c7a8\",\"type\":\"Legend\"},{\"id\":\"77c5a4eb-a9b4-4c9a-8410-a9b8ebce4d5b\",\"type\":\"GlyphRenderer\"}],\"title\":{\"id\":\"60c33122-abbc-49ee-9c68-b13a6e93a1ad\",\"type\":\"Title\"},\"toolbar\":{\"id\":\"dbb1634b-85d9-4d3e-99cb-808395e01352\",\"type\":\"Toolbar\"},\"x_range\":{\"id\":\"7b663997-44b0-49ab-b9b2-69922f82507a\",\"type\":\"DataRange1d\"},\"x_scale\":{\"id\":\"299d7527-5f50-4c90-8fba-094004a6f283\",\"type\":\"LinearScale\"},\"y_range\":{\"id\":\"c589e657-9c82-4dbf-b6ff-053eb010952e\",\"type\":\"DataRange1d\"},\"y_scale\":{\"id\":\"fdf1e9bd-69ae-498e-b708-19c767fcb8da\",\"type\":\"LinearScale\"}},\"id\":\"2a661395-e357-4ba2-bb23-cac48927ca14\",\"subtype\":\"Figure\",\"type\":\"Plot\"},{\"attributes\":{\"axis_label\":\"female_literacy (% population)\",\"formatter\":{\"id\":\"b76d8895-623a-48a2-84d8-4e50c968259f\",\"type\":\"BasicTickFormatter\"},\"plot\":{\"id\":\"2a661395-e357-4ba2-bb23-cac48927ca14\",\"subtype\":\"Figure\",\"type\":\"Plot\"},\"ticker\":{\"id\":\"26c1a291-0187-4b9a-9f6f-1b3d03046472\",\"type\":\"BasicTicker\"}},\"id\":\"a2729650-8a76-4e34-8a32-5828da0893b9\",\"type\":\"LinearAxis\"}],\"root_ids\":[\"2a661395-e357-4ba2-bb23-cac48927ca14\"]},\"title\":\"Bokeh Application\",\"version\":\"0.13.0\"}};\n",
       "  var render_items = [{\"docid\":\"ee828372-a673-4b8b-b679-94ef9fd1f6de\",\"roots\":{\"2a661395-e357-4ba2-bb23-cac48927ca14\":\"7d7fc720-879d-4529-8aa7-3c9f6efe4a57\"}}];\n",
       "  root.Bokeh.embed.embed_items_notebook(docs_json, render_items);\n",
       "\n",
       "  }\n",
       "  if (root.Bokeh !== undefined) {\n",
       "    embed_document(root);\n",
       "  } else {\n",
       "    var attempts = 0;\n",
       "    var timer = setInterval(function(root) {\n",
       "      if (root.Bokeh !== undefined) {\n",
       "        embed_document(root);\n",
       "        clearInterval(timer);\n",
       "      }\n",
       "      attempts++;\n",
       "      if (attempts > 100) {\n",
       "        console.log(\"Bokeh: ERROR: Unable to run BokehJS code because BokehJS library is missing\")\n",
       "        clearInterval(timer);\n",
       "      }\n",
       "    }, 10, root)\n",
       "  }\n",
       "})(window);"
      ],
      "application/vnd.bokehjs_exec.v0+json": ""
     },
     "metadata": {
      "application/vnd.bokehjs_exec.v0+json": {
       "id": "2a661395-e357-4ba2-bb23-cac48927ca14"
      }
     },
     "output_type": "display_data"
    }
   ],
   "source": [
    "# Convert df to a ColumnDataSource: source\n",
    "source = ColumnDataSource(df)\n",
    "\n",
    "# create a new figure\n",
    "p = figure(x_axis_label='fertility (children per woman)', y_axis_label='female_literacy (% population)')\n",
    "\n",
    "\n",
    "# Make a CategoricalColorMapper object: color_mapper\n",
    "color_mapper = CategoricalColorMapper(factors=['ASI', 'NAM', 'LAT', 'AF', 'EUR', 'OCE'],\n",
    "                                      palette=['red', 'green', 'blue', 'gray', 'cyan', 'black'])\n",
    "\n",
    "# Add a circle glyph to the figure p\n",
    "p.circle('fertility', 'female literacy', source=source,\n",
    "            color=dict(field='Continent', transform=color_mapper),\n",
    "            legend='Country')\n",
    "\n",
    "# Specify the name of the output file and show the result\n",
    "output_file('colormap.html')\n",
    "show(p)"
   ]
  },
  {
   "cell_type": "markdown",
   "metadata": {},
   "source": [
    "# Adding a hover tooltip\n",
    "\n",
    "Working with the HoverTool is easy for data stored in a ColumnDataSource.\n",
    "\n",
    "In this exercise, you will create a HoverTool object and display the country for each circle glyph in the figure that you created in the last exercise. This is done by assigning the tooltips keyword argument to a list-of-tuples specifying the label and the column of values from the ColumnDataSource using the @ operator.\n",
    "\n",
    "The figure object has been prepared for you as p.\n",
    "\n",
    "After you have added the hover tooltip to the figure, be sure to interact with it by hovering your mouse over each point to see which country it represents."
   ]
  },
  {
   "cell_type": "code",
   "execution_count": 11,
   "metadata": {},
   "outputs": [
    {
     "data": {
      "text/html": [
       "\n",
       "\n",
       "\n",
       "\n",
       "\n",
       "\n",
       "  <div class=\"bk-root\" id=\"d3541762-4cac-425d-b4d6-0dda7e8cb4b3\"></div>\n"
      ]
     },
     "metadata": {},
     "output_type": "display_data"
    },
    {
     "data": {
      "application/javascript": [
       "(function(root) {\n",
       "  function embed_document(root) {\n",
       "    \n",
       "  var docs_json = {\"7de03dd4-9391-4daa-9b6e-757a0ae3929b\":{\"roots\":{\"references\":[{\"attributes\":{\"axis_label\":\"fertility (children per woman)\",\"formatter\":{\"id\":\"fd92015e-37cc-4af3-a6dc-afdd71cbb068\",\"type\":\"BasicTickFormatter\"},\"plot\":{\"id\":\"2a661395-e357-4ba2-bb23-cac48927ca14\",\"subtype\":\"Figure\",\"type\":\"Plot\"},\"ticker\":{\"id\":\"60f791e0-8117-41ac-aca7-dc80c62ccd6f\",\"type\":\"BasicTicker\"}},\"id\":\"f25748a7-4218-44e7-95ee-9fc3016a9abe\",\"type\":\"LinearAxis\"},{\"attributes\":{},\"id\":\"60f791e0-8117-41ac-aca7-dc80c62ccd6f\",\"type\":\"BasicTicker\"},{\"attributes\":{\"items\":[{\"id\":\"b4b2a7e8-5933-47e2-bb21-091425d4bccd\",\"type\":\"LegendItem\"}],\"plot\":{\"id\":\"2a661395-e357-4ba2-bb23-cac48927ca14\",\"subtype\":\"Figure\",\"type\":\"Plot\"}},\"id\":\"73111bda-6e6a-45b7-8eb2-7b97bd14c7a8\",\"type\":\"Legend\"},{\"attributes\":{\"fill_alpha\":{\"value\":0.1},\"fill_color\":{\"value\":\"#1f77b4\"},\"line_alpha\":{\"value\":0.1},\"line_color\":{\"value\":\"#1f77b4\"},\"x\":{\"field\":\"fertility\"},\"y\":{\"field\":\"female literacy\"}},\"id\":\"1b7a3ef8-588e-433c-bedd-18ea71b62c1b\",\"type\":\"Circle\"},{\"attributes\":{\"callback\":null},\"id\":\"7b663997-44b0-49ab-b9b2-69922f82507a\",\"type\":\"DataRange1d\"},{\"attributes\":{},\"id\":\"fdf1e9bd-69ae-498e-b708-19c767fcb8da\",\"type\":\"LinearScale\"},{\"attributes\":{\"plot\":null,\"text\":\"\"},\"id\":\"60c33122-abbc-49ee-9c68-b13a6e93a1ad\",\"type\":\"Title\"},{\"attributes\":{\"dimension\":1,\"plot\":{\"id\":\"2a661395-e357-4ba2-bb23-cac48927ca14\",\"subtype\":\"Figure\",\"type\":\"Plot\"},\"ticker\":{\"id\":\"26c1a291-0187-4b9a-9f6f-1b3d03046472\",\"type\":\"BasicTicker\"}},\"id\":\"80f0a33c-d70c-4a1b-8beb-afb3f02ba32a\",\"type\":\"Grid\"},{\"attributes\":{},\"id\":\"299d7527-5f50-4c90-8fba-094004a6f283\",\"type\":\"LinearScale\"},{\"attributes\":{\"source\":{\"id\":\"0428eb99-e806-43c6-aa86-f979c9c0912b\",\"type\":\"ColumnDataSource\"}},\"id\":\"3b11ce3a-6c46-4367-a869-212641e336b5\",\"type\":\"CDSView\"},{\"attributes\":{\"callback\":null},\"id\":\"c589e657-9c82-4dbf-b6ff-053eb010952e\",\"type\":\"DataRange1d\"},{\"attributes\":{},\"id\":\"b76d8895-623a-48a2-84d8-4e50c968259f\",\"type\":\"BasicTickFormatter\"},{\"attributes\":{\"bottom_units\":\"screen\",\"fill_alpha\":{\"value\":0.5},\"fill_color\":{\"value\":\"lightgrey\"},\"left_units\":\"screen\",\"level\":\"overlay\",\"line_alpha\":{\"value\":1.0},\"line_color\":{\"value\":\"black\"},\"line_dash\":[4,4],\"line_width\":{\"value\":2},\"plot\":null,\"render_mode\":\"css\",\"right_units\":\"screen\",\"top_units\":\"screen\"},\"id\":\"7ee762d2-8a01-432b-abb0-8270cebe9022\",\"type\":\"BoxAnnotation\"},{\"attributes\":{},\"id\":\"26c1a291-0187-4b9a-9f6f-1b3d03046472\",\"type\":\"BasicTicker\"},{\"attributes\":{\"data_source\":{\"id\":\"0428eb99-e806-43c6-aa86-f979c9c0912b\",\"type\":\"ColumnDataSource\"},\"glyph\":{\"id\":\"520a2b3e-4f32-44fc-a6bf-df26c9872f71\",\"type\":\"Circle\"},\"hover_glyph\":null,\"muted_glyph\":null,\"nonselection_glyph\":{\"id\":\"1b7a3ef8-588e-433c-bedd-18ea71b62c1b\",\"type\":\"Circle\"},\"selection_glyph\":null,\"view\":{\"id\":\"3b11ce3a-6c46-4367-a869-212641e336b5\",\"type\":\"CDSView\"}},\"id\":\"77c5a4eb-a9b4-4c9a-8410-a9b8ebce4d5b\",\"type\":\"GlyphRenderer\"},{\"attributes\":{},\"id\":\"4aa7a467-4fd1-4837-99bd-9a63db6f931e\",\"type\":\"PanTool\"},{\"attributes\":{\"overlay\":{\"id\":\"7ee762d2-8a01-432b-abb0-8270cebe9022\",\"type\":\"BoxAnnotation\"}},\"id\":\"c55efdee-964c-402c-aba8-73a0d6020778\",\"type\":\"BoxZoomTool\"},{\"attributes\":{},\"id\":\"19c23b9c-b853-4fbd-9471-471c8e42d340\",\"type\":\"HelpTool\"},{\"attributes\":{},\"id\":\"4a896b9e-8ae7-4eaa-ba04-a1d8a0119292\",\"type\":\"WheelZoomTool\"},{\"attributes\":{},\"id\":\"fd92015e-37cc-4af3-a6dc-afdd71cbb068\",\"type\":\"BasicTickFormatter\"},{\"attributes\":{},\"id\":\"12008567-07a4-4f29-8096-0f1063019e34\",\"type\":\"ResetTool\"},{\"attributes\":{},\"id\":\"12cd345f-2d35-47ca-a0d8-160d7f3006dd\",\"type\":\"SaveTool\"},{\"attributes\":{\"label\":{\"value\":\"Country\"},\"renderers\":[{\"id\":\"77c5a4eb-a9b4-4c9a-8410-a9b8ebce4d5b\",\"type\":\"GlyphRenderer\"}]},\"id\":\"b4b2a7e8-5933-47e2-bb21-091425d4bccd\",\"type\":\"LegendItem\"},{\"attributes\":{\"callback\":null,\"data\":{\"Continent\":[\"ASI\",\"ASI\",\"NAM\",\"ASI\",\"LAT\",\"ASI\",\"ASI\",\"AF\",\"EUR\",\"ASI\",\"LAT\",\"ASI\",\"ASI\",\"EUR\",\"AF\",\"AF\",\"ASI\",\"ASI\",\"ASI\",\"AF\",\"EUR\",\"EUR\",\"EUR\",\"ASI\",\"AF\",\"ASI\",\"EUR\",\"EUR\",\"LAT\",\"AF\",\"AF\",\"LAT\",\"AF\",\"EUR\",\"AF\",\"NAM\",\"AF\",\"AF\",\"ASI\",\"ASI\",\"LAT\",\"ASI\",\"LAT\",\"ASI\",\"ASI\",\"ASI\",\"ASI\",\"AF\",\"ASI\",\"AF\",\"EUR\",\"AF\",\"ASI\",\"ASI\",\"AF\",\"AF\",\"AF\",\"LAT\",\"EUR\",\"ASI\",\"AF\",\"AF\",\"AF\",\"ASI\",\"LAT\",\"LAT\",\"AF\",\"AF\",\"AF\",\"AF\",\"EUR\",\"LAT\",\"AF\",\"EUR\",\"EUR\",\"EUR\",\"AF\",\"EUR\",\"LAT\",\"AF\",\"AF\",\"LAT\",\"EUR\",\"EUR\",\"ASI\",\"AF\",\"AF\",\"EUR\",\"EUR\",\"EUR\",\"LAT\",\"ASI\",\"ASI\",\"OCE\",\"AF\",\"AF\",\"LAT\",\"ASI\",\"LAT\",\"ASI\",\"LAT\",\"AF\",\"EUR\",\"EUR\",\"ASI\",\"ASI\",\"AF\",\"ASI\",\"EUR\",\"LAT\",\"ASI\",\"EUR\",\"EUR\",\"AF\",\"ASI\",\"OCE\",\"ASI\",\"AF\",\"EUR\",\"EUR\",\"LAT\",\"EUR\",\"LAT\",\"AF\",\"EUR\",\"ASI\",\"ASI\",\"ASI\",\"LAT\",\"ASI\",\"EUR\",\"AF\",\"AF\",\"EUR\",\"EUR\",\"AF\",\"AF\",\"AF\",\"AF\",\"EUR\",\"LAT\",\"ASI\",\"AF\",\"AF\",\"EUR\",\"ASI\",\"ASI\",\"AF\",\"AF\",\"ASI\",\"LAT\",\"AF\",\"EUR\",\"ASI\",\"LAT\",\"EUR\",\"ASI\",\"OCE\",\"OCE\",\"AF\",\"LAT\",\"ASI\"],\"Country \":[\"Chine\",\"Inde\",\"USA\",\"Indon\\u00e9sie\",\"Br\\u00e9sil\",\"Pakistan\",\"Bangladesh\",\"Nig\\u00e9ria\",\"F\\u00e9d\\u00e9ration de Russie\",\"Japan\",\"Mexique\",\"Philippines\",\"Viet Nam\",\"Germany\",\"Egypte\",\"Ethiopie\",\"Turquie\",\"Iran, R\\u00e9publique islamique d'\",\"Tha\\u00eflande\",\"R\\u00e9p. D\\u00e9mocratique du Congo\",\"France\",\"UK\",\"Italie\",\"Myanmar\",\"Afrique du Sud\",\"South Korea\",\"Ukraine\",\"Espagne\",\"Colombie\",\"R\\u00e9publique-Unie de Tanzanie\",\"Soudan\",\"Argentine\",\"Kenya\",\"Pologne\",\"Alg\\u00e9rie\",\"Canada\",\"Ouganda\",\"Maroc\",\"Iraq\",\"Afghanistan\",\"P\\u00e9rou\",\"N\\u00e9pal\",\"Venezuela\",\"Ouzb\\u00e9kistan\",\"Malaisie\",\"Arabie saoudite\",\"R\\u00e9p. populaire d\\u00e9mocratique de Cor\\u00e9e\",\"Ghana\",\"Y\\u00e9men\",\"Mozambique\",\"Roumanie\",\"C\\u00f4te d'Ivoire\",\"R\\u00e9publique arabe syrienne\",\"Sri Lanka\",\"Madagascar\",\"Cameroun\",\"Angola\",\"Chili\",\"Netherlands\",\"Kazakhstan\",\"Burkina Faso\",\"Malawi\",\"Niger\",\"Cambodge\",\"Guatemala\",\"Equateur\",\"Mali\",\"Zambie\",\"Zimbabwe\",\"S\\u00e9n\\u00e9gal\",\"Gr\\u00e8ce\",\"Cuba\",\"Tchad\",\"Belgium\",\"Portugal\",\"Czech rep\",\"Tunisie\",\"Hongrie\",\"R\\u00e9publique dominicaine\",\"Guin\\u00e9e\",\"Rwanda\",\"Bolivie\",\"B\\u00e9larus\",\"Sweden\",\"Azerba\\u00efdjan\",\"B\\u00e9nin\",\"Burundi\",\"Switzerland\",\"Bulgarie\",\"Serbie\",\"Honduras\",\"Israel\",\"Tadjikistan\",\"Papouasie-Nouvelle-Guin\\u00e9e\",\"Togo\",\"Jamahiriya arabe libyenne\",\"Paraguay\",\"R\\u00e9p. d\\u00e9mocratique populaire lao\",\"El Salvador\",\"Jordanie\",\"Nicaragua\",\"Sierra Leone\",\"Denmark\",\"Finland\",\"Kirghizistan\",\"Turkm\\u00e9nistan\",\"Erythr\\u00e9e\",\"Singapour\",\"Norway\",\"Costa Rica\",\"Emirats arabes unis\",\"Croatie\",\"Ireland\",\"R\\u00e9publique centrafricaine\",\"G\\u00e9orgie\",\"New Zealand\",\"Liban\",\"Lib\\u00e9ria\",\"Bosnie-Herz\\u00e9govine\",\"R\\u00e9publique de Moldova\",\"Panama\",\"Lituanie\",\"Uruguay\",\"Mauritanie\",\"Albanie\",\"Arm\\u00e9nie\",\"Oman\",\"Kowe\\u00eft\",\"Jama\\u00efque\",\"Mongolie\",\"Lettonie\",\"Namibie\",\"Lesotho\",\"L'ex-R\\u00e9p. yougoslave de Mac\\u00e9doine\",\"Slov\\u00e9nie\",\"Botswana\",\"Gambie\",\"Guin\\u00e9e-Bissau\",\"Gabon\",\"Estonie\",\"Trinit\\u00e9-et-Tobago\",\"Qatar\",\"Maurice\",\"Swaziland\",\"Chypre\",\"Bahre\\u00efn\",\"Bhoutan\",\"Guin\\u00e9e \\u00e9quatoriale\",\"Comores\",\"Macao, Chine\",\"Suriname\",\"Cap-Vert\",\"Malte\",\"Brun\\u00e9i Darussalam\",\"Bahamas\",\"Iceland\",\"Maldives\",\"Vanuatu\",\"Samoa\",\"Sao Tom\\u00e9-et-Principe\",\"Aruba\",\"Tonga\"],\"female literacy\":{\"__ndarray__\":\"AAAAAACgVkBmZmZmZmZJQAAAAAAAwFhAMzMzMzMzVkDNzMzMzIxWQAAAAAAAAERAZmZmZmbmSEBmZmZmZmZIQJqZmZmZ2VhAAAAAAADAWEAAAAAAAOBWQJqZmZmZeVdAzczMzMyMVkAAAAAAAMBYQGZmZmZm5kxAzczMzMzMNkAzMzMzM1NUQM3MzMzMTFNAAAAAAADgVkDNzMzMzAxMQAAAAAAAwFhAAAAAAADAWEAAAAAAAKBYQM3MzMzMTFZAZmZmZmYGVkBmZmZmZiZYQGZmZmZm5lhAmpmZmZk5WECamZmZmVlXQDMzMzMzk1BAzczMzMzMTUDNzMzMzGxYQDMzMzMzs1RAMzMzMzPTWEAzMzMzM/NPQAAAAAAAwFhAMzMzMzOzUEDNzMzMzAxGQM3MzMzMTFFAMzMzMzMzKUBmZmZmZiZVQDMzMzMzs0ZAmpmZmZm5V0CamZmZmblYQDMzMzMzc1ZAzczMzMwMVEAAAAAAAABZQGZmZmZmpk1AZmZmZmZmRUDNzMzMzAxEQJqZmZmZOVhAZmZmZmYmRkDNzMzMzExTQGZmZmZmRlZAMzMzMzNTUEAzMzMzM/NQQAAAAAAAgExAzczMzMysWEAAAAAAAMBYQAAAAAAA4FhAmpmZmZmZNUAzMzMzM3NQQDMzMzMzMy5AmpmZmZm5UUDNzMzMzCxRQM3MzMzMbFRAMzMzMzMzMkAAAAAAAIBOQDMzMzMzM1ZAAAAAAACAQECamZmZmflXQDMzMzMz81hAZmZmZmbmNUAAAAAAAMBYQJqZmZmZOVdAAAAAAADAWEAAAAAAAMBRQJqZmZmZuVhAMzMzMzMTVkBmZmZmZmY6QGZmZmZmhlBAAAAAAACAVUDNzMzMzOxYQAAAAAAAwFhAzczMzMzMWECamZmZmRk8QDMzMzMz801AAAAAAADAWECamZmZmXlYQM3MzMzMDFhAAAAAAADgVECamZmZmflXQAAAAAAA4FhAzczMzMzMS0CamZmZmdlKQDMzMzMzU1RAAAAAAABgV0CamZmZmZlPQJqZmZmZWVRAmpmZmZk5VkCamZmZmXlTQGZmZmZm5jxAAAAAAADAWEAAAAAAAABZQGZmZmZmxlhAMzMzMzPTWEAAAAAAAEBLQGZmZmZm5lZAAAAAAAAAWUDNzMzMzAxYQAAAAAAA4FZAAAAAAACAWEAAAAAAAMBYQM3MzMzMjERAzczMzMzsWEAAAAAAAMBYQAAAAAAAgFVAAAAAAACASkCamZmZmflXQDMzMzMzc1hAMzMzMzMzV0DNzMzMzOxYQAAAAAAAoFhAAAAAAADASEDNzMzMzKxYQJqZmZmZ2VhAmpmZmZk5VEBmZmZmZkZXQDMzMzMzs1ZAMzMzMzNzWEAzMzMzM/NYQM3MzMzM7FVAZmZmZmbGV0CamZmZmdlXQM3MzMzM7FhAAAAAAADgVEBmZmZmZiZBQAAAAAAAQEJAzczMzMzMVEAzMzMzM/NYQM3MzMzMjFhAmpmZmZmZVkAzMzMzMzNVQGZmZmZmZlVAzczMzMwsWECamZmZmVlWQJqZmZmZWUNAZmZmZmZGVkAzMzMzM/NQQM3MzMzMrFZAmpmZmZkZVkAzMzMzM9NTQAAAAAAAYFdAMzMzMzNTV0AAAAAAACBYQAAAAAAAwFhAmpmZmZmZWEAAAAAAAOBTQAAAAAAAoFhAMzMzMzPTVEAAAAAAAIBYQGZmZmZmxlhA\",\"dtype\":\"float64\",\"shape\":[162]},\"fertility\":{\"__ndarray__\":\"6Pup8dJN/D/b+X5qvHQFQARWDi2ynQBAdJMYBFYOAUAIrBxaZDv9P2Dl0CLb+Q5A6Pup8dJNAkD91HjpJrEUQH0/NV66SfY//tR46SYx9D9zaJHtfD8BQGmR7Xw/NQhA3SQGgZVDAEDJdr6fGi/1P7tJDAIrhwZA8tJNYhDYFEDNzMzMzMwAQOXQItv5fvw/8/3UeOkm/T9uEoPAyqEXQH9qvHSTGP4/bhKDwMqh/T89CtejcD32P3Noke18PwJACtejcD0KBEAv3SQGgZXzPy2yne+nxvU/sXJoke189z8IrBxaZDsDQBSuR+F6FBZACKwcWmQ7EEBjEFg5tMgBQFYOLbKdbxNAE4PAyqFF9D8j2/l+arwCQN0kBoGVQ/k/arx0kxgEGUB56SYxCKwCQOSlm8QgsA9AhetRuB4FGkA9CtejcD0EQC/dJAaBlQZAlkOLbOf7A0CWQ4ts5/sBQKrx0k1iEARAUrgehetRCEBEi2zn+6n9P+F6FK5H4RBAZmZmZmZmFECR7Xw/Nd4TQDMzMzMzM/U/dJMYBFYOEkD8qfHSTWIJQBFYObTIdgJAexSuR+F6EkBEi2zn+ykSQEA1XrpJjBZAN4lBYOXQ/j/AyqFFtvP7PycxCKwcWgJAd76fGi9dF0BSuB6F69EVQC2yne+nRhxArBxaZDvfBkDfT42XbhIQQLTIdr6fGgRAH4XrUbieFUCmm8QgsPIWQIGVQ4ts5wpAj8L1KFyPE0ApXI/C9Sj2PxSuR+F6FPg/bef7qfFSGEAlBoGVQ4v8P0A1XrpJDPY/MzMzMzMz9z/b+X5qvHT9P+xRuB6F6/U/TDeJQWDlBEA3iUFg5VAVQFK4HoXrURVALIcW2c73CkDl0CLb+X70P1YOLbKd7/0/001iEFg5AUBPjZduEoMVQM3MzMzMzBFAXI/C9Shc9z9g5dAi2/n2P5duEoPAyvk/hetRuB6FCUBqvHSTGAQGQM3MzMzMzApACtejcD0KEEBEi2zn+6kQQIlBYOXQIgVAN4lBYOXQB0BSuB6F61ELQFyPwvUoXAJA8/3UeOkmCEARWDm0yHYFQClcj8L1qBRAL90kBoGV/T/GSzeJQWD9P7+fGi/dJARAcT0K16NwA0DqJjEIrBwSQGiR7Xw/NfQ/KVyPwvUo/j9KDAIrhxb/P/yp8dJNYv4/30+Nl24S9z9zaJHtfD//P30/NV66yRJAHFpkO99P+T8zMzMzMzMAQNv5fmq8dP0/JQaBlUMLFEAxCKwcWmTzP9R46SYxCPg/VOOlm8QgBECsHFpkO9/1P4PAyqFFtgBAWmQ730+NEUBEi2zn+6n9PyyHFtnO9/s/bef7qfHSB0Cd76fGSzcBQEw3iUFg5QJAAyuHFtnO/z83iUFg5dD2P1K4HoXrUQpA6SYxCKwcCkBg5dAi2/n2P30/NV66SfY/+n5qvHSTBkDGSzeJQeATQIlBYOXQohZA7FG4HoXrCUBKDAIrhxb7PyYxCKwcWvo/4XoUrkfhAkB46SYxCKz8P5qZmZmZmQtAqMZLN4lB+D93vp8aL90BQBsv3SQGgQRAbhKDwMohFUAUrkfhehQPQLbz/dR46e4/lkOLbOf7AkDo+6nx0k0FQGq8dJMYBPQ/0SLb+X5qAEAshxbZzvcKQFg5tMh2vgBAAAAAAAAAAECq8dJNYhAPQDeJQWDl0A5AWDm0yHa+DUCDwMqhRbb7PwaBlUOLbA9A\",\"dtype\":\"float64\",\"shape\":[162]},\"index\":[0,1,2,3,4,5,6,7,8,9,10,11,12,13,14,15,16,17,18,19,20,21,22,23,24,25,26,27,28,29,30,31,32,33,34,35,36,37,38,39,40,41,42,43,44,45,46,47,48,49,50,51,52,53,54,55,56,57,58,59,60,61,62,63,64,65,66,67,68,69,70,71,72,73,74,75,76,77,78,79,80,81,82,83,84,85,86,87,88,89,90,91,92,93,94,95,96,97,98,99,100,101,102,103,104,105,106,107,108,109,110,111,112,113,114,115,116,117,118,119,120,121,122,123,124,125,126,127,128,129,130,131,132,133,134,135,136,137,138,139,140,141,142,143,144,145,146,147,148,149,150,151,152,153,154,155,156,157,158,159,160,161],\"population\":[\"1,324,655,000\",\"1,139,964,932\",\"304,060,000\",\"227,345,082\",\"191,971,506\",\"166,111,487\",\"160,000,128\",\"151,212,254\",\"141,950,000\",\"127,704,000\",\"106,350,434\",\"90,348,437\",\"86,210,781\",\"82,110,097\",\"81,527,172\",\"80,713,434\",\"73,914,260\",\"71,956,322\",\"67,386,383\",\"64,256,635\",\"62,277,432\",\"61,414,062\",\"59,832,179\",\"49,563,019\",\"48,687,000\",\"48,607,000\",\"46,258,200\",\"45,555,716\",\"45,012,096\",\"42,483,923\",\"41,347,723\",\"39,882,980\",\"38,765,312\",\"38,125,759\",\"34,373,426\",\"33,311,400\",\"31,656,865\",\"31,605,616\",\"30,711,152\",\"29,021,099\",\"28,836,700\",\"28,809,526\",\"27,935,000\",\"27,313,700\",\"27,014,337\",\"24,645,686\",\"23,818,753\",\"23,350,927\",\"22,917,485\",\"22,382,533\",\"21,513,622\",\"20,591,302\",\"20,581,290\",\"20,156,204\",\"19,110,941\",\"19,088,385\",\"18,020,668\",\"16,803,952\",\"16,445,593\",\"15,674,833\",\"15,233,884\",\"14,846,182\",\"14,704,318\",\"14,562,008\",\"13,686,128\",\"13,481,424\",\"12,705,736\",\"12,620,219\",\"12,462,879\",\"12,211,181\",\"11,237,094\",\"11,204,735\",\"10,913,667\",\"10,708,433\",\"10,622,413\",\"10,424,336\",\"10,327,800\",\"10,038,188\",\"9,952,711\",\"9,833,055\",\"9,720,694\",\"9,694,113\",\"9,680,850\",\"9,219,637\",\"8,680,100\",\"8,662,086\",\"8,074,254\",\"7,647,675\",\"7,623,395\",\"7,350,221\",\"7,318,789\",\"7,308,800\",\"6,836,083\",\"6,576,822\",\"6,458,605\",\"6,294,181\",\"6,237,855\",\"6,205,341\",\"6,133,910\",\"5,906,043\",\"5,667,325\",\"5,559,853\",\"5,493,621\",\"5,313,399\",\"5,277,900\",\"5,043,618\",\"4,926,877\",\"4,839,400\",\"4,768,212\",\"4,519,126\",\"4,484,935\",\"4,434,000\",\"4,425,675\",\"4,339,263\",\"4,307,011\",\"4,268,900\",\"4,193,758\",\"3,793,400\",\"3,773,100\",\"3,633,369\",\"3,398,823\",\"3,358,115\",\"3,334,052\",\"3,215,043\",\"3,143,291\",\"3,077,087\",\"2,785,361\",\"2,728,041\",\"2,687,200\",\"2,641,216\",\"2,266,094\",\"2,129,854\",\"2,049,429\",\"2,041,342\",\"2,021,316\",\"1,921,122\",\"1,660,200\",\"1,575,446\",\"1,448,159\",\"1,340,675\",\"1,333,388\",\"1,280,862\",\"1,268,854\",\"1,167,834\",\"862,434\",\"775,585\",\"686,789\",\"659,197\",\"643,571\",\"526,178\",\"515,124\",\"498,672\",\"411,950\",\"392,280\",\"337,668\",\"317,414\",\"305,027\",\"233,866\",\"178,869\",\"160,174\",\"105,455\",\"103,566\"]},\"selected\":{\"id\":\"4d6c4bd1-c59c-45d0-9c74-d78fd254c2ac\",\"type\":\"Selection\"},\"selection_policy\":{\"id\":\"a782ff8f-371b-489a-9fa2-3b6a61df90eb\",\"type\":\"UnionRenderers\"}},\"id\":\"0428eb99-e806-43c6-aa86-f979c9c0912b\",\"type\":\"ColumnDataSource\"},{\"attributes\":{\"factors\":[\"ASI\",\"NAM\",\"LAT\",\"AF\",\"EUR\",\"OCE\"],\"palette\":[\"red\",\"green\",\"blue\",\"gray\",\"cyan\",\"black\"]},\"id\":\"acee8f92-d631-4381-b036-164d84b96e54\",\"type\":\"CategoricalColorMapper\"},{\"attributes\":{},\"id\":\"a782ff8f-371b-489a-9fa2-3b6a61df90eb\",\"type\":\"UnionRenderers\"},{\"attributes\":{\"plot\":{\"id\":\"2a661395-e357-4ba2-bb23-cac48927ca14\",\"subtype\":\"Figure\",\"type\":\"Plot\"},\"ticker\":{\"id\":\"60f791e0-8117-41ac-aca7-dc80c62ccd6f\",\"type\":\"BasicTicker\"}},\"id\":\"7a991972-eeb5-4cf5-8a6f-35685c097483\",\"type\":\"Grid\"},{\"attributes\":{},\"id\":\"4d6c4bd1-c59c-45d0-9c74-d78fd254c2ac\",\"type\":\"Selection\"},{\"attributes\":{\"fill_color\":{\"field\":\"Continent\",\"transform\":{\"id\":\"acee8f92-d631-4381-b036-164d84b96e54\",\"type\":\"CategoricalColorMapper\"}},\"line_color\":{\"field\":\"Continent\",\"transform\":{\"id\":\"acee8f92-d631-4381-b036-164d84b96e54\",\"type\":\"CategoricalColorMapper\"}},\"x\":{\"field\":\"fertility\"},\"y\":{\"field\":\"female literacy\"}},\"id\":\"520a2b3e-4f32-44fc-a6bf-df26c9872f71\",\"type\":\"Circle\"},{\"attributes\":{\"callback\":null,\"renderers\":\"auto\",\"tooltips\":[[\"Country\",\"@Country\"]]},\"id\":\"bcab0df1-a3c3-41b5-ada0-caf6590dcb96\",\"type\":\"HoverTool\"},{\"attributes\":{\"active_drag\":\"auto\",\"active_inspect\":\"auto\",\"active_multi\":null,\"active_scroll\":\"auto\",\"active_tap\":\"auto\",\"tools\":[{\"id\":\"4aa7a467-4fd1-4837-99bd-9a63db6f931e\",\"type\":\"PanTool\"},{\"id\":\"4a896b9e-8ae7-4eaa-ba04-a1d8a0119292\",\"type\":\"WheelZoomTool\"},{\"id\":\"c55efdee-964c-402c-aba8-73a0d6020778\",\"type\":\"BoxZoomTool\"},{\"id\":\"12cd345f-2d35-47ca-a0d8-160d7f3006dd\",\"type\":\"SaveTool\"},{\"id\":\"12008567-07a4-4f29-8096-0f1063019e34\",\"type\":\"ResetTool\"},{\"id\":\"19c23b9c-b853-4fbd-9471-471c8e42d340\",\"type\":\"HelpTool\"},{\"id\":\"bcab0df1-a3c3-41b5-ada0-caf6590dcb96\",\"type\":\"HoverTool\"}]},\"id\":\"dbb1634b-85d9-4d3e-99cb-808395e01352\",\"type\":\"Toolbar\"},{\"attributes\":{\"below\":[{\"id\":\"f25748a7-4218-44e7-95ee-9fc3016a9abe\",\"type\":\"LinearAxis\"}],\"left\":[{\"id\":\"a2729650-8a76-4e34-8a32-5828da0893b9\",\"type\":\"LinearAxis\"}],\"renderers\":[{\"id\":\"f25748a7-4218-44e7-95ee-9fc3016a9abe\",\"type\":\"LinearAxis\"},{\"id\":\"7a991972-eeb5-4cf5-8a6f-35685c097483\",\"type\":\"Grid\"},{\"id\":\"a2729650-8a76-4e34-8a32-5828da0893b9\",\"type\":\"LinearAxis\"},{\"id\":\"80f0a33c-d70c-4a1b-8beb-afb3f02ba32a\",\"type\":\"Grid\"},{\"id\":\"7ee762d2-8a01-432b-abb0-8270cebe9022\",\"type\":\"BoxAnnotation\"},{\"id\":\"73111bda-6e6a-45b7-8eb2-7b97bd14c7a8\",\"type\":\"Legend\"},{\"id\":\"77c5a4eb-a9b4-4c9a-8410-a9b8ebce4d5b\",\"type\":\"GlyphRenderer\"}],\"title\":{\"id\":\"60c33122-abbc-49ee-9c68-b13a6e93a1ad\",\"type\":\"Title\"},\"toolbar\":{\"id\":\"dbb1634b-85d9-4d3e-99cb-808395e01352\",\"type\":\"Toolbar\"},\"x_range\":{\"id\":\"7b663997-44b0-49ab-b9b2-69922f82507a\",\"type\":\"DataRange1d\"},\"x_scale\":{\"id\":\"299d7527-5f50-4c90-8fba-094004a6f283\",\"type\":\"LinearScale\"},\"y_range\":{\"id\":\"c589e657-9c82-4dbf-b6ff-053eb010952e\",\"type\":\"DataRange1d\"},\"y_scale\":{\"id\":\"fdf1e9bd-69ae-498e-b708-19c767fcb8da\",\"type\":\"LinearScale\"}},\"id\":\"2a661395-e357-4ba2-bb23-cac48927ca14\",\"subtype\":\"Figure\",\"type\":\"Plot\"},{\"attributes\":{\"axis_label\":\"female_literacy (% population)\",\"formatter\":{\"id\":\"b76d8895-623a-48a2-84d8-4e50c968259f\",\"type\":\"BasicTickFormatter\"},\"plot\":{\"id\":\"2a661395-e357-4ba2-bb23-cac48927ca14\",\"subtype\":\"Figure\",\"type\":\"Plot\"},\"ticker\":{\"id\":\"26c1a291-0187-4b9a-9f6f-1b3d03046472\",\"type\":\"BasicTicker\"}},\"id\":\"a2729650-8a76-4e34-8a32-5828da0893b9\",\"type\":\"LinearAxis\"}],\"root_ids\":[\"2a661395-e357-4ba2-bb23-cac48927ca14\"]},\"title\":\"Bokeh Application\",\"version\":\"0.13.0\"}};\n",
       "  var render_items = [{\"docid\":\"7de03dd4-9391-4daa-9b6e-757a0ae3929b\",\"roots\":{\"2a661395-e357-4ba2-bb23-cac48927ca14\":\"d3541762-4cac-425d-b4d6-0dda7e8cb4b3\"}}];\n",
       "  root.Bokeh.embed.embed_items_notebook(docs_json, render_items);\n",
       "\n",
       "  }\n",
       "  if (root.Bokeh !== undefined) {\n",
       "    embed_document(root);\n",
       "  } else {\n",
       "    var attempts = 0;\n",
       "    var timer = setInterval(function(root) {\n",
       "      if (root.Bokeh !== undefined) {\n",
       "        embed_document(root);\n",
       "        clearInterval(timer);\n",
       "      }\n",
       "      attempts++;\n",
       "      if (attempts > 100) {\n",
       "        console.log(\"Bokeh: ERROR: Unable to run BokehJS code because BokehJS library is missing\")\n",
       "        clearInterval(timer);\n",
       "      }\n",
       "    }, 10, root)\n",
       "  }\n",
       "})(window);"
      ],
      "application/vnd.bokehjs_exec.v0+json": ""
     },
     "metadata": {
      "application/vnd.bokehjs_exec.v0+json": {
       "id": "2a661395-e357-4ba2-bb23-cac48927ca14"
      }
     },
     "output_type": "display_data"
    }
   ],
   "source": [
    "# Create a HoverTool object: hover\n",
    "hover = HoverTool(tooltips=[('Country', '@Country')])\n",
    "\n",
    "# Add the HoverTool object to figure p\n",
    "p.add_tools(hover)\n",
    "\n",
    "# Specify the name of the output_file and show the result\n",
    "output_file('hover.html')\n",
    "show(p)"
   ]
  },
  {
   "cell_type": "markdown",
   "metadata": {},
   "source": [
    "# Bokeh server"
   ]
  },
  {
   "cell_type": "markdown",
   "metadata": {},
   "source": [
    "## Using the current document\n",
    "\n",
    "Let's get started with building an interactive Bokeh app. This typically begins with importing the curdoc, or \"current document\", function from bokeh.io. This current document will eventually hold all the plots, controls, and layouts that you create. Your job in this exercise is to use this function to add a single plot to your application.\n",
    "\n",
    "In the video, Bryan described the process for running a Bokeh app using the bokeh serve command line tool. In this chapter and the one that follows, the DataCamp environment does this for you behind the scenes. Notice that your code is part of a script.py file. When you hit 'Submit Answer', you'll see in the IPython Shell that we call bokeh serve script.py for you.\n",
    "\n",
    "Remember, as in the previous chapters, that there are different options available for you to interact with your plots, and as before, you may have to scroll down to view the lower portion of the plots."
   ]
  },
  {
   "cell_type": "code",
   "execution_count": 12,
   "metadata": {},
   "outputs": [],
   "source": [
    "# Create a new plot: plot\n",
    "plot = figure()\n",
    "\n",
    "# Add a line to the plot\n",
    "plot.line([1,2,3,4,5], [2,5,4,6,7])\n",
    "\n",
    "# Add the plot to the current document\n",
    "curdoc().add_root(plot)"
   ]
  },
  {
   "cell_type": "markdown",
   "metadata": {},
   "source": [
    "## Add a single slider\n",
    "\n",
    "In the previous exercise, you added a single plot to the \"current document\" of your application. In this exercise, you'll practice adding a layout to your current document.\n",
    "\n",
    "Your job here is to create a single slider, use it to create a widgetbox layout, and then add this layout to the current document.\n",
    "\n",
    "The slider you create here cannot be used for much, but in the later exercises, you'll use it to update your plot"
   ]
  },
  {
   "cell_type": "code",
   "execution_count": 13,
   "metadata": {},
   "outputs": [],
   "source": [
    "# Create a slider: slider\n",
    "slider = Slider(title='my slider', start=0, end=10, step=0.1, value=2)\n",
    "\n",
    "# Create a widgetbox layout: layout\n",
    "layout = widgetbox(slider)\n",
    "\n",
    "# Add the layout to the current document\n",
    "curdoc().add_root(layout)"
   ]
  },
  {
   "cell_type": "markdown",
   "metadata": {},
   "source": [
    "## Multiple sliders in one document\n",
    "\n",
    "Having added a single slider in a widgetbox layout to your current document, you'll now add multiple sliders into the current document.\n",
    "\n",
    "Your job in this exercise is to create two sliders, add them to a widgetbox layout, and then add the layout into the current document."
   ]
  },
  {
   "cell_type": "code",
   "execution_count": 14,
   "metadata": {},
   "outputs": [],
   "source": [
    "# Create first slider: slider1\n",
    "slider1 = Slider(title='slider1', start=0, end=10, step=0.1, value=2)\n",
    "\n",
    "# Create second slider: slider2\n",
    "slider2 = Slider(title='slider2', start=10, end=100, step=1, value=20)\n",
    "\n",
    "# Add slider1 and slider2 to a widgetbox\n",
    "layout = widgetbox(slider1, slider2)\n",
    "\n",
    "# Add the layout to the current document\n",
    "curdoc().add_root(layout)"
   ]
  },
  {
   "cell_type": "markdown",
   "metadata": {},
   "source": [
    "## How to combine Bokeh models into layouts\n",
    "\n",
    "Let's begin making a Bokeh application that has a simple slider and plot, that also updates the plot based on the slider.\n",
    "\n",
    "In this exercise, your job is to first explicitly create a ColumnDataSource. You'll then combine a plot and a slider into a single column layout, and add it to the current document.\n",
    "\n",
    "After you are done, notice how in the figure you generate, the slider will not actually update the plot, because a widget callback has not been defined. You'll learn how to update the plot using widget callbacks in the next exercise.\n",
    "\n",
    "All the necessary modules have been imported for you. The plot is available in the workspace as plot, and the slider is available as slider."
   ]
  },
  {
   "cell_type": "code",
   "execution_count": 15,
   "metadata": {},
   "outputs": [
    {
     "data": {
      "text/html": [
       "\n",
       "\n",
       "\n",
       "\n",
       "\n",
       "\n",
       "  <div class=\"bk-root\" id=\"ab216302-84f4-46a7-b366-ca468541d8a1\"></div>\n"
      ]
     },
     "metadata": {},
     "output_type": "display_data"
    },
    {
     "data": {
      "application/javascript": [
       "(function(root) {\n",
       "  function embed_document(root) {\n",
       "    \n",
       "  var docs_json = {\"da849745-e023-4d29-9881-f28994c22579\":{\"roots\":{\"references\":[{\"attributes\":{\"callback\":null},\"id\":\"88bddf7d-dcec-40ee-b237-41931696c36b\",\"type\":\"DataRange1d\"},{\"attributes\":{\"fill_color\":{\"value\":\"#1f77b4\"},\"line_color\":{\"value\":\"#1f77b4\"},\"x\":{\"field\":\"x\"},\"y\":{\"field\":\"y\"}},\"id\":\"909aad1a-d5f1-4a05-8979-b0419003cdcf\",\"type\":\"Circle\"},{\"attributes\":{\"plot\":null,\"text\":\"\"},\"id\":\"5d1651d2-0f54-411e-898a-4ab49d48d453\",\"type\":\"Title\"},{\"attributes\":{},\"id\":\"0e443e04-257a-49ce-9a2e-67a6782861d8\",\"type\":\"LinearScale\"},{\"attributes\":{\"callback\":null,\"data\":{\"x\":{\"__ndarray__\":\"4Snx6twaHEA2QqvvDTgQQAcycc6x0xtAPhInb0z2HECF3HGsZ9QGQF41asvfvxhACPZsshrPEkDCUwwZ/LsSQBi+zAcioyJADc0XBPBHFUBmVFrtHwwFQEJ4UUto3hZANpc7vn2oE0AHneGLPjcAQCmv8wFJwR1AtEY9NVL6C0D00la3lz4MQD4ysbAvkRJA6Hl8vroJ4z/yWuoezs4TQNUDOb0xexVAEn1Z1zdWIEBOmovCnh8hQA1Hra7tJhFAU71bklF3FEDIhd2DMtYTQO9eSxB5TBlASoqOxRaZFkBWDYyYOW4cQI1/7iB4MRJAdMB4d3TLGUAqju/iGq38P9piQd4i/QlA9I/EtDKzHUCRKl5QuUkRQF4J3F840RRADO6Q8HyrGEBmJzUumPwaQChsiSnOghpAZFkeBHpIDkDglrUyZ+MbQEbr/st08RhASL0h2ZtfGEAyzrov2rgNQFlR/wF3axRAtstluvtP/D86Kb4URE0KQEEWVeHR1hBATQh42mMNEEDScjgJausVQJHJQ1wgrwFAMz26YCJvGkBYl4DLewUVQAA10V08Nw1AiYt+ChemHEA0BIKV4O4TQD46ieToVhZA45x9uC7aEkAKNwZP3oUQQFJnAW9qrR5AIM8SEdOxEECYtTJz1toIQLifjUztohVAfkqR2KdkE0DwUAendkTbvy6irAfQyBNAj1Sk+6gDDUBYPS/iqmQOQDGPOiuNJQJANFqNopmU/T9Sc0ir9kQTQKAaxBY1Lg9Ay5IA/G4PAUBfuVISgsMXQByGjx1/rBNAzN2SV/4dEkA3Zq8Kq6MMQD07c/Zo/xBAruyu1XZIEUC2qdB72k8fQLCkVDn7FRtAaEPNE/MwAkBIjJ/F9ykcQDxsPGGOaCBAk8lMYqzbGEBZGHMkBDMYQMWIZgtJmANA+n42dTpADkDq5SiUragUQLGJ49ow5xtAmueavCU+AUA2WH49410cQPJOLCzwGxZAyED/S63MHEDoRZWmwY4fQIIP5Y0lkw1A3AfzO3/eFUCs9TfwHokXQHZMkOJlVxNAFwdGWfu7EUA=\",\"dtype\":\"float64\",\"shape\":[100]},\"y\":{\"__ndarray__\":\"jbqksFNgF0CQv5VHb50YQBw415MpUhZAy7ulfnvHIEAUGMPQ4xAaQOFMhA6puRhAh7c0yN3ZE0DOF9vYlzAfQMK1V+hSgRZAsSB6dEoHGUDkG77EW8oaQCn0Jq8e9hxAInqns30KG0D8PmhaGBMYQD0oTsDvNR1Aa8KmCbgnFEDqAWQYhr4VQFR5yQxmABxADusXTzxoHUA/0LELOtkVQJ5UwuA1HBlA8OCTcad8G0DTrkzPO2wYQCuf+SjGgRpAa7PV+RLLHkA1DdwPXlQXQPcjtZer2BxAqyETa3AXFUC55iL7ZJQXQEMNY6iK8BpA+IqQIZWVE0C77N2M+58WQL3Sb//+7BpAb6F+uTHnGEAdT9xZJLsbQFBSfq9nqBpAw6PxFkSSIEB4GdoOxbMgQK2lllSn2RdAwRJ6cwEZGkB3ZkJ1QK0bQKk21xvgkRpA/HwzgrXTEkCiA0+e9rAXQNhYkb5ccRhAElVlUtkgHkCEfhSCBJwaQL6H9cjV7xdAp5Ya8MEFGEBUUYJbcvQZQL9C84ocrBhArNq1u3nPF0DM4vpT36kWQKkAfG5TyhpAgzF69S+jE0Attwa7YhwgQDN86afFWBpASRgpywdSFkDI4jxpihAdQARD7saRKCBA+XSLY1JFFkBMWjmAeiAXQGyaKGr5/hhA6frTQMG+FUBl4AQAIBMbQNnlVP6/kRtA9CLmBBgAGUBvKqzP2IQIQArEYXxTqxxAbhY5NgelG0CQmOd1xoUgQKYzaJLOLRlA+oa1NSHoFkBUqQ2vq0ccQD2INrEQPxVAooPjmsC8FkC7CBA3qw0YQAsL86GSdRlALUBxU+t5F0DOdSyXQv4UQBluTpr4qxVA/wYyO2yMGECBoQA2Nu4WQP82sXPAeRtAKShXguyiG0Dbbu0psvEgQGzD7WsllRdAe1RkLypjFUAC2Q68UR4XQKDO4qUkXSBARu9SXCExHECWiIEuwiMTQPh+Z8X6PBVAnBc2SWZyGkCQ0vrGkhcSQAmJ89PXRhdAl5Zmj8DAG0AOzv6hVuscQFzC22oWihRAZYSXY+DCF0A=\",\"dtype\":\"float64\",\"shape\":[100]}},\"selected\":{\"id\":\"1db93d40-23bf-412e-a481-55393b6d9f00\",\"type\":\"Selection\"},\"selection_policy\":{\"id\":\"420438dc-bda5-4b88-8580-8dc80721b6a1\",\"type\":\"UnionRenderers\"}},\"id\":\"243394f6-ec1a-4d82-b950-25bc80bf6f10\",\"type\":\"ColumnDataSource\"},{\"attributes\":{},\"id\":\"4e44c495-eaa7-420e-8294-f3a7dcfb8756\",\"type\":\"WheelZoomTool\"},{\"attributes\":{\"formatter\":{\"id\":\"fb8e0f36-5dc3-40c9-9856-996f44f6f2bc\",\"type\":\"BasicTickFormatter\"},\"plot\":{\"id\":\"d367185e-febd-4ece-8fc6-3abd723a2194\",\"subtype\":\"Figure\",\"type\":\"Plot\"},\"ticker\":{\"id\":\"23f798e4-a355-45a8-836a-399345733343\",\"type\":\"BasicTicker\"}},\"id\":\"3726e90d-370d-4b0e-a4d7-4c113b8ef6c9\",\"type\":\"LinearAxis\"},{\"attributes\":{\"source\":{\"id\":\"243394f6-ec1a-4d82-b950-25bc80bf6f10\",\"type\":\"ColumnDataSource\"}},\"id\":\"66b8843a-a380-4322-9380-05caf21e735d\",\"type\":\"CDSView\"},{\"attributes\":{\"dimension\":1,\"plot\":{\"id\":\"d367185e-febd-4ece-8fc6-3abd723a2194\",\"subtype\":\"Figure\",\"type\":\"Plot\"},\"ticker\":{\"id\":\"c70d4bad-5f0d-4733-898e-3ef51e994e42\",\"type\":\"BasicTicker\"}},\"id\":\"4cba433a-2461-4186-94b0-d2ab3b3ff366\",\"type\":\"Grid\"},{\"attributes\":{\"data_source\":{\"id\":\"243394f6-ec1a-4d82-b950-25bc80bf6f10\",\"type\":\"ColumnDataSource\"},\"glyph\":{\"id\":\"909aad1a-d5f1-4a05-8979-b0419003cdcf\",\"type\":\"Circle\"},\"hover_glyph\":null,\"muted_glyph\":null,\"nonselection_glyph\":{\"id\":\"f9afd232-84ca-4563-95f9-a4b74387d87d\",\"type\":\"Circle\"},\"selection_glyph\":null,\"view\":{\"id\":\"66b8843a-a380-4322-9380-05caf21e735d\",\"type\":\"CDSView\"}},\"id\":\"946d628b-a2f1-4c2a-b929-1cb4f0ac4a1e\",\"type\":\"GlyphRenderer\"},{\"attributes\":{},\"id\":\"420438dc-bda5-4b88-8580-8dc80721b6a1\",\"type\":\"UnionRenderers\"},{\"attributes\":{\"active_drag\":\"auto\",\"active_inspect\":\"auto\",\"active_multi\":null,\"active_scroll\":\"auto\",\"active_tap\":\"auto\",\"tools\":[{\"id\":\"bbda6b1b-c747-4622-9555-58d2bc4bc9e7\",\"type\":\"PanTool\"},{\"id\":\"4e44c495-eaa7-420e-8294-f3a7dcfb8756\",\"type\":\"WheelZoomTool\"},{\"id\":\"a1c94565-ac22-4c8b-8396-15b17cb8cb06\",\"type\":\"BoxZoomTool\"},{\"id\":\"545b5c6c-88c1-404c-975f-1b398f5b4a1f\",\"type\":\"SaveTool\"},{\"id\":\"23376d5b-bee9-4991-b23f-b4fab14ffdab\",\"type\":\"ResetTool\"},{\"id\":\"9a9b143b-d375-4b73-aae3-faf15ad91666\",\"type\":\"HelpTool\"}]},\"id\":\"86a0591a-8c33-42b8-8023-4d03611bd114\",\"type\":\"Toolbar\"},{\"attributes\":{\"formatter\":{\"id\":\"897069c2-6131-45b2-b94b-edfd4d56686b\",\"type\":\"BasicTickFormatter\"},\"plot\":{\"id\":\"d367185e-febd-4ece-8fc6-3abd723a2194\",\"subtype\":\"Figure\",\"type\":\"Plot\"},\"ticker\":{\"id\":\"c70d4bad-5f0d-4733-898e-3ef51e994e42\",\"type\":\"BasicTicker\"}},\"id\":\"a8505236-e71d-48fb-9ba4-7f425a864ac0\",\"type\":\"LinearAxis\"},{\"attributes\":{},\"id\":\"03fa7acf-7936-461d-8426-13a735b3c691\",\"type\":\"LinearScale\"},{\"attributes\":{},\"id\":\"9a9b143b-d375-4b73-aae3-faf15ad91666\",\"type\":\"HelpTool\"},{\"attributes\":{},\"id\":\"23f798e4-a355-45a8-836a-399345733343\",\"type\":\"BasicTicker\"},{\"attributes\":{},\"id\":\"897069c2-6131-45b2-b94b-edfd4d56686b\",\"type\":\"BasicTickFormatter\"},{\"attributes\":{},\"id\":\"545b5c6c-88c1-404c-975f-1b398f5b4a1f\",\"type\":\"SaveTool\"},{\"attributes\":{\"overlay\":{\"id\":\"dbdb7c90-6b29-437d-ba73-3d4966ee7485\",\"type\":\"BoxAnnotation\"}},\"id\":\"a1c94565-ac22-4c8b-8396-15b17cb8cb06\",\"type\":\"BoxZoomTool\"},{\"attributes\":{\"plot\":{\"id\":\"d367185e-febd-4ece-8fc6-3abd723a2194\",\"subtype\":\"Figure\",\"type\":\"Plot\"},\"ticker\":{\"id\":\"23f798e4-a355-45a8-836a-399345733343\",\"type\":\"BasicTicker\"}},\"id\":\"5157880b-bbc6-459d-bb58-d1507577b422\",\"type\":\"Grid\"},{\"attributes\":{\"bottom_units\":\"screen\",\"fill_alpha\":{\"value\":0.5},\"fill_color\":{\"value\":\"lightgrey\"},\"left_units\":\"screen\",\"level\":\"overlay\",\"line_alpha\":{\"value\":1.0},\"line_color\":{\"value\":\"black\"},\"line_dash\":[4,4],\"line_width\":{\"value\":2},\"plot\":null,\"render_mode\":\"css\",\"right_units\":\"screen\",\"top_units\":\"screen\"},\"id\":\"dbdb7c90-6b29-437d-ba73-3d4966ee7485\",\"type\":\"BoxAnnotation\"},{\"attributes\":{},\"id\":\"fb8e0f36-5dc3-40c9-9856-996f44f6f2bc\",\"type\":\"BasicTickFormatter\"},{\"attributes\":{},\"id\":\"23376d5b-bee9-4991-b23f-b4fab14ffdab\",\"type\":\"ResetTool\"},{\"attributes\":{},\"id\":\"c70d4bad-5f0d-4733-898e-3ef51e994e42\",\"type\":\"BasicTicker\"},{\"attributes\":{},\"id\":\"1db93d40-23bf-412e-a481-55393b6d9f00\",\"type\":\"Selection\"},{\"attributes\":{},\"id\":\"bbda6b1b-c747-4622-9555-58d2bc4bc9e7\",\"type\":\"PanTool\"},{\"attributes\":{\"callback\":null},\"id\":\"06955616-03db-4931-b704-303974414724\",\"type\":\"DataRange1d\"},{\"attributes\":{\"fill_alpha\":{\"value\":0.1},\"fill_color\":{\"value\":\"#1f77b4\"},\"line_alpha\":{\"value\":0.1},\"line_color\":{\"value\":\"#1f77b4\"},\"x\":{\"field\":\"x\"},\"y\":{\"field\":\"y\"}},\"id\":\"f9afd232-84ca-4563-95f9-a4b74387d87d\",\"type\":\"Circle\"},{\"attributes\":{\"below\":[{\"id\":\"3726e90d-370d-4b0e-a4d7-4c113b8ef6c9\",\"type\":\"LinearAxis\"}],\"left\":[{\"id\":\"a8505236-e71d-48fb-9ba4-7f425a864ac0\",\"type\":\"LinearAxis\"}],\"renderers\":[{\"id\":\"3726e90d-370d-4b0e-a4d7-4c113b8ef6c9\",\"type\":\"LinearAxis\"},{\"id\":\"5157880b-bbc6-459d-bb58-d1507577b422\",\"type\":\"Grid\"},{\"id\":\"a8505236-e71d-48fb-9ba4-7f425a864ac0\",\"type\":\"LinearAxis\"},{\"id\":\"4cba433a-2461-4186-94b0-d2ab3b3ff366\",\"type\":\"Grid\"},{\"id\":\"dbdb7c90-6b29-437d-ba73-3d4966ee7485\",\"type\":\"BoxAnnotation\"},{\"id\":\"946d628b-a2f1-4c2a-b929-1cb4f0ac4a1e\",\"type\":\"GlyphRenderer\"}],\"title\":{\"id\":\"5d1651d2-0f54-411e-898a-4ab49d48d453\",\"type\":\"Title\"},\"toolbar\":{\"id\":\"86a0591a-8c33-42b8-8023-4d03611bd114\",\"type\":\"Toolbar\"},\"x_range\":{\"id\":\"88bddf7d-dcec-40ee-b237-41931696c36b\",\"type\":\"DataRange1d\"},\"x_scale\":{\"id\":\"03fa7acf-7936-461d-8426-13a735b3c691\",\"type\":\"LinearScale\"},\"y_range\":{\"id\":\"06955616-03db-4931-b704-303974414724\",\"type\":\"DataRange1d\"},\"y_scale\":{\"id\":\"0e443e04-257a-49ce-9a2e-67a6782861d8\",\"type\":\"LinearScale\"}},\"id\":\"d367185e-febd-4ece-8fc6-3abd723a2194\",\"subtype\":\"Figure\",\"type\":\"Plot\"}],\"root_ids\":[\"d367185e-febd-4ece-8fc6-3abd723a2194\"]},\"title\":\"Bokeh Application\",\"version\":\"0.13.0\"}};\n",
       "  var render_items = [{\"docid\":\"da849745-e023-4d29-9881-f28994c22579\",\"roots\":{\"d367185e-febd-4ece-8fc6-3abd723a2194\":\"ab216302-84f4-46a7-b366-ca468541d8a1\"}}];\n",
       "  root.Bokeh.embed.embed_items_notebook(docs_json, render_items);\n",
       "\n",
       "  }\n",
       "  if (root.Bokeh !== undefined) {\n",
       "    embed_document(root);\n",
       "  } else {\n",
       "    var attempts = 0;\n",
       "    var timer = setInterval(function(root) {\n",
       "      if (root.Bokeh !== undefined) {\n",
       "        embed_document(root);\n",
       "        clearInterval(timer);\n",
       "      }\n",
       "      attempts++;\n",
       "      if (attempts > 100) {\n",
       "        console.log(\"Bokeh: ERROR: Unable to run BokehJS code because BokehJS library is missing\")\n",
       "        clearInterval(timer);\n",
       "      }\n",
       "    }, 10, root)\n",
       "  }\n",
       "})(window);"
      ],
      "application/vnd.bokehjs_exec.v0+json": ""
     },
     "metadata": {
      "application/vnd.bokehjs_exec.v0+json": {
       "id": "d367185e-febd-4ece-8fc6-3abd723a2194"
      }
     },
     "output_type": "display_data"
    }
   ],
   "source": [
    "# Data\n",
    "x = 5 + 2 * np.random.randn(100)\n",
    "y = 6 + np.random.randn(100)\n",
    "\n",
    "# Create ColumnDataSource: source\n",
    "source = ColumnDataSource({'x':x,'y':y})\n",
    "\n",
    "# Create a new plot: plot\n",
    "plot = figure()\n",
    "\n",
    "# Add a line to the plot\n",
    "plot.circle('x', 'y', source=source)\n",
    "\n",
    "# Create first slider: slider1\n",
    "slider = Slider(title='slider', start=0, end=10, step=0.1, value=2)\n",
    "\n",
    "# Create a column layout: layout\n",
    "layout = column(widgetbox(slider), plot)\n",
    "\n",
    "# Add the layout to the current document\n",
    "#curdoc().add_root(layout)\n",
    "# Specify the name of the output_file and show the result\n",
    "output_file('slider.html')\n",
    "show(plot)"
   ]
  },
  {
   "cell_type": "code",
   "execution_count": null,
   "metadata": {},
   "outputs": [],
   "source": []
  },
  {
   "cell_type": "code",
   "execution_count": 23,
   "metadata": {},
   "outputs": [],
   "source": [
    "# Perform necessary imports\n",
    "from bokeh.models import ColumnDataSource, Select\n",
    "\n",
    "# Create ColumnDataSource: source\n",
    "source = ColumnDataSource(data={\n",
    "    'x' : fertility,\n",
    "    'y' : female_literacy\n",
    "})\n",
    "\n",
    "# Create a new plot: plot\n",
    "plot = figure()\n",
    "\n",
    "# Add circles to the plot\n",
    "plot.circle('x', 'y', source=source)\n",
    "\n",
    "# Define a callback function: update_plot\n",
    "def update_plot(attr, old, new):\n",
    "    # If the new Selection is 'female_literacy', update 'y' to female_literacy\n",
    "    if new == 'female_literacy': \n",
    "        source.data = {\n",
    "            'x' : fertility,\n",
    "            'y' : female_literacy\n",
    "        }\n",
    "    # Else, update 'y' to population\n",
    "    else:\n",
    "        source.data = {\n",
    "            'x' : fertility,\n",
    "            'y' : population\n",
    "        }\n",
    "\n",
    "# Create a dropdown Select widget: select\n",
    "select = Select(title=\"distribution\", options=[\"female_literacy\", \"population\"], value='female_literacy')\n",
    "\n",
    "# Attach the update_plot callback to the 'value' property of select\n",
    "select.on_change('value', update_plot)\n",
    "\n",
    "# Create layout and add to current document\n",
    "layout = row(select, plot)\n",
    "curdoc().add_root(layout)"
   ]
  }
 ],
 "metadata": {
  "kernelspec": {
   "display_name": "Python 3",
   "language": "python",
   "name": "python3"
  },
  "language_info": {
   "codemirror_mode": {
    "name": "ipython",
    "version": 3
   },
   "file_extension": ".py",
   "mimetype": "text/x-python",
   "name": "python",
   "nbconvert_exporter": "python",
   "pygments_lexer": "ipython3",
   "version": "3.6.6"
  }
 },
 "nbformat": 4,
 "nbformat_minor": 2
}
