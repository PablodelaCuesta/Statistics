{
 "cells": [
  {
   "cell_type": "markdown",
   "metadata": {},
   "source": [
    "# Distribución t\n",
    "\n",
    "La distribución t (de Student) es una distribución de probabilidad que surge del problema de estimar la media de una población normalmente distribuida cuando el tamaño de la muestra es **pequeño**. \n",
    "\n",
    "Usamos la **distribucíon t** cuando desconocemos la variable $\\sigma$ , lo que ocurre la mayoría de las veces."
   ]
  },
  {
   "cell_type": "markdown",
   "metadata": {},
   "source": [
    "### Diferencias entre la distribución t y la distribución normal"
   ]
  },
  {
   "cell_type": "code",
   "execution_count": 39,
   "metadata": {
    "scrolled": true
   },
   "outputs": [],
   "source": [
    "import numpy as np\n",
    "import scipy.stats as stats\n",
    "import matplotlib.pyplot as plt\n",
    "\n",
    "# Importamos la biblioteca necesaria para enlazar con el archivo requerido\n",
    "import sys\n",
    "sys.path.insert(0, '../statistics')\n",
    "                \n",
    "# R functions\n",
    "from R_Functions import *\n",
    "\n",
    "plt.style.use('ggplot')"
   ]
  },
  {
   "cell_type": "code",
   "execution_count": 23,
   "metadata": {},
   "outputs": [],
   "source": [
    "# distribución t\n",
    "x01 = stats.t.rvs(df=2, size=200, random_state=42)\n",
    "y01 = stats.t.pdf(x=x01, df=2)\n",
    "\n",
    "# distribución normal\n",
    "x02 = stats.norm.rvs(size=200, random_state=42)\n",
    "y02 = stats.norm.pdf(x=x02)"
   ]
  },
  {
   "cell_type": "code",
   "execution_count": 24,
   "metadata": {},
   "outputs": [
    {
     "data": {
      "image/png": "[encoded data removed]",
      "text/plain": [
       "<Figure size 864x432 with 1 Axes>"
      ]
     },
     "metadata": {},
     "output_type": "display_data"
    }
   ],
   "source": [
    "# draw\n",
    "plt.figure(figsize=(12,6))\n",
    "plt.plot(x01, y01, marker='.', linestyle='none', label ='t', alpha=0.8, color='lightblue')\n",
    "plt.plot(x02, y02, marker='.', linestyle='none', label ='Normal', alpha=0.5, color='green')\n",
    "plt.margins(0.02)\n",
    "plt.legend()\n",
    "plt.show()"
   ]
  },
  {
   "cell_type": "markdown",
   "metadata": {},
   "source": [
    "Podemos observar que las colas de la distribución t son más alargadas, lo cual indica que hay mayor probabilidad de obtener valores en los extremos de la distribución, concretamente a $2 \\cdot \\sigma$.\n",
    "\n",
    "Esto implica que los **intervalos de confianza** construidos bajo una *distribución t* van a ser más amplios, o en otras palabras, más conservativos que los obtenidos bajo una distribución normal.\n",
    "\n",
    "* La *distribución t* está siempre centrada en cero.\n",
    "* Tiene un parámetro llamado **grados de libertad** que determina la anchura de las colas.\n",
    "\n",
    "Conforme va incrementando los grados de libertad, la *distribución t* se aproxima a una *distribución normal*"
   ]
  },
  {
   "cell_type": "markdown",
   "metadata": {},
   "source": [
    "We can use the `pt()` function to find probabilitues under the *t-distribution*. For a given cutoff value `q` and a given degrees of freedom `df`, `pt(q, df)` gives us the probability under the *t-distribution* with `df` degrees of freedom for values of `t` less than `q`. \n",
    "\n",
    "In other words, $P(t_{df} < T) = pt(q = T, df)$"
   ]
  },
  {
   "cell_type": "code",
   "execution_count": 43,
   "metadata": {},
   "outputs": [
    {
     "data": {
      "text/plain": [
       "(0.9933281724887152, 0.9933281724887152)"
      ]
     },
     "execution_count": 43,
     "metadata": {},
     "output_type": "execute_result"
    }
   ],
   "source": [
    "#Calculate the cumulative of the t-distribution\n",
    "stats.t.cdf(3, df=10), pt(3, 10)"
   ]
  },
  {
   "cell_type": "markdown",
   "metadata": {},
   "source": [
    "We can use the `qt()` function to find *cutoffs* under the *t-distribution*. For a given probability `p` and a given degrees of freedom `df`. `qt(p, df)` gives us the cutoff value for the *t-distribution* with `df` degrees of freedom for which probability under the curve is `p`.\n",
    "\n",
    "In other words, $P(t_{df} < T) = p$ then $T = qt(p, df)$. For example, if $T$ corresponds to the 95th percentile of a distribution, $P = 0.95$. The middle 95% means from $p = 0.025$ to $p = 0.975$"
   ]
  },
  {
   "cell_type": "code",
   "execution_count": 47,
   "metadata": {},
   "outputs": [
    {
     "data": {
      "text/plain": [
       "(1.8124611228107335, 1.8124611228107335)"
      ]
     },
     "execution_count": 47,
     "metadata": {},
     "output_type": "execute_result"
    }
   ],
   "source": [
    "# Calculate the quantile function of the t-distribution\n",
    "stats.t.ppf(0.95, df = 10), qt(0.95, df = 10)"
   ]
  },
  {
   "cell_type": "markdown",
   "metadata": {},
   "source": [
    "# Estimando usando la distribución t\n",
    "\n",
    "Vamos a aprender a obtener los intervalos de confianza para la media de una muestra usando la *distribucion t*\n",
    "\n",
    "Supongamos que tenemos una muestra de 100 persona, de las cuales, 13 son zurdas. Si tu seleccionas otra muestra aleatoria de 100 personas, ¿te sorprenderías si solo 12 personas son zurdas? ¿Y si hubieran 15 personas? ¿o 30? ¿y 1 o 90 personas?\n",
    "\n",
    "Mientras que haya 12 o 15 personas zurdas en las siguientes muestras es algo probable, el hecho que haya 1 o 90 personas es improbable. Pero no sabríamos contestar en el caso de 30 personas, por ejemplo.\n",
    "\n",
    "Por tanto necesitamos cuantificar como de variable puede ser la muestra. Tenemos varias opciones:\n",
    "\n",
    "* Bootstrapping\n",
    "* Aproximar con el teorema central del límite\n",
    "\n",
    "Ahora nos centraremos en este último método. Para ello la variable debe de cumplir unas ciertas condiciones:\n",
    "\n",
    "1. Las observaciones tienen que ser independientes\n",
    "    1.1 random sampling / assignament\n",
    "    1.2 if sampling without replacement, n < 10% of population\n",
    "2. Tamaño de la muestra / sesgo. "
   ]
  }
 ],
 "metadata": {
  "kernelspec": {
   "display_name": "Python 3",
   "language": "python",
   "name": "python3"
  },
  "language_info": {
   "codemirror_mode": {
    "name": "ipython",
    "version": 3
   },
   "file_extension": ".py",
   "mimetype": "text/x-python",
   "name": "python",
   "nbconvert_exporter": "python",
   "pygments_lexer": "ipython3",
   "version": "3.6.6"
  }
 },
 "nbformat": 4,
 "nbformat_minor": 2
}
