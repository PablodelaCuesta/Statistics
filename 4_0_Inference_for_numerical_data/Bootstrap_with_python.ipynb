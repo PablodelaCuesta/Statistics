{
 "cells": [
  {
   "cell_type": "markdown",
   "metadata": {},
   "source": [
    "# Bootstrap distribution for hypothesis testing\n",
    "\n",
    "Las distribuciones *bootstrap* están, por definición, centradas en el estadístico elegido. Sin embargo, como asumimos que la **hipótesis nula** es cierta, la distribución estará centrada en el valor *nulo*. Por tanto el **p-valor** se define como la proporción de simulaciones que, al menos, son tan favorables a la hipótesis alternativa como al estadístico observado\n",
    "\n",
    "Graphical representation\n",
    "\n",
    "![bootstrap](img/bootstrap.png)\n",
    "\n",
    "\n",
    "Empezamos con nuestra distribución bootstrap, la cual está siempre centrada alrededor del parámetro estadístico deseado (sample statistic) Entonces desplazamos esta distribución hasta el centro del valor nulo y calculamos el p-valor, siendo este la proporción de las simulaciones que son al menos tan extremas como el estadístico observado."
   ]
  },
  {
   "cell_type": "code",
   "execution_count": 1,
   "metadata": {},
   "outputs": [],
   "source": [
    "import pandas as pd\n",
    "import numpy as np\n",
    "import scipy.stats as ss\n",
    "import seaborn as sns\n",
    "import matplotlib.pyplot as plt\n",
    "\n",
    "# seaborn style\n",
    "sns.set()\n",
    "\n",
    "# my functions\n",
    "import sys\n",
    "sys.path.insert(0, '../statistics/')\n",
    "\n",
    "import bootstrap\n",
    "import permutations_replicate as perm\n",
    "from diff_means import diff_of_means"
   ]
  },
  {
   "cell_type": "code",
   "execution_count": 2,
   "metadata": {},
   "outputs": [
    {
     "data": {
      "text/html": [
       "<div>\n",
       "<style scoped>\n",
       "    .dataframe tbody tr th:only-of-type {\n",
       "        vertical-align: middle;\n",
       "    }\n",
       "\n",
       "    .dataframe tbody tr th {\n",
       "        vertical-align: top;\n",
       "    }\n",
       "\n",
       "    .dataframe thead th {\n",
       "        text-align: right;\n",
       "    }\n",
       "</style>\n",
       "<table border=\"1\" class=\"dataframe\">\n",
       "  <thead>\n",
       "    <tr style=\"text-align: right;\">\n",
       "      <th></th>\n",
       "      <th>rent</th>\n",
       "    </tr>\n",
       "  </thead>\n",
       "  <tbody>\n",
       "    <tr>\n",
       "      <th>0</th>\n",
       "      <td>3850</td>\n",
       "    </tr>\n",
       "    <tr>\n",
       "      <th>1</th>\n",
       "      <td>3800</td>\n",
       "    </tr>\n",
       "    <tr>\n",
       "      <th>2</th>\n",
       "      <td>2350</td>\n",
       "    </tr>\n",
       "  </tbody>\n",
       "</table>\n",
       "</div>"
      ],
      "text/plain": [
       "   rent\n",
       "0  3850\n",
       "1  3800\n",
       "2  2350"
      ]
     },
     "execution_count": 2,
     "metadata": {},
     "output_type": "execute_result"
    }
   ],
   "source": [
    "data = pd.read_csv('data/manhattan.csv')\n",
    "data.head(3)"
   ]
  },
  {
   "cell_type": "markdown",
   "metadata": {},
   "source": [
    "## Comprobación de la media del precio de un apartamento en Manhattan\n",
    "\n",
    "Let's turn our attention to Manhattan apartments. We would like to evaluate whether these data provide evidence that the median rent of 1 BR apartments in Manhattan is greater than $2,500.\n",
    "\n",
    "* $H_{0}$: la media es 2500\n",
    "* $H_{1}$: la media es superior a 2500"
   ]
  },
  {
   "cell_type": "code",
   "execution_count": 3,
   "metadata": {},
   "outputs": [
    {
     "data": {
      "text/plain": [
       "(2383.1696666666667, 2625.8, 2350.0)"
      ]
     },
     "execution_count": 3,
     "metadata": {},
     "output_type": "execute_result"
    }
   ],
   "source": [
    "bs_median = bootstrap.draw_bs_reps(data=data['rent'].values,\n",
    "                       func=np.median, size=15000)\n",
    "np.mean(bs_median), data['rent'].mean(), np.median(bs_median)"
   ]
  },
  {
   "cell_type": "markdown",
   "metadata": {},
   "source": [
    "Como vemos, el valor de la hipóstesis nula está entre las medias del conjunto de datos y del conjunto *bootstrap*.\n",
    "\n",
    "Vamos visualizar estos datos:"
   ]
  },
  {
   "cell_type": "code",
   "execution_count": 4,
   "metadata": {},
   "outputs": [
    {
     "data": {
      "image/png": "[encoded data removed]",
      "text/plain": [
       "<Figure size 1296x432 with 2 Axes>"
      ]
     },
     "metadata": {},
     "output_type": "display_data"
    }
   ],
   "source": [
    "# figure\n",
    "plt.figure(figsize=(18,6))\n",
    "plt.subplot(121)\n",
    "# distribución de los datos\n",
    "plt.hist(bs_median, bins=60)\n",
    "# Datos\n",
    "plt.axvline(x=bs_median.mean(), color='green')\n",
    "plt.axvline(x=data['rent'].mean(), color='red')\n",
    "# Hipótesis nula\n",
    "plt.axvline(x=2500, color='purple')\n",
    "plt.xlabel(\"Precio\")\n",
    "\n",
    "plt.subplot(122)\n",
    "plt.hist(data['rent'].values, bins=60) # distribución de los datos\n",
    "# Datos\n",
    "plt.axvline(x=bs_median.mean(), color='green')\n",
    "plt.axvline(x=data['rent'].mean(), color='red')\n",
    "plt.axvline(x=2500, color='purple') # Hipótesis nula\n",
    "\n",
    "\n",
    "plt.show()"
   ]
  },
  {
   "cell_type": "markdown",
   "metadata": {},
   "source": [
    "Como hemos dicho anteriormente, las distribuciones *bootstrap* se diseñan centradas en el estadístico elegido. Sin embargo, si asumimos que la *hipótesis nula* $H_0$ es cierta, podemos mover la distribución para que esté centrada en el valor nulo.\n",
    "\n",
    "Recordamos:\n",
    "* $H_{0}$: la media es 2500\n",
    "* $H_{1}$: la media es superior a 2500\n",
    "\n",
    "Por tanto, vamos a mover la distribución para que esté centrada en el valor de $H_0$ que está marcado con una línea vertical morada."
   ]
  },
  {
   "cell_type": "code",
   "execution_count": 5,
   "metadata": {},
   "outputs": [],
   "source": [
    "# centramos los valores\n",
    "differences = 2500 - np.mean(bs_median)\n",
    "bs_median_centered = bs_median + differences"
   ]
  },
  {
   "cell_type": "code",
   "execution_count": 6,
   "metadata": {},
   "outputs": [
    {
     "data": {
      "image/png": "[encoded data removed]",
      "text/plain": [
       "<Figure size 1296x432 with 1 Axes>"
      ]
     },
     "metadata": {},
     "output_type": "display_data"
    }
   ],
   "source": [
    "# dibujamos los valores ya re-centrados\n",
    "plt.figure(figsize=(18,6))\n",
    "plt.hist(bs_median_centered, bins=60) # distribución de los datos\n",
    "plt.axvline(x=np.median(bs_median), color='green')  # Valor obtenido mediante bootstrap\n",
    "plt.axvline(x=data['rent'].mean(), color='red') # Valor dado por el dataset\n",
    "plt.axvline(x=2500, color='purple') # Hipótesis nula\n",
    "plt.show()"
   ]
  },
  {
   "cell_type": "markdown",
   "metadata": {},
   "source": [
    "Por último comprobamos la probabilidad de obtener un valor tan extremo como el valor obtenido. Para ello sumaremos los valores obtenidos que estén por debajo del valor obtenido mediante bootstrapping."
   ]
  },
  {
   "cell_type": "code",
   "execution_count": 7,
   "metadata": {},
   "outputs": [
    {
     "data": {
      "text/plain": [
       "0.06393333333333333"
      ]
     },
     "execution_count": 7,
     "metadata": {},
     "output_type": "execute_result"
    }
   ],
   "source": [
    "np.sum(bs_median_centered < np.median(bs_median)) / len(bs_median_centered)"
   ]
  },
  {
   "cell_type": "markdown",
   "metadata": {},
   "source": [
    "No rechazamos la hipótesis nula $H_0$ debido a que el **p-valor** está por encima del nivel de significancia, y concluimos que los datos no proporcionan evidencia convincente de que el alquiler medio de los apartamentos no sea $2500"
   ]
  },
  {
   "cell_type": "markdown",
   "metadata": {},
   "source": [
    "## Percentile and standard error for bootstrap confidence intervals\n",
    "\n",
    "En el gráfico anterior tenemos una representación de cada una de las medianas calculadas realizando *bootstraping*. Recordamos que un bootstrap sample es un conjunto de datos del mismo tamaño que el original, cuyos datos se obtienen del original con reemplazo.\n",
    "\n",
    "Usando la *distribución* de datos procedente del *bootstraping*, podemos calcular el intervalo de confianza de dos formas distintas.\n",
    "\n",
    "### Intervalos de confianza mediante los percentiles\n",
    "\n",
    "Seleccionamos los percentiles 5th y 97.5th de la distribución *bootstrap* para obtener hasta el 95% de la información."
   ]
  },
  {
   "cell_type": "code",
   "execution_count": 8,
   "metadata": {},
   "outputs": [
    {
     "data": {
      "text/plain": [
       "(2072.5, 2875.0)"
      ]
     },
     "execution_count": 8,
     "metadata": {},
     "output_type": "execute_result"
    }
   ],
   "source": [
    "# percentile method\n",
    "error01, error02 = np.percentile(bs_median, q=[0.05, 97.5])\n",
    "error01, error02"
   ]
  },
  {
   "cell_type": "markdown",
   "metadata": {},
   "source": [
    "### Intervalos de confianza mediante SE\n",
    "\n",
    "Para calcular SE (standard error) simplemente calculamos la desviación estándar de la distribución *bootstrap*."
   ]
  },
  {
   "cell_type": "code",
   "execution_count": 9,
   "metadata": {},
   "outputs": [
    {
     "name": "stdout",
     "output_type": "stream",
     "text": [
      "2697.8270439062867\n",
      "2002.1729560937133\n"
     ]
    }
   ],
   "source": [
    "# standard error method\n",
    "\n",
    "# valor crítico\n",
    "t_star = ss.t.ppf(q=0.975, df=data.shape[0] - 1)\n",
    "\n",
    "# interval\n",
    "error = np.std(bs_median)\n",
    "\n",
    "error0 = np.median(bs_median) + t_star * error\n",
    "error1 = np.median(bs_median) - t_star * error\n",
    "\n",
    "# view\n",
    "print(error0)\n",
    "print(error1)"
   ]
  },
  {
   "cell_type": "code",
   "execution_count": 10,
   "metadata": {},
   "outputs": [
    {
     "data": {
      "image/png": "[encoded data removed]",
      "text/plain": [
       "<Figure size 864x432 with 2 Axes>"
      ]
     },
     "metadata": {},
     "output_type": "display_data"
    }
   ],
   "source": [
    "# visualizamos\n",
    "plt.figure(figsize=(12,6))\n",
    "\n",
    "plt.subplot(1,2,1)\n",
    "plt.title(\"Percentiles error\")\n",
    "plt.hist(bs_median, bins=50)\n",
    "plt.axvline(x=error01, color='red')\n",
    "plt.axvline(x=error02, color='red')\n",
    "\n",
    "plt.subplot(1,2,2)\n",
    "plt.title(\"SE error\")\n",
    "plt.hist(bs_median, bins=50)\n",
    "plt.axvline(x=error0, color='red')\n",
    "plt.axvline(x=error1, color='red')\n",
    "plt.show()"
   ]
  },
  {
   "cell_type": "markdown",
   "metadata": {},
   "source": [
    "## Fuerza de la lengua de distintas ranas\n",
    "\n",
    "Vamos a analizar la fuerza de tres ranas con diferentes edades y medir su fuerza. Comprobaremos si la fuerza depende de la edad de la rana o bien es independiente."
   ]
  },
  {
   "cell_type": "code",
   "execution_count": 11,
   "metadata": {},
   "outputs": [
    {
     "data": {
      "text/html": [
       "<div>\n",
       "<style scoped>\n",
       "    .dataframe tbody tr th:only-of-type {\n",
       "        vertical-align: middle;\n",
       "    }\n",
       "\n",
       "    .dataframe tbody tr th {\n",
       "        vertical-align: top;\n",
       "    }\n",
       "\n",
       "    .dataframe thead th {\n",
       "        text-align: right;\n",
       "    }\n",
       "</style>\n",
       "<table border=\"1\" class=\"dataframe\">\n",
       "  <thead>\n",
       "    <tr style=\"text-align: right;\">\n",
       "      <th></th>\n",
       "      <th>ID</th>\n",
       "      <th>impact force (mN)</th>\n",
       "    </tr>\n",
       "  </thead>\n",
       "  <tbody>\n",
       "    <tr>\n",
       "      <th>0</th>\n",
       "      <td>I</td>\n",
       "      <td>1205</td>\n",
       "    </tr>\n",
       "    <tr>\n",
       "      <th>1</th>\n",
       "      <td>I</td>\n",
       "      <td>2527</td>\n",
       "    </tr>\n",
       "    <tr>\n",
       "      <th>2</th>\n",
       "      <td>I</td>\n",
       "      <td>1745</td>\n",
       "    </tr>\n",
       "    <tr>\n",
       "      <th>3</th>\n",
       "      <td>I</td>\n",
       "      <td>1556</td>\n",
       "    </tr>\n",
       "    <tr>\n",
       "      <th>4</th>\n",
       "      <td>I</td>\n",
       "      <td>493</td>\n",
       "    </tr>\n",
       "  </tbody>\n",
       "</table>\n",
       "</div>"
      ],
      "text/plain": [
       "  ID  impact force (mN)\n",
       "0  I               1205\n",
       "1  I               2527\n",
       "2  I               1745\n",
       "3  I               1556\n",
       "4  I                493"
      ]
     },
     "execution_count": 11,
     "metadata": {},
     "output_type": "execute_result"
    }
   ],
   "source": [
    "# Importamos el set de datos\n",
    "#dataset = pd.read_csv('data/pennsylvania2012.csv', header=0)\n",
    "datafrog = pd.read_csv('../Datasets/frog_tongue(update).csv')\n",
    "\n",
    "# Seleccionamos la información conveniente del datafrog\n",
    "force_frog = datafrog.loc[:,['ID', 'impact force (mN)']]\n",
    "\n",
    "# Pequeña visualización de los datos\n",
    "#dataset.head()\n",
    "force_frog.head()"
   ]
  },
  {
   "cell_type": "markdown",
   "metadata": {},
   "source": [
    "Como podemos ver a continuación, los datos obtenidos nos sugieren que la fuerza de ataque de la rana (de la lengua) depende de la edad de la rana."
   ]
  },
  {
   "cell_type": "code",
   "execution_count": 12,
   "metadata": {},
   "outputs": [
    {
     "data": {
      "image/png": "[encoded data removed]",
      "text/plain": [
       "<Figure size 432x288 with 1 Axes>"
      ]
     },
     "metadata": {},
     "output_type": "display_data"
    }
   ],
   "source": [
    "# Make bee swarm plot\n",
    "_ = sns.swarmplot(x='ID', y='impact force (mN)', data=force_frog)\n",
    "\n",
    "# Label axes\n",
    "_ = plt.xlabel('frog')\n",
    "_ = plt.ylabel('impact force (N)')\n",
    "\n",
    "# Show the plot\n",
    "plt.show()"
   ]
  },
  {
   "cell_type": "markdown",
   "metadata": {},
   "source": [
    "Vamos a seleccionar las ranas II y IV y convertiremos las unidades de mN a N. Posteriormente calcularemos la diferencia entre sus medias."
   ]
  },
  {
   "cell_type": "code",
   "execution_count": 13,
   "metadata": {},
   "outputs": [
    {
     "data": {
      "text/plain": [
       "0.28825000000000006"
      ]
     },
     "execution_count": 13,
     "metadata": {},
     "output_type": "execute_result"
    }
   ],
   "source": [
    "# Seleccionamos la rana y su fuerza\n",
    "force_a = force_frog[force_frog.loc[:,'ID'] == 'II']['impact force (mN)'].values/1000\n",
    "force_b = force_frog[force_frog.loc[:,'ID'] == 'IV']['impact force (mN)'].values/1000\n",
    "\n",
    "# Compute difference of mean impact force from experiment: empirical_diff_means\n",
    "empirical_diff_means = diff_of_means(force_a, force_b)\n",
    "empirical_diff_means"
   ]
  },
  {
   "cell_type": "markdown",
   "metadata": {},
   "source": [
    "Es posible que, en realidad, las ranas ataquen con la misma fuerza y esta diferencia observada es fruto del azar. Para comprobar esto, vamos a calcular la probabilidad de obtener al menos una diferencia de $0.29 N$ en la fuerza de ataque media bajo la **hipótesis** de que las **distribuciones** de las fuerzas de ataque para las dos ranas son **idénticas**. Utilizaremos una prueba de permutación, con un estadístico de prueba que será *la diferencia de medias* para probar esta hipótesis."
   ]
  },
  {
   "cell_type": "markdown",
   "metadata": {},
   "source": [
    "Calculamos la diferencia de las medias. Posteriormente realizamos permutaciones, (unas 10.000) y calculamos la diferencia de medias por cada permutación, onteniendo 10.000 valores.\n",
    "\n",
    "La permutación realiza el siguiente proceso:\n",
    "\n",
    "* Junta o une los datos en un solo array\n",
    "* Realiza una permutación de los datos\n",
    "* Divide los datos en el tamaño original\n",
    "* Realizamos la diferencia de las medias\n",
    "\n",
    "Este proceso se repite el número de veces que le hayamos indicado. En este caso obtendremos 10.000 diferencias de medias."
   ]
  },
  {
   "cell_type": "code",
   "execution_count": 14,
   "metadata": {},
   "outputs": [],
   "source": [
    "# Draw 10,000 permutation replicates: perm_replicates\n",
    "perm_replicates = perm.draw_perm_reps(force_a, force_b, diff_of_means, size=10000)"
   ]
  },
  {
   "cell_type": "markdown",
   "metadata": {},
   "source": [
    "Pequeña muestra de los datos obtenidos. Como vemos, hay datos que se acercan a 0.29 N pero la mayoría parece estar alrededor de cero."
   ]
  },
  {
   "cell_type": "code",
   "execution_count": 15,
   "metadata": {},
   "outputs": [
    {
     "data": {
      "text/plain": [
       "array([0.04635, 0.00645, 0.12575, 0.04965, 0.08485])"
      ]
     },
     "execution_count": 15,
     "metadata": {},
     "output_type": "execute_result"
    }
   ],
   "source": [
    "perm_replicates[0:5]"
   ]
  },
  {
   "cell_type": "code",
   "execution_count": 16,
   "metadata": {},
   "outputs": [
    {
     "name": "stdout",
     "output_type": "stream",
     "text": [
      "p-value = 0.0088\n"
     ]
    }
   ],
   "source": [
    "# Compute p-value: p\n",
    "p = np.sum(perm_replicates >= empirical_diff_means) / len(perm_replicates)\n",
    "\n",
    "# Print the result\n",
    "print('p-value =', p)"
   ]
  },
  {
   "cell_type": "markdown",
   "metadata": {},
   "source": [
    "#### Resultados\n",
    "\n",
    "El **p-valor** nos ha salido menor que $0.05$ por tanto la probabilidad de que la diferencia de $0.29$ sea debida al azar es muy pequeña, y debemos rechazar esta **hipótesis**"
   ]
  }
 ],
 "metadata": {
  "kernelspec": {
   "display_name": "Python 3",
   "language": "python",
   "name": "python3"
  },
  "language_info": {
   "codemirror_mode": {
    "name": "ipython",
    "version": 3
   },
   "file_extension": ".py",
   "mimetype": "text/x-python",
   "name": "python",
   "nbconvert_exporter": "python",
   "pygments_lexer": "ipython3",
   "version": "3.6.6"
  }
 },
 "nbformat": 4,
 "nbformat_minor": 2
}
