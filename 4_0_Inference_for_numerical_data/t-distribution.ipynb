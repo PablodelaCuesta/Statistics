{
 "cells": [
  {
   "cell_type": "markdown",
   "metadata": {},
   "source": [
    "# Distribución t\n",
    "\n",
    "La distribución t (de Student) es una distribución de probabilidad que surge del problema de estimar la media de una población normalmente distribuida cuando el tamaño de la muestra es **pequeño**. \n",
    "\n",
    "Usamos la **distribucíon t** cuando desconocemos la variable $\\sigma$ , lo que ocurre la mayoría de las veces."
   ]
  },
  {
   "cell_type": "markdown",
   "metadata": {},
   "source": [
    "### Diferencias entre la distribución t y la distribución normal"
   ]
  },
  {
   "cell_type": "code",
   "execution_count": 1,
   "metadata": {
    "scrolled": true
   },
   "outputs": [],
   "source": [
    "import pandas as pd\n",
    "import numpy as np\n",
    "import scipy.stats as stats\n",
    "import matplotlib.pyplot as plt\n",
    "import seaborn as sns\n",
    "sns.set()\n",
    "\n",
    "# Importamos la biblioteca necesaria para enlazar con el archivo requerido\n",
    "import sys\n",
    "sys.path.insert(0, '../statistics')\n",
    "                \n",
    "# R functions\n",
    "from R_Functions import *"
   ]
  },
  {
   "cell_type": "code",
   "execution_count": 2,
   "metadata": {},
   "outputs": [],
   "source": [
    "# distribución t\n",
    "x01 = stats.t.rvs(df=2, size=200, random_state=42)\n",
    "y01 = stats.t.pdf(x=x01, df=2)\n",
    "\n",
    "# distribución normal\n",
    "x02 = stats.norm.rvs(size=200, random_state=42)\n",
    "y02 = stats.norm.pdf(x=x02)"
   ]
  },
  {
   "cell_type": "code",
   "execution_count": 3,
   "metadata": {},
   "outputs": [
    {
     "data": {
      "image/png": "[encoded data removed]",
      "text/plain": [
       "<Figure size 864x432 with 1 Axes>"
      ]
     },
     "metadata": {},
     "output_type": "display_data"
    }
   ],
   "source": [
    "# draw\n",
    "plt.figure(figsize=(12,6))\n",
    "plt.plot(x01, y01, marker='.', linestyle='none', label ='t', alpha=0.8)\n",
    "plt.plot(x02, y02, marker='.', linestyle='none', label ='Normal', alpha=0.5)\n",
    "plt.margins(0.02)\n",
    "plt.legend()\n",
    "plt.show()"
   ]
  },
  {
   "cell_type": "markdown",
   "metadata": {},
   "source": [
    "Podemos observar que las colas de la distribución t son más alargadas, lo cual indica que hay mayor probabilidad de obtener valores en los extremos de la distribución, concretamente a $2 \\cdot \\sigma$.\n",
    "\n",
    "Esto implica que los **intervalos de confianza** construidos bajo una *distribución t* van a ser más amplios, o en otras palabras, más conservativos que los obtenidos bajo una distribución normal.\n",
    "\n",
    "* La *distribución t* está siempre centrada en cero.\n",
    "* Tiene un parámetro llamado **grados de libertad** que determina la anchura de las colas.\n",
    "\n",
    "Conforme va incrementando los grados de libertad, la *distribución t* se aproxima a una *distribución normal*"
   ]
  },
  {
   "cell_type": "markdown",
   "metadata": {},
   "source": [
    "We can use the `pt()` function to find probabilitues under the *t-distribution*. For a given cutoff value `q` and a given degrees of freedom `df`, `pt(q, df)` gives us the probability under the *t-distribution* with `df` degrees of freedom for values of `t` less than `q`. \n",
    "\n",
    "In other words, $P(t_{df} < T) = pt(q = T, df)$"
   ]
  },
  {
   "cell_type": "code",
   "execution_count": 4,
   "metadata": {},
   "outputs": [
    {
     "data": {
      "text/plain": [
       "(0.9933281724887152, 0.9933281724887152)"
      ]
     },
     "execution_count": 4,
     "metadata": {},
     "output_type": "execute_result"
    }
   ],
   "source": [
    "#Calculate the cumulative of the t-distribution\n",
    "stats.t.cdf(3, df=10), pt(3, 10)"
   ]
  },
  {
   "cell_type": "markdown",
   "metadata": {},
   "source": [
    "We can use the `qt()` function to find *cutoffs* under the *t-distribution*. For a given probability `p` and a given degrees of freedom `df`. `qt(p, df)` gives us the cutoff value for the *t-distribution* with `df` degrees of freedom for which probability under the curve is `p`.\n",
    "\n",
    "In other words, $P(t_{df} < T) = p$ then $T = qt(p, df)$. For example, if $T$ corresponds to the 95th percentile of a distribution, $P = 0.95$. The middle 95% means from $p = 0.025$ to $p = 0.975$"
   ]
  },
  {
   "cell_type": "code",
   "execution_count": 5,
   "metadata": {},
   "outputs": [
    {
     "data": {
      "text/plain": [
       "(1.8124611228107335, 1.8124611228107335)"
      ]
     },
     "execution_count": 5,
     "metadata": {},
     "output_type": "execute_result"
    }
   ],
   "source": [
    "# Calculate the quantile function of the t-distribution\n",
    "stats.t.ppf(0.95, df = 10), qt(0.95, df = 10)"
   ]
  },
  {
   "cell_type": "markdown",
   "metadata": {},
   "source": [
    "# Estimando usando la distribución t\n",
    "\n",
    "Vamos a aprender a obtener los intervalos de confianza para la media de una muestra usando la *distribucion t*\n",
    "\n",
    "Supongamos que tenemos una muestra de 100 personas, de las cuales, 13 son zurdas. Si tu seleccionas otra muestra aleatoria de 100 personas, ¿te sorprenderías si solo 12 personas son zurdas? ¿Y si hubieran 15 personas? ¿o 30? ¿y 1 o 90 personas?\n",
    "\n",
    "Mientras que haya 12 o 15 personas zurdas en las siguientes muestras es algo probable, el hecho que haya 1 o 90 personas es improbable. Pero no sabríamos contestar en el caso de 30 personas, por ejemplo.\n",
    "\n",
    "Por tanto necesitamos cuantificar como de variable puede ser la muestra. Tenemos varias opciones:\n",
    "\n",
    "* Bootstrapping\n",
    "* Aproximar con el teorema central del límite\n",
    "\n",
    "Ahora nos centraremos en este último método. Para ello la variable debe de cumplir unas ciertas condiciones:\n",
    "\n",
    "* Las observaciones tienen que ser independientes\n",
    "   * random sampling / assignament\n",
    "   * if sampling without replacement, n < 10% of population\n",
    "* Tamaño de la muestra / sesgo. "
   ]
  },
  {
   "cell_type": "code",
   "execution_count": 6,
   "metadata": {},
   "outputs": [],
   "source": [
    "df = pd.read_csv('data/michelson_speed_of_light.csv', index_col=0)\n",
    "df_speed = df['velocity of light in air (km/s)'].values"
   ]
  },
  {
   "cell_type": "code",
   "execution_count": 7,
   "metadata": {},
   "outputs": [
    {
     "data": {
      "text/plain": [
       "(array([299850, 299740, 299900, 300070, 299930]), 78.61450247886836)"
      ]
     },
     "execution_count": 7,
     "metadata": {},
     "output_type": "execute_result"
    }
   ],
   "source": [
    "df_speed[0:5], np.std(df_speed)"
   ]
  },
  {
   "cell_type": "code",
   "execution_count": 8,
   "metadata": {
    "scrolled": true
   },
   "outputs": [
    {
     "data": {
      "image/png": "[encoded data removed]",
      "text/plain": [
       "<Figure size 432x288 with 1 Axes>"
      ]
     },
     "metadata": {},
     "output_type": "display_data"
    }
   ],
   "source": [
    "plt.hist(df_speed, bins=int(np.sqrt(len(df_speed))))\n",
    "plt.axvline(np.median(df_speed), color='red', label='Mediana')\n",
    "# Desviación estándar\n",
    "plt.axvline(np.mean(df_speed) + np.std(df_speed),\n",
    "            color='purple', label='$+\\sigma$')\n",
    "plt.axvline(np.mean(df_speed) - np.std(df_speed),\n",
    "            color='purple', label='$-\\sigma$')\n",
    "plt.legend()\n",
    "plt.show()"
   ]
  },
  {
   "cell_type": "code",
   "execution_count": 9,
   "metadata": {},
   "outputs": [],
   "source": [
    "# Intervalos de confianza usando la distribución t\n",
    "import statsmodels.stats.api as sms\n",
    "\n",
    "# using statsmodels\n",
    "conf1, conf2 = sms.DescrStatsW(df_speed).tconfint_mean(alpha=0.05)"
   ]
  },
  {
   "cell_type": "code",
   "execution_count": 10,
   "metadata": {
    "scrolled": true
   },
   "outputs": [
    {
     "data": {
      "image/png": "[encoded data removed]",
      "text/plain": [
       "<Figure size 432x288 with 1 Axes>"
      ]
     },
     "metadata": {},
     "output_type": "display_data"
    }
   ],
   "source": [
    "plt.hist(df_speed, bins=int(np.sqrt(len(df_speed))))\n",
    "plt.axvline(np.median(df_speed), color='red', label='Mediana')\n",
    "# Desviación estándar\n",
    "plt.axvline(np.mean(df_speed) + np.std(df_speed),\n",
    "            color='purple', label='$+\\sigma$')\n",
    "plt.axvline(np.mean(df_speed) - np.std(df_speed),\n",
    "            color='purple', label='$-\\sigma$')\n",
    "# Intervalos de confianza calculados con t-test\n",
    "plt.axvline(conf1, color='orange', label='$-CI$')\n",
    "plt.axvline(conf2, color='orange', label='$+CI$')\n",
    "plt.legend()\n",
    "plt.show()"
   ]
  },
  {
   "cell_type": "markdown",
   "metadata": {},
   "source": [
    "## Prueba-t para dos muestras emparejadas\n",
    "\n",
    "Podemos usar el t-test, para probar si dos variables están o no emparejadas.\n",
    "\n",
    "Vamos a continuar nuestra exploración de los precios de los libros de la UCLA y Amazon. La variable `diff` es la diferencia entre los precios de cada plataforma."
   ]
  },
  {
   "cell_type": "code",
   "execution_count": 12,
   "metadata": {},
   "outputs": [
    {
     "data": {
      "text/html": [
       "<div>\n",
       "<style scoped>\n",
       "    .dataframe tbody tr th:only-of-type {\n",
       "        vertical-align: middle;\n",
       "    }\n",
       "\n",
       "    .dataframe tbody tr th {\n",
       "        vertical-align: top;\n",
       "    }\n",
       "\n",
       "    .dataframe thead th {\n",
       "        text-align: right;\n",
       "    }\n",
       "</style>\n",
       "<table border=\"1\" class=\"dataframe\">\n",
       "  <thead>\n",
       "    <tr style=\"text-align: right;\">\n",
       "      <th></th>\n",
       "      <th>deptAbbr</th>\n",
       "      <th>course</th>\n",
       "      <th>ibsn</th>\n",
       "      <th>uclaNew</th>\n",
       "      <th>amazNew</th>\n",
       "      <th>more</th>\n",
       "      <th>diff</th>\n",
       "    </tr>\n",
       "  </thead>\n",
       "  <tbody>\n",
       "    <tr>\n",
       "      <th>0</th>\n",
       "      <td>Am Ind</td>\n",
       "      <td>C170</td>\n",
       "      <td>978-0803272620</td>\n",
       "      <td>27.67</td>\n",
       "      <td>27.95</td>\n",
       "      <td>Y</td>\n",
       "      <td>-0.28</td>\n",
       "    </tr>\n",
       "    <tr>\n",
       "      <th>1</th>\n",
       "      <td>Anthro</td>\n",
       "      <td>9</td>\n",
       "      <td>978-0030119194</td>\n",
       "      <td>40.59</td>\n",
       "      <td>31.14</td>\n",
       "      <td>Y</td>\n",
       "      <td>9.45</td>\n",
       "    </tr>\n",
       "    <tr>\n",
       "      <th>2</th>\n",
       "      <td>Anthro</td>\n",
       "      <td>135T</td>\n",
       "      <td>978-0300080643</td>\n",
       "      <td>31.68</td>\n",
       "      <td>32.00</td>\n",
       "      <td>Y</td>\n",
       "      <td>-0.32</td>\n",
       "    </tr>\n",
       "    <tr>\n",
       "      <th>3</th>\n",
       "      <td>Anthro</td>\n",
       "      <td>191HB</td>\n",
       "      <td>978-0226206813</td>\n",
       "      <td>16.00</td>\n",
       "      <td>11.52</td>\n",
       "      <td>Y</td>\n",
       "      <td>4.48</td>\n",
       "    </tr>\n",
       "    <tr>\n",
       "      <th>4</th>\n",
       "      <td>Art His</td>\n",
       "      <td>M102K</td>\n",
       "      <td>978-0892365999</td>\n",
       "      <td>18.95</td>\n",
       "      <td>14.21</td>\n",
       "      <td>Y</td>\n",
       "      <td>4.74</td>\n",
       "    </tr>\n",
       "  </tbody>\n",
       "</table>\n",
       "</div>"
      ],
      "text/plain": [
       "  deptAbbr course            ibsn  uclaNew  amazNew more  diff\n",
       "0   Am Ind   C170  978-0803272620    27.67    27.95    Y -0.28\n",
       "1   Anthro      9  978-0030119194    40.59    31.14    Y  9.45\n",
       "2   Anthro   135T  978-0300080643    31.68    32.00    Y -0.32\n",
       "3   Anthro  191HB  978-0226206813    16.00    11.52    Y  4.48\n",
       "4  Art His  M102K  978-0892365999    18.95    14.21    Y  4.74"
      ]
     },
     "execution_count": 12,
     "metadata": {},
     "output_type": "execute_result"
    }
   ],
   "source": [
    "textbooks = pd.read_csv('../Datasets/textbooks/textbooks.txt',\n",
    "                        sep='\\t')\n",
    "textbooks.head()"
   ]
  },
  {
   "cell_type": "markdown",
   "metadata": {},
   "source": [
    "Intervalo de confianza del 90% para la media de precios."
   ]
  },
  {
   "cell_type": "code",
   "execution_count": 13,
   "metadata": {},
   "outputs": [
    {
     "data": {
      "text/plain": [
       "Ttest_indResult(statistic=1.412384769202216, pvalue=0.15999421588073556)"
      ]
     },
     "execution_count": 13,
     "metadata": {},
     "output_type": "execute_result"
    }
   ],
   "source": [
    "stats.ttest_ind(textbooks.uclaNew, textbooks.amazNew)"
   ]
  },
  {
   "cell_type": "code",
   "execution_count": 28,
   "metadata": {},
   "outputs": [
    {
     "data": {
      "text/plain": [
       "(9.435636081165885, 16.08765159006699)"
      ]
     },
     "execution_count": 28,
     "metadata": {},
     "output_type": "execute_result"
    }
   ],
   "source": [
    "sms.DescrStatsW(textbooks['diff'].values).tconfint_mean()"
   ]
  }
 ],
 "metadata": {
  "kernelspec": {
   "display_name": "Python 3",
   "language": "python",
   "name": "python3"
  },
  "language_info": {
   "codemirror_mode": {
    "name": "ipython",
    "version": 3
   },
   "file_extension": ".py",
   "mimetype": "text/x-python",
   "name": "python",
   "nbconvert_exporter": "python",
   "pygments_lexer": "ipython3",
   "version": "3.6.6"
  }
 },
 "nbformat": 4,
 "nbformat_minor": 2
}
