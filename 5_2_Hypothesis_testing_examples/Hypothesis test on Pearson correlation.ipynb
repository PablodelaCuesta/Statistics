{
 "cells": [
  {
   "cell_type": "markdown",
   "metadata": {},
   "source": [
    "# Hypothesis test on Pearson correlation\n",
    "\n",
    "Analizamos la posible correlación entre dos variables. En este caso hemos elegido un *dataset* en el cual existen dos variables interesantes: **fertilidad** y **analfabetismo**. A continuación vamos a realizar un análisis exploratorio de estas variables."
   ]
  },
  {
   "cell_type": "code",
   "execution_count": 24,
   "metadata": {},
   "outputs": [],
   "source": [
    "# Importing libreries\n",
    "import numpy as np\n",
    "import pandas as pd\n",
    "import seaborn as sns\n",
    "import matplotlib.pyplot as plt\n",
    "from statistics_functions.Statistical_functions import *\n",
    "\n",
    "# Set default Seaborn style\n",
    "sns.set()"
   ]
  },
  {
   "cell_type": "code",
   "execution_count": 2,
   "metadata": {},
   "outputs": [
    {
     "name": "stdout",
     "output_type": "stream",
     "text": [
      "    Country  Continent  female literacy  fertility     population\n",
      "0      Chine       ASI             90.5      1.769  1,324,655,000\n",
      "1       Inde       ASI             50.8      2.682  1,139,964,932\n",
      "2        USA       NAM             99.0      2.077    304,060,000\n",
      "3  Indonésie       ASI             88.8      2.132    227,345,082\n",
      "4     Brésil       LAT             90.2      1.827    191,971,506\n"
     ]
    }
   ],
   "source": [
    "# Dataset\n",
    "dataset = pd.read_csv('data/female_literacy_fertility.csv')\n",
    "\n",
    "# Preview of the data\n",
    "print(dataset.head())"
   ]
  },
  {
   "cell_type": "markdown",
   "metadata": {},
   "source": [
    "Como podemos observar, los datos no nos dan el índice de analfabetismo sino el índice de alfabetización en cada país. Para obtener el índice de analfabetismo simplemente realizamos una *inversión* o diferencia."
   ]
  },
  {
   "cell_type": "code",
   "execution_count": 3,
   "metadata": {},
   "outputs": [
    {
     "name": "stdout",
     "output_type": "stream",
     "text": [
      "    Country  Continent  female literacy  fertility     population  \\\n",
      "0      Chine       ASI             90.5      1.769  1,324,655,000   \n",
      "1       Inde       ASI             50.8      2.682  1,139,964,932   \n",
      "2        USA       NAM             99.0      2.077    304,060,000   \n",
      "3  Indonésie       ASI             88.8      2.132    227,345,082   \n",
      "4     Brésil       LAT             90.2      1.827    191,971,506   \n",
      "\n",
      "   female illiteracy  \n",
      "0                9.5  \n",
      "1               49.2  \n",
      "2                1.0  \n",
      "3               11.2  \n",
      "4                9.8  \n"
     ]
    }
   ],
   "source": [
    "# Illiteracy index\n",
    "dataset['female illiteracy'] = 100 - dataset['female literacy']\n",
    "\n",
    "# Data\n",
    "print(dataset.head())"
   ]
  },
  {
   "cell_type": "code",
   "execution_count": 4,
   "metadata": {},
   "outputs": [
    {
     "data": {
      "image/png": "[encoded data removed]",
      "text/plain": [
       "<matplotlib.figure.Figure at 0x7f67b95aeb38>"
      ]
     },
     "metadata": {},
     "output_type": "display_data"
    }
   ],
   "source": [
    "# Exploratory analysis of female literacy and fertility\n",
    "plt.scatter(dataset['female illiteracy'], dataset['fertility'], marker='.')\n",
    "plt.xlabel('Female illiteracy')\n",
    "plt.ylabel('Fertility')\n",
    "plt.show()"
   ]
  },
  {
   "cell_type": "markdown",
   "metadata": {},
   "source": [
    "Observamos que *puede* existir una correlación entre el analfabetismo de la mujer y la fertilidad, pero dicha correlación puede deberse simplemente al azar. **La fertilidad dada en un país puede ser totalmente independiente del analfabetismo**. Para comprobar esto recurrimos a realizar un test sobre esta hipótesis. Para hacer esto, realizaremos permutaciones sobre los valores de analfabetismo dejando los valores de fertilidad como fijos. Esto simula la hipótesis de que son totalmente independientes dichas variables. Por cada permutación, calcularemos el **coeficiente de Pearson** y evaluaremos cuantas de las réplicas permutadas tienen un **coeficiente de Pearson** mayor que uno."
   ]
  },
  {
   "cell_type": "code",
   "execution_count": 26,
   "metadata": {},
   "outputs": [
    {
     "name": "stdout",
     "output_type": "stream",
     "text": [
      "p-vale:  0.0\n"
     ]
    }
   ],
   "source": [
    "# Separamos los valores de interés del resto del DataFrame\n",
    "fertility = dataset['fertility'].values\n",
    "illiteracy = dataset['female illiteracy'].values\n",
    "\n",
    "# Calculamos el coeficiente de pearson\n",
    "r_obs = np.corrcoef(illiteracy, fertility)[0,1]\n",
    "\n",
    "# Realizamos permutaciones sobre el valor de analfabetismo\n",
    "perm = draw_perm_reps1d(illiteracy, fertility, size=10000)\n",
    "\n",
    "# Calculamos el valor p\n",
    "p = np.sum(perm >= r_obs) / len(perm)\n",
    "\n",
    "# Imprimimos el valor de p\n",
    "print(\"p-vale: \", p)"
   ]
  },
  {
   "cell_type": "markdown",
   "metadata": {},
   "source": [
    "Hemos obtenido un valor de p igual a cero. En estadística, esto significa que nuestro valor de p es muy bajo, ya que nunca obtuvo una sola réplica en las 10,000 que realizó, que tuviera un coeficiente de pearson mayor que el observado."
   ]
  }
 ],
 "metadata": {
  "kernelspec": {
   "display_name": "Python 3",
   "language": "python",
   "name": "python3"
  },
  "language_info": {
   "codemirror_mode": {
    "name": "ipython",
    "version": 3
   },
   "file_extension": ".py",
   "mimetype": "text/x-python",
   "name": "python",
   "nbconvert_exporter": "python",
   "pygments_lexer": "ipython3",
   "version": "3.6.4"
  }
 },
 "nbformat": 4,
 "nbformat_minor": 2
}
