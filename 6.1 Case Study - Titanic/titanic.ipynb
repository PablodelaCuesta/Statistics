{
 "cells": [
  {
   "cell_type": "markdown",
   "metadata": {},
   "source": [
    "### Edad\n",
    "Nos enfocamos en la edad de los pasajeros. Veremos el tipo de distribución a la cual se ajustan."
   ]
  },
  {
   "cell_type": "code",
   "execution_count": null,
   "metadata": {
    "collapsed": true
   },
   "outputs": [],
   "source": [
    "# Edad de los pasajeros\n",
    "age = titanic.age.values\n",
    "\n",
    "#Eliminamos datos NaN de nuestro array\n",
    "age = [ values for values in age if not(np.isnan(values))]\n",
    "\n",
    "#Ajustamos los datos\n",
    "age.sort()\n",
    "fit = stats.norm.pdf(age, np.mean(age), np.std(age))\n",
    "\n",
    "# Ahora realizamos un plot\n",
    "plt.plot(age, fit)\n",
    "plt.hist(age, bins=30, normed=True)\n",
    "plt.show()"
   ]
  }
 ],
 "metadata": {
  "kernelspec": {
   "display_name": "Python 3",
   "language": "python",
   "name": "python3"
  },
  "language_info": {
   "codemirror_mode": {
    "name": "ipython",
    "version": 3
   },
   "file_extension": ".py",
   "mimetype": "text/x-python",
   "name": "python",
   "nbconvert_exporter": "python",
   "pygments_lexer": "ipython3",
   "version": "3.6.2"
  }
 },
 "nbformat": 4,
 "nbformat_minor": 2
}
