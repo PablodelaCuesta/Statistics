{
 "cells": [
  {
   "cell_type": "markdown",
   "metadata": {},
   "source": [
    "# Case Study\n",
    "\n",
    "## A data exploration tool"
   ]
  },
  {
   "cell_type": "code",
   "execution_count": 1,
   "metadata": {},
   "outputs": [],
   "source": [
    "# Libraries\n",
    "import pandas as pd\n",
    "import numpy as np"
   ]
  },
  {
   "cell_type": "code",
   "execution_count": 2,
   "metadata": {},
   "outputs": [
    {
     "data": {
      "text/html": [
       "<div>\n",
       "<style scoped>\n",
       "    .dataframe tbody tr th:only-of-type {\n",
       "        vertical-align: middle;\n",
       "    }\n",
       "\n",
       "    .dataframe tbody tr th {\n",
       "        vertical-align: top;\n",
       "    }\n",
       "\n",
       "    .dataframe thead th {\n",
       "        text-align: right;\n",
       "    }\n",
       "</style>\n",
       "<table border=\"1\" class=\"dataframe\">\n",
       "  <thead>\n",
       "    <tr style=\"text-align: right;\">\n",
       "      <th></th>\n",
       "      <th>Country</th>\n",
       "      <th>Year</th>\n",
       "      <th>fertility</th>\n",
       "      <th>life</th>\n",
       "      <th>population</th>\n",
       "      <th>child_mortality</th>\n",
       "      <th>gdp</th>\n",
       "      <th>region</th>\n",
       "    </tr>\n",
       "  </thead>\n",
       "  <tbody>\n",
       "    <tr>\n",
       "      <th>0</th>\n",
       "      <td>Afghanistan</td>\n",
       "      <td>1964</td>\n",
       "      <td>7.671</td>\n",
       "      <td>33.639</td>\n",
       "      <td>10474903.0</td>\n",
       "      <td>339.7</td>\n",
       "      <td>1182.0</td>\n",
       "      <td>South Asia</td>\n",
       "    </tr>\n",
       "    <tr>\n",
       "      <th>1</th>\n",
       "      <td>Afghanistan</td>\n",
       "      <td>1965</td>\n",
       "      <td>7.671</td>\n",
       "      <td>34.152</td>\n",
       "      <td>10697983.0</td>\n",
       "      <td>334.1</td>\n",
       "      <td>1182.0</td>\n",
       "      <td>South Asia</td>\n",
       "    </tr>\n",
       "    <tr>\n",
       "      <th>2</th>\n",
       "      <td>Afghanistan</td>\n",
       "      <td>1966</td>\n",
       "      <td>7.671</td>\n",
       "      <td>34.662</td>\n",
       "      <td>10927724.0</td>\n",
       "      <td>328.7</td>\n",
       "      <td>1168.0</td>\n",
       "      <td>South Asia</td>\n",
       "    </tr>\n",
       "    <tr>\n",
       "      <th>3</th>\n",
       "      <td>Afghanistan</td>\n",
       "      <td>1967</td>\n",
       "      <td>7.671</td>\n",
       "      <td>35.170</td>\n",
       "      <td>11163656.0</td>\n",
       "      <td>323.3</td>\n",
       "      <td>1173.0</td>\n",
       "      <td>South Asia</td>\n",
       "    </tr>\n",
       "    <tr>\n",
       "      <th>4</th>\n",
       "      <td>Afghanistan</td>\n",
       "      <td>1968</td>\n",
       "      <td>7.671</td>\n",
       "      <td>35.674</td>\n",
       "      <td>11411022.0</td>\n",
       "      <td>318.1</td>\n",
       "      <td>1187.0</td>\n",
       "      <td>South Asia</td>\n",
       "    </tr>\n",
       "  </tbody>\n",
       "</table>\n",
       "</div>"
      ],
      "text/plain": [
       "       Country  Year  fertility    life  population  child_mortality     gdp  \\\n",
       "0  Afghanistan  1964      7.671  33.639  10474903.0            339.7  1182.0   \n",
       "1  Afghanistan  1965      7.671  34.152  10697983.0            334.1  1182.0   \n",
       "2  Afghanistan  1966      7.671  34.662  10927724.0            328.7  1168.0   \n",
       "3  Afghanistan  1967      7.671  35.170  11163656.0            323.3  1173.0   \n",
       "4  Afghanistan  1968      7.671  35.674  11411022.0            318.1  1187.0   \n",
       "\n",
       "       region  \n",
       "0  South Asia  \n",
       "1  South Asia  \n",
       "2  South Asia  \n",
       "3  South Asia  \n",
       "4  South Asia  "
      ]
     },
     "execution_count": 2,
     "metadata": {},
     "output_type": "execute_result"
    }
   ],
   "source": [
    "# URL\n",
    "URL = 'https://s3.amazonaws.com/assets.datacamp.com/production/course_1392/datasets/gapminder_tidy.csv'\n",
    "\n",
    "# define dataframe\n",
    "data = pd.read_csv(URL)\n",
    "data.head()"
   ]
  },
  {
   "cell_type": "code",
   "execution_count": 3,
   "metadata": {},
   "outputs": [
    {
     "name": "stdout",
     "output_type": "stream",
     "text": [
      "<class 'pandas.core.frame.DataFrame'>\n",
      "RangeIndex: 10111 entries, 0 to 10110\n",
      "Data columns (total 8 columns):\n",
      "Country            10111 non-null object\n",
      "Year               10111 non-null int64\n",
      "fertility          10100 non-null float64\n",
      "life               10111 non-null float64\n",
      "population         10108 non-null float64\n",
      "child_mortality    9210 non-null float64\n",
      "gdp                9000 non-null float64\n",
      "region             10111 non-null object\n",
      "dtypes: float64(5), int64(1), object(2)\n",
      "memory usage: 632.0+ KB\n"
     ]
    }
   ],
   "source": [
    "# Summary of data\n",
    "data.info()"
   ]
  },
  {
   "cell_type": "code",
   "execution_count": 4,
   "metadata": {},
   "outputs": [
    {
     "data": {
      "text/plain": [
       "(10111, 8)"
      ]
     },
     "execution_count": 4,
     "metadata": {},
     "output_type": "execute_result"
    }
   ],
   "source": [
    "# Shape\n",
    "data.shape"
   ]
  },
  {
   "cell_type": "code",
   "execution_count": 5,
   "metadata": {},
   "outputs": [
    {
     "data": {
      "text/html": [
       "<div>\n",
       "<style scoped>\n",
       "    .dataframe tbody tr th:only-of-type {\n",
       "        vertical-align: middle;\n",
       "    }\n",
       "\n",
       "    .dataframe tbody tr th {\n",
       "        vertical-align: top;\n",
       "    }\n",
       "\n",
       "    .dataframe thead th {\n",
       "        text-align: right;\n",
       "    }\n",
       "</style>\n",
       "<table border=\"1\" class=\"dataframe\">\n",
       "  <thead>\n",
       "    <tr style=\"text-align: right;\">\n",
       "      <th></th>\n",
       "      <th>Country</th>\n",
       "      <th>fertility</th>\n",
       "      <th>life</th>\n",
       "      <th>population</th>\n",
       "      <th>child_mortality</th>\n",
       "      <th>gdp</th>\n",
       "      <th>region</th>\n",
       "    </tr>\n",
       "    <tr>\n",
       "      <th>Year</th>\n",
       "      <th></th>\n",
       "      <th></th>\n",
       "      <th></th>\n",
       "      <th></th>\n",
       "      <th></th>\n",
       "      <th></th>\n",
       "      <th></th>\n",
       "    </tr>\n",
       "  </thead>\n",
       "  <tbody>\n",
       "    <tr>\n",
       "      <th>1964</th>\n",
       "      <td>Afghanistan</td>\n",
       "      <td>7.671</td>\n",
       "      <td>33.639</td>\n",
       "      <td>10474903.0</td>\n",
       "      <td>339.7</td>\n",
       "      <td>1182.0</td>\n",
       "      <td>South Asia</td>\n",
       "    </tr>\n",
       "    <tr>\n",
       "      <th>1965</th>\n",
       "      <td>Afghanistan</td>\n",
       "      <td>7.671</td>\n",
       "      <td>34.152</td>\n",
       "      <td>10697983.0</td>\n",
       "      <td>334.1</td>\n",
       "      <td>1182.0</td>\n",
       "      <td>South Asia</td>\n",
       "    </tr>\n",
       "    <tr>\n",
       "      <th>1966</th>\n",
       "      <td>Afghanistan</td>\n",
       "      <td>7.671</td>\n",
       "      <td>34.662</td>\n",
       "      <td>10927724.0</td>\n",
       "      <td>328.7</td>\n",
       "      <td>1168.0</td>\n",
       "      <td>South Asia</td>\n",
       "    </tr>\n",
       "    <tr>\n",
       "      <th>1967</th>\n",
       "      <td>Afghanistan</td>\n",
       "      <td>7.671</td>\n",
       "      <td>35.170</td>\n",
       "      <td>11163656.0</td>\n",
       "      <td>323.3</td>\n",
       "      <td>1173.0</td>\n",
       "      <td>South Asia</td>\n",
       "    </tr>\n",
       "    <tr>\n",
       "      <th>1968</th>\n",
       "      <td>Afghanistan</td>\n",
       "      <td>7.671</td>\n",
       "      <td>35.674</td>\n",
       "      <td>11411022.0</td>\n",
       "      <td>318.1</td>\n",
       "      <td>1187.0</td>\n",
       "      <td>South Asia</td>\n",
       "    </tr>\n",
       "  </tbody>\n",
       "</table>\n",
       "</div>"
      ],
      "text/plain": [
       "          Country  fertility    life  population  child_mortality     gdp  \\\n",
       "Year                                                                        \n",
       "1964  Afghanistan      7.671  33.639  10474903.0            339.7  1182.0   \n",
       "1965  Afghanistan      7.671  34.152  10697983.0            334.1  1182.0   \n",
       "1966  Afghanistan      7.671  34.662  10927724.0            328.7  1168.0   \n",
       "1967  Afghanistan      7.671  35.170  11163656.0            323.3  1173.0   \n",
       "1968  Afghanistan      7.671  35.674  11411022.0            318.1  1187.0   \n",
       "\n",
       "          region  \n",
       "Year              \n",
       "1964  South Asia  \n",
       "1965  South Asia  \n",
       "1966  South Asia  \n",
       "1967  South Asia  \n",
       "1968  South Asia  "
      ]
     },
     "execution_count": 5,
     "metadata": {},
     "output_type": "execute_result"
    }
   ],
   "source": [
    "# Index\n",
    "data.set_index('Year', inplace=True)\n",
    "data.head()"
   ]
  },
  {
   "cell_type": "markdown",
   "metadata": {},
   "source": [
    "Here, we'll continue our Exploratory Data Analysis by making a simple plot of Life Expectancy vs Fertility for the year 1970."
   ]
  },
  {
   "cell_type": "code",
   "execution_count": 6,
   "metadata": {},
   "outputs": [],
   "source": [
    "# Perform necessary imports\n",
    "from bokeh.io import output_notebook, push_notebook, show\n",
    "from bokeh.plotting import figure\n",
    "from bokeh.models import HoverTool, ColumnDataSource"
   ]
  },
  {
   "cell_type": "code",
   "execution_count": 7,
   "metadata": {},
   "outputs": [],
   "source": [
    "# Make the ColumnDataSource: source\n",
    "source = ColumnDataSource(data={\n",
    "    'x'       : data.loc[1970].fertility,\n",
    "    'y'       : data.loc[1970].life,\n",
    "    'country' : data.loc[1970].Country})"
   ]
  },
  {
   "cell_type": "code",
   "execution_count": 8,
   "metadata": {},
   "outputs": [
    {
     "data": {
      "text/html": [
       "\n",
       "    <div class=\"bk-root\">\n",
       "        <a href=\"https://bokeh.pydata.org\" target=\"_blank\" class=\"bk-logo bk-logo-small bk-logo-notebook\"></a>\n",
       "        <span id=\"579663df-5ff2-4a03-94c2-fa1d076554db\">Loading BokehJS ...</span>\n",
       "    </div>"
      ]
     },
     "metadata": {},
     "output_type": "display_data"
    },
    {
     "data": {
      "application/javascript": [
       "\n",
       "(function(root) {\n",
       "  function now() {\n",
       "    return new Date();\n",
       "  }\n",
       "\n",
       "  var force = true;\n",
       "\n",
       "  if (typeof (root._bokeh_onload_callbacks) === \"undefined\" || force === true) {\n",
       "    root._bokeh_onload_callbacks = [];\n",
       "    root._bokeh_is_loading = undefined;\n",
       "  }\n",
       "\n",
       "  var JS_MIME_TYPE = 'application/javascript';\n",
       "  var HTML_MIME_TYPE = 'text/html';\n",
       "  var EXEC_MIME_TYPE = 'application/vnd.bokehjs_exec.v0+json';\n",
       "  var CLASS_NAME = 'output_bokeh rendered_html';\n",
       "\n",
       "  /**\n",
       "   * Render data to the DOM node\n",
       "   */\n",
       "  function render(props, node) {\n",
       "    var script = document.createElement(\"script\");\n",
       "    node.appendChild(script);\n",
       "  }\n",
       "\n",
       "  /**\n",
       "   * Handle when an output is cleared or removed\n",
       "   */\n",
       "  function handleClearOutput(event, handle) {\n",
       "    var cell = handle.cell;\n",
       "\n",
       "    var id = cell.output_area._bokeh_element_id;\n",
       "    var server_id = cell.output_area._bokeh_server_id;\n",
       "    // Clean up Bokeh references\n",
       "    if (id != null && id in Bokeh.index) {\n",
       "      Bokeh.index[id].model.document.clear();\n",
       "      delete Bokeh.index[id];\n",
       "    }\n",
       "\n",
       "    if (server_id !== undefined) {\n",
       "      // Clean up Bokeh references\n",
       "      var cmd = \"from bokeh.io.state import curstate; print(curstate().uuid_to_server['\" + server_id + \"'].get_sessions()[0].document.roots[0]._id)\";\n",
       "      cell.notebook.kernel.execute(cmd, {\n",
       "        iopub: {\n",
       "          output: function(msg) {\n",
       "            var id = msg.content.text.trim();\n",
       "            if (id in Bokeh.index) {\n",
       "              Bokeh.index[id].model.document.clear();\n",
       "              delete Bokeh.index[id];\n",
       "            }\n",
       "          }\n",
       "        }\n",
       "      });\n",
       "      // Destroy server and session\n",
       "      var cmd = \"import bokeh.io.notebook as ion; ion.destroy_server('\" + server_id + \"')\";\n",
       "      cell.notebook.kernel.execute(cmd);\n",
       "    }\n",
       "  }\n",
       "\n",
       "  /**\n",
       "   * Handle when a new output is added\n",
       "   */\n",
       "  function handleAddOutput(event, handle) {\n",
       "    var output_area = handle.output_area;\n",
       "    var output = handle.output;\n",
       "\n",
       "    // limit handleAddOutput to display_data with EXEC_MIME_TYPE content only\n",
       "    if ((output.output_type != \"display_data\") || (!output.data.hasOwnProperty(EXEC_MIME_TYPE))) {\n",
       "      return\n",
       "    }\n",
       "\n",
       "    var toinsert = output_area.element.find(\".\" + CLASS_NAME.split(' ')[0]);\n",
       "\n",
       "    if (output.metadata[EXEC_MIME_TYPE][\"id\"] !== undefined) {\n",
       "      toinsert[toinsert.length - 1].firstChild.textContent = output.data[JS_MIME_TYPE];\n",
       "      // store reference to embed id on output_area\n",
       "      output_area._bokeh_element_id = output.metadata[EXEC_MIME_TYPE][\"id\"];\n",
       "    }\n",
       "    if (output.metadata[EXEC_MIME_TYPE][\"server_id\"] !== undefined) {\n",
       "      var bk_div = document.createElement(\"div\");\n",
       "      bk_div.innerHTML = output.data[HTML_MIME_TYPE];\n",
       "      var script_attrs = bk_div.children[0].attributes;\n",
       "      for (var i = 0; i < script_attrs.length; i++) {\n",
       "        toinsert[toinsert.length - 1].firstChild.setAttribute(script_attrs[i].name, script_attrs[i].value);\n",
       "      }\n",
       "      // store reference to server id on output_area\n",
       "      output_area._bokeh_server_id = output.metadata[EXEC_MIME_TYPE][\"server_id\"];\n",
       "    }\n",
       "  }\n",
       "\n",
       "  function register_renderer(events, OutputArea) {\n",
       "\n",
       "    function append_mime(data, metadata, element) {\n",
       "      // create a DOM node to render to\n",
       "      var toinsert = this.create_output_subarea(\n",
       "        metadata,\n",
       "        CLASS_NAME,\n",
       "        EXEC_MIME_TYPE\n",
       "      );\n",
       "      this.keyboard_manager.register_events(toinsert);\n",
       "      // Render to node\n",
       "      var props = {data: data, metadata: metadata[EXEC_MIME_TYPE]};\n",
       "      render(props, toinsert[toinsert.length - 1]);\n",
       "      element.append(toinsert);\n",
       "      return toinsert\n",
       "    }\n",
       "\n",
       "    /* Handle when an output is cleared or removed */\n",
       "    events.on('clear_output.CodeCell', handleClearOutput);\n",
       "    events.on('delete.Cell', handleClearOutput);\n",
       "\n",
       "    /* Handle when a new output is added */\n",
       "    events.on('output_added.OutputArea', handleAddOutput);\n",
       "\n",
       "    /**\n",
       "     * Register the mime type and append_mime function with output_area\n",
       "     */\n",
       "    OutputArea.prototype.register_mime_type(EXEC_MIME_TYPE, append_mime, {\n",
       "      /* Is output safe? */\n",
       "      safe: true,\n",
       "      /* Index of renderer in `output_area.display_order` */\n",
       "      index: 0\n",
       "    });\n",
       "  }\n",
       "\n",
       "  // register the mime type if in Jupyter Notebook environment and previously unregistered\n",
       "  if (root.Jupyter !== undefined) {\n",
       "    var events = require('base/js/events');\n",
       "    var OutputArea = require('notebook/js/outputarea').OutputArea;\n",
       "\n",
       "    if (OutputArea.prototype.mime_types().indexOf(EXEC_MIME_TYPE) == -1) {\n",
       "      register_renderer(events, OutputArea);\n",
       "    }\n",
       "  }\n",
       "\n",
       "  \n",
       "  if (typeof (root._bokeh_timeout) === \"undefined\" || force === true) {\n",
       "    root._bokeh_timeout = Date.now() + 5000;\n",
       "    root._bokeh_failed_load = false;\n",
       "  }\n",
       "\n",
       "  var NB_LOAD_WARNING = {'data': {'text/html':\n",
       "     \"<div style='background-color: #fdd'>\\n\"+\n",
       "     \"<p>\\n\"+\n",
       "     \"BokehJS does not appear to have successfully loaded. If loading BokehJS from CDN, this \\n\"+\n",
       "     \"may be due to a slow or bad network connection. Possible fixes:\\n\"+\n",
       "     \"</p>\\n\"+\n",
       "     \"<ul>\\n\"+\n",
       "     \"<li>re-rerun `output_notebook()` to attempt to load from CDN again, or</li>\\n\"+\n",
       "     \"<li>use INLINE resources instead, as so:</li>\\n\"+\n",
       "     \"</ul>\\n\"+\n",
       "     \"<code>\\n\"+\n",
       "     \"from bokeh.resources import INLINE\\n\"+\n",
       "     \"output_notebook(resources=INLINE)\\n\"+\n",
       "     \"</code>\\n\"+\n",
       "     \"</div>\"}};\n",
       "\n",
       "  function display_loaded() {\n",
       "    var el = document.getElementById(\"579663df-5ff2-4a03-94c2-fa1d076554db\");\n",
       "    if (el != null) {\n",
       "      el.textContent = \"BokehJS is loading...\";\n",
       "    }\n",
       "    if (root.Bokeh !== undefined) {\n",
       "      if (el != null) {\n",
       "        el.textContent = \"BokehJS \" + root.Bokeh.version + \" successfully loaded.\";\n",
       "      }\n",
       "    } else if (Date.now() < root._bokeh_timeout) {\n",
       "      setTimeout(display_loaded, 100)\n",
       "    }\n",
       "  }\n",
       "\n",
       "\n",
       "  function run_callbacks() {\n",
       "    try {\n",
       "      root._bokeh_onload_callbacks.forEach(function(callback) { callback() });\n",
       "    }\n",
       "    finally {\n",
       "      delete root._bokeh_onload_callbacks\n",
       "    }\n",
       "    console.info(\"Bokeh: all callbacks have finished\");\n",
       "  }\n",
       "\n",
       "  function load_libs(js_urls, callback) {\n",
       "    root._bokeh_onload_callbacks.push(callback);\n",
       "    if (root._bokeh_is_loading > 0) {\n",
       "      console.log(\"Bokeh: BokehJS is being loaded, scheduling callback at\", now());\n",
       "      return null;\n",
       "    }\n",
       "    if (js_urls == null || js_urls.length === 0) {\n",
       "      run_callbacks();\n",
       "      return null;\n",
       "    }\n",
       "    console.log(\"Bokeh: BokehJS not loaded, scheduling load and callback at\", now());\n",
       "    root._bokeh_is_loading = js_urls.length;\n",
       "    for (var i = 0; i < js_urls.length; i++) {\n",
       "      var url = js_urls[i];\n",
       "      var s = document.createElement('script');\n",
       "      s.src = url;\n",
       "      s.async = false;\n",
       "      s.onreadystatechange = s.onload = function() {\n",
       "        root._bokeh_is_loading--;\n",
       "        if (root._bokeh_is_loading === 0) {\n",
       "          console.log(\"Bokeh: all BokehJS libraries loaded\");\n",
       "          run_callbacks()\n",
       "        }\n",
       "      };\n",
       "      s.onerror = function() {\n",
       "        console.warn(\"failed to load library \" + url);\n",
       "      };\n",
       "      console.log(\"Bokeh: injecting script tag for BokehJS library: \", url);\n",
       "      document.getElementsByTagName(\"head\")[0].appendChild(s);\n",
       "    }\n",
       "  };var element = document.getElementById(\"579663df-5ff2-4a03-94c2-fa1d076554db\");\n",
       "  if (element == null) {\n",
       "    console.log(\"Bokeh: ERROR: autoload.js configured with elementid '579663df-5ff2-4a03-94c2-fa1d076554db' but no matching script tag was found. \")\n",
       "    return false;\n",
       "  }\n",
       "\n",
       "  var js_urls = [\"https://cdn.pydata.org/bokeh/release/bokeh-0.13.0.min.js\", \"https://cdn.pydata.org/bokeh/release/bokeh-widgets-0.13.0.min.js\", \"https://cdn.pydata.org/bokeh/release/bokeh-tables-0.13.0.min.js\", \"https://cdn.pydata.org/bokeh/release/bokeh-gl-0.13.0.min.js\"];\n",
       "\n",
       "  var inline_js = [\n",
       "    function(Bokeh) {\n",
       "      Bokeh.set_log_level(\"info\");\n",
       "    },\n",
       "    \n",
       "    function(Bokeh) {\n",
       "      \n",
       "    },\n",
       "    function(Bokeh) {\n",
       "      console.log(\"Bokeh: injecting CSS: https://cdn.pydata.org/bokeh/release/bokeh-0.13.0.min.css\");\n",
       "      Bokeh.embed.inject_css(\"https://cdn.pydata.org/bokeh/release/bokeh-0.13.0.min.css\");\n",
       "      console.log(\"Bokeh: injecting CSS: https://cdn.pydata.org/bokeh/release/bokeh-widgets-0.13.0.min.css\");\n",
       "      Bokeh.embed.inject_css(\"https://cdn.pydata.org/bokeh/release/bokeh-widgets-0.13.0.min.css\");\n",
       "      console.log(\"Bokeh: injecting CSS: https://cdn.pydata.org/bokeh/release/bokeh-tables-0.13.0.min.css\");\n",
       "      Bokeh.embed.inject_css(\"https://cdn.pydata.org/bokeh/release/bokeh-tables-0.13.0.min.css\");\n",
       "    }\n",
       "  ];\n",
       "\n",
       "  function run_inline_js() {\n",
       "    \n",
       "    if ((root.Bokeh !== undefined) || (force === true)) {\n",
       "      for (var i = 0; i < inline_js.length; i++) {\n",
       "        inline_js[i].call(root, root.Bokeh);\n",
       "      }if (force === true) {\n",
       "        display_loaded();\n",
       "      }} else if (Date.now() < root._bokeh_timeout) {\n",
       "      setTimeout(run_inline_js, 100);\n",
       "    } else if (!root._bokeh_failed_load) {\n",
       "      console.log(\"Bokeh: BokehJS failed to load within specified timeout.\");\n",
       "      root._bokeh_failed_load = true;\n",
       "    } else if (force !== true) {\n",
       "      var cell = $(document.getElementById(\"579663df-5ff2-4a03-94c2-fa1d076554db\")).parents('.cell').data().cell;\n",
       "      cell.output_area.append_execute_result(NB_LOAD_WARNING)\n",
       "    }\n",
       "\n",
       "  }\n",
       "\n",
       "  if (root._bokeh_is_loading === 0) {\n",
       "    console.log(\"Bokeh: BokehJS loaded, going straight to plotting\");\n",
       "    run_inline_js();\n",
       "  } else {\n",
       "    load_libs(js_urls, function() {\n",
       "      console.log(\"Bokeh: BokehJS plotting callback run at\", now());\n",
       "      run_inline_js();\n",
       "    });\n",
       "  }\n",
       "}(window));"
      ],
      "application/vnd.bokehjs_load.v0+json": "\n(function(root) {\n  function now() {\n    return new Date();\n  }\n\n  var force = true;\n\n  if (typeof (root._bokeh_onload_callbacks) === \"undefined\" || force === true) {\n    root._bokeh_onload_callbacks = [];\n    root._bokeh_is_loading = undefined;\n  }\n\n  \n\n  \n  if (typeof (root._bokeh_timeout) === \"undefined\" || force === true) {\n    root._bokeh_timeout = Date.now() + 5000;\n    root._bokeh_failed_load = false;\n  }\n\n  var NB_LOAD_WARNING = {'data': {'text/html':\n     \"<div style='background-color: #fdd'>\\n\"+\n     \"<p>\\n\"+\n     \"BokehJS does not appear to have successfully loaded. If loading BokehJS from CDN, this \\n\"+\n     \"may be due to a slow or bad network connection. Possible fixes:\\n\"+\n     \"</p>\\n\"+\n     \"<ul>\\n\"+\n     \"<li>re-rerun `output_notebook()` to attempt to load from CDN again, or</li>\\n\"+\n     \"<li>use INLINE resources instead, as so:</li>\\n\"+\n     \"</ul>\\n\"+\n     \"<code>\\n\"+\n     \"from bokeh.resources import INLINE\\n\"+\n     \"output_notebook(resources=INLINE)\\n\"+\n     \"</code>\\n\"+\n     \"</div>\"}};\n\n  function display_loaded() {\n    var el = document.getElementById(\"579663df-5ff2-4a03-94c2-fa1d076554db\");\n    if (el != null) {\n      el.textContent = \"BokehJS is loading...\";\n    }\n    if (root.Bokeh !== undefined) {\n      if (el != null) {\n        el.textContent = \"BokehJS \" + root.Bokeh.version + \" successfully loaded.\";\n      }\n    } else if (Date.now() < root._bokeh_timeout) {\n      setTimeout(display_loaded, 100)\n    }\n  }\n\n\n  function run_callbacks() {\n    try {\n      root._bokeh_onload_callbacks.forEach(function(callback) { callback() });\n    }\n    finally {\n      delete root._bokeh_onload_callbacks\n    }\n    console.info(\"Bokeh: all callbacks have finished\");\n  }\n\n  function load_libs(js_urls, callback) {\n    root._bokeh_onload_callbacks.push(callback);\n    if (root._bokeh_is_loading > 0) {\n      console.log(\"Bokeh: BokehJS is being loaded, scheduling callback at\", now());\n      return null;\n    }\n    if (js_urls == null || js_urls.length === 0) {\n      run_callbacks();\n      return null;\n    }\n    console.log(\"Bokeh: BokehJS not loaded, scheduling load and callback at\", now());\n    root._bokeh_is_loading = js_urls.length;\n    for (var i = 0; i < js_urls.length; i++) {\n      var url = js_urls[i];\n      var s = document.createElement('script');\n      s.src = url;\n      s.async = false;\n      s.onreadystatechange = s.onload = function() {\n        root._bokeh_is_loading--;\n        if (root._bokeh_is_loading === 0) {\n          console.log(\"Bokeh: all BokehJS libraries loaded\");\n          run_callbacks()\n        }\n      };\n      s.onerror = function() {\n        console.warn(\"failed to load library \" + url);\n      };\n      console.log(\"Bokeh: injecting script tag for BokehJS library: \", url);\n      document.getElementsByTagName(\"head\")[0].appendChild(s);\n    }\n  };var element = document.getElementById(\"579663df-5ff2-4a03-94c2-fa1d076554db\");\n  if (element == null) {\n    console.log(\"Bokeh: ERROR: autoload.js configured with elementid '579663df-5ff2-4a03-94c2-fa1d076554db' but no matching script tag was found. \")\n    return false;\n  }\n\n  var js_urls = [\"https://cdn.pydata.org/bokeh/release/bokeh-0.13.0.min.js\", \"https://cdn.pydata.org/bokeh/release/bokeh-widgets-0.13.0.min.js\", \"https://cdn.pydata.org/bokeh/release/bokeh-tables-0.13.0.min.js\", \"https://cdn.pydata.org/bokeh/release/bokeh-gl-0.13.0.min.js\"];\n\n  var inline_js = [\n    function(Bokeh) {\n      Bokeh.set_log_level(\"info\");\n    },\n    \n    function(Bokeh) {\n      \n    },\n    function(Bokeh) {\n      console.log(\"Bokeh: injecting CSS: https://cdn.pydata.org/bokeh/release/bokeh-0.13.0.min.css\");\n      Bokeh.embed.inject_css(\"https://cdn.pydata.org/bokeh/release/bokeh-0.13.0.min.css\");\n      console.log(\"Bokeh: injecting CSS: https://cdn.pydata.org/bokeh/release/bokeh-widgets-0.13.0.min.css\");\n      Bokeh.embed.inject_css(\"https://cdn.pydata.org/bokeh/release/bokeh-widgets-0.13.0.min.css\");\n      console.log(\"Bokeh: injecting CSS: https://cdn.pydata.org/bokeh/release/bokeh-tables-0.13.0.min.css\");\n      Bokeh.embed.inject_css(\"https://cdn.pydata.org/bokeh/release/bokeh-tables-0.13.0.min.css\");\n    }\n  ];\n\n  function run_inline_js() {\n    \n    if ((root.Bokeh !== undefined) || (force === true)) {\n      for (var i = 0; i < inline_js.length; i++) {\n        inline_js[i].call(root, root.Bokeh);\n      }if (force === true) {\n        display_loaded();\n      }} else if (Date.now() < root._bokeh_timeout) {\n      setTimeout(run_inline_js, 100);\n    } else if (!root._bokeh_failed_load) {\n      console.log(\"Bokeh: BokehJS failed to load within specified timeout.\");\n      root._bokeh_failed_load = true;\n    } else if (force !== true) {\n      var cell = $(document.getElementById(\"579663df-5ff2-4a03-94c2-fa1d076554db\")).parents('.cell').data().cell;\n      cell.output_area.append_execute_result(NB_LOAD_WARNING)\n    }\n\n  }\n\n  if (root._bokeh_is_loading === 0) {\n    console.log(\"Bokeh: BokehJS loaded, going straight to plotting\");\n    run_inline_js();\n  } else {\n    load_libs(js_urls, function() {\n      console.log(\"Bokeh: BokehJS plotting callback run at\", now());\n      run_inline_js();\n    });\n  }\n}(window));"
     },
     "metadata": {},
     "output_type": "display_data"
    },
    {
     "data": {
      "text/html": [
       "\n",
       "\n",
       "\n",
       "\n",
       "\n",
       "\n",
       "  <div class=\"bk-root\" id=\"a580923f-b2df-4df8-a430-2000c9ba58d3\"></div>\n"
      ]
     },
     "metadata": {},
     "output_type": "display_data"
    },
    {
     "data": {
      "application/javascript": [
       "(function(root) {\n",
       "  function embed_document(root) {\n",
       "    \n",
       "  var docs_json = {\"2533f1b5-fb73-411e-95f9-6e316d327034\":{\"roots\":{\"references\":[{\"attributes\":{\"dimension\":1,\"plot\":{\"id\":\"09547b55-ebe5-4d41-8595-61f77c91093e\",\"subtype\":\"Figure\",\"type\":\"Plot\"},\"ticker\":{\"id\":\"44073e4e-96a0-4af7-94dd-5dfc07f97293\",\"type\":\"BasicTicker\"}},\"id\":\"d33d2974-0920-4991-8e0b-0b59988ab4c9\",\"type\":\"Grid\"},{\"attributes\":{\"data_source\":{\"id\":\"1e7df48b-190b-4295-9d2c-1c67ec67c6e5\",\"type\":\"ColumnDataSource\"},\"glyph\":{\"id\":\"ce53ca28-40ca-47f5-968b-8582fd9addff\",\"type\":\"Circle\"},\"hover_glyph\":null,\"muted_glyph\":null,\"nonselection_glyph\":{\"id\":\"b833ba65-72b6-4f2e-a46b-06280b7075b6\",\"type\":\"Circle\"},\"selection_glyph\":null,\"view\":{\"id\":\"4380558a-1f65-47c7-8592-929e95c01c02\",\"type\":\"CDSView\"}},\"id\":\"9494c3cb-2202-4b05-ae04-16fc39990300\",\"type\":\"GlyphRenderer\"},{\"attributes\":{\"fill_color\":{\"value\":\"#1f77b4\"},\"line_color\":{\"value\":\"#1f77b4\"},\"x\":{\"field\":\"x\"},\"y\":{\"field\":\"y\"}},\"id\":\"ce53ca28-40ca-47f5-968b-8582fd9addff\",\"type\":\"Circle\"},{\"attributes\":{},\"id\":\"d2235935-a464-4681-8f81-78a2c94ea3ce\",\"type\":\"Selection\"},{\"attributes\":{},\"id\":\"b53373c5-baa0-47bb-8867-eb58f6581340\",\"type\":\"BasicTickFormatter\"},{\"attributes\":{\"callback\":null,\"data\":{\"country\":[\"Afghanistan\",\"Albania\",\"Algeria\",\"Angola\",\"Antigua and Barbuda\",\"Argentina\",\"Armenia\",\"Aruba\",\"Australia\",\"Austria\",\"Azerbaijan\",\"Bahamas\",\"Bahrain\",\"Bangladesh\",\"Barbados\",\"Belarus\",\"Belgium\",\"Belize\",\"Benin\",\"Bhutan\",\"Bolivia\",\"Bosnia and Herzegovina\",\"Botswana\",\"Brazil\",\"Brunei\",\"Bulgaria\",\"Burkina Faso\",\"Burundi\",\"Cambodia\",\"Cameroon\",\"Canada\",\"Cape Verde\",\"Central African Rep.\",\"Chad\",\"Channel Islands\",\"Chile\",\"China\",\"Colombia\",\"Comoros\",\"Congo, Dem. Rep.\",\"Congo, Rep.\",\"Costa Rica\",\"Cote d'Ivoire\",\"Croatia\",\"Cuba\",\"Cyprus\",\"Czech Rep.\",\"Denmark\",\"Djibouti\",\"Dominican Rep.\",\"Ecuador\",\"Egypt\",\"El Salvador\",\"Equatorial Guinea\",\"Eritrea\",\"Estonia\",\"Ethiopia\",\"Fiji\",\"Finland\",\"France\",\"French Guiana\",\"French Polynesia\",\"Gabon\",\"Gambia\",\"Georgia\",\"Germany\",\"Ghana\",\"Greece\",\"Greenland\",\"Grenada\",\"Guadeloupe\",\"Guam\",\"Guatemala\",\"Guinea\",\"Guinea-Bissau\",\"Guyana\",\"Haiti\",\"Honduras\",\"Hong Kong, China\",\"Hungary\",\"Iceland\",\"India\",\"Indonesia\",\"Iran\",\"Iraq\",\"Ireland\",\"Israel\",\"Italy\",\"Jamaica\",\"Japan\",\"Jordan\",\"Kazakhstan\",\"Kenya\",\"Kiribati\",\"Korea, Dem. Rep.\",\"Korea, Rep.\",\"Kuwait\",\"Kyrgyzstan\",\"Laos\",\"Latvia\",\"Lebanon\",\"Lesotho\",\"Liberia\",\"Libya\",\"Lithuania\",\"Luxembourg\",\"Macao, China\",\"Macedonia, FYR\",\"Madagascar\",\"Malawi\",\"Malaysia\",\"Maldives\",\"Mali\",\"Malta\",\"Martinique\",\"Mauritania\",\"Mauritius\",\"Mayotte\",\"Mexico\",\"Micronesia, Fed. Sts.\",\"Moldova\",\"Mongolia\",\"Montenegro\",\"Morocco\",\"Mozambique\",\"Myanmar\",\"Namibia\",\"Nepal\",\"Netherlands\",\"Netherlands Antilles\",\"New Caledonia\",\"New Zealand\",\"Nicaragua\",\"Niger\",\"Nigeria\",\"Norway\",\"Oman\",\"Pakistan\",\"Panama\",\"Papua New Guinea\",\"Paraguay\",\"Peru\",\"Philippines\",\"Poland\",\"Portugal\",\"Puerto Rico\",\"Qatar\",\"Reunion\",\"Romania\",\"Russia\",\"Rwanda\",\"Saint Lucia\",\"Saint Vincent and the Grenadines\",\"Samoa\",\"Sao Tome and Principe\",\"Saudi Arabia\",\"Senegal\",\"Serbia\",\"Seychelles\",\"Sierra Leone\",\"Singapore\",\"Slovak Republic\",\"Slovenia\",\"Solomon Islands\",\"Somalia\",\"South Africa\",\"South Sudan\",\"Spain\",\"Sri Lanka\",\"Sudan\",\"Suriname\",\"Swaziland\",\"Sweden\",\"Switzerland\",\"Syria\",\"Taiwan\",\"Tajikistan\",\"Tanzania\",\"Thailand\",\"Timor-Leste\",\"Togo\",\"Tonga\",\"Trinidad and Tobago\",\"Tunisia\",\"Turkey\",\"Turkmenistan\",\"Uganda\",\"Ukraine\",\"United Arab Emirates\",\"United Kingdom\",\"United States\",\"Uruguay\",\"Uzbekistan\",\"Vanuatu\",\"Venezuela\",\"Vietnam\",\"Virgin Islands (U.S.)\",\"West Bank and Gaza\",\"Western Sahara\",\"Yemen, Rep.\",\"Zambia\",\"Zimbabwe\"],\"x\":{\"__ndarray__\":\"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\",\"dtype\":\"float64\",\"shape\":[202]},\"y\":{\"__ndarray__\":\"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\",\"dtype\":\"float64\",\"shape\":[202]}},\"selected\":{\"id\":\"d2235935-a464-4681-8f81-78a2c94ea3ce\",\"type\":\"Selection\"},\"selection_policy\":{\"id\":\"63499edd-2a95-4a02-bcb0-6d8e00a870b4\",\"type\":\"UnionRenderers\"}},\"id\":\"1e7df48b-190b-4295-9d2c-1c67ec67c6e5\",\"type\":\"ColumnDataSource\"},{\"attributes\":{\"fill_alpha\":{\"value\":0.1},\"fill_color\":{\"value\":\"#1f77b4\"},\"line_alpha\":{\"value\":0.1},\"line_color\":{\"value\":\"#1f77b4\"},\"x\":{\"field\":\"x\"},\"y\":{\"field\":\"y\"}},\"id\":\"b833ba65-72b6-4f2e-a46b-06280b7075b6\",\"type\":\"Circle\"},{\"attributes\":{\"below\":[{\"id\":\"87de0031-0946-40fe-a872-c8911f02ae16\",\"type\":\"LinearAxis\"}],\"left\":[{\"id\":\"d48ca37e-6599-478d-afdf-b24d2deaa68f\",\"type\":\"LinearAxis\"}],\"plot_height\":400,\"plot_width\":700,\"renderers\":[{\"id\":\"87de0031-0946-40fe-a872-c8911f02ae16\",\"type\":\"LinearAxis\"},{\"id\":\"aacf5cdb-fae2-4841-86bf-0b621518a222\",\"type\":\"Grid\"},{\"id\":\"d48ca37e-6599-478d-afdf-b24d2deaa68f\",\"type\":\"LinearAxis\"},{\"id\":\"d33d2974-0920-4991-8e0b-0b59988ab4c9\",\"type\":\"Grid\"},{\"id\":\"9494c3cb-2202-4b05-ae04-16fc39990300\",\"type\":\"GlyphRenderer\"}],\"title\":{\"id\":\"956dbf7a-f4ed-44f4-8221-f4acfeafcff7\",\"type\":\"Title\"},\"toolbar\":{\"id\":\"a54b40d5-2231-41f9-8c0e-237b9bcf1fb2\",\"type\":\"Toolbar\"},\"x_range\":{\"id\":\"d42da486-3bf0-48cb-9205-7b8f5818c879\",\"type\":\"DataRange1d\"},\"x_scale\":{\"id\":\"1e52e024-2b38-4137-b62c-91046ffd7c5e\",\"type\":\"LinearScale\"},\"y_range\":{\"id\":\"11c51021-7093-4fed-8fbf-938b3c9e27f5\",\"type\":\"DataRange1d\"},\"y_scale\":{\"id\":\"50bc38b9-7413-4e50-aa5d-54f7282eeee5\",\"type\":\"LinearScale\"}},\"id\":\"09547b55-ebe5-4d41-8595-61f77c91093e\",\"subtype\":\"Figure\",\"type\":\"Plot\"},{\"attributes\":{\"source\":{\"id\":\"1e7df48b-190b-4295-9d2c-1c67ec67c6e5\",\"type\":\"ColumnDataSource\"}},\"id\":\"4380558a-1f65-47c7-8592-929e95c01c02\",\"type\":\"CDSView\"},{\"attributes\":{\"plot\":null,\"text\":\"1970\"},\"id\":\"956dbf7a-f4ed-44f4-8221-f4acfeafcff7\",\"type\":\"Title\"},{\"attributes\":{\"callback\":null},\"id\":\"d42da486-3bf0-48cb-9205-7b8f5818c879\",\"type\":\"DataRange1d\"},{\"attributes\":{\"active_drag\":\"auto\",\"active_inspect\":\"auto\",\"active_multi\":null,\"active_scroll\":\"auto\",\"active_tap\":\"auto\",\"tools\":[{\"id\":\"3eea9eb6-3d74-469b-bba6-eb3426229792\",\"type\":\"HoverTool\"}]},\"id\":\"a54b40d5-2231-41f9-8c0e-237b9bcf1fb2\",\"type\":\"Toolbar\"},{\"attributes\":{},\"id\":\"63499edd-2a95-4a02-bcb0-6d8e00a870b4\",\"type\":\"UnionRenderers\"},{\"attributes\":{},\"id\":\"1e52e024-2b38-4137-b62c-91046ffd7c5e\",\"type\":\"LinearScale\"},{\"attributes\":{},\"id\":\"49abbbd9-57f3-4e80-b9e8-5055e2745d89\",\"type\":\"BasicTickFormatter\"},{\"attributes\":{\"callback\":null},\"id\":\"11c51021-7093-4fed-8fbf-938b3c9e27f5\",\"type\":\"DataRange1d\"},{\"attributes\":{},\"id\":\"50bc38b9-7413-4e50-aa5d-54f7282eeee5\",\"type\":\"LinearScale\"},{\"attributes\":{\"axis_label\":\"Fertility (children per woman)\",\"formatter\":{\"id\":\"b53373c5-baa0-47bb-8867-eb58f6581340\",\"type\":\"BasicTickFormatter\"},\"plot\":{\"id\":\"09547b55-ebe5-4d41-8595-61f77c91093e\",\"subtype\":\"Figure\",\"type\":\"Plot\"},\"ticker\":{\"id\":\"e424f2c6-09e2-4be4-b341-57cd6f1a2a31\",\"type\":\"BasicTicker\"}},\"id\":\"87de0031-0946-40fe-a872-c8911f02ae16\",\"type\":\"LinearAxis\"},{\"attributes\":{},\"id\":\"e424f2c6-09e2-4be4-b341-57cd6f1a2a31\",\"type\":\"BasicTicker\"},{\"attributes\":{\"plot\":{\"id\":\"09547b55-ebe5-4d41-8595-61f77c91093e\",\"subtype\":\"Figure\",\"type\":\"Plot\"},\"ticker\":{\"id\":\"e424f2c6-09e2-4be4-b341-57cd6f1a2a31\",\"type\":\"BasicTicker\"}},\"id\":\"aacf5cdb-fae2-4841-86bf-0b621518a222\",\"type\":\"Grid\"},{\"attributes\":{\"axis_label\":\"Life Expectancy (years)\",\"formatter\":{\"id\":\"49abbbd9-57f3-4e80-b9e8-5055e2745d89\",\"type\":\"BasicTickFormatter\"},\"plot\":{\"id\":\"09547b55-ebe5-4d41-8595-61f77c91093e\",\"subtype\":\"Figure\",\"type\":\"Plot\"},\"ticker\":{\"id\":\"44073e4e-96a0-4af7-94dd-5dfc07f97293\",\"type\":\"BasicTicker\"}},\"id\":\"d48ca37e-6599-478d-afdf-b24d2deaa68f\",\"type\":\"LinearAxis\"},{\"attributes\":{},\"id\":\"44073e4e-96a0-4af7-94dd-5dfc07f97293\",\"type\":\"BasicTicker\"},{\"attributes\":{\"callback\":null,\"renderers\":\"auto\",\"tooltips\":\"@country\"},\"id\":\"3eea9eb6-3d74-469b-bba6-eb3426229792\",\"type\":\"HoverTool\"}],\"root_ids\":[\"09547b55-ebe5-4d41-8595-61f77c91093e\"]},\"title\":\"Bokeh Application\",\"version\":\"0.13.0\"}};\n",
       "  var render_items = [{\"docid\":\"2533f1b5-fb73-411e-95f9-6e316d327034\",\"notebook_comms_target\":\"ec674c66-7ece-4ae1-87ce-ba9d6b10d912\",\"roots\":{\"09547b55-ebe5-4d41-8595-61f77c91093e\":\"a580923f-b2df-4df8-a430-2000c9ba58d3\"}}];\n",
       "  root.Bokeh.embed.embed_items_notebook(docs_json, render_items);\n",
       "\n",
       "  }\n",
       "  if (root.Bokeh !== undefined) {\n",
       "    embed_document(root);\n",
       "  } else {\n",
       "    var attempts = 0;\n",
       "    var timer = setInterval(function(root) {\n",
       "      if (root.Bokeh !== undefined) {\n",
       "        embed_document(root);\n",
       "        clearInterval(timer);\n",
       "      }\n",
       "      attempts++;\n",
       "      if (attempts > 100) {\n",
       "        console.log(\"Bokeh: ERROR: Unable to run BokehJS code because BokehJS library is missing\")\n",
       "        clearInterval(timer);\n",
       "      }\n",
       "    }, 10, root)\n",
       "  }\n",
       "})(window);"
      ],
      "application/vnd.bokehjs_exec.v0+json": ""
     },
     "metadata": {
      "application/vnd.bokehjs_exec.v0+json": {
       "id": "09547b55-ebe5-4d41-8595-61f77c91093e"
      }
     },
     "output_type": "display_data"
    },
    {
     "data": {
      "text/html": [
       "<p><code>&lt;Bokeh Notebook handle for <strong>In[8]</strong>&gt;</code></p>"
      ],
      "text/plain": [
       "<bokeh.io.notebook.CommsHandle at 0x7f13814a7ac8>"
      ]
     },
     "execution_count": 8,
     "metadata": {},
     "output_type": "execute_result"
    }
   ],
   "source": [
    "# Create the figure: p\n",
    "p = figure(title='1970', x_axis_label='Fertility (children per woman)', y_axis_label='Life Expectancy (years)',\n",
    "           plot_height=400, plot_width=700,\n",
    "           tools=[HoverTool(tooltips='@country')])\n",
    "\n",
    "# Add a circle glyph to the figure p\n",
    "p.circle(x='x', y='y', source=source)\n",
    "\n",
    "# Output the file and show the figure\n",
    "output_notebook()\n",
    "show(p, notebook_handle=True)"
   ]
  },
  {
   "cell_type": "markdown",
   "metadata": {},
   "source": [
    "# Starting a basic app\n",
    "\n",
    "* Import libraries\n",
    "* Create plots and widgets\n",
    "* Add callbacks\n",
    "* Arrange plots and widgets in layouts"
   ]
  },
  {
   "cell_type": "code",
   "execution_count": 9,
   "metadata": {},
   "outputs": [],
   "source": [
    "# Libraries\n",
    "from bokeh.io import curdoc"
   ]
  },
  {
   "cell_type": "markdown",
   "metadata": {},
   "source": [
    "### Beginning with just a plot"
   ]
  },
  {
   "cell_type": "code",
   "execution_count": 10,
   "metadata": {},
   "outputs": [],
   "source": [
    "# Make the ColumnDataSource: source\n",
    "source = ColumnDataSource(data={\n",
    "    'x'       : data.loc[1970].fertility,\n",
    "    'y'       : data.loc[1970].life,\n",
    "    'country' : data.loc[1970].Country,\n",
    "    'pop'     : (data.loc[1970].population / 20000000) + 2,\n",
    "    'region'      : data.loc[1970].region,\n",
    "})"
   ]
  },
  {
   "cell_type": "code",
   "execution_count": 11,
   "metadata": {},
   "outputs": [],
   "source": [
    "# Save the minimum and maximum values of the fertility column: xmin, xmax\n",
    "xmin, xmax = min(data.fertility), max(data.fertility)\n",
    "\n",
    "# Save the minimum and maximum values of the life expectancy column: ymin, ymax\n",
    "ymin, ymax = min(data.life), max(data.life)"
   ]
  },
  {
   "cell_type": "code",
   "execution_count": 12,
   "metadata": {},
   "outputs": [
    {
     "data": {
      "text/html": [
       "\n",
       "\n",
       "\n",
       "\n",
       "\n",
       "\n",
       "  <div class=\"bk-root\" id=\"318ae27b-d3a4-46a4-8d5b-02674fca5eec\"></div>\n"
      ]
     },
     "metadata": {},
     "output_type": "display_data"
    },
    {
     "data": {
      "application/javascript": [
       "(function(root) {\n",
       "  function embed_document(root) {\n",
       "    \n",
       "  var docs_json = {\"3745ceaf-21cf-49d4-9687-d1fd1ce773be\":{\"roots\":{\"references\":[{\"attributes\":{\"source\":{\"id\":\"583be00d-03d6-4eee-9d3e-83b54da766e5\",\"type\":\"ColumnDataSource\"}},\"id\":\"1f168736-b2dd-4de8-b9f9-0a906e4fd594\",\"type\":\"CDSView\"},{\"attributes\":{},\"id\":\"48f47a8e-436e-43f5-9b50-9a2b190e6d75\",\"type\":\"Selection\"},{\"attributes\":{},\"id\":\"90ca4752-0380-4b83-9297-91398ae2d682\",\"type\":\"UnionRenderers\"},{\"attributes\":{\"dimension\":1,\"plot\":{\"id\":\"a2413949-59ff-45f5-89ed-5b7eb9640473\",\"subtype\":\"Figure\",\"type\":\"Plot\"},\"ticker\":{\"id\":\"977e4f8c-6304-40ca-8e98-4f9ea1b3811e\",\"type\":\"BasicTicker\"}},\"id\":\"608eb5f2-63a0-46ad-9e29-1bd3ffa3a47f\",\"type\":\"Grid\"},{\"attributes\":{\"callback\":null,\"end\":83.58,\"start\":6.0},\"id\":\"71c6b448-d8b1-43bf-a8e0-3963ab5d7555\",\"type\":\"Range1d\"},{\"attributes\":{\"axis_label\":\"Fertility (children per woman)\",\"formatter\":{\"id\":\"ae9be2a9-a5ee-43ba-9c9e-f3ac5c91ef3a\",\"type\":\"BasicTickFormatter\"},\"plot\":{\"id\":\"a2413949-59ff-45f5-89ed-5b7eb9640473\",\"subtype\":\"Figure\",\"type\":\"Plot\"},\"ticker\":{\"id\":\"4e5fdd4d-9e56-4978-a543-341c30a39cb6\",\"type\":\"BasicTicker\"}},\"id\":\"b7008e70-810b-49ef-9ec0-0ccec096eeb3\",\"type\":\"LinearAxis\"},{\"attributes\":{\"data_source\":{\"id\":\"583be00d-03d6-4eee-9d3e-83b54da766e5\",\"type\":\"ColumnDataSource\"},\"glyph\":{\"id\":\"8c9fac13-c8e7-418e-bb08-c2ab51ce6fe8\",\"type\":\"Circle\"},\"hover_glyph\":null,\"muted_glyph\":null,\"nonselection_glyph\":{\"id\":\"b93d7f5c-d25b-4845-bedc-7c453821ae99\",\"type\":\"Circle\"},\"selection_glyph\":null,\"view\":{\"id\":\"1f168736-b2dd-4de8-b9f9-0a906e4fd594\",\"type\":\"CDSView\"}},\"id\":\"d537fe47-97d8-41c1-a7b2-2f2bf695ca5f\",\"type\":\"GlyphRenderer\"},{\"attributes\":{\"plot\":{\"id\":\"a2413949-59ff-45f5-89ed-5b7eb9640473\",\"subtype\":\"Figure\",\"type\":\"Plot\"},\"ticker\":{\"id\":\"4e5fdd4d-9e56-4978-a543-341c30a39cb6\",\"type\":\"BasicTicker\"}},\"id\":\"36367103-3596-472b-a63f-a16c1f8d62f2\",\"type\":\"Grid\"},{\"attributes\":{},\"id\":\"4e5fdd4d-9e56-4978-a543-341c30a39cb6\",\"type\":\"BasicTicker\"},{\"attributes\":{},\"id\":\"8bcd3590-7987-4542-a11d-0456616b0313\",\"type\":\"WheelZoomTool\"},{\"attributes\":{\"axis_label\":\"Life Expectancy (years)\",\"formatter\":{\"id\":\"fb7d2fb8-2e48-4b3d-818f-89c05847b1ad\",\"type\":\"BasicTickFormatter\"},\"plot\":{\"id\":\"a2413949-59ff-45f5-89ed-5b7eb9640473\",\"subtype\":\"Figure\",\"type\":\"Plot\"},\"ticker\":{\"id\":\"977e4f8c-6304-40ca-8e98-4f9ea1b3811e\",\"type\":\"BasicTicker\"}},\"id\":\"e7b7a929-c828-442e-9c57-d4ad55269d0c\",\"type\":\"LinearAxis\"},{\"attributes\":{\"fill_alpha\":{\"value\":0.8},\"fill_color\":{\"value\":\"#1f77b4\"},\"line_color\":{\"value\":\"#1f77b4\"},\"x\":{\"field\":\"x\"},\"y\":{\"field\":\"y\"}},\"id\":\"8c9fac13-c8e7-418e-bb08-c2ab51ce6fe8\",\"type\":\"Circle\"},{\"attributes\":{\"active_drag\":\"auto\",\"active_inspect\":\"auto\",\"active_multi\":null,\"active_scroll\":\"auto\",\"active_tap\":\"auto\",\"tools\":[{\"id\":\"2198b71d-75e7-422c-ac6d-f814be0e9133\",\"type\":\"PanTool\"},{\"id\":\"8bcd3590-7987-4542-a11d-0456616b0313\",\"type\":\"WheelZoomTool\"},{\"id\":\"670fc7ac-7951-4322-8906-bfd1cdb28629\",\"type\":\"BoxZoomTool\"},{\"id\":\"cb65fcc7-f6be-4820-8294-060d2d3e589b\",\"type\":\"SaveTool\"},{\"id\":\"42b9e3f0-aade-4b91-bbb5-1c0b953d0031\",\"type\":\"ResetTool\"},{\"id\":\"59327c76-fa3a-4162-a56b-c13603717070\",\"type\":\"HelpTool\"}]},\"id\":\"a24f7454-ca1f-427d-9cd0-fc053a2631a2\",\"type\":\"Toolbar\"},{\"attributes\":{},\"id\":\"977e4f8c-6304-40ca-8e98-4f9ea1b3811e\",\"type\":\"BasicTicker\"},{\"attributes\":{\"plot\":null,\"text\":\"Gapminder Data for 1970\"},\"id\":\"ba49224a-da12-4d04-aa16-ea2a7bc3c744\",\"type\":\"Title\"},{\"attributes\":{\"overlay\":{\"id\":\"ddae5872-ca47-4443-8982-ba4471f0cd7e\",\"type\":\"BoxAnnotation\"}},\"id\":\"670fc7ac-7951-4322-8906-bfd1cdb28629\",\"type\":\"BoxZoomTool\"},{\"attributes\":{},\"id\":\"7dce1584-95e9-4a45-8ff7-a09e78c40f00\",\"type\":\"LinearScale\"},{\"attributes\":{\"bottom_units\":\"screen\",\"fill_alpha\":{\"value\":0.5},\"fill_color\":{\"value\":\"lightgrey\"},\"left_units\":\"screen\",\"level\":\"overlay\",\"line_alpha\":{\"value\":1.0},\"line_color\":{\"value\":\"black\"},\"line_dash\":[4,4],\"line_width\":{\"value\":2},\"plot\":null,\"render_mode\":\"css\",\"right_units\":\"screen\",\"top_units\":\"screen\"},\"id\":\"ddae5872-ca47-4443-8982-ba4471f0cd7e\",\"type\":\"BoxAnnotation\"},{\"attributes\":{},\"id\":\"3213867e-f99f-4644-99db-2eaef9a48703\",\"type\":\"LinearScale\"},{\"attributes\":{},\"id\":\"2198b71d-75e7-422c-ac6d-f814be0e9133\",\"type\":\"PanTool\"},{\"attributes\":{\"callback\":null,\"end\":9.223,\"start\":0.836},\"id\":\"ac3d89d8-08e7-4e3f-93ec-ef7c8fa6d28b\",\"type\":\"Range1d\"},{\"attributes\":{\"fill_alpha\":{\"value\":0.1},\"fill_color\":{\"value\":\"#1f77b4\"},\"line_alpha\":{\"value\":0.1},\"line_color\":{\"value\":\"#1f77b4\"},\"x\":{\"field\":\"x\"},\"y\":{\"field\":\"y\"}},\"id\":\"b93d7f5c-d25b-4845-bedc-7c453821ae99\",\"type\":\"Circle\"},{\"attributes\":{},\"id\":\"fb7d2fb8-2e48-4b3d-818f-89c05847b1ad\",\"type\":\"BasicTickFormatter\"},{\"attributes\":{},\"id\":\"cb65fcc7-f6be-4820-8294-060d2d3e589b\",\"type\":\"SaveTool\"},{\"attributes\":{\"below\":[{\"id\":\"b7008e70-810b-49ef-9ec0-0ccec096eeb3\",\"type\":\"LinearAxis\"}],\"left\":[{\"id\":\"e7b7a929-c828-442e-9c57-d4ad55269d0c\",\"type\":\"LinearAxis\"}],\"plot_height\":400,\"plot_width\":700,\"renderers\":[{\"id\":\"b7008e70-810b-49ef-9ec0-0ccec096eeb3\",\"type\":\"LinearAxis\"},{\"id\":\"36367103-3596-472b-a63f-a16c1f8d62f2\",\"type\":\"Grid\"},{\"id\":\"e7b7a929-c828-442e-9c57-d4ad55269d0c\",\"type\":\"LinearAxis\"},{\"id\":\"608eb5f2-63a0-46ad-9e29-1bd3ffa3a47f\",\"type\":\"Grid\"},{\"id\":\"ddae5872-ca47-4443-8982-ba4471f0cd7e\",\"type\":\"BoxAnnotation\"},{\"id\":\"d537fe47-97d8-41c1-a7b2-2f2bf695ca5f\",\"type\":\"GlyphRenderer\"}],\"title\":{\"id\":\"ba49224a-da12-4d04-aa16-ea2a7bc3c744\",\"type\":\"Title\"},\"toolbar\":{\"id\":\"a24f7454-ca1f-427d-9cd0-fc053a2631a2\",\"type\":\"Toolbar\"},\"x_range\":{\"id\":\"ac3d89d8-08e7-4e3f-93ec-ef7c8fa6d28b\",\"type\":\"Range1d\"},\"x_scale\":{\"id\":\"3213867e-f99f-4644-99db-2eaef9a48703\",\"type\":\"LinearScale\"},\"y_range\":{\"id\":\"71c6b448-d8b1-43bf-a8e0-3963ab5d7555\",\"type\":\"Range1d\"},\"y_scale\":{\"id\":\"7dce1584-95e9-4a45-8ff7-a09e78c40f00\",\"type\":\"LinearScale\"}},\"id\":\"a2413949-59ff-45f5-89ed-5b7eb9640473\",\"subtype\":\"Figure\",\"type\":\"Plot\"},{\"attributes\":{},\"id\":\"42b9e3f0-aade-4b91-bbb5-1c0b953d0031\",\"type\":\"ResetTool\"},{\"attributes\":{},\"id\":\"59327c76-fa3a-4162-a56b-c13603717070\",\"type\":\"HelpTool\"},{\"attributes\":{},\"id\":\"ae9be2a9-a5ee-43ba-9c9e-f3ac5c91ef3a\",\"type\":\"BasicTickFormatter\"},{\"attributes\":{\"callback\":null,\"data\":{\"country\":[\"Afghanistan\",\"Albania\",\"Algeria\",\"Angola\",\"Antigua and Barbuda\",\"Argentina\",\"Armenia\",\"Aruba\",\"Australia\",\"Austria\",\"Azerbaijan\",\"Bahamas\",\"Bahrain\",\"Bangladesh\",\"Barbados\",\"Belarus\",\"Belgium\",\"Belize\",\"Benin\",\"Bhutan\",\"Bolivia\",\"Bosnia and Herzegovina\",\"Botswana\",\"Brazil\",\"Brunei\",\"Bulgaria\",\"Burkina Faso\",\"Burundi\",\"Cambodia\",\"Cameroon\",\"Canada\",\"Cape Verde\",\"Central African Rep.\",\"Chad\",\"Channel Islands\",\"Chile\",\"China\",\"Colombia\",\"Comoros\",\"Congo, Dem. Rep.\",\"Congo, Rep.\",\"Costa Rica\",\"Cote d'Ivoire\",\"Croatia\",\"Cuba\",\"Cyprus\",\"Czech Rep.\",\"Denmark\",\"Djibouti\",\"Dominican Rep.\",\"Ecuador\",\"Egypt\",\"El Salvador\",\"Equatorial Guinea\",\"Eritrea\",\"Estonia\",\"Ethiopia\",\"Fiji\",\"Finland\",\"France\",\"French Guiana\",\"French Polynesia\",\"Gabon\",\"Gambia\",\"Georgia\",\"Germany\",\"Ghana\",\"Greece\",\"Greenland\",\"Grenada\",\"Guadeloupe\",\"Guam\",\"Guatemala\",\"Guinea\",\"Guinea-Bissau\",\"Guyana\",\"Haiti\",\"Honduras\",\"Hong Kong, China\",\"Hungary\",\"Iceland\",\"India\",\"Indonesia\",\"Iran\",\"Iraq\",\"Ireland\",\"Israel\",\"Italy\",\"Jamaica\",\"Japan\",\"Jordan\",\"Kazakhstan\",\"Kenya\",\"Kiribati\",\"Korea, Dem. Rep.\",\"Korea, Rep.\",\"Kuwait\",\"Kyrgyzstan\",\"Laos\",\"Latvia\",\"Lebanon\",\"Lesotho\",\"Liberia\",\"Libya\",\"Lithuania\",\"Luxembourg\",\"Macao, China\",\"Macedonia, FYR\",\"Madagascar\",\"Malawi\",\"Malaysia\",\"Maldives\",\"Mali\",\"Malta\",\"Martinique\",\"Mauritania\",\"Mauritius\",\"Mayotte\",\"Mexico\",\"Micronesia, Fed. Sts.\",\"Moldova\",\"Mongolia\",\"Montenegro\",\"Morocco\",\"Mozambique\",\"Myanmar\",\"Namibia\",\"Nepal\",\"Netherlands\",\"Netherlands Antilles\",\"New Caledonia\",\"New Zealand\",\"Nicaragua\",\"Niger\",\"Nigeria\",\"Norway\",\"Oman\",\"Pakistan\",\"Panama\",\"Papua New Guinea\",\"Paraguay\",\"Peru\",\"Philippines\",\"Poland\",\"Portugal\",\"Puerto Rico\",\"Qatar\",\"Reunion\",\"Romania\",\"Russia\",\"Rwanda\",\"Saint Lucia\",\"Saint Vincent and the Grenadines\",\"Samoa\",\"Sao Tome and Principe\",\"Saudi Arabia\",\"Senegal\",\"Serbia\",\"Seychelles\",\"Sierra Leone\",\"Singapore\",\"Slovak Republic\",\"Slovenia\",\"Solomon Islands\",\"Somalia\",\"South Africa\",\"South Sudan\",\"Spain\",\"Sri Lanka\",\"Sudan\",\"Suriname\",\"Swaziland\",\"Sweden\",\"Switzerland\",\"Syria\",\"Taiwan\",\"Tajikistan\",\"Tanzania\",\"Thailand\",\"Timor-Leste\",\"Togo\",\"Tonga\",\"Trinidad and Tobago\",\"Tunisia\",\"Turkey\",\"Turkmenistan\",\"Uganda\",\"Ukraine\",\"United Arab Emirates\",\"United Kingdom\",\"United States\",\"Uruguay\",\"Uzbekistan\",\"Vanuatu\",\"Venezuela\",\"Vietnam\",\"Virgin Islands (U.S.)\",\"West Bank and Gaza\",\"Western Sahara\",\"Yemen, Rep.\",\"Zambia\",\"Zimbabwe\"],\"pop\":{\"__ndarray__\":\"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\",\"dtype\":\"float64\",\"shape\":[202]},\"region\":[\"South Asia\",\"Europe & Central Asia\",\"Middle East & North Africa\",\"Sub-Saharan Africa\",\"America\",\"America\",\"Europe & Central Asia\",\"America\",\"East Asia & Pacific\",\"Europe & Central Asia\",\"Europe & Central Asia\",\"America\",\"Middle East & North Africa\",\"South Asia\",\"America\",\"Europe & Central Asia\",\"Europe & Central Asia\",\"America\",\"Sub-Saharan Africa\",\"South Asia\",\"America\",\"Europe & Central Asia\",\"Sub-Saharan Africa\",\"America\",\"East Asia & Pacific\",\"Europe & Central Asia\",\"Sub-Saharan Africa\",\"Sub-Saharan Africa\",\"East Asia & Pacific\",\"Sub-Saharan Africa\",\"America\",\"Sub-Saharan Africa\",\"Sub-Saharan Africa\",\"Sub-Saharan Africa\",\"Europe & Central Asia\",\"America\",\"East Asia & Pacific\",\"America\",\"Sub-Saharan Africa\",\"Sub-Saharan Africa\",\"Sub-Saharan Africa\",\"America\",\"Sub-Saharan Africa\",\"Europe & Central Asia\",\"America\",\"Europe & Central Asia\",\"Europe & Central Asia\",\"Europe & Central Asia\",\"Middle East & North Africa\",\"America\",\"America\",\"Middle East & North Africa\",\"America\",\"Sub-Saharan Africa\",\"Sub-Saharan Africa\",\"Europe & Central Asia\",\"Sub-Saharan Africa\",\"East Asia & Pacific\",\"Europe & Central Asia\",\"Europe & Central Asia\",\"America\",\"East Asia & Pacific\",\"Sub-Saharan Africa\",\"Sub-Saharan Africa\",\"Europe & Central Asia\",\"Europe & Central Asia\",\"Sub-Saharan Africa\",\"Europe & Central Asia\",\"Europe & Central Asia\",\"America\",\"America\",\"East Asia & Pacific\",\"America\",\"Sub-Saharan Africa\",\"Sub-Saharan Africa\",\"America\",\"America\",\"America\",\"East Asia & Pacific\",\"Europe & Central Asia\",\"Europe & Central Asia\",\"South Asia\",\"East Asia & Pacific\",\"Middle East & North Africa\",\"Middle East & North Africa\",\"Europe & Central Asia\",\"Middle East & North Africa\",\"Europe & Central Asia\",\"America\",\"East Asia & Pacific\",\"Middle East & North Africa\",\"Europe & Central Asia\",\"Sub-Saharan Africa\",\"East Asia & Pacific\",\"East Asia & Pacific\",\"East Asia & Pacific\",\"Middle East & North Africa\",\"Europe & Central Asia\",\"East Asia & Pacific\",\"Europe & Central Asia\",\"Middle East & North Africa\",\"Sub-Saharan Africa\",\"Sub-Saharan Africa\",\"Middle East & North Africa\",\"Europe & Central Asia\",\"Europe & Central Asia\",\"East Asia & Pacific\",\"Europe & Central Asia\",\"Sub-Saharan Africa\",\"Sub-Saharan Africa\",\"East Asia & Pacific\",\"South Asia\",\"Sub-Saharan Africa\",\"Europe & Central Asia\",\"America\",\"Sub-Saharan Africa\",\"Sub-Saharan Africa\",\"Sub-Saharan Africa\",\"America\",\"East Asia & Pacific\",\"Europe & Central Asia\",\"East Asia & Pacific\",\"Europe & Central Asia\",\"Middle East & North Africa\",\"Sub-Saharan Africa\",\"East Asia & Pacific\",\"Sub-Saharan Africa\",\"South Asia\",\"Europe & Central Asia\",\"America\",\"East Asia & Pacific\",\"East Asia & Pacific\",\"America\",\"Sub-Saharan Africa\",\"Sub-Saharan Africa\",\"Europe & Central Asia\",\"Middle East & North Africa\",\"South Asia\",\"America\",\"East Asia & Pacific\",\"America\",\"America\",\"East Asia & Pacific\",\"Europe & Central Asia\",\"Europe & Central Asia\",\"America\",\"Middle East & North Africa\",\"Sub-Saharan Africa\",\"Europe & Central Asia\",\"Europe & Central Asia\",\"Sub-Saharan Africa\",\"America\",\"America\",\"East Asia & Pacific\",\"Sub-Saharan Africa\",\"Middle East & North Africa\",\"Sub-Saharan Africa\",\"Europe & Central Asia\",\"Sub-Saharan Africa\",\"Sub-Saharan Africa\",\"East Asia & Pacific\",\"Europe & Central Asia\",\"Europe & Central Asia\",\"East Asia & Pacific\",\"Sub-Saharan Africa\",\"Sub-Saharan Africa\",\"Sub-Saharan Africa\",\"Europe & Central Asia\",\"South Asia\",\"Sub-Saharan Africa\",\"America\",\"Sub-Saharan Africa\",\"Europe & Central Asia\",\"Europe & Central Asia\",\"Middle East & North Africa\",\"East Asia & Pacific\",\"Europe & Central Asia\",\"Sub-Saharan Africa\",\"East Asia & Pacific\",\"East Asia & Pacific\",\"Sub-Saharan Africa\",\"East Asia & Pacific\",\"America\",\"Middle East & North Africa\",\"Europe & Central Asia\",\"Europe & Central Asia\",\"Sub-Saharan Africa\",\"Europe & Central Asia\",\"Middle East & North Africa\",\"Europe & Central Asia\",\"America\",\"America\",\"Europe & Central Asia\",\"East Asia & Pacific\",\"America\",\"East Asia & Pacific\",\"America\",\"Middle East & North Africa\",\"Middle East & North Africa\",\"Middle East & North Africa\",\"Sub-Saharan Africa\",\"Sub-Saharan Africa\"],\"x\":{\"__ndarray__\":\"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\",\"dtype\":\"float64\",\"shape\":[202]},\"y\":{\"__ndarray__\":\"vp8aL91UQkDqJjEIrLxQQAMrhxbZLklAarx0kxiEQkC28/3UeHlQQNv5fmq8nFBA/tR46SaJUUApXI/C9UhRQKRwPQrXs1FA16NwPQqHUUAK16NwPUJQQDEIrBxafFBAmpmZmZm5T0AK16NwPcpHQNEi2/l+SlBAFK5H4XoUUkCuR+F6FL5RQE5iEFg5ZFBAcT0K16MwRUDwp8ZLN3lCQFK4HoXr4UZA3SQGgZWLUED91HjpJmFLQB+F61G4bk1AEVg5tMjOUEDhehSuR9FRQFyPwvUojENAtMh2vp/qRUDb+X5qvNREQHe+nxovDUdAmpmZmZkpUkAlBoGVQxtKQNNNYhBY+URA7nw/NV6qREDrJjEIrPRRQFCNl24SA09ATx4Wak1TT0DdJAaBlXNOQLKd76fG20dATDeJQWD1RUBSuB6F67FKQKabxCCwslBAf2q8dJPYRUCq8dJNYhhRQJZDi2znc1FAwJ8aL90kUkBSuB6F62FRQLgehetRWFJAFK5H4XqUSEDsUbgehTtNQGiR7Xw/5UxA9P3UeOkWSkA7tMh2vj9MQKrx0k1i4ENAwcqhRbZDREApXI/C9ZhRQLbz/dR4eUVABFYOLbLtTUDXo3A9CpdRQArXo3A9ClJAIbByaJFVUEBkO99PjRdOQPYoXI/CVUdAtvP91HjpQkB3vp8aL91QQMZ5fugQrVFACKwcWmSrSEDb+X5qvLxRQEtgzaKrYVBAlkOLbOfrT0ACK4cW2T5QQO18PzVealBAaJHtfD8FSkCHFtnO91NCQPT91HjpBkZA8KfGSze5TUAmMQisHJpHQOF6FK5HQUpADAIrhxb5UUCPwvUoXE9RQKRwPQrXc1JAYLpJDAJrSECNbOf7qTFKQCGwcmiRbUlAtvP91HgZTUApXI/C9bhRQKRwPQrXy1FACtejcD3qUUB/arx0kxBRQBSuR+F6BFJA2s73U+MVTkBMN4lBYEVPQLKd76fGG0pAvHSTGAS2SUCJFtnO99NNQNrO91PjlU5AAiuHFtl2UEAdWmQ73z9OQFTjpZvEIEdAH4XrUbiOUUA/NV66SYRQQIkW2c73g0hAjZduEoOgQ0Atsp3vpwZMQIXrUbgexVFAhetRuB5lUUDqJjEIrExRQCUGgZVDk1BAppvEILBiRkBSuB6F61FEQAaBlUOLHFBA3SQGgZUTRkCMbOf7qTFAQClcj8L1oFFAyXa+nxp/UEBxPQrXo5BIQAaBlUOLnE9AO99PjZcuT0CsHFpkO69OQP3UeOkm0U5AexSuR+FCUEBYObTIdq5LQFYOLbKdd1FAfT81XrpJSkBWDi2ynZ9DQFg5tMh2fklAZBBYObRISkAQWDm0yDZFQGZmZmZmZlJA6Pup8dJNUUC8dJMYBDZPQIXrUbge1VFAukkMAivXSkBmZmZmZiZCQAAAAAAAgEJAhetRuB6FUkBI4XoUridJQARWDi2yvUpA/tR46SZhUEDFILByaAFHQLpJDAIrX1BACtejcD26SkDRItv5fmpOQEjhehSud1FAexSuR+HKUECF61G4HuVRQMuhRbbzFVFAZDvfT42HT0Cq8dJNYghRQNejcD0KN1FA+n5qvHQzRkAZBFYOLYJPQFg5tMh2RlBA+n5qvHRjS0DLoUW28+1LQH9qvHSTWEpAkxgEVg6dQ0CsHFpkO+9QQFCNl24Sa1BAsHJoke1MQUATg8DKoQVRQI/C9Shcb1FAbef7qfFaUUCq8dJNYiBLQLTIdr6fekRAmpmZmZlpSkAv3SQGgeVBQI/C9ShcD1JAne+nxksHUEAhsHJokR1KQPyp8dJNok9A9ihcj8IFSEDNzMzMzKxSQClcj8L1SFJAokW28/2UTUCamZmZmSlRQMdLN4lBEE5ACKwcWmRbR0DfT42XbsJNQPyp8dJNwkNAZBBYObRIR0Dy0k1iEDhQQHe+nxovRVBAGy/dJAaRSUBoke18PyVKQJZDi2znO01AmpmZmZlpSEBI4XoUrrdRQDvfT42Xzk5AAAAAAAAAUkB7FK5H4bpRQHNoke18J1FACKwcWmR7T0CsHFpkOy9KQNv5fmq8PFBAeekmMQjMTUBaZDvfT+1QQJHtfD813ktAf2q8dJMIRUBKDAIrh5ZEQBKDwMqhhUhAL90kBoF1S0A=\",\"dtype\":\"float64\",\"shape\":[202]}},\"selected\":{\"id\":\"48f47a8e-436e-43f5-9b50-9a2b190e6d75\",\"type\":\"Selection\"},\"selection_policy\":{\"id\":\"90ca4752-0380-4b83-9297-91398ae2d682\",\"type\":\"UnionRenderers\"}},\"id\":\"583be00d-03d6-4eee-9d3e-83b54da766e5\",\"type\":\"ColumnDataSource\"}],\"root_ids\":[\"a2413949-59ff-45f5-89ed-5b7eb9640473\"]},\"title\":\"Bokeh Application\",\"version\":\"0.13.0\"}};\n",
       "  var render_items = [{\"docid\":\"3745ceaf-21cf-49d4-9687-d1fd1ce773be\",\"notebook_comms_target\":\"a80ac55e-9c4b-4647-a0e0-1bd8cdbefee3\",\"roots\":{\"a2413949-59ff-45f5-89ed-5b7eb9640473\":\"318ae27b-d3a4-46a4-8d5b-02674fca5eec\"}}];\n",
       "  root.Bokeh.embed.embed_items_notebook(docs_json, render_items);\n",
       "\n",
       "  }\n",
       "  if (root.Bokeh !== undefined) {\n",
       "    embed_document(root);\n",
       "  } else {\n",
       "    var attempts = 0;\n",
       "    var timer = setInterval(function(root) {\n",
       "      if (root.Bokeh !== undefined) {\n",
       "        embed_document(root);\n",
       "        clearInterval(timer);\n",
       "      }\n",
       "      attempts++;\n",
       "      if (attempts > 100) {\n",
       "        console.log(\"Bokeh: ERROR: Unable to run BokehJS code because BokehJS library is missing\")\n",
       "        clearInterval(timer);\n",
       "      }\n",
       "    }, 10, root)\n",
       "  }\n",
       "})(window);"
      ],
      "application/vnd.bokehjs_exec.v0+json": ""
     },
     "metadata": {
      "application/vnd.bokehjs_exec.v0+json": {
       "id": "a2413949-59ff-45f5-89ed-5b7eb9640473"
      }
     },
     "output_type": "display_data"
    },
    {
     "data": {
      "text/html": [
       "<p><code>&lt;Bokeh Notebook handle for <strong>In[12]</strong>&gt;</code></p>"
      ],
      "text/plain": [
       "<bokeh.io.notebook.CommsHandle at 0x7f13811e3588>"
      ]
     },
     "execution_count": 12,
     "metadata": {},
     "output_type": "execute_result"
    }
   ],
   "source": [
    "# Create the figure: plot\n",
    "plot = figure(title='Gapminder Data for 1970', plot_height=400, plot_width=700,\n",
    "              x_range=(xmin, xmax), y_range=(ymin, ymax))\n",
    "\n",
    "# Add circle glyphs to the plot\n",
    "plot.circle(x='x', y='y', fill_alpha=0.8, source=source)\n",
    "\n",
    "# Set the x-axis label\n",
    "plot.xaxis.axis_label ='Fertility (children per woman)'\n",
    "\n",
    "# Set the y-axis label\n",
    "plot.yaxis.axis_label = 'Life Expectancy (years)'\n",
    "\n",
    "# Add the plot to the current document and add a title\n",
    "#curdoc().add_root(plot)\n",
    "curdoc().title = 'Gapminder'\n",
    "show(plot, notebook_handle=True)"
   ]
  },
  {
   "cell_type": "code",
   "execution_count": 13,
   "metadata": {},
   "outputs": [],
   "source": [
    "# Import CategoricalColorMapper and the Spectral6 palette\n",
    "from bokeh.models import CategoricalColorMapper\n",
    "from bokeh.palettes import Spectral6"
   ]
  },
  {
   "cell_type": "code",
   "execution_count": 14,
   "metadata": {},
   "outputs": [
    {
     "data": {
      "text/html": [
       "\n",
       "\n",
       "\n",
       "\n",
       "\n",
       "\n",
       "  <div class=\"bk-root\" id=\"093551a4-cf57-4a87-ab04-2420c3e774cd\"></div>\n"
      ]
     },
     "metadata": {},
     "output_type": "display_data"
    },
    {
     "data": {
      "application/javascript": [
       "(function(root) {\n",
       "  function embed_document(root) {\n",
       "    \n",
       "  var docs_json = {\"e93595d7-00e1-4870-9b50-f7d714b882ce\":{\"roots\":{\"references\":[{\"attributes\":{\"source\":{\"id\":\"583be00d-03d6-4eee-9d3e-83b54da766e5\",\"type\":\"ColumnDataSource\"}},\"id\":\"43f8bbbf-bdc0-465e-bb80-0f9f2333e5a0\",\"type\":\"CDSView\"},{\"attributes\":{\"callback\":null,\"end\":83.58,\"start\":6.0},\"id\":\"71c6b448-d8b1-43bf-a8e0-3963ab5d7555\",\"type\":\"Range1d\"},{\"attributes\":{\"axis_label\":\"Fertility (children per woman)\",\"formatter\":{\"id\":\"ae9be2a9-a5ee-43ba-9c9e-f3ac5c91ef3a\",\"type\":\"BasicTickFormatter\"},\"plot\":{\"id\":\"a2413949-59ff-45f5-89ed-5b7eb9640473\",\"subtype\":\"Figure\",\"type\":\"Plot\"},\"ticker\":{\"id\":\"4e5fdd4d-9e56-4978-a543-341c30a39cb6\",\"type\":\"BasicTicker\"}},\"id\":\"b7008e70-810b-49ef-9ec0-0ccec096eeb3\",\"type\":\"LinearAxis\"},{\"attributes\":{\"data_source\":{\"id\":\"583be00d-03d6-4eee-9d3e-83b54da766e5\",\"type\":\"ColumnDataSource\"},\"glyph\":{\"id\":\"9c99b462-69f4-44a7-9bb1-83d5e6d58c26\",\"type\":\"Circle\"},\"hover_glyph\":null,\"muted_glyph\":null,\"nonselection_glyph\":{\"id\":\"3bb6214f-8f89-4803-adc6-d87829bbba32\",\"type\":\"Circle\"},\"selection_glyph\":null,\"view\":{\"id\":\"43f8bbbf-bdc0-465e-bb80-0f9f2333e5a0\",\"type\":\"CDSView\"}},\"id\":\"9ed738c2-1fb2-407a-9b79-e1bd1a8b9e09\",\"type\":\"GlyphRenderer\"},{\"attributes\":{\"plot\":{\"id\":\"a2413949-59ff-45f5-89ed-5b7eb9640473\",\"subtype\":\"Figure\",\"type\":\"Plot\"},\"ticker\":{\"id\":\"4e5fdd4d-9e56-4978-a543-341c30a39cb6\",\"type\":\"BasicTicker\"}},\"id\":\"36367103-3596-472b-a63f-a16c1f8d62f2\",\"type\":\"Grid\"},{\"attributes\":{},\"id\":\"4e5fdd4d-9e56-4978-a543-341c30a39cb6\",\"type\":\"BasicTicker\"},{\"attributes\":{\"axis_label\":\"Life Expectancy (years)\",\"formatter\":{\"id\":\"fb7d2fb8-2e48-4b3d-818f-89c05847b1ad\",\"type\":\"BasicTickFormatter\"},\"plot\":{\"id\":\"a2413949-59ff-45f5-89ed-5b7eb9640473\",\"subtype\":\"Figure\",\"type\":\"Plot\"},\"ticker\":{\"id\":\"977e4f8c-6304-40ca-8e98-4f9ea1b3811e\",\"type\":\"BasicTicker\"}},\"id\":\"e7b7a929-c828-442e-9c57-d4ad55269d0c\",\"type\":\"LinearAxis\"},{\"attributes\":{\"fill_alpha\":{\"value\":0.1},\"fill_color\":{\"value\":\"#1f77b4\"},\"line_alpha\":{\"value\":0.1},\"line_color\":{\"value\":\"#1f77b4\"},\"x\":{\"field\":\"x\"},\"y\":{\"field\":\"y\"}},\"id\":\"3bb6214f-8f89-4803-adc6-d87829bbba32\",\"type\":\"Circle\"},{\"attributes\":{\"label\":{\"field\":\"region\"},\"renderers\":[{\"id\":\"9ed738c2-1fb2-407a-9b79-e1bd1a8b9e09\",\"type\":\"GlyphRenderer\"}]},\"id\":\"43ddfcd4-cba6-436d-a10b-734f703036b2\",\"type\":\"LegendItem\"},{\"attributes\":{},\"id\":\"977e4f8c-6304-40ca-8e98-4f9ea1b3811e\",\"type\":\"BasicTicker\"},{\"attributes\":{},\"id\":\"7dce1584-95e9-4a45-8ff7-a09e78c40f00\",\"type\":\"LinearScale\"},{\"attributes\":{\"items\":[{\"id\":\"43ddfcd4-cba6-436d-a10b-734f703036b2\",\"type\":\"LegendItem\"}],\"plot\":{\"id\":\"a2413949-59ff-45f5-89ed-5b7eb9640473\",\"subtype\":\"Figure\",\"type\":\"Plot\"}},\"id\":\"e2cc8d2c-3d54-4649-8c11-f070a84c8fb0\",\"type\":\"Legend\"},{\"attributes\":{\"bottom_units\":\"screen\",\"fill_alpha\":{\"value\":0.5},\"fill_color\":{\"value\":\"lightgrey\"},\"left_units\":\"screen\",\"level\":\"overlay\",\"line_alpha\":{\"value\":1.0},\"line_color\":{\"value\":\"black\"},\"line_dash\":[4,4],\"line_width\":{\"value\":2},\"plot\":null,\"render_mode\":\"css\",\"right_units\":\"screen\",\"top_units\":\"screen\"},\"id\":\"ddae5872-ca47-4443-8982-ba4471f0cd7e\",\"type\":\"BoxAnnotation\"},{\"attributes\":{},\"id\":\"3213867e-f99f-4644-99db-2eaef9a48703\",\"type\":\"LinearScale\"},{\"attributes\":{},\"id\":\"2198b71d-75e7-422c-ac6d-f814be0e9133\",\"type\":\"PanTool\"},{\"attributes\":{\"callback\":null,\"end\":9.223,\"start\":0.836},\"id\":\"ac3d89d8-08e7-4e3f-93ec-ef7c8fa6d28b\",\"type\":\"Range1d\"},{\"attributes\":{},\"id\":\"fb7d2fb8-2e48-4b3d-818f-89c05847b1ad\",\"type\":\"BasicTickFormatter\"},{\"attributes\":{\"callback\":null,\"data\":{\"country\":[\"Afghanistan\",\"Albania\",\"Algeria\",\"Angola\",\"Antigua and Barbuda\",\"Argentina\",\"Armenia\",\"Aruba\",\"Australia\",\"Austria\",\"Azerbaijan\",\"Bahamas\",\"Bahrain\",\"Bangladesh\",\"Barbados\",\"Belarus\",\"Belgium\",\"Belize\",\"Benin\",\"Bhutan\",\"Bolivia\",\"Bosnia and Herzegovina\",\"Botswana\",\"Brazil\",\"Brunei\",\"Bulgaria\",\"Burkina Faso\",\"Burundi\",\"Cambodia\",\"Cameroon\",\"Canada\",\"Cape Verde\",\"Central African Rep.\",\"Chad\",\"Channel Islands\",\"Chile\",\"China\",\"Colombia\",\"Comoros\",\"Congo, Dem. Rep.\",\"Congo, Rep.\",\"Costa Rica\",\"Cote d'Ivoire\",\"Croatia\",\"Cuba\",\"Cyprus\",\"Czech Rep.\",\"Denmark\",\"Djibouti\",\"Dominican Rep.\",\"Ecuador\",\"Egypt\",\"El Salvador\",\"Equatorial Guinea\",\"Eritrea\",\"Estonia\",\"Ethiopia\",\"Fiji\",\"Finland\",\"France\",\"French Guiana\",\"French Polynesia\",\"Gabon\",\"Gambia\",\"Georgia\",\"Germany\",\"Ghana\",\"Greece\",\"Greenland\",\"Grenada\",\"Guadeloupe\",\"Guam\",\"Guatemala\",\"Guinea\",\"Guinea-Bissau\",\"Guyana\",\"Haiti\",\"Honduras\",\"Hong Kong, China\",\"Hungary\",\"Iceland\",\"India\",\"Indonesia\",\"Iran\",\"Iraq\",\"Ireland\",\"Israel\",\"Italy\",\"Jamaica\",\"Japan\",\"Jordan\",\"Kazakhstan\",\"Kenya\",\"Kiribati\",\"Korea, Dem. Rep.\",\"Korea, Rep.\",\"Kuwait\",\"Kyrgyzstan\",\"Laos\",\"Latvia\",\"Lebanon\",\"Lesotho\",\"Liberia\",\"Libya\",\"Lithuania\",\"Luxembourg\",\"Macao, China\",\"Macedonia, FYR\",\"Madagascar\",\"Malawi\",\"Malaysia\",\"Maldives\",\"Mali\",\"Malta\",\"Martinique\",\"Mauritania\",\"Mauritius\",\"Mayotte\",\"Mexico\",\"Micronesia, Fed. Sts.\",\"Moldova\",\"Mongolia\",\"Montenegro\",\"Morocco\",\"Mozambique\",\"Myanmar\",\"Namibia\",\"Nepal\",\"Netherlands\",\"Netherlands Antilles\",\"New Caledonia\",\"New Zealand\",\"Nicaragua\",\"Niger\",\"Nigeria\",\"Norway\",\"Oman\",\"Pakistan\",\"Panama\",\"Papua New Guinea\",\"Paraguay\",\"Peru\",\"Philippines\",\"Poland\",\"Portugal\",\"Puerto Rico\",\"Qatar\",\"Reunion\",\"Romania\",\"Russia\",\"Rwanda\",\"Saint Lucia\",\"Saint Vincent and the Grenadines\",\"Samoa\",\"Sao Tome and Principe\",\"Saudi Arabia\",\"Senegal\",\"Serbia\",\"Seychelles\",\"Sierra Leone\",\"Singapore\",\"Slovak Republic\",\"Slovenia\",\"Solomon Islands\",\"Somalia\",\"South Africa\",\"South Sudan\",\"Spain\",\"Sri Lanka\",\"Sudan\",\"Suriname\",\"Swaziland\",\"Sweden\",\"Switzerland\",\"Syria\",\"Taiwan\",\"Tajikistan\",\"Tanzania\",\"Thailand\",\"Timor-Leste\",\"Togo\",\"Tonga\",\"Trinidad and Tobago\",\"Tunisia\",\"Turkey\",\"Turkmenistan\",\"Uganda\",\"Ukraine\",\"United Arab Emirates\",\"United Kingdom\",\"United States\",\"Uruguay\",\"Uzbekistan\",\"Vanuatu\",\"Venezuela\",\"Vietnam\",\"Virgin Islands (U.S.)\",\"West Bank and Gaza\",\"Western Sahara\",\"Yemen, Rep.\",\"Zambia\",\"Zimbabwe\"],\"pop\":{\"__ndarray__\":\"u+Lz1DTJBEC48khyr9oAQATo9/2bfwVADRWIQ9teAkBhBOhStwYAQNJNB1fllwlApDH/jeIBAUB9UjdhDAYAQOCocF9iFwVAWPp1TIL8AkBK8OHtnBECQJ1ostpXEQBA+EswQbIVAEDFuNG2UGAVQGLShJJuGABAata+JaWdA0CzzTIwl9kDQD6m//aGDABAS+B7JMojAUCO8KyT6R4AQOJ9sOfGrwFAvxaqUf5sAUDQ/CCB9UYAQHkH04s1NxtAGaZbG88MAECf0EYJVWUDQHC2FOuvUgJAvc+nRMhnAUBa6f9mc8YCQAvLRLaYvAJAJsreUs6vCEDd81cjFhwAQHOPW4JCuwBAxOkkW112AUBmetM+ZwwAQLwIrk2+1ANAfr0MEJZdRUDG8Y0yLIgIQBwptt1fGABAVhgRe1cbCECv6eaHtogAQLOHrCRougBAypx4GKQqAkCM+KmF7aoBQHloabgSewNAPl3dsdg+AECBApQrYeoDQG+qpASz+AFAxLnh0owQAEC0WrtI/M0BQGydbo+UYwJAKvtTT4teDkDzEq0mmX4BQJN41PPJHQBA6Ugu/yG9AEAAl1u1xosAQMzy0NJwlQtAxk54CU41AEAzLVZ5p9cBQKL7g5ITJxJAkr5a//gEAEDqnWVxWgsAQOPz1DQ5NgBAQPRJk/cuAEBZfFQNDOIBQN1Tg3pEohdA/u1XpgR5A0ANd4lFZ4QDQLWbKinBBABARDCzdKoJAEBZEG9CxiAAQD4PpEHACABAqYmZ2NctAkCrkm2FVakBQOHkyBS9PQBAApjXts1JAEAwUt59ROIBQDDwgcJFEwFA3tLFAU+VAUA+zcmLTCAEQEkIoGLmFABAQup29pWxPUDwh5//HqwfQHIJ0Wv9dgtAcQSpFDsCBEAj9Z7KaS8BQDmJ99LKIwFA0FSZczqqEkCGFbiGY78AQDrBSHn3vRxA8wTCTrGqAEAiVASTdj4FQEat1cM8gARA49WDk34EAEBqbXWU3rIFQDDfsCPEkwxAl7JnKh9NAEAhnAWQkC8BQN60dGCUEwFAIcuCiT/yAEA+MmfHV/wAQLEh7qDIaQBAq7jMRGyTAEAjSnuDL8wAQOaK94g9QQFAO+5KgbsiAEB0le6usxkAQEZ4IFePoABAOZ+VD5yeAkCIm1PJANABQDI1riQeXQRAWoS95NoLAEB6Vi1E4mkCQK1VFuAWHwBAJyTjYlYhAEAIf3ULE3QAQHNS87CrVABAkC+hgsMDAEAsmPijqF8SQF1idmBKBgBA/CzgrxNwAUDEeM2rOoMAQIs4+B0eNQBA+MQ6Vb4fBkBKmdTQBsgDQM1N5f40dwpAcU3LWelPAEBoKh/dY8QEQHS5HAr6LgVAGq8vyEwQAEDXrVQGxAoAQO4oKQu6IAFA6zpUU5L1AEDIuahxyr8BQCKJXkaxeBNAZaDXRAuNAUBvJ7Yn7UoAQNL0fkhk4BNAzhztE5uaAEAwQbIlUPkAQMfSLHU1/gBAWY9WEF5GBUAGEm/4OC4OQIZYWMv4Ag1AB0n6D0R5A0BWZHRAEhYBQAXxy6oZCwBAgwvDkVEvAEBsX0Av3BkIQPCp968HCiFAU1/xL91/AUA+MfzxqAoAQLSSVnxDCQBAK8iFuZMOAEBCzZAqigcAQPUE03oJTwJAuI/cmnSjAUAoui784EQDQLY3rjVKBQBAW83fKYkJAUBud8VCY9QAQBpH9lLCzQFAOD8P//qqAEBZmM8DaRAAQK52XnTDcAFAdtVNczwACUBQJ49dWDUBQAazU71GhA1Aj/dP3JYFBUCx+E1hpbIEQHPC34ofJgBAshLzrKQtAEAezNwyljcDQMz8WeK3dwJAGSauvhWMAkCezarP1dYFQOV1Dq81LQFAahJhaBpxBUDoiq37IsQOQGi38YLjPQBAQ1DawMLWAECJUcauowgAQDB86ZIWYwBArJ9IQQENAkDYkp+eiC8OQHbuLDAa4ABAkBiYcEPHA0DyOofXmnYRQHFJxEq7FwBAEqJ8QQshE0A74LpiRvIoQEtBElGnHwFA6hSa2gjKBEBF7LiGvggAQIaku5CzRQRAPB1+7U/8EECl3H2OjwYAQOWMcnoocwBAT8KWaNoHAEAzrD1HP3UCQNFj7yDRpwFA2TFkKx4VAkA=\",\"dtype\":\"float64\",\"shape\":[202]},\"region\":[\"South Asia\",\"Europe & Central Asia\",\"Middle East & North Africa\",\"Sub-Saharan Africa\",\"America\",\"America\",\"Europe & Central Asia\",\"America\",\"East Asia & Pacific\",\"Europe & Central Asia\",\"Europe & Central Asia\",\"America\",\"Middle East & North Africa\",\"South Asia\",\"America\",\"Europe & Central Asia\",\"Europe & Central Asia\",\"America\",\"Sub-Saharan Africa\",\"South Asia\",\"America\",\"Europe & Central Asia\",\"Sub-Saharan Africa\",\"America\",\"East Asia & Pacific\",\"Europe & Central Asia\",\"Sub-Saharan Africa\",\"Sub-Saharan Africa\",\"East Asia & Pacific\",\"Sub-Saharan Africa\",\"America\",\"Sub-Saharan Africa\",\"Sub-Saharan Africa\",\"Sub-Saharan Africa\",\"Europe & Central Asia\",\"America\",\"East Asia & Pacific\",\"America\",\"Sub-Saharan Africa\",\"Sub-Saharan Africa\",\"Sub-Saharan Africa\",\"America\",\"Sub-Saharan Africa\",\"Europe & Central Asia\",\"America\",\"Europe & Central Asia\",\"Europe & Central Asia\",\"Europe & Central Asia\",\"Middle East & North Africa\",\"America\",\"America\",\"Middle East & North Africa\",\"America\",\"Sub-Saharan Africa\",\"Sub-Saharan Africa\",\"Europe & Central Asia\",\"Sub-Saharan Africa\",\"East Asia & Pacific\",\"Europe & Central Asia\",\"Europe & Central Asia\",\"America\",\"East Asia & Pacific\",\"Sub-Saharan Africa\",\"Sub-Saharan Africa\",\"Europe & Central Asia\",\"Europe & Central Asia\",\"Sub-Saharan Africa\",\"Europe & Central Asia\",\"Europe & Central Asia\",\"America\",\"America\",\"East Asia & Pacific\",\"America\",\"Sub-Saharan Africa\",\"Sub-Saharan Africa\",\"America\",\"America\",\"America\",\"East Asia & Pacific\",\"Europe & Central Asia\",\"Europe & Central Asia\",\"South Asia\",\"East Asia & Pacific\",\"Middle East & North Africa\",\"Middle East & North Africa\",\"Europe & Central Asia\",\"Middle East & North Africa\",\"Europe & Central Asia\",\"America\",\"East Asia & Pacific\",\"Middle East & North Africa\",\"Europe & Central Asia\",\"Sub-Saharan Africa\",\"East Asia & Pacific\",\"East Asia & Pacific\",\"East Asia & Pacific\",\"Middle East & North Africa\",\"Europe & Central Asia\",\"East Asia & Pacific\",\"Europe & Central Asia\",\"Middle East & North Africa\",\"Sub-Saharan Africa\",\"Sub-Saharan Africa\",\"Middle East & North Africa\",\"Europe & Central Asia\",\"Europe & Central Asia\",\"East Asia & Pacific\",\"Europe & Central Asia\",\"Sub-Saharan Africa\",\"Sub-Saharan Africa\",\"East Asia & Pacific\",\"South Asia\",\"Sub-Saharan Africa\",\"Europe & Central Asia\",\"America\",\"Sub-Saharan Africa\",\"Sub-Saharan Africa\",\"Sub-Saharan Africa\",\"America\",\"East Asia & Pacific\",\"Europe & Central Asia\",\"East Asia & Pacific\",\"Europe & Central Asia\",\"Middle East & North Africa\",\"Sub-Saharan Africa\",\"East Asia & Pacific\",\"Sub-Saharan Africa\",\"South Asia\",\"Europe & Central Asia\",\"America\",\"East Asia & Pacific\",\"East Asia & Pacific\",\"America\",\"Sub-Saharan Africa\",\"Sub-Saharan Africa\",\"Europe & Central Asia\",\"Middle East & North Africa\",\"South Asia\",\"America\",\"East Asia & Pacific\",\"America\",\"America\",\"East Asia & Pacific\",\"Europe & Central Asia\",\"Europe & Central Asia\",\"America\",\"Middle East & North Africa\",\"Sub-Saharan Africa\",\"Europe & Central Asia\",\"Europe & Central Asia\",\"Sub-Saharan Africa\",\"America\",\"America\",\"East Asia & Pacific\",\"Sub-Saharan Africa\",\"Middle East & North Africa\",\"Sub-Saharan Africa\",\"Europe & Central Asia\",\"Sub-Saharan Africa\",\"Sub-Saharan Africa\",\"East Asia & Pacific\",\"Europe & Central Asia\",\"Europe & Central Asia\",\"East Asia & Pacific\",\"Sub-Saharan Africa\",\"Sub-Saharan Africa\",\"Sub-Saharan Africa\",\"Europe & Central Asia\",\"South Asia\",\"Sub-Saharan Africa\",\"America\",\"Sub-Saharan Africa\",\"Europe & Central Asia\",\"Europe & Central Asia\",\"Middle East & North Africa\",\"East Asia & Pacific\",\"Europe & Central Asia\",\"Sub-Saharan Africa\",\"East Asia & Pacific\",\"East Asia & Pacific\",\"Sub-Saharan Africa\",\"East Asia & Pacific\",\"America\",\"Middle East & North Africa\",\"Europe & Central Asia\",\"Europe & Central Asia\",\"Sub-Saharan Africa\",\"Europe & Central Asia\",\"Middle East & North Africa\",\"Europe & Central Asia\",\"America\",\"America\",\"Europe & Central Asia\",\"East Asia & Pacific\",\"America\",\"East Asia & Pacific\",\"America\",\"Middle East & North Africa\",\"Middle East & North Africa\",\"Middle East & North Africa\",\"Sub-Saharan Africa\",\"Sub-Saharan Africa\"],\"x\":{\"__ndarray__\":\"yXa+nxqvHkAzMzMzMzMUQKrx0k1ikB5ATmIQWDk0HUBGtvP91HgNQC/dJAaBlQhARIts5/upCUDdJAaBlUMHQKwcWmQ73wZAvHSTGARWAkCmm8QgsHISQHNoke18PwxAyaFFtvP9GUB9PzVeuskbQIGVQ4ts5whAPN9PjZduAkDZzvdT46UBQBkEVg4tMhlAyaFFtvP9GkDJdr6fGq8aQBtaZDvfTxpAPzVeukkMB0Cq8dJNYpAaQH9qvHSTGBRAGy/dJAYBF0AUrkfhehQBQMmhRbbzfRpAWDm0yHY+HUBmZmZmZuYZQFK4HoXr0RhAsHJoke18AkA9CtejcL0bQDeJQWDl0BdA6SYxCKwcGkArhxbZzvcAQGQ730+NFxBAlkOLbOf7FkBMN4lBYGUWQFg5tMh2PhxAQmDl0CLbGEDwp8ZLNwkZQD81XrpJDBRAbRKDwMqhH0B1kxgEVg4AQG8Sg8DKIRBA4XoUrkfhBEBcj8L1KFwAQDMzMzMzM/8/nO+nxks3G0DufD81XroYQE+Nl24SgxhAw/UoXI/CF0AbWmQ7388YQIPAyqFFthZAmpmZmZmZGkAtsp3vp8YAQLbz/dR46RtAeekmMQgsEkBI4XoUrkf9P4GVQ4ts5wNA6iYxCKycEkDufD81XjoUQG3n+6nxUhRArBxaZDtfGEDD9Shcj8IEQLx0kxgEVgBAzczMzMzMG0C28/3UeOkCQDMzMzMzMw9A0SLb+X5qEkAIrBxaZLsTQLByaJHtfBFAcT0K16PwGEBI4XoUrscYQGQQWDm0SBhAE4PAyqFFFEBANV66SQwXQBSuR+F6FB1Aku18PzVeC0A9CtejcD0AQHNoke18PwhAYOXQItv5FUBMN4lBYOUVQMP1KFyPwhlAppvEILByHUAbL90kBoEOQPCnxks3iQ5AjZduEoPAA0CcxCCwcugVQAIrhxbZzgBATmIQWDm0H0Do+6nx0k0MQLbz/dR4KSBATmIQWDk0GEACK4cW2U4RQM/3U+OlGxJAEFg5tMj2HEDFILByaJETQEw3iUFg5RdAj8L1KFyP/j+YbhKDwMoTQAisHFpkOxdASOF6FK7HGkAshxbZzncfQBFYObTIdgJAXI/C9Shc/z+HFtnO91MBQNejcD0K1wdAzczMzMxMHUCc76fGSzcdQLByaJHtfBNAnMQgsHLoHEC0yHa+n5obQJqZmZmZmf8/wcqhRbZzEkCJQWDl0CIbQARWDi2ynQ9A2s73U+OlH0DhehSuR+EaQI2XbhKDwBtADi2yne+nBEAtsp3vp0YeQFCNl24SgwVAc2iR7Xy/GkB3vp8aL10aQLx0kxgE1hdAvHSTGATWGUD8qfHSTeIXQI/C9ShcjwRASOF6FK5HB0Cc76fGSzcVQPJG5pE/mAdAxSCwcmiRG0DlpZvEILAdQPyp8dJN4hlAAAAAAAAABEBYObTIdj4dQIGVQ4tsZxpA/dR46SaxFEDy/dR46aYYQNv5fmq89BZA7nw/NV46GUBzkxgEVg4ZQKJFtvP91AFAwcqhRbbzB0BfukkMAisJQHfpJjEIrBtAj8L1KFwPE0B/GnA/JPAGQOxRuB6F6/8/g8DKoUV2IECBlUOLbGcYQHOTGARWDhhALbKd76fGHECsHFpkO98ZQB+F61G4Hh1AQGDl0CJbHUDfT42XbhIDQCUGgZVDCxdAfT81XrrJGkCF61G4HoUJQMuhRbbz/QNAyXa+nxovAkAOLbKd76cbQO58PzVeuhxAd76fGi9dFkCgGi/dJIYbQGDl0CLb+QZAke18PzVeEUBaZDvfT40bQOkmMQisnBZAAAAAAACAG0BOYhBYObT+PyuHFtnO9wBAfT81XrpJHkDb+X5qvHQPQE+Nl24SgxtAL90kBoEVG0DhehSuR2EWQGC6SQwCqxdAvHSTGARWHEDdJAaBlcMXQDvfT42XbgxAjZduEoPAGUCNl24Sg0AWQGmR7Xw/NRlA9ihcj8J1HEDHSzeJQWAAQOxRuB6FaxpAJzEIrBxaAkDjpZvEILADQJ7vp8ZLNwdALIcW2c73GUBKDAIrhxYZQARWDi2ynRVAXI/C9SjcGUBgukkMAqsUQKabxCCwch9AexSuR+F6GkBgukkMAiseQHNoke18vx1AYLpJDAKrHUA=\",\"dtype\":\"float64\",\"shape\":[202]},\"y\":{\"__ndarray__\":\"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\",\"dtype\":\"float64\",\"shape\":[202]}},\"selected\":{\"id\":\"48f47a8e-436e-43f5-9b50-9a2b190e6d75\",\"type\":\"Selection\"},\"selection_policy\":{\"id\":\"90ca4752-0380-4b83-9297-91398ae2d682\",\"type\":\"UnionRenderers\"}},\"id\":\"583be00d-03d6-4eee-9d3e-83b54da766e5\",\"type\":\"ColumnDataSource\"},{\"attributes\":{},\"id\":\"cb65fcc7-f6be-4820-8294-060d2d3e589b\",\"type\":\"SaveTool\"},{\"attributes\":{},\"id\":\"42b9e3f0-aade-4b91-bbb5-1c0b953d0031\",\"type\":\"ResetTool\"},{\"attributes\":{},\"id\":\"59327c76-fa3a-4162-a56b-c13603717070\",\"type\":\"HelpTool\"},{\"attributes\":{},\"id\":\"ae9be2a9-a5ee-43ba-9c9e-f3ac5c91ef3a\",\"type\":\"BasicTickFormatter\"},{\"attributes\":{\"source\":{\"id\":\"583be00d-03d6-4eee-9d3e-83b54da766e5\",\"type\":\"ColumnDataSource\"}},\"id\":\"1f168736-b2dd-4de8-b9f9-0a906e4fd594\",\"type\":\"CDSView\"},{\"attributes\":{},\"id\":\"48f47a8e-436e-43f5-9b50-9a2b190e6d75\",\"type\":\"Selection\"},{\"attributes\":{},\"id\":\"90ca4752-0380-4b83-9297-91398ae2d682\",\"type\":\"UnionRenderers\"},{\"attributes\":{\"dimension\":1,\"plot\":{\"id\":\"a2413949-59ff-45f5-89ed-5b7eb9640473\",\"subtype\":\"Figure\",\"type\":\"Plot\"},\"ticker\":{\"id\":\"977e4f8c-6304-40ca-8e98-4f9ea1b3811e\",\"type\":\"BasicTicker\"}},\"id\":\"608eb5f2-63a0-46ad-9e29-1bd3ffa3a47f\",\"type\":\"Grid\"},{\"attributes\":{\"data_source\":{\"id\":\"583be00d-03d6-4eee-9d3e-83b54da766e5\",\"type\":\"ColumnDataSource\"},\"glyph\":{\"id\":\"8c9fac13-c8e7-418e-bb08-c2ab51ce6fe8\",\"type\":\"Circle\"},\"hover_glyph\":null,\"muted_glyph\":null,\"nonselection_glyph\":{\"id\":\"b93d7f5c-d25b-4845-bedc-7c453821ae99\",\"type\":\"Circle\"},\"selection_glyph\":null,\"view\":{\"id\":\"1f168736-b2dd-4de8-b9f9-0a906e4fd594\",\"type\":\"CDSView\"}},\"id\":\"d537fe47-97d8-41c1-a7b2-2f2bf695ca5f\",\"type\":\"GlyphRenderer\"},{\"attributes\":{},\"id\":\"8bcd3590-7987-4542-a11d-0456616b0313\",\"type\":\"WheelZoomTool\"},{\"attributes\":{\"fill_alpha\":{\"value\":0.8},\"fill_color\":{\"value\":\"#1f77b4\"},\"line_color\":{\"value\":\"#1f77b4\"},\"x\":{\"field\":\"x\"},\"y\":{\"field\":\"y\"}},\"id\":\"8c9fac13-c8e7-418e-bb08-c2ab51ce6fe8\",\"type\":\"Circle\"},{\"attributes\":{\"plot\":null,\"text\":\"Gapminder Data for 1970\"},\"id\":\"ba49224a-da12-4d04-aa16-ea2a7bc3c744\",\"type\":\"Title\"},{\"attributes\":{\"overlay\":{\"id\":\"ddae5872-ca47-4443-8982-ba4471f0cd7e\",\"type\":\"BoxAnnotation\"}},\"id\":\"670fc7ac-7951-4322-8906-bfd1cdb28629\",\"type\":\"BoxZoomTool\"},{\"attributes\":{\"fill_alpha\":{\"value\":0.1},\"fill_color\":{\"value\":\"#1f77b4\"},\"line_alpha\":{\"value\":0.1},\"line_color\":{\"value\":\"#1f77b4\"},\"x\":{\"field\":\"x\"},\"y\":{\"field\":\"y\"}},\"id\":\"b93d7f5c-d25b-4845-bedc-7c453821ae99\",\"type\":\"Circle\"},{\"attributes\":{\"below\":[{\"id\":\"b7008e70-810b-49ef-9ec0-0ccec096eeb3\",\"type\":\"LinearAxis\"}],\"left\":[{\"id\":\"e7b7a929-c828-442e-9c57-d4ad55269d0c\",\"type\":\"LinearAxis\"}],\"plot_height\":400,\"plot_width\":700,\"renderers\":[{\"id\":\"b7008e70-810b-49ef-9ec0-0ccec096eeb3\",\"type\":\"LinearAxis\"},{\"id\":\"36367103-3596-472b-a63f-a16c1f8d62f2\",\"type\":\"Grid\"},{\"id\":\"e7b7a929-c828-442e-9c57-d4ad55269d0c\",\"type\":\"LinearAxis\"},{\"id\":\"608eb5f2-63a0-46ad-9e29-1bd3ffa3a47f\",\"type\":\"Grid\"},{\"id\":\"ddae5872-ca47-4443-8982-ba4471f0cd7e\",\"type\":\"BoxAnnotation\"},{\"id\":\"d537fe47-97d8-41c1-a7b2-2f2bf695ca5f\",\"type\":\"GlyphRenderer\"},{\"id\":\"e2cc8d2c-3d54-4649-8c11-f070a84c8fb0\",\"type\":\"Legend\"},{\"id\":\"9ed738c2-1fb2-407a-9b79-e1bd1a8b9e09\",\"type\":\"GlyphRenderer\"}],\"title\":{\"id\":\"ba49224a-da12-4d04-aa16-ea2a7bc3c744\",\"type\":\"Title\"},\"toolbar\":{\"id\":\"a24f7454-ca1f-427d-9cd0-fc053a2631a2\",\"type\":\"Toolbar\"},\"x_range\":{\"id\":\"ac3d89d8-08e7-4e3f-93ec-ef7c8fa6d28b\",\"type\":\"Range1d\"},\"x_scale\":{\"id\":\"3213867e-f99f-4644-99db-2eaef9a48703\",\"type\":\"LinearScale\"},\"y_range\":{\"id\":\"71c6b448-d8b1-43bf-a8e0-3963ab5d7555\",\"type\":\"Range1d\"},\"y_scale\":{\"id\":\"7dce1584-95e9-4a45-8ff7-a09e78c40f00\",\"type\":\"LinearScale\"}},\"id\":\"a2413949-59ff-45f5-89ed-5b7eb9640473\",\"subtype\":\"Figure\",\"type\":\"Plot\"},{\"attributes\":{\"factors\":[\"South Asia\",\"Europe & Central Asia\",\"Middle East & North Africa\",\"Sub-Saharan Africa\",\"America\",\"East Asia & Pacific\"],\"palette\":[\"#3288bd\",\"#99d594\",\"#e6f598\",\"#fee08b\",\"#fc8d59\",\"#d53e4f\"]},\"id\":\"425204e3-0ea7-43d7-a264-c501b3e09d20\",\"type\":\"CategoricalColorMapper\"},{\"attributes\":{\"fill_alpha\":{\"value\":0.8},\"fill_color\":{\"field\":\"region\",\"transform\":{\"id\":\"425204e3-0ea7-43d7-a264-c501b3e09d20\",\"type\":\"CategoricalColorMapper\"}},\"line_color\":{\"field\":\"region\",\"transform\":{\"id\":\"425204e3-0ea7-43d7-a264-c501b3e09d20\",\"type\":\"CategoricalColorMapper\"}},\"x\":{\"field\":\"x\"},\"y\":{\"field\":\"y\"}},\"id\":\"9c99b462-69f4-44a7-9bb1-83d5e6d58c26\",\"type\":\"Circle\"},{\"attributes\":{\"active_drag\":\"auto\",\"active_inspect\":\"auto\",\"active_multi\":null,\"active_scroll\":\"auto\",\"active_tap\":\"auto\",\"tools\":[{\"id\":\"2198b71d-75e7-422c-ac6d-f814be0e9133\",\"type\":\"PanTool\"},{\"id\":\"8bcd3590-7987-4542-a11d-0456616b0313\",\"type\":\"WheelZoomTool\"},{\"id\":\"670fc7ac-7951-4322-8906-bfd1cdb28629\",\"type\":\"BoxZoomTool\"},{\"id\":\"cb65fcc7-f6be-4820-8294-060d2d3e589b\",\"type\":\"SaveTool\"},{\"id\":\"42b9e3f0-aade-4b91-bbb5-1c0b953d0031\",\"type\":\"ResetTool\"},{\"id\":\"59327c76-fa3a-4162-a56b-c13603717070\",\"type\":\"HelpTool\"}]},\"id\":\"a24f7454-ca1f-427d-9cd0-fc053a2631a2\",\"type\":\"Toolbar\"}],\"root_ids\":[\"a2413949-59ff-45f5-89ed-5b7eb9640473\"]},\"title\":\"Bokeh Application\",\"version\":\"0.13.0\"}};\n",
       "  var render_items = [{\"docid\":\"e93595d7-00e1-4870-9b50-f7d714b882ce\",\"notebook_comms_target\":\"92c7a9e7-dab6-4e6c-8add-973ba7691d03\",\"roots\":{\"a2413949-59ff-45f5-89ed-5b7eb9640473\":\"093551a4-cf57-4a87-ab04-2420c3e774cd\"}}];\n",
       "  root.Bokeh.embed.embed_items_notebook(docs_json, render_items);\n",
       "\n",
       "  }\n",
       "  if (root.Bokeh !== undefined) {\n",
       "    embed_document(root);\n",
       "  } else {\n",
       "    var attempts = 0;\n",
       "    var timer = setInterval(function(root) {\n",
       "      if (root.Bokeh !== undefined) {\n",
       "        embed_document(root);\n",
       "        clearInterval(timer);\n",
       "      }\n",
       "      attempts++;\n",
       "      if (attempts > 100) {\n",
       "        console.log(\"Bokeh: ERROR: Unable to run BokehJS code because BokehJS library is missing\")\n",
       "        clearInterval(timer);\n",
       "      }\n",
       "    }, 10, root)\n",
       "  }\n",
       "})(window);"
      ],
      "application/vnd.bokehjs_exec.v0+json": ""
     },
     "metadata": {
      "application/vnd.bokehjs_exec.v0+json": {
       "id": "a2413949-59ff-45f5-89ed-5b7eb9640473"
      }
     },
     "output_type": "display_data"
    },
    {
     "data": {
      "text/html": [
       "<p><code>&lt;Bokeh Notebook handle for <strong>In[14]</strong>&gt;</code></p>"
      ],
      "text/plain": [
       "<bokeh.io.notebook.CommsHandle at 0x7f13811e3dd8>"
      ]
     },
     "execution_count": 14,
     "metadata": {},
     "output_type": "execute_result"
    }
   ],
   "source": [
    "# Make a list of the unique values from the region column: regions_list\n",
    "regions_list = data.region.unique().tolist()\n",
    "\n",
    "# Make a color mapper: color_mapper\n",
    "color_mapper = CategoricalColorMapper(factors=regions_list, palette=Spectral6)\n",
    "\n",
    "# Add the color mapper to the circle glyph\n",
    "plot.circle(x='x', y='y', fill_alpha=0.8, source=source,\n",
    "            color=dict(field='region', transform=color_mapper), legend='region')\n",
    "\n",
    "# Set the legend.location attribute of the plot to 'top_right'\n",
    "plot.legend.location = 'top_right'\n",
    "\n",
    "# Add the plot to the current document and add the title\n",
    "#curdoc().add_root(plot)\n",
    "curdoc().title = 'Gapminder'\n",
    "\n",
    "show(plot, notebook_handle=True)"
   ]
  },
  {
   "cell_type": "code",
   "execution_count": 15,
   "metadata": {},
   "outputs": [],
   "source": [
    "# Import the necessary modules\n",
    "from bokeh.layouts import widgetbox, row\n",
    "from bokeh.models import Slider"
   ]
  },
  {
   "cell_type": "code",
   "execution_count": 16,
   "metadata": {},
   "outputs": [],
   "source": [
    "# Define the callback function: update_plot\n",
    "def update_plot(attr, old, new):\n",
    "    # set the `yr` name to `slider.value` and `source.data = new_data`\n",
    "    yr = slider.value\n",
    "    new_data = {\n",
    "        'x'       : data.loc[yr].fertility,\n",
    "        'y'       : data.loc[yr].life,\n",
    "        'country' : data.loc[yr].Country,\n",
    "        'pop'     : (data.loc[yr].population / 20000000) + 2,\n",
    "        'region'  : data.loc[yr].region,\n",
    "    }\n",
    "    source.data = new_data"
   ]
  },
  {
   "cell_type": "code",
   "execution_count": 17,
   "metadata": {},
   "outputs": [],
   "source": [
    "# Make a slider object: slider\n",
    "slider = Slider(start=1970, end=2010, step=1, value= 1970, title='Year')\n",
    "\n",
    "# Attach the callback to the 'value' property of slider\n",
    "slider.on_change('value', update_plot)\n",
    "\n",
    "# Make a row layout of widgetbox(slider) and plot and add it to the current document\n",
    "layout = row(widgetbox(slider), plot)\n",
    "#curdoc().add_root(layout)\n"
   ]
  },
  {
   "cell_type": "markdown",
   "metadata": {},
   "source": [
    "## Customizing based on user input"
   ]
  },
  {
   "cell_type": "code",
   "execution_count": 18,
   "metadata": {},
   "outputs": [],
   "source": [
    "# Define the callback function: update_plot\n",
    "def update_plot(attr, old, new):\n",
    "    # Assign the value of the slider: yr\n",
    "    yr = slider.value\n",
    "    # Set new_data\n",
    "    new_data = {\n",
    "        'x'       : data.loc[yr].fertility,\n",
    "        'y'       : data.loc[yr].life,\n",
    "        'country' : data.loc[yr].Country,\n",
    "        'pop'     : (data.loc[yr].population / 20000000) + 2,\n",
    "        'region'  : data.loc[yr].region,\n",
    "    }\n",
    "    # Assign new_data to: source.data\n",
    "    source.data = new_data\n",
    "\n",
    "    # Add title to figure\n",
    "    plot.title.text = 'Gapminder data for %d' % yr"
   ]
  },
  {
   "cell_type": "code",
   "execution_count": 19,
   "metadata": {},
   "outputs": [],
   "source": [
    "# Make a slider object: slider\n",
    "slider = Slider(start=1970, end=2010, step=1, value=1970, title='Year')\n",
    "\n",
    "# Attach the callback to the 'value' property of slider\n",
    "slider.on_change('value', update_plot)\n",
    "\n",
    "# Make a row layout of widgetbox(slider) and plot and add it to the current document\n",
    "layout = row(widgetbox(slider), plot)\n",
    "#curdoc().add_root(layout)"
   ]
  },
  {
   "cell_type": "markdown",
   "metadata": {},
   "source": [
    "## Adding a hover tool"
   ]
  },
  {
   "cell_type": "code",
   "execution_count": 20,
   "metadata": {},
   "outputs": [],
   "source": [
    "# Import HoverTool from bokeh.models\n",
    "from bokeh.models import HoverTool\n",
    "\n",
    "# Create a HoverTool: hover\n",
    "hover = HoverTool(tooltips=[('Country', '@country')])\n",
    "\n",
    "# Add the HoverTool to the plot\n",
    "plot.add_tools(hover)\n",
    "\n",
    "# Create layout: layout\n",
    "layout = row(widgetbox(slider), plot)\n",
    "\n",
    "# Add layout to current document\n",
    "#curdoc().add_root(layout)"
   ]
  },
  {
   "cell_type": "markdown",
   "metadata": {},
   "source": [
    "## Adding dropdowns to the app"
   ]
  },
  {
   "cell_type": "code",
   "execution_count": 21,
   "metadata": {},
   "outputs": [],
   "source": [
    "# Import Select from bokeh.models\n",
    "from bokeh.models import Select"
   ]
  },
  {
   "cell_type": "code",
   "execution_count": 22,
   "metadata": {},
   "outputs": [],
   "source": [
    "# Define the callback: update_plot\n",
    "def update_plot(attr, old, new):\n",
    "    # Read the current value off the slider and 2 dropdowns: yr, x, y\n",
    "    yr = slider.value\n",
    "    x = x_select.value\n",
    "    y = y_select.value\n",
    "    # Label axes of plot\n",
    "    plot.xaxis.axis_label = x\n",
    "    plot.yaxis.axis_label = y\n",
    "    # Set new_data\n",
    "    new_data = {\n",
    "        'x'       : data.loc[yr][x],\n",
    "        'y'       : data.loc[yr][y],\n",
    "        'country' : data.loc[yr].Country,\n",
    "        'pop'     : (data.loc[yr].population / 20000000) + 2,\n",
    "        'region'  : data.loc[yr].region,\n",
    "    }\n",
    "    # Assign new_data to source.data\n",
    "    source.data = new_data\n",
    "\n",
    "    # Set the range of all axes\n",
    "    plot.x_range.start = min(data[x])\n",
    "    plot.x_range.end = max(data[x])\n",
    "    plot.y_range.start = min(data[y])\n",
    "    plot.y_range.end = max(data[y])\n",
    "\n",
    "    # Add title to plot\n",
    "    plot.title.text = 'Gapminder data for %d' % yr"
   ]
  },
  {
   "cell_type": "code",
   "execution_count": 23,
   "metadata": {},
   "outputs": [],
   "source": [
    "# Create a dropdown slider widget: slider\n",
    "slider = Slider(start=1970, end=2010, step=1, value=1970, title='Year')\n",
    "\n",
    "# Attach the callback to the 'value' property of slider\n",
    "slider.on_change('value', update_plot)\n",
    "\n",
    "# Create a dropdown Select widget for the x data: x_select\n",
    "x_select = Select(\n",
    "    options=['fertility', 'life', 'child_mortality', 'gdp'],\n",
    "    value='fertility',\n",
    "    title='x-axis data'\n",
    ")\n",
    "\n",
    "# Attach the update_plot callback to the 'value' property of x_select\n",
    "x_select.on_change('value', update_plot)\n",
    "\n",
    "# Create a dropdown Select widget for the y data: y_select\n",
    "y_select = Select(\n",
    "    options=['fertility', 'life', 'child_mortality', 'gdp'],\n",
    "    value='life',\n",
    "    title='y-axis data'\n",
    ")\n",
    "\n",
    "# Attach the update_plot callback to the 'value' property of y_select\n",
    "y_select.on_change('value', update_plot)\n",
    "\n",
    "# Create layout and add to current document\n",
    "layout = row(widgetbox(slider, x_select, y_select), plot)\n",
    "curdoc().add_root(layout)"
   ]
  }
 ],
 "metadata": {
  "kernelspec": {
   "display_name": "Python 3",
   "language": "python",
   "name": "python3"
  },
  "language_info": {
   "codemirror_mode": {
    "name": "ipython",
    "version": 3
   },
   "file_extension": ".py",
   "mimetype": "text/x-python",
   "name": "python",
   "nbconvert_exporter": "python",
   "pygments_lexer": "ipython3",
   "version": "3.6.6"
  }
 },
 "nbformat": 4,
 "nbformat_minor": 2
}
