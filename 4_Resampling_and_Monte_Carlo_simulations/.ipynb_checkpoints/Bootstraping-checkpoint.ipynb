{
 "cells": [
  {
   "cell_type": "markdown",
   "metadata": {},
   "source": [
    "# Bootstrap\n",
    "\n",
    "## Bootstraping scheme\n",
    "\n",
    "1. Take a bootstarp sample - a random sample taken with replacement from the original sample, of the same size as the original sample.\n",
    "\n",
    "2. Calculate the bootstrap statistic - a statistic such as mean, median, proportion, etc.. computed on the bootstrap samples.\n",
    "\n",
    "3. Repeat steps (1) and (2) many times to create a bootstrap distribution - a distribution of bootstrap statistics."
   ]
  },
  {
   "cell_type": "markdown",
   "metadata": {},
   "source": [
    "### Generate bootstrap distribution for median\n",
    "\n",
    "When building a bootstrap distribution for a single statistic, we first generate a series of bootstrap resamples, and then record the relevant statistic (in this case, the median) of each distribution."
   ]
  },
  {
   "cell_type": "code",
   "execution_count": 1,
   "metadata": {},
   "outputs": [],
   "source": [
    "import pandas as pd\n",
    "import numpy as np\n",
    "import scipy.stats as ss\n",
    "import matplotlib.pyplot as plt\n",
    "import seaborn as sns\n",
    "\n",
    "# bootstrap functions\n",
    "from Funciones import bootstrap\n",
    "\n",
    "# style graphs\n",
    "sns.set()"
   ]
  },
  {
   "cell_type": "code",
   "execution_count": 2,
   "metadata": {},
   "outputs": [],
   "source": [
    "df = pd.read_csv('manhattan.csv', header = 0)"
   ]
  },
  {
   "cell_type": "code",
   "execution_count": 3,
   "metadata": {
    "scrolled": false
   },
   "outputs": [
    {
     "data": {
      "text/plain": [
       "(15000,)"
      ]
     },
     "execution_count": 3,
     "metadata": {},
     "output_type": "execute_result"
    }
   ],
   "source": [
    "# bootstrap samples\n",
    "bs_median  = bootstrap.draw_bs_reps(df['rent'].values, np.median, size = 15000)\n",
    "bs_median.shape"
   ]
  },
  {
   "cell_type": "code",
   "execution_count": 4,
   "metadata": {},
   "outputs": [
    {
     "data": {
      "image/png": "[encoded data removed]",
      "text/plain": [
       "<Figure size 432x288 with 1 Axes>"
      ]
     },
     "metadata": {},
     "output_type": "display_data"
    }
   ],
   "source": [
    "# visualizamos\n",
    "plt.hist(bs_median, bins=50)\n",
    "plt.show()"
   ]
  },
  {
   "cell_type": "markdown",
   "metadata": {},
   "source": [
    "## Percentile and standard error for bootstrap confidence intervals\n",
    "\n",
    "En el gráfico anterior tenemos una representación de cada una de las medianas calculadas realizando *bootstraping*. Recordamos que un bootstrap sample es un conjunto de datos del mismo tamaño que el original, cuyos datos se obtienen del original con reemplazo.\n",
    "\n",
    "Usando la *distribución* de datos procedente del *bootstraping*, podemos calcular el intervalo de confianza de dos formas distintas.\n",
    "\n",
    "### Intervalos de confianza mediante los percentiles\n",
    "\n",
    "Seleccionamos los percentiles 5th y 97.5th de la distribución *bootstrap* para obtener hasta el 95% de la información."
   ]
  },
  {
   "cell_type": "code",
   "execution_count": 5,
   "metadata": {},
   "outputs": [
    {
     "data": {
      "text/plain": [
       "(2072.5, 2875.0)"
      ]
     },
     "execution_count": 5,
     "metadata": {},
     "output_type": "execute_result"
    }
   ],
   "source": [
    "# percentile method\n",
    "error01, error02 = np.percentile(bs_median, q=[0.05, 97.5])\n",
    "error01, error02"
   ]
  },
  {
   "cell_type": "markdown",
   "metadata": {},
   "source": [
    "### Intervalos de confianza mediante SE\n",
    "\n",
    "Para calcular SE (standard error) simplemente calculamos la desviación estándar de la distribución *bootstrap*."
   ]
  },
  {
   "cell_type": "code",
   "execution_count": 6,
   "metadata": {},
   "outputs": [
    {
     "name": "stdout",
     "output_type": "stream",
     "text": [
      "2703.4394801301532\n",
      "1996.5605198698468\n"
     ]
    }
   ],
   "source": [
    "# standard error method\n",
    "\n",
    "# valor crítico\n",
    "t_star = ss.t.ppf(q=0.975, df=df.shape[0] - 1)\n",
    "\n",
    "# interval\n",
    "error = np.std(bs_median)\n",
    "\n",
    "error0 = np.median(bs_median) + t_star * error\n",
    "error1 = np.median(bs_median) - t_star * error\n",
    "\n",
    "# view\n",
    "print(error0)\n",
    "print(error1)"
   ]
  },
  {
   "cell_type": "code",
   "execution_count": 7,
   "metadata": {},
   "outputs": [
    {
     "data": {
      "image/png": "[encoded data removed]",
      "text/plain": [
       "<Figure size 864x432 with 2 Axes>"
      ]
     },
     "metadata": {},
     "output_type": "display_data"
    }
   ],
   "source": [
    "# visualizamos\n",
    "plt.figure(figsize=(12,6))\n",
    "\n",
    "plt.subplot(1,2,1)\n",
    "plt.title(\"Percentiles error\")\n",
    "plt.hist(bs_median, bins=50)\n",
    "plt.axvline(x=error01, color='red')\n",
    "plt.axvline(x=error02, color='red')\n",
    "\n",
    "plt.subplot(1,2,2)\n",
    "plt.title(\"SE error\")\n",
    "plt.hist(bs_median, bins=50)\n",
    "plt.axvline(x=error0, color='red')\n",
    "plt.axvline(x=error1, color='red')\n",
    "plt.show()"
   ]
  },
  {
   "cell_type": "markdown",
   "metadata": {},
   "source": [
    "## Re-centering a bootstrap distribution for hypothesis testing\n",
    "\n",
    "* Bootstrap distributions are by design centered at the observed sample statistic.\n",
    "* However since in a hypothesis test we assume that $H_0$ is true, we shift the bootstrap distribution to be centered at the null value.\n",
    "* p-value: The proportion of simulations that yield a sample statistic at least as favorable to the alternative hypothesis as the observed sample statistic"
   ]
  },
  {
   "cell_type": "markdown",
   "metadata": {},
   "source": [
    "### Test for median price of 1 BR apartaments in Manhattan\n",
    "\n",
    "We would like to evaluate whether these data provide evidence that the median rent of 1 BR apartaments in Manhattan is greater than \\$2500"
   ]
  },
  {
   "cell_type": "code",
   "execution_count": 19,
   "metadata": {},
   "outputs": [
    {
     "data": {
      "image/png": "[encoded data removed]",
      "text/plain": [
       "<Figure size 432x288 with 1 Axes>"
      ]
     },
     "metadata": {},
     "output_type": "display_data"
    }
   ],
   "source": [
    "differences = 2500 - np.mean(bs_median)\n",
    "bs_median_centered = bs_median + differences\n",
    "\n",
    "# draw\n",
    "plt.hist(bs_median_centered, bins= 50)\n",
    "plt.show()"
   ]
  },
  {
   "cell_type": "code",
   "execution_count": 34,
   "metadata": {},
   "outputs": [],
   "source": [
    "stat = np.median(bs_median)"
   ]
  },
  {
   "cell_type": "code",
   "execution_count": 35,
   "metadata": {},
   "outputs": [
    {
     "data": {
      "text/plain": [
       "0.9370666666666667"
      ]
     },
     "execution_count": 35,
     "metadata": {},
     "output_type": "execute_result"
    }
   ],
   "source": [
    "np.sum(bs_median_centered > stat) / len(bs_median_centered)"
   ]
  },
  {
   "cell_type": "markdown",
   "metadata": {},
   "source": [
    "We fail to reject $H_0$ since the p-value is above the significance level, and conclude that the data do not provide convincing evidence that median rent of 1 BR apartments in Manhattan is greater than $2500"
   ]
  }
 ],
 "metadata": {
  "kernelspec": {
   "display_name": "Python 3",
   "language": "python",
   "name": "python3"
  },
  "language_info": {
   "codemirror_mode": {
    "name": "ipython",
    "version": 3
   },
   "file_extension": ".py",
   "mimetype": "text/x-python",
   "name": "python",
   "nbconvert_exporter": "python",
   "pygments_lexer": "ipython3",
   "version": "3.6.6"
  }
 },
 "nbformat": 4,
 "nbformat_minor": 2
}
