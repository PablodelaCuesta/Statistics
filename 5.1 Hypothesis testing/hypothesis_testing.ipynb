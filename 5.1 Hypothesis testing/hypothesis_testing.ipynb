{
 "cells": [
  {
   "cell_type": "markdown",
   "metadata": {},
   "source": [
    "# Hypothesis testing\n",
    "\n",
    "## La hipótesis nula y la hipótesis alternativa\n",
    "\n",
    "Uno de los más importantes métodos en la estadística inferencial es el contraste de hipótesis o hypothesis testing. En el contraste de hipótesis, nosotros intentamos determinar si una cierta hipótesis o cuestión es cierta o no, y en que grado.\n",
    "\n",
    "El objetivo del contraste de hipótesis es responder a la pregunta: *Dada una muestra y un efecto aparente, ¿Cuál es la probabilidad de ver tal efecto por azar?*\n",
    "The goal of classical hypothesis testing is to answer the question, “Given a sample and\n",
    "an apparent effect, what is the probability of seeing such an effect by chance?” Here’s\n",
    "how we answer that question:\n",
    "\n",
    "1. El primer paso es cuantificar el tamaño del *efecto aparente* eligiendo un test estadístico.\n",
    "2. Definimos la hipótesis nula, la cual es un modelo del sistema que asume que el efecto aparente no es real.\n",
    "3. Calculamos el valor **p**, el cual es la probabilidad de ver el efecto si la hipótesis nula es cierta.\n",
    "4. Interpretamos los resultados. Si el valor **p** es bajo, el efecto es estadísticamente significante, lo cual significa que tal efecto no ocurre por azar. En el caso de inferir el efecto es más probable que aparezca en una muestra mayor.\n",
    "\n",
    " $H_{0}$: Hipótesis nula \n",
    "\n",
    " $H_{1}$: Hipótesis alternativa\n",
    "\n",
    "La hipótesis nula es el valor histórico o valor promedio, mientras que la hipótesis alternativa es aquella que contradice a la hipótesis nula, es decir, aquella que queremos probar si es verdadera o falsa.\n",
    "\n",
    "Por ejemplo:\n",
    "\n",
    "La edad promedio en Barcelona es inferior a 38 años (hipótesis nula), pero realizando un muestreo, nuestro valor promedio es 42 años. Entonces la pregunta sería si la edad promedio en la ciudad de Barcelona a aumentado o si por el contrario nuestro valor promedio es erróneo. Este es un ejemplo de contraste unilateral.\n",
    "\n",
    "### Contraste bilateral\n",
    "$$\n",
    "H_{0} : \\mu = \\mu_{0} \\\\\n",
    "H_{1} : \\mu \\neq \\mu_{0}\n",
    "$$\n",
    "\n",
    "### Contraste unilateral\n",
    "\n",
    "$$\n",
    "H_{0}: \\mu \\leq \\mu_{0} \\\\\n",
    "H_{1}: \\mu > \\mu_{0}\n",
    "$$\n",
    "$$\n",
    "H_{0}: \\mu \\geq \\mu_{0} \\\\\n",
    "H_{1}: \\mu < \\mu_{0}\n",
    "$$"
   ]
  },
  {
   "cell_type": "markdown",
   "metadata": {},
   "source": [
    "A continuación vamos a importar las bibliotecas y funciones necesarias para seguir la explicación"
   ]
  },
  {
   "cell_type": "code",
   "execution_count": 1,
   "metadata": {},
   "outputs": [],
   "source": [
    "# import libraries\n",
    "import pandas as pd\n",
    "import numpy as np\n",
    "import scipy.stats as ss\n",
    "import seaborn as sns\n",
    "import matplotlib.pyplot as plt\n",
    "\n",
    "# set seaborn style\n",
    "sns.set()"
   ]
  },
  {
   "cell_type": "code",
   "execution_count": 2,
   "metadata": {},
   "outputs": [],
   "source": [
    "\"\"\"Funciones especiales\"\"\"\n",
    "\n",
    "# Importamos la biblioteca necesaria para enlazar con el archivo requerido\n",
    "import sys\n",
    "sys.path.insert(0, '../statistics')\n",
    "\n",
    "# importamos la función que necesitamos\n",
    "#from DataManipulation import SampleRows\n",
    "from reading_data import SampleRows, open_file, splitting\n",
    "from functions import ecdf\n",
    "from functions_corr import cov, correlation\n",
    "\n",
    "# semilla\n",
    "np.random.seed(0)"
   ]
  },
  {
   "cell_type": "markdown",
   "metadata": {},
   "source": [
    "## Ejemplo de contraste de hipótesis\n",
    "\n",
    "En el siguiente ejemplo tenemos los datos procedentes de una estación meteorológica situada en la ciudad de Sheffield. Queremos comparar los datos de lluvia de los meses de Julio y Noviembre, y comprobar si tienen distribuciones de lluvia semejantes. Para ello haremos:\n",
    "\n",
    "* Permutaciones de los datos y un gráfico donde podremos ver las distintas permutaciones.\n",
    "* Calcularemos el **valor-p** para corroborar el gráfico."
   ]
  },
  {
   "cell_type": "code",
   "execution_count": 3,
   "metadata": {},
   "outputs": [
    {
     "name": "stdout",
     "output_type": "stream",
     "text": [
      "El data set tiene 1602 filas y 7 columnas\n"
     ]
    },
    {
     "data": {
      "text/html": [
       "<div>\n",
       "<style scoped>\n",
       "    .dataframe tbody tr th:only-of-type {\n",
       "        vertical-align: middle;\n",
       "    }\n",
       "\n",
       "    .dataframe tbody tr th {\n",
       "        vertical-align: top;\n",
       "    }\n",
       "\n",
       "    .dataframe thead th {\n",
       "        text-align: right;\n",
       "    }\n",
       "</style>\n",
       "<table border=\"1\" class=\"dataframe\">\n",
       "  <thead>\n",
       "    <tr style=\"text-align: right;\">\n",
       "      <th></th>\n",
       "      <th>af</th>\n",
       "      <th>mm</th>\n",
       "      <th>rain</th>\n",
       "      <th>sun</th>\n",
       "      <th>tmax</th>\n",
       "      <th>tmin</th>\n",
       "      <th>yyyy</th>\n",
       "    </tr>\n",
       "  </thead>\n",
       "  <tbody>\n",
       "    <tr>\n",
       "      <th>0</th>\n",
       "      <td>6</td>\n",
       "      <td>1</td>\n",
       "      <td>122.1</td>\n",
       "      <td>---</td>\n",
       "      <td>6.3</td>\n",
       "      <td>1.7</td>\n",
       "      <td>1883</td>\n",
       "    </tr>\n",
       "    <tr>\n",
       "      <th>1</th>\n",
       "      <td>2</td>\n",
       "      <td>2</td>\n",
       "      <td>69.8</td>\n",
       "      <td>---</td>\n",
       "      <td>8.0</td>\n",
       "      <td>2.8</td>\n",
       "      <td>1883</td>\n",
       "    </tr>\n",
       "    <tr>\n",
       "      <th>2</th>\n",
       "      <td>23</td>\n",
       "      <td>3</td>\n",
       "      <td>29.6</td>\n",
       "      <td>---</td>\n",
       "      <td>4.8</td>\n",
       "      <td>-1.6</td>\n",
       "      <td>1883</td>\n",
       "    </tr>\n",
       "    <tr>\n",
       "      <th>3</th>\n",
       "      <td>2</td>\n",
       "      <td>4</td>\n",
       "      <td>74.0</td>\n",
       "      <td>---</td>\n",
       "      <td>12.2</td>\n",
       "      <td>3.8</td>\n",
       "      <td>1883</td>\n",
       "    </tr>\n",
       "    <tr>\n",
       "      <th>4</th>\n",
       "      <td>0</td>\n",
       "      <td>5</td>\n",
       "      <td>31.2</td>\n",
       "      <td>---</td>\n",
       "      <td>14.7</td>\n",
       "      <td>6.2</td>\n",
       "      <td>1883</td>\n",
       "    </tr>\n",
       "    <tr>\n",
       "      <th>5</th>\n",
       "      <td>0</td>\n",
       "      <td>6</td>\n",
       "      <td>66.2</td>\n",
       "      <td>---</td>\n",
       "      <td>17.7</td>\n",
       "      <td>9.3</td>\n",
       "      <td>1883</td>\n",
       "    </tr>\n",
       "    <tr>\n",
       "      <th>6</th>\n",
       "      <td>0</td>\n",
       "      <td>7</td>\n",
       "      <td>77.6</td>\n",
       "      <td>---</td>\n",
       "      <td>18.8</td>\n",
       "      <td>10.5</td>\n",
       "      <td>1883</td>\n",
       "    </tr>\n",
       "    <tr>\n",
       "      <th>7</th>\n",
       "      <td>0</td>\n",
       "      <td>8</td>\n",
       "      <td>32.5</td>\n",
       "      <td>---</td>\n",
       "      <td>19.8</td>\n",
       "      <td>10.9</td>\n",
       "      <td>1883</td>\n",
       "    </tr>\n",
       "    <tr>\n",
       "      <th>8</th>\n",
       "      <td>0</td>\n",
       "      <td>9</td>\n",
       "      <td>137.4</td>\n",
       "      <td>---</td>\n",
       "      <td>16.8</td>\n",
       "      <td>10.0</td>\n",
       "      <td>1883</td>\n",
       "    </tr>\n",
       "    <tr>\n",
       "      <th>9</th>\n",
       "      <td>0</td>\n",
       "      <td>10</td>\n",
       "      <td>102.9</td>\n",
       "      <td>---</td>\n",
       "      <td>12.7</td>\n",
       "      <td>6.4</td>\n",
       "      <td>1883</td>\n",
       "    </tr>\n",
       "  </tbody>\n",
       "</table>\n",
       "</div>"
      ],
      "text/plain": [
       "   af  mm   rain  sun  tmax  tmin  yyyy\n",
       "0   6   1  122.1  ---   6.3   1.7  1883\n",
       "1   2   2   69.8  ---   8.0   2.8  1883\n",
       "2  23   3   29.6  ---   4.8  -1.6  1883\n",
       "3   2   4   74.0  ---  12.2   3.8  1883\n",
       "4   0   5   31.2  ---  14.7   6.2  1883\n",
       "5   0   6   66.2  ---  17.7   9.3  1883\n",
       "6   0   7   77.6  ---  18.8  10.5  1883\n",
       "7   0   8   32.5  ---  19.8  10.9  1883\n",
       "8   0   9  137.4  ---  16.8  10.0  1883\n",
       "9   0  10  102.9  ---  12.7   6.4  1883"
      ]
     },
     "execution_count": 3,
     "metadata": {},
     "output_type": "execute_result"
    }
   ],
   "source": [
    "# data\n",
    "df_0 = open_file('data/sheffield_weather_station.csv', sep=\" \", skiprows=8)\n",
    "df_0.to_csv('Weather.csv', sep=',')\n",
    "df_0.head(10)"
   ]
  },
  {
   "cell_type": "code",
   "execution_count": 4,
   "metadata": {},
   "outputs": [
    {
     "data": {
      "text/html": [
       "<div>\n",
       "<style scoped>\n",
       "    .dataframe tbody tr th:only-of-type {\n",
       "        vertical-align: middle;\n",
       "    }\n",
       "\n",
       "    .dataframe tbody tr th {\n",
       "        vertical-align: top;\n",
       "    }\n",
       "\n",
       "    .dataframe thead th {\n",
       "        text-align: right;\n",
       "    }\n",
       "</style>\n",
       "<table border=\"1\" class=\"dataframe\">\n",
       "  <thead>\n",
       "    <tr style=\"text-align: right;\">\n",
       "      <th></th>\n",
       "      <th>af</th>\n",
       "      <th>mm</th>\n",
       "      <th>rain</th>\n",
       "      <th>sun</th>\n",
       "      <th>tmax</th>\n",
       "      <th>tmin</th>\n",
       "      <th>yyyy</th>\n",
       "    </tr>\n",
       "  </thead>\n",
       "  <tbody>\n",
       "    <tr>\n",
       "      <th>count</th>\n",
       "      <td>1602</td>\n",
       "      <td>1602</td>\n",
       "      <td>1602</td>\n",
       "      <td>1602</td>\n",
       "      <td>1602</td>\n",
       "      <td>1602</td>\n",
       "      <td>1602</td>\n",
       "    </tr>\n",
       "    <tr>\n",
       "      <th>unique</th>\n",
       "      <td>29</td>\n",
       "      <td>12</td>\n",
       "      <td>926</td>\n",
       "      <td>831</td>\n",
       "      <td>222</td>\n",
       "      <td>167</td>\n",
       "      <td>134</td>\n",
       "    </tr>\n",
       "    <tr>\n",
       "      <th>top</th>\n",
       "      <td>0</td>\n",
       "      <td>3</td>\n",
       "      <td>57.2</td>\n",
       "      <td>---</td>\n",
       "      <td>---</td>\n",
       "      <td>3.4</td>\n",
       "      <td>1963</td>\n",
       "    </tr>\n",
       "    <tr>\n",
       "      <th>freq</th>\n",
       "      <td>872</td>\n",
       "      <td>134</td>\n",
       "      <td>6</td>\n",
       "      <td>553</td>\n",
       "      <td>24</td>\n",
       "      <td>25</td>\n",
       "      <td>12</td>\n",
       "    </tr>\n",
       "  </tbody>\n",
       "</table>\n",
       "</div>"
      ],
      "text/plain": [
       "          af    mm  rain   sun  tmax  tmin  yyyy\n",
       "count   1602  1602  1602  1602  1602  1602  1602\n",
       "unique    29    12   926   831   222   167   134\n",
       "top        0     3  57.2   ---   ---   3.4  1963\n",
       "freq     872   134     6   553    24    25    12"
      ]
     },
     "execution_count": 4,
     "metadata": {},
     "output_type": "execute_result"
    }
   ],
   "source": [
    "# Analizamos el data set\n",
    "df_0.describe()"
   ]
  },
  {
   "cell_type": "code",
   "execution_count": 5,
   "metadata": {},
   "outputs": [
    {
     "name": "stdout",
     "output_type": "stream",
     "text": [
      "<class 'pandas.core.frame.DataFrame'>\n",
      "RangeIndex: 1602 entries, 0 to 1601\n",
      "Data columns (total 7 columns):\n",
      "af      1602 non-null object\n",
      "mm      1602 non-null object\n",
      "rain    1602 non-null object\n",
      "sun     1602 non-null object\n",
      "tmax    1602 non-null object\n",
      "tmin    1602 non-null object\n",
      "yyyy    1602 non-null object\n",
      "dtypes: object(7)\n",
      "memory usage: 87.7+ KB\n"
     ]
    }
   ],
   "source": [
    "# tipos del data set\n",
    "df_0.info()"
   ]
  },
  {
   "cell_type": "code",
   "execution_count": 6,
   "metadata": {},
   "outputs": [
    {
     "name": "stdout",
     "output_type": "stream",
     "text": [
      "Noviembre:  (133,)\n",
      "Julio:  (133,)\n"
     ]
    }
   ],
   "source": [
    "# extraemos las lluvias de julio\n",
    "rain_july = df_0[df_0.loc[:,'mm'] == '7']['rain'].values\n",
    "\n",
    "# filtramos los datos\n",
    "rain_july = np.array(list(filter(lambda x: x != \"---\", rain_july)))\n",
    "\n",
    "# convertimos a entero\n",
    "rain_july = np.array(list(map(float, rain_july)))\n",
    "\n",
    "# extraemos las lluvias de noviembre\n",
    "rain_november = df_0[df_0.loc[:,'mm'] == '10']['rain'].values\n",
    "\n",
    "# filtramos los datos\n",
    "rain_november = np.array(list(filter(lambda x: x != \"---\", rain_november)))\n",
    "\n",
    "# convertimos a entero\n",
    "rain_november = np.array(list(map(float, rain_november)))\n",
    "\n",
    "# info\n",
    "print(\"Noviembre: \", rain_november.shape)\n",
    "print(\"Julio: \", rain_july.shape)"
   ]
  },
  {
   "cell_type": "markdown",
   "metadata": {},
   "source": [
    "Una vez hemos obtenido los datos podemos trabajar con ellos.\n",
    "\n",
    "Vamos a suponer, *hipótesis nula*, que los datos de lluvia de los meses julio y noviembre, están distribuidos de la misma forma, es decir, proceden de la misma distribución con la misma probabilidad.\n",
    "\n",
    "Para ello lo que haremos será juntar todos los datos, ya que suponemos que provienen de la misma distribución no nos importa mezclarlos, y posteriormente volveremos a separar los datos mezclados y desordenados. Una vez hecho esto, realizaremos cada uno de los gráficos de cada permutación."
   ]
  },
  {
   "cell_type": "code",
   "execution_count": 7,
   "metadata": {},
   "outputs": [
    {
     "data": {
      "image/png": "[encoded data removed]",
      "text/plain": [
       "<matplotlib.figure.Figure at 0x7f8829d36940>"
      ]
     },
     "metadata": {},
     "output_type": "display_data"
    }
   ],
   "source": [
    "# Generate permutation samples\n",
    "data_0 = np.r_[rain_july, rain_november]\n",
    "\n",
    "\n",
    "for _ in range(50):\n",
    "    perm_data = np.random.permutation(data_0)\n",
    "\n",
    "    perm_sample_1 = perm_data[len(rain_july):]\n",
    "    perm_sample_2 = perm_data[:len(rain_november)]\n",
    "\n",
    "\n",
    "    # Compute ECDFs\n",
    "    x_1, y_1 = ecdf(perm_sample_1)\n",
    "    x_2, y_2 = ecdf(perm_sample_2)\n",
    "\n",
    "    # Plot ECDFs of permutation sample\n",
    "    plt.plot(x_1, y_1, marker='.', linestyle='none', color='red', alpha=0.02)\n",
    "    plt.plot(x_2, y_2, marker='.', linestyle='none', color='blue', alpha=0.02)\n",
    "\n",
    "# Create and plot ECDFs from original data\n",
    "x_1, y_1 = ecdf(rain_july)\n",
    "x_2, y_2 = ecdf(rain_november)\n",
    "plt.plot(x_1, y_1, marker='.', linestyle='none', color='red')\n",
    "plt.plot(x_2, y_2, marker='.', linestyle='none', color='blue')\n",
    "\n",
    "# Label axes, set margin, and show plot\n",
    "plt.margins(0.02)\n",
    "plt.xlabel('monthly rainfall (mm)')\n",
    "plt.ylabel('ECDF')\n",
    "plt.show()"
   ]
  },
  {
   "cell_type": "markdown",
   "metadata": {},
   "source": [
    "Podemos observar que las muestras permutadas se superponen. Ninguna de las funciones de distribución acumulada sobrepasa los datos observados, esto nos sugiere que la **hipótesis** no es conmensurable con los datos, por lo tanto julio y noviembre tienen diferentes distribuciones de lluvia. Es decir, rechazamos la **hipótesis nula** y nos quedamos con la **hipótesis alternativa**\n",
    "\n",
    "Pero pongamos todo esto en números. Vamos a calcular el **valor-p**, que nos dará una probabilidad de que la hipótesis nula sea cierta."
   ]
  },
  {
   "cell_type": "markdown",
   "metadata": {},
   "source": [
    "### Valor-p\n",
    "\n",
    "Si las distribuciones de lluvia son parecidas para julio y noviembre, la diferencia entre sus medias debería de ser cero. Podemos realizar distintas permutaciones como hemos hecho anteriormente, con los datos de lluvia mezclados, y utilizarlos para calcular las medias de todas las permutaciones que hagamos. Posteriormente compararemos dicha media con la media *real*."
   ]
  },
  {
   "cell_type": "code",
   "execution_count": 8,
   "metadata": {},
   "outputs": [
    {
     "name": "stdout",
     "output_type": "stream",
     "text": [
      "Valor p:  0.003\n"
     ]
    }
   ],
   "source": [
    "# diferencias entre las medias de los dos conjuntos\n",
    "diff_med = np.abs(np.mean(rain_july) - np.mean(rain_november))\n",
    "\n",
    "# realizamos n = 10.000 permutaciones\n",
    "reps = 10000\n",
    "perm_mean = np.empty(reps)\n",
    "\n",
    "for i in range(reps):\n",
    "    perm_data = np.random.permutation(data_0)\n",
    "\n",
    "    perm_sample_1 = perm_data[len(rain_july):]\n",
    "    perm_sample_2 = perm_data[:len(rain_november)]\n",
    "    \n",
    "    # calculamos la media\n",
    "    perm_mean[i] = np.abs(np.mean(perm_sample_1) - np.mean(perm_sample_2))\n",
    "\n",
    "# comprobamos los valores por encima de la media\n",
    "p = np.sum(perm_mean >= diff_med) / reps\n",
    "\n",
    "print(\"Valor p: \", p)"
   ]
  },
  {
   "cell_type": "markdown",
   "metadata": {},
   "source": [
    "#### Resultados\n",
    "\n",
    "Muy pocos valores, de los obtenidos en las distintas permutaciones, han resultado ser mayores que la diferencia de la media real. Estos valores procedían de la suposición (hipótesis) de que las distribuciones de las lluvias eran idénticas, por tanto no importaba de donde coger los datos, ya que estos estaban igualmente distribuidos. El resultado es que solo un 0.2% de los valores aceptan la **hipótesis nula**, por lo que esta es rechazada. Las distribuciones de lluvia en julio y en agosto son diferentes."
   ]
  },
  {
   "cell_type": "markdown",
   "metadata": {},
   "source": [
    "### Distribución nula\n",
    "\n",
    "Es la distribución de los datos según la hipótesis nula."
   ]
  },
  {
   "cell_type": "code",
   "execution_count": 9,
   "metadata": {},
   "outputs": [
    {
     "data": {
      "image/png": "[encoded data removed]",
      "text/plain": [
       "<matplotlib.figure.Figure at 0x7f8822abdba8>"
      ]
     },
     "metadata": {},
     "output_type": "display_data"
    }
   ],
   "source": [
    "plt.figure(figsize=(14,6))\n",
    "\n",
    "plt.subplot(1,4,1)\n",
    "plt.hist(perm_sample_1, bins=2*int(np.sqrt(len(perm_sample_1))))\n",
    "\n",
    "plt.subplot(1,4,2)\n",
    "plt.hist(perm_sample_2, bins=2*int(np.sqrt(len(perm_sample_2))))\n",
    "\n",
    "plt.subplot(1,4,3)\n",
    "plt.hist(rain_july, bins=2*int(np.sqrt(len(rain_july))))\n",
    "\n",
    "plt.subplot(1,4,4)\n",
    "plt.hist(rain_november, bins=2*int(np.sqrt(len(rain_november))))\n",
    "\n",
    "plt.show()"
   ]
  },
  {
   "cell_type": "markdown",
   "metadata": {},
   "source": [
    "## Hipótesis test para el coeficiente de correlación\n",
    "\n",
    "En el siguiente ejemplo veremos que lo anteriormente explicado su puede aplicar a cualquier estadístico, para ello vamos a utilizar el coeficiente de correlación de Pearson $\\rho$"
   ]
  },
  {
   "cell_type": "code",
   "execution_count": 10,
   "metadata": {},
   "outputs": [
    {
     "data": {
      "text/html": [
       "<div>\n",
       "<style scoped>\n",
       "    .dataframe tbody tr th:only-of-type {\n",
       "        vertical-align: middle;\n",
       "    }\n",
       "\n",
       "    .dataframe tbody tr th {\n",
       "        vertical-align: top;\n",
       "    }\n",
       "\n",
       "    .dataframe thead th {\n",
       "        text-align: right;\n",
       "    }\n",
       "</style>\n",
       "<table border=\"1\" class=\"dataframe\">\n",
       "  <thead>\n",
       "    <tr style=\"text-align: right;\">\n",
       "      <th></th>\n",
       "      <th>Continent</th>\n",
       "      <th>female literacy</th>\n",
       "      <th>fertility</th>\n",
       "      <th>population</th>\n",
       "    </tr>\n",
       "    <tr>\n",
       "      <th>Country</th>\n",
       "      <th></th>\n",
       "      <th></th>\n",
       "      <th></th>\n",
       "      <th></th>\n",
       "    </tr>\n",
       "  </thead>\n",
       "  <tbody>\n",
       "    <tr>\n",
       "      <th>Chine</th>\n",
       "      <td>ASI</td>\n",
       "      <td>90.5</td>\n",
       "      <td>1.769</td>\n",
       "      <td>1,324,655,000</td>\n",
       "    </tr>\n",
       "    <tr>\n",
       "      <th>Inde</th>\n",
       "      <td>ASI</td>\n",
       "      <td>50.8</td>\n",
       "      <td>2.682</td>\n",
       "      <td>1,139,964,932</td>\n",
       "    </tr>\n",
       "    <tr>\n",
       "      <th>USA</th>\n",
       "      <td>NAM</td>\n",
       "      <td>99.0</td>\n",
       "      <td>2.077</td>\n",
       "      <td>304,060,000</td>\n",
       "    </tr>\n",
       "    <tr>\n",
       "      <th>Indonésie</th>\n",
       "      <td>ASI</td>\n",
       "      <td>88.8</td>\n",
       "      <td>2.132</td>\n",
       "      <td>227,345,082</td>\n",
       "    </tr>\n",
       "    <tr>\n",
       "      <th>Brésil</th>\n",
       "      <td>LAT</td>\n",
       "      <td>90.2</td>\n",
       "      <td>1.827</td>\n",
       "      <td>191,971,506</td>\n",
       "    </tr>\n",
       "    <tr>\n",
       "      <th>Pakistan</th>\n",
       "      <td>ASI</td>\n",
       "      <td>40.0</td>\n",
       "      <td>3.872</td>\n",
       "      <td>166,111,487</td>\n",
       "    </tr>\n",
       "    <tr>\n",
       "      <th>Bangladesh</th>\n",
       "      <td>ASI</td>\n",
       "      <td>49.8</td>\n",
       "      <td>2.288</td>\n",
       "      <td>160,000,128</td>\n",
       "    </tr>\n",
       "    <tr>\n",
       "      <th>Nigéria</th>\n",
       "      <td>AF</td>\n",
       "      <td>48.8</td>\n",
       "      <td>5.173</td>\n",
       "      <td>151,212,254</td>\n",
       "    </tr>\n",
       "    <tr>\n",
       "      <th>Fédération de Russie</th>\n",
       "      <td>EUR</td>\n",
       "      <td>99.4</td>\n",
       "      <td>1.393</td>\n",
       "      <td>141,950,000</td>\n",
       "    </tr>\n",
       "    <tr>\n",
       "      <th>Japan</th>\n",
       "      <td>ASI</td>\n",
       "      <td>99.0</td>\n",
       "      <td>1.262</td>\n",
       "      <td>127,704,000</td>\n",
       "    </tr>\n",
       "  </tbody>\n",
       "</table>\n",
       "</div>"
      ],
      "text/plain": [
       "                     Continent  female literacy  fertility     population\n",
       "Country                                                                  \n",
       "Chine                      ASI             90.5      1.769  1,324,655,000\n",
       "Inde                       ASI             50.8      2.682  1,139,964,932\n",
       "USA                        NAM             99.0      2.077    304,060,000\n",
       "Indonésie                  ASI             88.8      2.132    227,345,082\n",
       "Brésil                     LAT             90.2      1.827    191,971,506\n",
       "Pakistan                   ASI             40.0      3.872    166,111,487\n",
       "Bangladesh                 ASI             49.8      2.288    160,000,128\n",
       "Nigéria                     AF             48.8      5.173    151,212,254\n",
       "Fédération de Russie       EUR             99.4      1.393    141,950,000\n",
       "Japan                      ASI             99.0      1.262    127,704,000"
      ]
     },
     "execution_count": 10,
     "metadata": {},
     "output_type": "execute_result"
    }
   ],
   "source": [
    "# Data\n",
    "df_1 = pd.read_csv('data/female_literacy_fertility.csv', header=0, index_col=0)\n",
    "df_1.head(10)"
   ]
  },
  {
   "cell_type": "code",
   "execution_count": 11,
   "metadata": {},
   "outputs": [],
   "source": [
    "# añadimos una columna que será la invera de alfabetismo\n",
    "df_1['female illiteracy'] = 1 - df_1['female literacy']"
   ]
  },
  {
   "cell_type": "markdown",
   "metadata": {},
   "source": [
    "Analizamos la posible correlación entre dos variables. En este caso hemos elegido un *dataset* en el cual existen dos variables interesantes: **fertilidad** y **analfabetismo**. A continuación vamos a realizar un análisis exploratorio de estas variables. Como podemos observar, los datos no nos dan el índice de analfabetismo sino el índice de alfabetización en cada país. Para obtener el índice de analfabetismo simplemente realizamos una *inversión* o diferencia."
   ]
  },
  {
   "cell_type": "code",
   "execution_count": 12,
   "metadata": {},
   "outputs": [
    {
     "data": {
      "image/png": "[encoded data removed]",
      "text/plain": [
       "<matplotlib.figure.Figure at 0x7f88228390b8>"
      ]
     },
     "metadata": {},
     "output_type": "display_data"
    }
   ],
   "source": [
    "# Exploratory analysis of female literacy and fertility\n",
    "plt.scatter(df_1['female illiteracy'], df_1['fertility'], marker='.')\n",
    "plt.xlabel('Female illiteracy')\n",
    "plt.ylabel('Fertility')\n",
    "plt.show()"
   ]
  },
  {
   "cell_type": "markdown",
   "metadata": {},
   "source": [
    "Vemos una posible correlación entre analfabetismo y fertilidad, pero esta correlación podría deberse al azar. Aquí podemos formular nuestras hipótesis:\n",
    "\n",
    "* **Hipótesis nula**: no hay correlación entre analfabetismo y fertilidad, por lo tanto no importa como estén distribuidos los datos de analfabetismo.\n",
    "* **Hipótesis alternativa**: si hay una correlación entre las dos variables, y si desordenamos el conjunto de datos de analfabetismo no conseguiremos obtener un coeficiente de correlacion $\\rho$ igual o mayor que el obtenido.\n",
    "\n",
    "Vamos a proceder a calcular el valor obtenido del conjunto de datos. Posteriormente desordenaremos el conjunto de datos de analfabetismo y calcularemos $\\rho$ cada vez que hagamos este proceso. Por último compararemos los valores con el obtenido, y lo dividiremos entre el número total de entradas para obtener la probabilidad."
   ]
  },
  {
   "cell_type": "code",
   "execution_count": 13,
   "metadata": {},
   "outputs": [
    {
     "name": "stdout",
     "output_type": "stream",
     "text": [
      "p-val = 0.0\n"
     ]
    }
   ],
   "source": [
    "# variables\n",
    "illiteracy = df_1['female illiteracy'].values\n",
    "fertility = df_1['fertility'].values\n",
    "\n",
    "# calculamos el coeficiente de correlación\n",
    "r_obs = np.corrcoef(illiteracy, fertility)[0][1]\n",
    "\n",
    "# Initialize permutation replicates: perm_replicates\n",
    "perm_replicates = np.empty(10000)\n",
    "\n",
    "# Draw replicates\n",
    "for i in range(10000):\n",
    "    # Permute illiteracy measurments: illiteracy_permuted\n",
    "    illiteracy_permuted = np.random.permutation(illiteracy)\n",
    "\n",
    "    # Compute Pearson correlation\n",
    "    perm_replicates[i] = np.corrcoef(illiteracy_permuted, fertility)[0][1]\n",
    "\n",
    "# Compute p-value: p\n",
    "p = np.sum(perm_replicates >= r_obs) / len(perm_replicates)\n",
    "print('p-val =', p)"
   ]
  },
  {
   "cell_type": "markdown",
   "metadata": {},
   "source": [
    "Hemos obtenido un **valor-p** de cero. Esto significa que nuestro valor-p es muy bajo, tanto que no hemos obtenido ni un solo valor igual o mayor que el obtenido del conjunto de datos original. Esto hace que rechacemos la **hipótesis nula** y nos quedemos con la alternativa que suponía que las variables estaban correlacionadas."
   ]
  },
  {
   "cell_type": "markdown",
   "metadata": {},
   "source": [
    "## Z test\n",
    "\n",
    "### SE ( standard error)\n",
    "\n",
    "El error estándar es una medida de lo lejos que esperamos que esté la estimación, en promedio. Por cada simulación, calculamos el error, x̄ - μ , y entonces calculamos la raíz cuadrada de la media del error (RMSE, root mean square error).\n",
    "\n",
    "Mientras, el **intervalo de confianza** es, un rango que incluye una fracción dada de la distribución del muestreo. Por ejemplo, el intervalo de confianza del 90% es el rango del 5º al 95º percentil\n",
    "\n",
    "La gente a menudo confunde el error estándar con la desviación estándar. Recuerde que la desviación estándar describe la variabilidad en una cantidad medida, mientras que el error estándar describe la variabilidad en una estimación. Cuando el número de elemento de la muestra aumenta, el error estándar disminuye, en cambio la desviación estándar no.\n",
    "\n",
    "\n",
    "\n",
    "Supongamos que se nos presenta el caso en el que tenemos una variable de la cual conocemos la media y la desviación estándar. Dado otro conjunto de datos perteneciente a la misma variable anterior, se nos presenta el caso en el cual la media obtenida difere de la media conocida.\n",
    "\n",
    "Vamos a suponer que *Just Eat* afirma que nos puede traer una pizza en un tiempo *promedio* inferior a 20 minutos con una desviación típica de 3 minutos.\n",
    "\n",
    "$$\n",
    "\\mu_{0} = 20 \\\\\n",
    "\\sigma_{0} = 3\n",
    "$$\n",
    "\n",
    "Como sospechamos que es falso, tomamos 64 de las entregas de la última semana y obtenemos una media de 21.4 minutos de media.\n",
    "¿Podemos aceptar su afirmación a un nivel de confianza del 95%?\n",
    "Si el resultado es estadísticamente significativo, podríamos afirmar que la media anterior es ahora errónea, y la nueva media se ajusta mejor a la realidad. ¿Por que puede ocurrir esto? Por ejemplo la distribución de edades de una ciudad puede variar en el tiempo y la media de edad irá evolucionando.\n",
    "\n",
    "En nuestro ejemplo hay que considerar varias cosas:\n",
    "\n",
    "* puede que el pizzero se haya apoyado en unos datos que están desfasados o están falseados, y por eso la media que nosotros hemos medido es diferente a la media obtenida por el pizzero.\n",
    "\n",
    "* Nuestros datos pueden tener sesgos de algún tipo, y por eso la media es errónea. Será estadísticamente significativa pero estará ceñida a las restricciones de la población de muestra.\n",
    "\n",
    "$$\n",
    "n = 64 \\\\\n",
    "\\mu = 21.2 \\\\\n",
    "\\alpha = 0.05\n",
    "$$"
   ]
  },
  {
   "cell_type": "code",
   "execution_count": 16,
   "metadata": {},
   "outputs": [],
   "source": [
    "def zvalue(mu, mu0, sigma, size):\n",
    "    \"\"\"\n",
    "    Calcula el estadístico Z o Z valor.\n",
    "    \"\"\"\n",
    "    return (mu - mu0) / (sigma / ( np.sqrt(size)))"
   ]
  },
  {
   "cell_type": "code",
   "execution_count": 22,
   "metadata": {},
   "outputs": [
    {
     "name": "stdout",
     "output_type": "stream",
     "text": [
      "Valor Z obtenido:  3.199999999999998\n",
      "Valor Z teórico:  [-1.68310624 -0.43098813 -1.25632087  0.72331205  0.14185916  2.17665313\n",
      "  0.69554642 -2.14808313  0.33072519  0.18996569 -0.74271036  0.3064264\n",
      "  0.28724581 -1.77712148 -0.42938965  1.5731523  -0.33256552 -0.36868963\n",
      "  0.30949435 -0.52944003  0.08769758  0.70501035 -0.57875604  1.23805908\n",
      "  1.31612501  0.76493383  0.86126243 -1.37702403  0.73120333  1.65518984\n",
      " -0.7317982  -0.39252933  0.97831128  0.63956606  1.11943874  0.14316088\n",
      " -0.67156079  0.16269616  0.41912881 -1.20424951  0.72060486 -0.12226342\n",
      " -0.88658954 -1.56775711  2.65159661 -1.36336449  1.37588783  1.04792821\n",
      "  0.13586767 -1.92747368 -0.20015756 -0.80459707 -1.41625225 -0.14690661\n",
      " -0.29008698 -0.74986018 -0.35929057 -0.59140451 -0.10270602  1.39992906\n",
      "  0.05056763 -0.35681934  0.58512521  0.01619131]\n"
     ]
    }
   ],
   "source": [
    "# Distribución teórica del tiempo\n",
    "distrib_tiemp = 20 + 3 * np.random.randn(64)\n",
    "\n",
    "# valor z obtenido\n",
    "z_ob = zvalue(21.2, 20, 3, 64)\n",
    "\n",
    "# valor z teórico\n",
    "z_exp = ss.zscore(distrib_tiemp)\n",
    "\n",
    "# resultados\n",
    "print(\"Valor Z obtenido: \", z_ob)\n",
    "print(\"Valor Z teórico: \", z_exp)"
   ]
  },
  {
   "cell_type": "code",
   "execution_count": null,
   "metadata": {},
   "outputs": [],
   "source": []
  }
 ],
 "metadata": {
  "kernelspec": {
   "display_name": "Python 3",
   "language": "python",
   "name": "python3"
  },
  "language_info": {
   "codemirror_mode": {
    "name": "ipython",
    "version": 3
   },
   "file_extension": ".py",
   "mimetype": "text/x-python",
   "name": "python",
   "nbconvert_exporter": "python",
   "pygments_lexer": "ipython3",
   "version": "3.6.6"
  }
 },
 "nbformat": 4,
 "nbformat_minor": 2
}
