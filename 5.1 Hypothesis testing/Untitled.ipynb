{
 "cells": [
  {
   "cell_type": "markdown",
   "metadata": {},
   "source": [
    "# Ejemplos de contraste de hipótesis\n",
    "\n",
    "## Z test\n",
    "\n",
    "Dada una muestra de tamaño n y conocida la desviación tı́pica de la\n",
    "población σ, se desea contrastar la hipótesis nula:\n",
    "\n",
    "$$\n",
    "H_{0} = \\mu = \\mu_{0}\n",
    "$$\n",
    "frente a la hipótesis alternativa:\n",
    "$$\n",
    "H_{1} = \\mu \\neq \\mu_{0}\n",
    "$$\n",
    "\n",
    "Dado el valor muestral de l media, se determina el estadístico de contraste:\n",
    "\n",
    "$$\n",
    "Z = \\frac{X - \\mu_{0}}{\\frac{\\sigma}{\\sqrt{n}}}\n",
    "$$"
   ]
  },
  {
   "cell_type": "code",
   "execution_count": 1,
   "metadata": {},
   "outputs": [],
   "source": [
    "# Bibliotecas necesarias\n",
    "import numpy as np\n",
    "import scipy.stats as ss\n",
    "import statsmodels.stats.weightstats as st\n",
    "import matplotlib.pyplot as plt"
   ]
  },
  {
   "cell_type": "markdown",
   "metadata": {},
   "source": [
    "## Ejemplo de contraste de hipótesis para la media, $\\mu$ con $\\sigma$ conocida (dos colas)\n",
    "\n",
    "Se desea contrastar con un nivel de significación del 5 % la hipótesis de que la talla media de los hombres de 18 o más años de un paı́s es igual a 180. Suponiendo que la desviación tı́pica de las tallas en la población vale 4, contraste dicha hipótesis frente a la alternativa de que es distinta.\n",
    "\n",
    "$$\n",
    "H_{0} : \\mu = 180\\\\\n",
    "H_{1} : \\mu \\neq 180\n",
    "$$"
   ]
  },
  {
   "cell_type": "code",
   "execution_count": 2,
   "metadata": {
    "scrolled": true
   },
   "outputs": [
    {
     "name": "stdout",
     "output_type": "stream",
     "text": [
      "Media:  173.46666666666667\n",
      "Z teórico:  137.57470765113425\n"
     ]
    }
   ],
   "source": [
    "# datos\n",
    "alturas = np.array([167, 167, 168, 168, 168, 169, 171, 172, 173, 175, 175, 175, 177, 182, 195])\n",
    "\n",
    "# estadísticos\n",
    "media = alturas.mean()\n",
    "print(\"Media: \", media)\n",
    "\n",
    "# resultados teóricos\n",
    "normal = np.random.normal(loc=180, scale=4, size=5000)\n",
    "cuantil = np.percentile(a=normal, q=97.5)\n",
    "z_teorico = (cuantil - 180) / (4 / np.sqrt(len(normal)))\n",
    "print(\"Z teórico: \", z_teorico)"
   ]
  },
  {
   "cell_type": "code",
   "execution_count": 3,
   "metadata": {},
   "outputs": [
    {
     "name": "stdout",
     "output_type": "stream",
     "text": [
      "Z test:  -6.325872798805446\n"
     ]
    }
   ],
   "source": [
    "# resultado obtenidos\n",
    "ztest = (media - 180) / (4 / np.sqrt(15))\n",
    "print(\"Z test: \", ztest)"
   ]
  },
  {
   "cell_type": "code",
   "execution_count": 4,
   "metadata": {},
   "outputs": [
    {
     "ename": "TypeError",
     "evalue": "hist() missing 1 required positional argument: 'x'",
     "output_type": "error",
     "traceback": [
      "\u001b[0;31m---------------------------------------------------------------------------\u001b[0m",
      "\u001b[0;31mTypeError\u001b[0m                                 Traceback (most recent call last)",
      "\u001b[0;32m<ipython-input-4-2db4f66c3a37>\u001b[0m in \u001b[0;36m<module>\u001b[0;34m()\u001b[0m\n\u001b[1;32m      1\u001b[0m \u001b[0;31m# Visualiamos resultados\u001b[0m\u001b[0;34m\u001b[0m\u001b[0;34m\u001b[0m\u001b[0m\n\u001b[0;32m----> 2\u001b[0;31m \u001b[0mplt\u001b[0m\u001b[0;34m.\u001b[0m\u001b[0mhist\u001b[0m\u001b[0;34m(\u001b[0m\u001b[0;34m)\u001b[0m\u001b[0;34m\u001b[0m\u001b[0m\n\u001b[0m",
      "\u001b[0;31mTypeError\u001b[0m: hist() missing 1 required positional argument: 'x'"
     ]
    }
   ],
   "source": [
    "# Visualiamos resultados\n",
    "plt.hist()"
   ]
  }
 ],
 "metadata": {
  "kernelspec": {
   "display_name": "Python 3",
   "language": "python",
   "name": "python3"
  },
  "language_info": {
   "codemirror_mode": {
    "name": "ipython",
    "version": 3
   },
   "file_extension": ".py",
   "mimetype": "text/x-python",
   "name": "python",
   "nbconvert_exporter": "python",
   "pygments_lexer": "ipython3",
   "version": "3.6.6"
  }
 },
 "nbformat": 4,
 "nbformat_minor": 2
}
