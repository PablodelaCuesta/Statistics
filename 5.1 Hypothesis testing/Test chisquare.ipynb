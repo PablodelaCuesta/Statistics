{
 "cells": [
  {
   "cell_type": "markdown",
   "metadata": {},
   "source": [
    "# Test Chi cuadrado\n",
    "\n",
    "Test común que se usa cuando tenemos tablas de frecuencia\n",
    "\n",
    "* **Una variable**\n",
    "    * **Bondad de ajuste**: consiste en determinar si los datos de cierta muestra corresponden a cierta distribución poblacional.\n",
    "\n",
    "* **Dos variables**\n",
    "    * **Homogeneidad**: consiste en comprobar si varias muestras de un carácter cualitativo proceden de la misma población\n",
    "\n",
    "    * **Independencia** de los datos: consiste en comprobar si dos características cualitativas están relacionadas entre sí.\n",
    "\n",
    "Para **una variable** podemos aplicar la bondad de ajuste, mientras que para **dos variables** podemos aplicar las pruebas de homogeneidad o independencia"
   ]
  },
  {
   "cell_type": "code",
   "execution_count": 1,
   "metadata": {},
   "outputs": [],
   "source": [
    "# importamos bibliotecas\n",
    "import scipy.stats as ss\n",
    "import numpy as np\n",
    "import pandas as pd\n",
    "import seaborn as sns\n",
    "\n",
    "# seaborn\n",
    "sns.set()"
   ]
  },
  {
   "cell_type": "markdown",
   "metadata": {},
   "source": [
    "## Fórmula de la $\\chi^2$\n",
    "\n",
    "Siendo:\n",
    "\n",
    "$O_{i}$: los valores obtenidos\n",
    "\n",
    "$E_{i}$: los valores esperados\n",
    "\n",
    "$$\n",
    "{\\chi}^2=\\sum_{i=1}^{n} \\frac{(O_i - E_i)^2}{E_i}\n",
    "$$"
   ]
  },
  {
   "cell_type": "markdown",
   "metadata": {},
   "source": [
    "## Prueba de bondad de ajuste\n",
    "\n",
    "Un ejemplo es comprobar los resultados de lanzar una moneda al aire. En este caso, la **hipótesis nula** es que la proporción de caras y cruces es la misma (0.5), mientras que la **hipótesis alternativa** es que la proporción no se mantiene, y por tanto, o la moneda está trucada o los datos son falsos.\n",
    "\n",
    "Aquí vamos a generar datos que sigan una distribución binomial (que sería propia de la moneda) y posteriormente generaremos datos"
   ]
  },
  {
   "cell_type": "code",
   "execution_count": 2,
   "metadata": {},
   "outputs": [
    {
     "name": "stdout",
     "output_type": "stream",
     "text": [
      "Los valores son:  [0 1]\n",
      "El resultado es:  [ 92 108]\n",
      "Los valores esperados son 0:100 y 1:100\n"
     ]
    }
   ],
   "source": [
    "# datos procedentes de una distribución binomial\n",
    "data = np.random.binomial(n=1, p=0.5, size=200)\n",
    "\n",
    "# Contamos los sucesos\n",
    "unique, counts = np.unique(data, return_counts=True)\n",
    "\n",
    "print(\"Los valores son: \", unique)\n",
    "print(\"El resultado es: \", counts)\n",
    "print(\"Los valores esperados son 0:{0} y 1:{1}\".format(100, 100))"
   ]
  },
  {
   "cell_type": "code",
   "execution_count": 4,
   "metadata": {},
   "outputs": [
    {
     "name": "stdout",
     "output_type": "stream",
     "text": [
      "Valor chi obtenido:  1.28\n",
      "Valor chi teórico:  4.174728489818992\n"
     ]
    }
   ],
   "source": [
    "# grados de libertad\n",
    "df = 1\n",
    "\n",
    "# realizamos el test chi cuadrado\n",
    "chiq, pvalue = ss.chisquare(f_obs=counts, f_exp=[100, 100], ddof=1)\n",
    "\n",
    "# comparamos con chi teorico\n",
    "syn_data = np.random.chisquare(df, size=2000)\n",
    "\n",
    "# calculamos para el percentil 95\n",
    "chiq_teorico = np.percentile(a=syn_data, q=95)\n",
    "\n",
    "# visualizamos los resultados\n",
    "print(\"Valor chi obtenido: \", chiq)\n",
    "print(\"Valor chi teórico: \", chiq_teorico)"
   ]
  },
  {
   "cell_type": "markdown",
   "metadata": {},
   "source": [
    "Recordamos que:\n",
    "\n",
    "* **hipótesis nula**: los valores están bien distribuidos, es decir, la proporción de caras y cruces es la misma.\n",
    "* **hipótesis alternativa**: los valores no están bien distribuidos, por lo tanto no hay una proporción entre caras y cruces del 50%."
   ]
  },
  {
   "cell_type": "markdown",
   "metadata": {},
   "source": [
    "El $\\chi^2$ obtenido es menor que el $\\chi^2$ teórico, es decir, la *hipótesis nula* es **cierta**, y los valores se encuentran distribuidos según una proporción del 50%.\n",
    "\n",
    "Este es la solución correcta, debido a que desde el principio he usado una distribución binomial con probabilidad 0.5 para obtener los valores de la moneda. Pero, ¿y si usamos otra probabilidad?"
   ]
  },
  {
   "cell_type": "code",
   "execution_count": 5,
   "metadata": {},
   "outputs": [
    {
     "name": "stdout",
     "output_type": "stream",
     "text": [
      "Los valores son:  [0 1]\n",
      "El resultado es:  [120  80]\n",
      "Los valores esperados son 0:100 y 1:100\n"
     ]
    }
   ],
   "source": [
    "# datos procedentes de una distribución normal\n",
    "data = np.random.binomial(n=1, p=0.4, size=200)\n",
    "\n",
    "# Contamos los sucesos\n",
    "unique, counts = np.unique(data, return_counts=True)\n",
    "\n",
    "print(\"Los valores son: \", unique)\n",
    "print(\"El resultado es: \", counts)\n",
    "print(\"Los valores esperados son 0:{0} y 1:{1}\".format(100, 100))"
   ]
  },
  {
   "cell_type": "code",
   "execution_count": 7,
   "metadata": {},
   "outputs": [
    {
     "name": "stdout",
     "output_type": "stream",
     "text": [
      "Valor chi obtenido:  8.0\n",
      "Valor chi teórico:  3.7296695162436753\n"
     ]
    }
   ],
   "source": [
    "# grados de libertad\n",
    "df = 1\n",
    "\n",
    "# realizamos el test chi cuadrado\n",
    "chiq, pvalue = ss.chisquare(f_obs=counts, f_exp=[100, 100], ddof=1)\n",
    "\n",
    "# comparamos con chi teorico\n",
    "syn_data = np.random.chisquare(df, size=2000)\n",
    "\n",
    "# calculamos para el percentil 95\n",
    "chiq_teorico = np.percentile(a=syn_data, q=95)\n",
    "\n",
    "# visualizamos los resultados\n",
    "print(\"Valor chi obtenido: \", chiq)\n",
    "print(\"Valor chi teórico: \", chiq_teorico)"
   ]
  },
  {
   "cell_type": "markdown",
   "metadata": {},
   "source": [
    "En este caso, el valor obtenido es mayor que el valor teórico, por tanto, rechazaríamos la **hipótesis nula** y podríamos concluir que la moneda o los valores están manipulados y no guarda una proporción del 50%\n",
    "\n",
    "En este caso la proporción es del 40%, ya que lo hemos hecho así a propósito para tener el ejemplo contrario."
   ]
  },
  {
   "cell_type": "markdown",
   "metadata": {},
   "source": [
    "## Test de homogeneidad"
   ]
  },
  {
   "cell_type": "markdown",
   "metadata": {},
   "source": [
    "Prueba que nos indica si dos muestras provienen de una misma población. Es decir, comprobamos si los datos se distribuyen de la misma forma o tienen la misma distribución."
   ]
  },
  {
   "cell_type": "code",
   "execution_count": 39,
   "metadata": {},
   "outputs": [
    {
     "name": "stdout",
     "output_type": "stream",
     "text": [
      "|     |  Cruces  |  Caras  | Total |\n",
      "|tir_1|  508      |  492     | 1000 |\n",
      "|tir_2|  578      |  422     | 1000 |\n",
      "|tir_3|  368      |  632     | 1000 |\n",
      "|Total|  1454     |  1546    | 3000 |\n"
     ]
    }
   ],
   "source": [
    "# parámetros\n",
    "n1 = 1\n",
    "p1, p2, p3 = 0.5, 0.4, 0.6\n",
    "size = 1000\n",
    "\n",
    "# tiradas de la moneda\n",
    "tir_1 = np.random.binomial(n=n1, p=p1, size=size)\n",
    "tir_2 = np.random.binomial(n=n1, p=p2, size=size)\n",
    "tir_3 = np.random.binomial(n=n1, p=p3, size=size)\n",
    "\n",
    "# Contamos los sucesos\n",
    "unique1, counts1 = np.unique(tir_1, return_counts=True)\n",
    "unique2, counts2 = np.unique(tir_2, return_counts=True)                         \n",
    "unique3, counts3 = np.unique(tir_3, return_counts=True)\n",
    "\n",
    "# totales\n",
    "total_caras = counts1[1] + counts2[1] + counts3[1]\n",
    "total_cruces = counts1[0] + counts2[0] + counts3[0]\n",
    "total = total_caras + total_cruces\n",
    "\n",
    "# valor esperado\n",
    "exp_caras = size / total * total_caras\n",
    "exp_cruces = size / total * total_cruces\n",
    "\n",
    "# hagamos una tabla\n",
    "print(\"|     |  Cruces  |  Caras  | Total |\")\n",
    "print(\"|tir_1|  {0}      |  {1}     | {2} |\".format(str(counts1[0]), str(counts1[1]), str(size)))\n",
    "print(\"|tir_2|  {0}      |  {1}     | {2} |\".format(str(counts2[0]), str(counts2[1]), str(size)))\n",
    "print(\"|tir_3|  {0}      |  {1}     | {2} |\".format(str(counts3[0]), str(counts3[1]), str(size)))\n",
    "print(\"|Total|  {0}     |  {1}    | {2} |\".format(str(total_cruces), str(total_caras), str(size * 3)))"
   ]
  },
  {
   "cell_type": "markdown",
   "metadata": {},
   "source": [
    "Aquí nos podríamos preguntar si todas las tiradas proceden de la misma moneda, y por tanto, tendrán la misma probabilidad, lo que nos sugiere que proceden de la misma distribución estadística.\n",
    "\n",
    "Ya sabemos que la respuesta es no, debido a que nosotros mismos hemos construido los datos con probabilidades distintas de una distribución binomial. Pero vamos a comprobar mediante esta prueba que ciertamente proceden de distribuciones binomiales con diferente probabilidad.\n",
    "\n",
    "Si las tiradas proceden de una misma moneda estas estarían igualmente distribuidas. En la siguiente tabla se muestran los datos teóricos que deberían haber salido."
   ]
  },
  {
   "cell_type": "code",
   "execution_count": 40,
   "metadata": {},
   "outputs": [
    {
     "name": "stdout",
     "output_type": "stream",
     "text": [
      "Valor chi obtenido:  91.55276695772558\n",
      "Valor chi teórico:  3.5936323561933508\n"
     ]
    }
   ],
   "source": [
    "# test de homogeneidad\n",
    "\n",
    "# grados de libertad\n",
    "df = 1\n",
    "\n",
    "# realizamos el test chi cuadrado\n",
    "chiq1, pvalue1 = ss.chisquare(f_obs=[counts1[0],counts2[0],counts3[0]],\n",
    "                            f_exp=exp_cruces,\n",
    "                            ddof=df)\n",
    "chiq2, pvalue2 = ss.chisquare(f_obs=[counts1[1],counts2[1],counts3[1]],\n",
    "                            f_exp=exp_caras)\n",
    "\n",
    "# estadístico chi\n",
    "chiq = chiq1+ chiq2\n",
    "\n",
    "# comparamos con chi teorico\n",
    "syn_data = np.random.chisquare(df, size=size)\n",
    "\n",
    "# calculamos para el percentil 95\n",
    "chiq_teorico = np.percentile(a=syn_data, q=95)\n",
    "\n",
    "# visualizamos los resultados\n",
    "print(\"Valor chi obtenido: \", chiq)\n",
    "print(\"Valor chi teórico: \", chiq_teorico)"
   ]
  },
  {
   "cell_type": "markdown",
   "metadata": {},
   "source": [
    "Efectivamente, el valor de $\\chi^2$ obtenido es mayor que el valor teórico, por lo tanto se rechaza la hipótesis nula que suponía que las distribuciones eran iguales.\n",
    "\n",
    "En nuestro caso las distribuciones son todas binomiales pero con distinta probabilidad, por tanto son diferentes."
   ]
  },
  {
   "cell_type": "markdown",
   "metadata": {},
   "source": [
    "Repitamos el proceso, pero esta vez hagamos que las probabilidades sean iguales y posteriormente haremos pequeñas desviaciones de la probabilidad y analizaremos los resultados."
   ]
  },
  {
   "cell_type": "code",
   "execution_count": 41,
   "metadata": {},
   "outputs": [
    {
     "name": "stdout",
     "output_type": "stream",
     "text": [
      "|     |  Cruces  |  Caras  | Total |\n",
      "|tir_1|  504      |  496     | 1000 |\n",
      "|tir_2|  540      |  460     | 1000 |\n",
      "|tir_3|  538      |  462     | 1000 |\n",
      "|Total|  1582     |  1418    | 3000 |\n",
      "Valor chi obtenido:  3.2844821591279896\n",
      "Valor chi teórico:  3.9530205147006496\n"
     ]
    }
   ],
   "source": [
    "# tiradas de la moneda\n",
    "tir_1 = np.random.binomial(n=1, p=0.5, size=size)\n",
    "tir_2 = np.random.binomial(n=1, p=0.5, size=size)\n",
    "tir_3 = np.random.binomial(n=1, p=0.5, size=size)\n",
    "\n",
    "# Contamos los sucesos\n",
    "unique1, counts1 = np.unique(tir_1, return_counts=True)\n",
    "unique2, counts2 = np.unique(tir_2, return_counts=True)                         \n",
    "unique3, counts3 = np.unique(tir_3, return_counts=True)\n",
    "\n",
    "# totales\n",
    "total_caras = counts1[1] + counts2[1] + counts3[1]\n",
    "total_cruces = counts1[0] + counts2[0] + counts3[0]\n",
    "total = total_caras + total_cruces\n",
    "\n",
    "# valor esperado\n",
    "exp_caras = size / total * total_caras\n",
    "exp_cruces = size / total * total_cruces\n",
    "\n",
    "# hagamos una tabla\n",
    "print(\"|     |  Cruces  |  Caras  | Total |\")\n",
    "print(\"|tir_1|  {0}      |  {1}     | {2} |\".format(str(counts1[0]), str(counts1[1]), str(size)))\n",
    "print(\"|tir_2|  {0}      |  {1}     | {2} |\".format(str(counts2[0]), str(counts2[1]), str(size)))\n",
    "print(\"|tir_3|  {0}      |  {1}     | {2} |\".format(str(counts3[0]), str(counts3[1]), str(size)))\n",
    "print(\"|Total|  {0}     |  {1}    | {2} |\".format(str(total_cruces), str(total_caras), str(size * 3)))\n",
    "\n",
    "# test de homogeneidad\n",
    "\n",
    "# grados de libertad\n",
    "df = 1\n",
    "\n",
    "# realizamos el test chi cuadrado\n",
    "chiq1, pvalue = ss.chisquare(f_obs=[counts1[0],counts2[0],counts3[0]],\n",
    "                            f_exp=exp_cruces,\n",
    "                            ddof=df)\n",
    "chiq2, pvalue = ss.chisquare(f_obs=[counts1[1],counts2[1],counts3[1]],\n",
    "                            f_exp=exp_caras)\n",
    "\n",
    "# estadístico chi\n",
    "chiq = chiq1 + chiq2\n",
    "\n",
    "# comparamos con chi teorico\n",
    "syn_data = np.random.chisquare(df, size=2000)\n",
    "\n",
    "# calculamos para el percentil 95\n",
    "chiq_teorico = np.percentile(a=syn_data, q=95)\n",
    "\n",
    "# visualizamos los resultados\n",
    "print(\"Valor chi obtenido: \", chiq)\n",
    "print(\"Valor chi teórico: \", chiq_teorico)"
   ]
  },
  {
   "cell_type": "code",
   "execution_count": 42,
   "metadata": {},
   "outputs": [
    {
     "name": "stdout",
     "output_type": "stream",
     "text": [
      "|     |  Cruces  |  Caras  | Total |\n",
      "|tir_1|  517      |  483     | 1000 |\n",
      "|tir_2|  577      |  423     | 1000 |\n",
      "|tir_3|  424      |  576     | 1000 |\n",
      "|Total|  1518     |  1482    | 3000 |\n",
      "Valor chi obtenido:  47.55084732201438\n",
      "Valor chi teórico:  3.8789003069131316\n"
     ]
    }
   ],
   "source": [
    "# tiradas de la moneda\n",
    "tir_1 = np.random.binomial(n=1, p=0.5, size=size)\n",
    "tir_2 = np.random.binomial(n=1, p=0.40, size=size)\n",
    "tir_3 = np.random.binomial(n=1, p=0.55, size=size)\n",
    "\n",
    "# Contamos los sucesos\n",
    "unique1, counts1 = np.unique(tir_1, return_counts=True)\n",
    "unique2, counts2 = np.unique(tir_2, return_counts=True)                         \n",
    "unique3, counts3 = np.unique(tir_3, return_counts=True)\n",
    "\n",
    "# totales\n",
    "total_caras = counts1[1] + counts2[1] + counts3[1]\n",
    "total_cruces = counts1[0] + counts2[0] + counts3[0]\n",
    "total = total_caras + total_cruces\n",
    "\n",
    "# valor esperado\n",
    "exp_caras = size / total * total_caras\n",
    "exp_cruces = size / total * total_cruces\n",
    "\n",
    "# hagamos una tabla\n",
    "print(\"|     |  Cruces  |  Caras  | Total |\")\n",
    "print(\"|tir_1|  {0}      |  {1}     | {2} |\".format(str(counts1[0]), str(counts1[1]), str(size)))\n",
    "print(\"|tir_2|  {0}      |  {1}     | {2} |\".format(str(counts2[0]), str(counts2[1]), str(size)))\n",
    "print(\"|tir_3|  {0}      |  {1}     | {2} |\".format(str(counts3[0]), str(counts3[1]), str(size)))\n",
    "print(\"|Total|  {0}     |  {1}    | {2} |\".format(str(total_cruces), str(total_caras), str(size * 3)))\n",
    "\n",
    "# test de homogeneidad\n",
    "\n",
    "# grados de libertad\n",
    "df = 1\n",
    "\n",
    "# realizamos el test chi cuadrado\n",
    "chiq1, pvalue = ss.chisquare(f_obs=[counts1[0],counts2[0],counts3[0]],\n",
    "                            f_exp=exp_cruces,\n",
    "                            ddof=df)\n",
    "chiq2, pvalue = ss.chisquare(f_obs=[counts1[1],counts2[1],counts3[1]],\n",
    "                            f_exp=exp_caras)\n",
    "\n",
    "# estadístico chi\n",
    "chiq = chiq1+ chiq2\n",
    "\n",
    "# comparamos con chi teorico\n",
    "syn_data = np.random.chisquare(df, size=2000)\n",
    "\n",
    "# calculamos para el percentil 95\n",
    "chiq_teorico = np.percentile(a=syn_data, q=95)\n",
    "\n",
    "# visualizamos los resultados\n",
    "print(\"Valor chi obtenido: \", chiq)\n",
    "print(\"Valor chi teórico: \", chiq_teorico)"
   ]
  },
  {
   "cell_type": "markdown",
   "metadata": {},
   "source": [
    "## Test de independencia\n",
    "\n",
    "Estamos interesados en determinar si dos cualidades o variables referidas a individuos de una población están relacionadas. Se diferencia de los contrastes anteriores en que en este caso estamos interesados en ver la relación existente entre dos variables de una misma población, no queremos contrastar la distribución teórica de una variable ni comparar la distribución de una única variable en dos poblaciones.\n",
    "\n",
    "### Ejemplo 1\n",
    "\n",
    "Para estudiar la dependencia entre la práctica de algún deporte y la depresión, se seleccionó una muestra de 100 jóvenes con los siguientes resultados:\n",
    "\n",
    "|             |Sin depresión|Con depresión|\n",
    "|-------------|-------------|-------------|\n",
    "|Deportista   |38           |9            |\n",
    "|No deportista|31           |22           |\n",
    "\n",
    "\n",
    "Determinar si existe independencia entre la actividad del sujeto y su estado de ánimo con un nivel de significación del 5%"
   ]
  },
  {
   "cell_type": "markdown",
   "metadata": {},
   "source": [
    "* *Hipótesis nula*: Existe independencia entre la activadad del sujeto y su estado de ánimo.\n",
    "* *Hipótesis alternativa*: No existe independencia entre la activadad del sujeto y su estado de ánimo\n",
    "\n",
    "\n",
    "Supongamos que existe independencia entre la actividad física y el estado de ánimo. Si es así habrá la misma proporción de deportistas que tiene depresión que los que no la tienen, y lo mismo para los no deportistas.\n",
    "\n",
    "Los datos serían:\n",
    "\n",
    "|             |Sin depresión|Con depresión|Total|\n",
    "|-------------|-------------|-------------|-----|\n",
    "|Deportista   |38           |9            |47   |\n",
    "|No deportista|31           |22           |53   |\n",
    "|Total        |69           |31           |100  |\n",
    "\n",
    "\n",
    "Si existe independencia:\n",
    "\n",
    "\n",
    "|             |Sin depresión|Con depresión|\n",
    "|-------------|-------------|-------------|\n",
    "|Deportista   |47/100 * 69  |47/100 * 31  |\n",
    "|No deportista|53/100 * 69  |53/100 * 31  |\n",
    "\n",
    "|             |Sin depresión|Con depresión|\n",
    "|-------------|-------------|-------------|\n",
    "|Deportista   |32.43        |14.57        |\n",
    "|No deportista|36.57        |16.43        |"
   ]
  },
  {
   "cell_type": "code",
   "execution_count": 14,
   "metadata": {},
   "outputs": [
    {
     "name": "stdout",
     "output_type": "stream",
     "text": [
      "chi obtenido:  5.8227196213990755\n",
      "chi teórico:  3.8627710558629693\n"
     ]
    }
   ],
   "source": [
    "# calculamos chi cuadrado\n",
    "chiq, pvalue = ss.chisquare(f_obs=[38,9,31,22], f_exp=[32.43,14.57,36.57,16.43], ddof=1)\n",
    "\n",
    "# comparamos con chi teorico\n",
    "syn_data = np.random.chisquare(1.0, size=10000)\n",
    "\n",
    "# calculamos para el percentil 95\n",
    "chiq_teorico = np.percentile(a=syn_data, q=95)\n",
    "\n",
    "# visualizamos su valor\n",
    "print(\"chi obtenido: \", chiq)\n",
    "print(\"chi teórico: \", chiq_teorico)"
   ]
  },
  {
   "cell_type": "markdown",
   "metadata": {},
   "source": [
    "El valor de $\\chi^2$ obtenido es mayor que el teórico, por lo tanto, debemos rechazar la hipótesis nula y asumir que existe relación entre la depresión y los hábitos deportistas del individuo."
   ]
  }
 ],
 "metadata": {
  "kernelspec": {
   "display_name": "Python 3",
   "language": "python",
   "name": "python3"
  },
  "language_info": {
   "codemirror_mode": {
    "name": "ipython",
    "version": 3
   },
   "file_extension": ".py",
   "mimetype": "text/x-python",
   "name": "python",
   "nbconvert_exporter": "python",
   "pygments_lexer": "ipython3",
   "version": "3.6.4"
  }
 },
 "nbformat": 4,
 "nbformat_minor": 2
}
